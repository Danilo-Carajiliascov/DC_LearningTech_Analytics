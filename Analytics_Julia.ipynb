{
 "cells": [
  {
   "cell_type": "markdown",
   "id": "32a688dc",
   "metadata": {},
   "source": [
    "## Carregar Bibliotecas"
   ]
  },
  {
   "cell_type": "code",
   "execution_count": 1,
   "id": "612ec1b4-1a52-44fd-a2b1-95f151a14552",
   "metadata": {},
   "outputs": [],
   "source": [
    "using DataFrames\n",
    "using DataFramesMeta\n",
    "# using DataFrameMacros\n",
    "using XLSX\n",
    "using CSV\n",
    "using Chain\n",
    "using Dates\n",
    "using PlotlyJS\n",
    "using Missings\n",
    "# using Plots\n",
    "using Formatting\n",
    "using LinearAlgebra\n",
    "using Statistics\n",
    "using Markdown\n",
    "using Random\n",
    "using Dash\n",
    "\n",
    "ENV[\"COLUMNS\"] = 150;\n",
    "ENV[\"ROWS\"] = 40;"
   ]
  },
  {
   "cell_type": "markdown",
   "id": "240df328",
   "metadata": {},
   "source": [
    "## Bases de Dados"
   ]
  },
  {
   "cell_type": "markdown",
   "id": "cbdeabae",
   "metadata": {},
   "source": [
    "##### CARS"
   ]
  },
  {
   "cell_type": "code",
   "execution_count": 7,
   "id": "a60c9ad8",
   "metadata": {},
   "outputs": [
    {
     "data": {
      "text/html": [
       "<div><div style = \"float: left;\"><span>203×16 DataFrame</span></div><div style = \"float: right;\"><span style = \"font-style: italic;\">178 rows omitted</span></div><div style = \"clear: both;\"></div></div><div class = \"data-frame\" style = \"overflow-x: scroll;\"><table class = \"data-frame\" style = \"margin-bottom: 6px;\"><thead><tr class = \"header\"><th class = \"rowNumber\" style = \"font-weight: bold; text-align: right;\">Row</th><th style = \"text-align: left;\">car_name</th><th style = \"text-align: left;\">reviews_count</th><th style = \"text-align: left;\">fuel_type</th><th style = \"text-align: left;\">engine_displacement</th><th style = \"text-align: left;\">no_cylinder</th><th style = \"text-align: left;\">seating_capacity</th><th style = \"text-align: left;\">transmission_type</th><th style = \"text-align: left;\">fuel_tank_capacity</th><th style = \"text-align: left;\">body_type</th><th style = \"text-align: left;\">rating</th><th style = \"text-align: left;\">starting_price</th><th style = \"text-align: left;\">ending_price</th><th style = \"text-align: left;\">max_torque_nm</th><th style = \"text-align: left;\">max_torque_rpm</th><th style = \"text-align: left;\">max_power_bhp</th><th style = \"text-align: left;\">max_power_rp</th></tr><tr class = \"subheader headerLastRow\"><th class = \"rowNumber\" style = \"font-weight: bold; text-align: right;\"></th><th title = \"String31\" style = \"text-align: left;\">String31</th><th title = \"Int64\" style = \"text-align: left;\">Int64</th><th title = \"String15\" style = \"text-align: left;\">String15</th><th title = \"Int64\" style = \"text-align: left;\">Int64</th><th title = \"Int64\" style = \"text-align: left;\">Int64</th><th title = \"Union{Missing, Float64}\" style = \"text-align: left;\">Float64?</th><th title = \"String15\" style = \"text-align: left;\">String15</th><th title = \"Float64\" style = \"text-align: left;\">Float64</th><th title = \"String15\" style = \"text-align: left;\">String15</th><th title = \"Float64\" style = \"text-align: left;\">Float64</th><th title = \"Int64\" style = \"text-align: left;\">Int64</th><th title = \"Int64\" style = \"text-align: left;\">Int64</th><th title = \"Float64\" style = \"text-align: left;\">Float64</th><th title = \"Int64\" style = \"text-align: left;\">Int64</th><th title = \"Float64\" style = \"text-align: left;\">Float64</th><th title = \"Int64\" style = \"text-align: left;\">Int64</th></tr></thead><tbody><tr><td class = \"rowNumber\" style = \"font-weight: bold; text-align: right;\">1</td><td style = \"text-align: left;\">Maruti Alto K10</td><td style = \"text-align: right;\">51</td><td style = \"text-align: left;\">Petrol</td><td style = \"text-align: right;\">998</td><td style = \"text-align: right;\">3</td><td style = \"text-align: right;\">5.0</td><td style = \"text-align: left;\">Automatic</td><td style = \"text-align: right;\">27.0</td><td style = \"text-align: left;\">Hatchback</td><td style = \"text-align: right;\">4.5</td><td style = \"text-align: right;\">399000</td><td style = \"text-align: right;\">583000</td><td style = \"text-align: right;\">89.0</td><td style = \"text-align: right;\">3500</td><td style = \"text-align: right;\">65.71</td><td style = \"text-align: right;\">5500</td></tr><tr><td class = \"rowNumber\" style = \"font-weight: bold; text-align: right;\">2</td><td style = \"text-align: left;\">Maruti Brezza</td><td style = \"text-align: right;\">86</td><td style = \"text-align: left;\">Petrol</td><td style = \"text-align: right;\">1462</td><td style = \"text-align: right;\">4</td><td style = \"text-align: right;\">5.0</td><td style = \"text-align: left;\">Automatic</td><td style = \"text-align: right;\">48.0</td><td style = \"text-align: left;\">SUV</td><td style = \"text-align: right;\">4.5</td><td style = \"text-align: right;\">799000</td><td style = \"text-align: right;\">1396000</td><td style = \"text-align: right;\">136.8</td><td style = \"text-align: right;\">4400</td><td style = \"text-align: right;\">101.65</td><td style = \"text-align: right;\">6000</td></tr><tr><td class = \"rowNumber\" style = \"font-weight: bold; text-align: right;\">3</td><td style = \"text-align: left;\">Mahindra Thar</td><td style = \"text-align: right;\">242</td><td style = \"text-align: left;\">Diesel</td><td style = \"text-align: right;\">2184</td><td style = \"text-align: right;\">4</td><td style = \"text-align: right;\">4.0</td><td style = \"text-align: left;\">Automatic</td><td style = \"text-align: right;\">57.0</td><td style = \"text-align: left;\">SUV</td><td style = \"text-align: right;\">4.5</td><td style = \"text-align: right;\">1353000</td><td style = \"text-align: right;\">1603000</td><td style = \"text-align: right;\">300.0</td><td style = \"text-align: right;\">2800</td><td style = \"text-align: right;\">130.0</td><td style = \"text-align: right;\">3750</td></tr><tr><td class = \"rowNumber\" style = \"font-weight: bold; text-align: right;\">4</td><td style = \"text-align: left;\">Mahindra XUV700</td><td style = \"text-align: right;\">313</td><td style = \"text-align: left;\">Diesel</td><td style = \"text-align: right;\">2198</td><td style = \"text-align: right;\">4</td><td style = \"text-align: right;\">7.0</td><td style = \"text-align: left;\">Automatic</td><td style = \"text-align: right;\">60.0</td><td style = \"text-align: left;\">SUV</td><td style = \"text-align: right;\">4.5</td><td style = \"text-align: right;\">1318000</td><td style = \"text-align: right;\">2458000</td><td style = \"text-align: right;\">450.0</td><td style = \"text-align: right;\">2800</td><td style = \"text-align: right;\">182.38</td><td style = \"text-align: right;\">3500</td></tr><tr><td class = \"rowNumber\" style = \"font-weight: bold; text-align: right;\">5</td><td style = \"text-align: left;\">Mahindra Scorpio-N</td><td style = \"text-align: right;\">107</td><td style = \"text-align: left;\">Diesel</td><td style = \"text-align: right;\">2198</td><td style = \"text-align: right;\">4</td><td style = \"text-align: right;\">7.0</td><td style = \"text-align: left;\">Automatic</td><td style = \"text-align: right;\">57.0</td><td style = \"text-align: left;\">SUV</td><td style = \"text-align: right;\">4.5</td><td style = \"text-align: right;\">1199000</td><td style = \"text-align: right;\">2390000</td><td style = \"text-align: right;\">400.0</td><td style = \"text-align: right;\">2750</td><td style = \"text-align: right;\">172.45</td><td style = \"text-align: right;\">3500</td></tr><tr><td class = \"rowNumber\" style = \"font-weight: bold; text-align: right;\">6</td><td style = \"text-align: left;\">Toyota Fortuner</td><td style = \"text-align: right;\">99</td><td style = \"text-align: left;\">Diesel</td><td style = \"text-align: right;\">2755</td><td style = \"text-align: right;\">4</td><td style = \"text-align: right;\">7.0</td><td style = \"text-align: left;\">Automatic</td><td style = \"text-align: right;\">80.0</td><td style = \"text-align: left;\">SUV</td><td style = \"text-align: right;\">4.5</td><td style = \"text-align: right;\">3240000</td><td style = \"text-align: right;\">4957000</td><td style = \"text-align: right;\">500.0</td><td style = \"text-align: right;\">2800</td><td style = \"text-align: right;\">201.15</td><td style = \"text-align: right;\">3400</td></tr><tr><td class = \"rowNumber\" style = \"font-weight: bold; text-align: right;\">7</td><td style = \"text-align: left;\">Hyundai Creta</td><td style = \"text-align: right;\">731</td><td style = \"text-align: left;\">Diesel</td><td style = \"text-align: right;\">1493</td><td style = \"text-align: right;\">4</td><td style = \"text-align: right;\">5.0</td><td style = \"text-align: left;\">Automatic</td><td style = \"text-align: right;\">50.0</td><td style = \"text-align: left;\">SUV</td><td style = \"text-align: right;\">4.5</td><td style = \"text-align: right;\">1044000</td><td style = \"text-align: right;\">1818000</td><td style = \"text-align: right;\">250.0</td><td style = \"text-align: right;\">2750</td><td style = \"text-align: right;\">113.45</td><td style = \"text-align: right;\">4000</td></tr><tr><td class = \"rowNumber\" style = \"font-weight: bold; text-align: right;\">8</td><td style = \"text-align: left;\">Tata Punch</td><td style = \"text-align: right;\">381</td><td style = \"text-align: left;\">Petrol</td><td style = \"text-align: right;\">1199</td><td style = \"text-align: right;\">3</td><td style = \"text-align: right;\">5.0</td><td style = \"text-align: left;\">Automatic</td><td style = \"text-align: right;\">37.0</td><td style = \"text-align: left;\">SUV</td><td style = \"text-align: right;\">4.5</td><td style = \"text-align: right;\">593000</td><td style = \"text-align: right;\">949000</td><td style = \"text-align: right;\">113.0</td><td style = \"text-align: right;\">3400</td><td style = \"text-align: right;\">84.48</td><td style = \"text-align: right;\">6000</td></tr><tr><td class = \"rowNumber\" style = \"font-weight: bold; text-align: right;\">9</td><td style = \"text-align: left;\">Mahindra Bolero</td><td style = \"text-align: right;\">107</td><td style = \"text-align: left;\">Diesel</td><td style = \"text-align: right;\">1498</td><td style = \"text-align: right;\">3</td><td style = \"text-align: right;\">7.0</td><td style = \"text-align: left;\">Manual</td><td style = \"text-align: right;\">60.0</td><td style = \"text-align: left;\">SUV</td><td style = \"text-align: right;\">4.5</td><td style = \"text-align: right;\">933000</td><td style = \"text-align: right;\">1026000</td><td style = \"text-align: right;\">210.0</td><td style = \"text-align: right;\">2200</td><td style = \"text-align: right;\">74.96</td><td style = \"text-align: right;\">3600</td></tr><tr><td class = \"rowNumber\" style = \"font-weight: bold; text-align: right;\">10</td><td style = \"text-align: left;\">Maruti Swift</td><td style = \"text-align: right;\">205</td><td style = \"text-align: left;\">Petrol</td><td style = \"text-align: right;\">1197</td><td style = \"text-align: right;\">4</td><td style = \"text-align: right;\">5.0</td><td style = \"text-align: left;\">Automatic</td><td style = \"text-align: right;\">37.0</td><td style = \"text-align: left;\">Hatchback</td><td style = \"text-align: right;\">4.0</td><td style = \"text-align: right;\">592000</td><td style = \"text-align: right;\">885000</td><td style = \"text-align: right;\">113.0</td><td style = \"text-align: right;\">4400</td><td style = \"text-align: right;\">88.5</td><td style = \"text-align: right;\">6000</td></tr><tr><td class = \"rowNumber\" style = \"font-weight: bold; text-align: right;\">11</td><td style = \"text-align: left;\">Tata Nexon</td><td style = \"text-align: right;\">568</td><td style = \"text-align: left;\">Diesel</td><td style = \"text-align: right;\">1497</td><td style = \"text-align: right;\">4</td><td style = \"text-align: right;\">5.0</td><td style = \"text-align: left;\">Automatic</td><td style = \"text-align: right;\">44.0</td><td style = \"text-align: left;\">SUV</td><td style = \"text-align: right;\">4.5</td><td style = \"text-align: right;\">760000</td><td style = \"text-align: right;\">1408000</td><td style = \"text-align: right;\">260.0</td><td style = \"text-align: right;\">2750</td><td style = \"text-align: right;\">108.49</td><td style = \"text-align: right;\">4000</td></tr><tr><td class = \"rowNumber\" style = \"font-weight: bold; text-align: right;\">12</td><td style = \"text-align: left;\">Hyundai Venue</td><td style = \"text-align: right;\">36</td><td style = \"text-align: left;\">Petrol</td><td style = \"text-align: right;\">998</td><td style = \"text-align: right;\">3</td><td style = \"text-align: right;\">5.0</td><td style = \"text-align: left;\">Automatic</td><td style = \"text-align: right;\">45.0</td><td style = \"text-align: left;\">SUV</td><td style = \"text-align: right;\">4.5</td><td style = \"text-align: right;\">753000</td><td style = \"text-align: right;\">1272000</td><td style = \"text-align: right;\">172.0</td><td style = \"text-align: right;\">4000</td><td style = \"text-align: right;\">118.41</td><td style = \"text-align: right;\">6000</td></tr><tr><td class = \"rowNumber\" style = \"font-weight: bold; text-align: right;\">13</td><td style = \"text-align: left;\">Kia Seltos</td><td style = \"text-align: right;\">2171</td><td style = \"text-align: left;\">Diesel</td><td style = \"text-align: right;\">1493</td><td style = \"text-align: right;\">4</td><td style = \"text-align: right;\">5.0</td><td style = \"text-align: left;\">Automatic</td><td style = \"text-align: right;\">50.0</td><td style = \"text-align: left;\">SUV</td><td style = \"text-align: right;\">4.5</td><td style = \"text-align: right;\">1049000</td><td style = \"text-align: right;\">1865000</td><td style = \"text-align: right;\">250.0</td><td style = \"text-align: right;\">2750</td><td style = \"text-align: right;\">113.43</td><td style = \"text-align: right;\">4000</td></tr><tr><td style = \"text-align: right;\">&vellip;</td><td style = \"text-align: right;\">&vellip;</td><td style = \"text-align: right;\">&vellip;</td><td style = \"text-align: right;\">&vellip;</td><td style = \"text-align: right;\">&vellip;</td><td style = \"text-align: right;\">&vellip;</td><td style = \"text-align: right;\">&vellip;</td><td style = \"text-align: right;\">&vellip;</td><td style = \"text-align: right;\">&vellip;</td><td style = \"text-align: right;\">&vellip;</td><td style = \"text-align: right;\">&vellip;</td><td style = \"text-align: right;\">&vellip;</td><td style = \"text-align: right;\">&vellip;</td><td style = \"text-align: right;\">&vellip;</td><td style = \"text-align: right;\">&vellip;</td><td style = \"text-align: right;\">&vellip;</td><td style = \"text-align: right;\">&vellip;</td></tr><tr><td class = \"rowNumber\" style = \"font-weight: bold; text-align: right;\">192</td><td style = \"text-align: left;\">Toyota Glanza</td><td style = \"text-align: right;\">23</td><td style = \"text-align: left;\">Petrol</td><td style = \"text-align: right;\">1197</td><td style = \"text-align: right;\">4</td><td style = \"text-align: right;\">5.0</td><td style = \"text-align: left;\">Automatic</td><td style = \"text-align: right;\">37.0</td><td style = \"text-align: left;\">Hatchback</td><td style = \"text-align: right;\">4.5</td><td style = \"text-align: right;\">2990000</td><td style = \"text-align: right;\">3695000</td><td style = \"text-align: right;\">113.0</td><td style = \"text-align: right;\">4400</td><td style = \"text-align: right;\">88.5</td><td style = \"text-align: right;\">6000</td></tr><tr><td class = \"rowNumber\" style = \"font-weight: bold; text-align: right;\">193</td><td style = \"text-align: left;\">Toyota Glanza</td><td style = \"text-align: right;\">3</td><td style = \"text-align: left;\">Petrol</td><td style = \"text-align: right;\">1197</td><td style = \"text-align: right;\">4</td><td style = \"text-align: right;\">5.0</td><td style = \"text-align: left;\">Automatic</td><td style = \"text-align: right;\">37.0</td><td style = \"text-align: left;\">Hatchback</td><td style = \"text-align: right;\">4.5</td><td style = \"text-align: right;\">5590000</td><td style = \"text-align: right;\">5590000</td><td style = \"text-align: right;\">113.0</td><td style = \"text-align: right;\">4400</td><td style = \"text-align: right;\">88.5</td><td style = \"text-align: right;\">6000</td></tr><tr><td class = \"rowNumber\" style = \"font-weight: bold; text-align: right;\">194</td><td style = \"text-align: left;\">Porsche Cayenne Coupe</td><td style = \"text-align: right;\">1</td><td style = \"text-align: left;\">Petrol</td><td style = \"text-align: right;\">3996</td><td style = \"text-align: right;\">8</td><td style = \"text-align: right;\">4.0</td><td style = \"text-align: left;\">Automatic</td><td style = \"text-align: right;\">0.0</td><td style = \"text-align: left;\">SUV</td><td style = \"text-align: right;\">3.5</td><td style = \"text-align: right;\">18900000</td><td style = \"text-align: right;\">18900000</td><td style = \"text-align: right;\">850.0</td><td style = \"text-align: right;\">4500</td><td style = \"text-align: right;\">631.62</td><td style = \"text-align: right;\">6000</td></tr><tr><td class = \"rowNumber\" style = \"font-weight: bold; text-align: right;\">195</td><td style = \"text-align: left;\">Porsche Cayenne Coupe</td><td style = \"text-align: right;\">6</td><td style = \"text-align: left;\">Petrol</td><td style = \"text-align: right;\">3996</td><td style = \"text-align: right;\">8</td><td style = \"text-align: right;\">4.0</td><td style = \"text-align: left;\">Automatic</td><td style = \"text-align: right;\">0.0</td><td style = \"text-align: left;\">SUV</td><td style = \"text-align: right;\">3.5</td><td style = \"text-align: right;\">391000</td><td style = \"text-align: right;\">397000</td><td style = \"text-align: right;\">850.0</td><td style = \"text-align: right;\">4500</td><td style = \"text-align: right;\">631.62</td><td style = \"text-align: right;\">6000</td></tr><tr><td class = \"rowNumber\" style = \"font-weight: bold; text-align: right;\">196</td><td style = \"text-align: left;\">Honda City Hybrid</td><td style = \"text-align: right;\">1</td><td style = \"text-align: left;\">Petrol</td><td style = \"text-align: right;\">1498</td><td style = \"text-align: right;\">4</td><td style = \"text-align: right;\">5.0</td><td style = \"text-align: left;\">Automatic</td><td style = \"text-align: right;\">40.0</td><td style = \"text-align: left;\">Sedan</td><td style = \"text-align: right;\">4.5</td><td style = \"text-align: right;\">8150000</td><td style = \"text-align: right;\">8150000</td><td style = \"text-align: right;\">127.0</td><td style = \"text-align: right;\">5000</td><td style = \"text-align: right;\">96.55</td><td style = \"text-align: right;\">6400</td></tr><tr><td class = \"rowNumber\" style = \"font-weight: bold; text-align: right;\">197</td><td style = \"text-align: left;\">Compass Trailhawk</td><td style = \"text-align: right;\">1</td><td style = \"text-align: left;\">Diesel</td><td style = \"text-align: right;\">1998</td><td style = \"text-align: right;\">4</td><td style = \"text-align: right;\">5.0</td><td style = \"text-align: left;\">Automatic</td><td style = \"text-align: right;\">60.0</td><td style = \"text-align: left;\">SUV</td><td style = \"text-align: right;\">4.5</td><td style = \"text-align: right;\">5450000</td><td style = \"text-align: right;\">5690000</td><td style = \"text-align: right;\">350.0</td><td style = \"text-align: right;\">2500</td><td style = \"text-align: right;\">170.0</td><td style = \"text-align: right;\">3750</td></tr><tr><td class = \"rowNumber\" style = \"font-weight: bold; text-align: right;\">198</td><td style = \"text-align: left;\">Jeep Meridian</td><td style = \"text-align: right;\">78</td><td style = \"text-align: left;\">Diesel</td><td style = \"text-align: right;\">1956</td><td style = \"text-align: right;\">4</td><td style = \"text-align: right;\">7.0</td><td style = \"text-align: left;\">Automatic</td><td style = \"text-align: right;\">60.0</td><td style = \"text-align: left;\">SUV</td><td style = \"text-align: right;\">4.5</td><td style = \"text-align: right;\">1615000</td><td style = \"text-align: right;\">2075000</td><td style = \"text-align: right;\">350.0</td><td style = \"text-align: right;\">2500</td><td style = \"text-align: right;\">167.67</td><td style = \"text-align: right;\">3750</td></tr><tr><td class = \"rowNumber\" style = \"font-weight: bold; text-align: right;\">199</td><td style = \"text-align: left;\">Mercedes-Benz AMG A 45 S</td><td style = \"text-align: right;\">35</td><td style = \"text-align: left;\">Petrol</td><td style = \"text-align: right;\">1991</td><td style = \"text-align: right;\">4</td><td style = \"text-align: right;\">5.0</td><td style = \"text-align: left;\">Automatic</td><td style = \"text-align: right;\">0.0</td><td style = \"text-align: left;\">Hatchback</td><td style = \"text-align: right;\">4.5</td><td style = \"text-align: right;\">659000</td><td style = \"text-align: right;\">999000</td><td style = \"text-align: right;\">500.0</td><td style = \"text-align: right;\">5250</td><td style = \"text-align: right;\">415.71</td><td style = \"text-align: right;\">6750</td></tr><tr><td class = \"rowNumber\" style = \"font-weight: bold; text-align: right;\">200</td><td style = \"text-align: left;\">BMW 3 Series Gran Limousine</td><td style = \"text-align: right;\">3</td><td style = \"text-align: left;\">Petrol</td><td style = \"text-align: right;\">1998</td><td style = \"text-align: right;\">4</td><td style = \"text-align: right;\">5.0</td><td style = \"text-align: left;\">Automatic</td><td style = \"text-align: right;\">59.0</td><td style = \"text-align: left;\">Sedan</td><td style = \"text-align: right;\">4.5</td><td style = \"text-align: right;\">1041000</td><td style = \"text-align: right;\">1041000</td><td style = \"text-align: right;\">400.0</td><td style = \"text-align: right;\">4400</td><td style = \"text-align: right;\">254.79</td><td style = \"text-align: right;\">5000</td></tr><tr><td class = \"rowNumber\" style = \"font-weight: bold; text-align: right;\">201</td><td style = \"text-align: left;\">MG Hector Plus</td><td style = \"text-align: right;\">2</td><td style = \"text-align: left;\">Diesel</td><td style = \"text-align: right;\">1956</td><td style = \"text-align: right;\">4</td><td style = \"text-align: right;\">7.0</td><td style = \"text-align: left;\">Manual</td><td style = \"text-align: right;\">60.0</td><td style = \"text-align: left;\">SUV</td><td style = \"text-align: right;\">4.5</td><td style = \"text-align: right;\">1615000</td><td style = \"text-align: right;\">2075000</td><td style = \"text-align: right;\">350.0</td><td style = \"text-align: right;\">2500</td><td style = \"text-align: right;\">167.67</td><td style = \"text-align: right;\">3750</td></tr><tr><td class = \"rowNumber\" style = \"font-weight: bold; text-align: right;\">202</td><td style = \"text-align: left;\">Audi RS Q8</td><td style = \"text-align: right;\">9</td><td style = \"text-align: left;\">Petrol</td><td style = \"text-align: right;\">3998</td><td style = \"text-align: right;\">8</td><td style = \"text-align: right;\">5.0</td><td style = \"text-align: left;\">Automatic</td><td style = \"text-align: right;\">85.0</td><td style = \"text-align: left;\">SUV</td><td style = \"text-align: right;\">3.5</td><td style = \"text-align: right;\">21700000</td><td style = \"text-align: right;\">21700000</td><td style = \"text-align: right;\">800.0</td><td style = \"text-align: right;\">4500</td><td style = \"text-align: right;\">591.39</td><td style = \"text-align: right;\">6000</td></tr><tr><td class = \"rowNumber\" style = \"font-weight: bold; text-align: right;\">203</td><td style = \"text-align: left;\">Maruti Alto 800 tour</td><td style = \"text-align: right;\">4</td><td style = \"text-align: left;\">Petrol</td><td style = \"text-align: right;\">796</td><td style = \"text-align: right;\">3</td><td style = \"text-align: right;\">5.0</td><td style = \"text-align: left;\">Manual</td><td style = \"text-align: right;\">35.0</td><td style = \"text-align: left;\">Hatchback</td><td style = \"text-align: right;\">4.5</td><td style = \"text-align: right;\">391000</td><td style = \"text-align: right;\">397000</td><td style = \"text-align: right;\">69.0</td><td style = \"text-align: right;\">3500</td><td style = \"text-align: right;\">47.33</td><td style = \"text-align: right;\">6000</td></tr></tbody></table></div>"
      ],
      "text/latex": [
       "\\begin{tabular}{r|cccccccccc}\n",
       "\t& car\\_name & reviews\\_count & fuel\\_type & engine\\_displacement & no\\_cylinder & seating\\_capacity & transmission\\_type & fuel\\_tank\\_capacity & body\\_type & \\\\\n",
       "\t\\hline\n",
       "\t& String31 & Int64 & String15 & Int64 & Int64 & Float64? & String15 & Float64 & String15 & \\\\\n",
       "\t\\hline\n",
       "\t1 & Maruti Alto K10 & 51 & Petrol & 998 & 3 & 5.0 & Automatic & 27.0 & Hatchback & $\\dots$ \\\\\n",
       "\t2 & Maruti Brezza & 86 & Petrol & 1462 & 4 & 5.0 & Automatic & 48.0 & SUV & $\\dots$ \\\\\n",
       "\t3 & Mahindra Thar & 242 & Diesel & 2184 & 4 & 4.0 & Automatic & 57.0 & SUV & $\\dots$ \\\\\n",
       "\t4 & Mahindra XUV700 & 313 & Diesel & 2198 & 4 & 7.0 & Automatic & 60.0 & SUV & $\\dots$ \\\\\n",
       "\t5 & Mahindra Scorpio-N & 107 & Diesel & 2198 & 4 & 7.0 & Automatic & 57.0 & SUV & $\\dots$ \\\\\n",
       "\t6 & Toyota Fortuner & 99 & Diesel & 2755 & 4 & 7.0 & Automatic & 80.0 & SUV & $\\dots$ \\\\\n",
       "\t7 & Hyundai Creta & 731 & Diesel & 1493 & 4 & 5.0 & Automatic & 50.0 & SUV & $\\dots$ \\\\\n",
       "\t8 & Tata Punch & 381 & Petrol & 1199 & 3 & 5.0 & Automatic & 37.0 & SUV & $\\dots$ \\\\\n",
       "\t9 & Mahindra Bolero & 107 & Diesel & 1498 & 3 & 7.0 & Manual & 60.0 & SUV & $\\dots$ \\\\\n",
       "\t10 & Maruti Swift & 205 & Petrol & 1197 & 4 & 5.0 & Automatic & 37.0 & Hatchback & $\\dots$ \\\\\n",
       "\t11 & Tata Nexon & 568 & Diesel & 1497 & 4 & 5.0 & Automatic & 44.0 & SUV & $\\dots$ \\\\\n",
       "\t12 & Hyundai Venue & 36 & Petrol & 998 & 3 & 5.0 & Automatic & 45.0 & SUV & $\\dots$ \\\\\n",
       "\t13 & Kia Seltos & 2171 & Diesel & 1493 & 4 & 5.0 & Automatic & 50.0 & SUV & $\\dots$ \\\\\n",
       "\t14 & Hyundai Tucson & 8 & Diesel & 1997 & 4 & 5.0 & Automatic & 54.0 & SUV & $\\dots$ \\\\\n",
       "\t15 & Tata Harrier & 2392 & Diesel & 1956 & 4 & 5.0 & Automatic & 50.0 & SUV & $\\dots$ \\\\\n",
       "\t16 & Maruti Baleno & 137 & Petrol & 1197 & 4 & 5.0 & Automatic & 37.0 & Hatchback & $\\dots$ \\\\\n",
       "\t17 & Toyota Innova Crysta & 91 & Diesel & 2393 & 4 & 8.0 & Automatic & 55.0 & MUV & $\\dots$ \\\\\n",
       "\t18 & Maruti Ertiga & 110 & Petrol & 1462 & 4 & 7.0 & Automatic & 45.0 & MUV & $\\dots$ \\\\\n",
       "\t19 & Kia Sonet & 523 & Diesel & 1493 & 4 & 5.0 & Automatic & 45.0 & SUV & $\\dots$ \\\\\n",
       "\t20 & Maruti Dzire & 245 & Petrol & 1197 & 4 & 5.0 & Automatic & 37.0 & Sedan & $\\dots$ \\\\\n",
       "\t21 & Honda City 4th Generation & 1067 & Petrol & 1497 & 4 & 5.0 & Manual & 40.0 & Sedan & $\\dots$ \\\\\n",
       "\t22 & Land Rover Range Rover & 17 & Petrol & 4367 & 8 & 7.0 & Automatic & 90.0 & SUV & $\\dots$ \\\\\n",
       "\t23 & Tata Tiago & 435 & CNG & 1199 & 3 & 5.0 & Manual & 60.0 & Hatchback & $\\dots$ \\\\\n",
       "\t24 & Hyundai i20 & 432 & Petrol & 998 & 3 & 5.0 & Automatic & 37.0 & Hatchback & $\\dots$ \\\\\n",
       "\t25 & Mahindra XUV300 & 2245 & Diesel & 1497 & 4 & 5.0 & Automatic & 42.0 & SUV & $\\dots$ \\\\\n",
       "\t26 & MG Hector & 200 & Diesel & 1956 & 4 & 5.0 & Manual & 60.0 & SUV & $\\dots$ \\\\\n",
       "\t27 & Tata Altroz & 1025 & Diesel & 1497 & 4 & 5.0 & Manual & 37.0 & Hatchback & $\\dots$ \\\\\n",
       "\t28 & Mahindra Scorpio Classic & 14 & Diesel & 2184 & 4 & 7.0 & Manual & 60.0 & SUV & $\\dots$ \\\\\n",
       "\t29 & Hyundai Verna & 234 & Diesel & 1493 & 4 & 5.0 & Automatic & 45.0 & Sedan & $\\dots$ \\\\\n",
       "\t30 & Citroen C3 & 57 & Petrol & 1199 & 3 & 5.0 & Manual & 30.0 & Hatchback & $\\dots$ \\\\\n",
       "\t$\\dots$ & $\\dots$ & $\\dots$ & $\\dots$ & $\\dots$ & $\\dots$ & $\\dots$ & $\\dots$ & $\\dots$ & $\\dots$ &  \\\\\n",
       "\\end{tabular}\n"
      ],
      "text/plain": [
       "\u001b[1m203×16 DataFrame\u001b[0m\n",
       "\u001b[1m Row \u001b[0m│\u001b[1m car_name                    \u001b[0m\u001b[1m reviews_count \u001b[0m\u001b[1m fuel_type \u001b[0m\u001b[1m engine_displacement \u001b[0m\u001b[1m no_cylinder \u001b[0m\u001b[1m seating_capacity \u001b[0m\u001b[1m transmission_type \u001b[0m\u001b[1m fuel_tank_capac\u001b[0m ⋯\n",
       "     │\u001b[90m String31                    \u001b[0m\u001b[90m Int64         \u001b[0m\u001b[90m String15  \u001b[0m\u001b[90m Int64               \u001b[0m\u001b[90m Int64       \u001b[0m\u001b[90m Float64?         \u001b[0m\u001b[90m String15          \u001b[0m\u001b[90m Float64        \u001b[0m ⋯\n",
       "─────┼────────────────────────────────────────────────────────────────────────────────────────────────────────────────────────────────────────────────\n",
       "   1 │ Maruti Alto K10                         51  Petrol                     998            3               5.0  Automatic                        2 ⋯\n",
       "   2 │ Maruti Brezza                           86  Petrol                    1462            4               5.0  Automatic                        4\n",
       "   3 │ Mahindra Thar                          242  Diesel                    2184            4               4.0  Automatic                        5\n",
       "   4 │ Mahindra XUV700                        313  Diesel                    2198            4               7.0  Automatic                        6\n",
       "   5 │ Mahindra Scorpio-N                     107  Diesel                    2198            4               7.0  Automatic                        5 ⋯\n",
       "   6 │ Toyota Fortuner                         99  Diesel                    2755            4               7.0  Automatic                        8\n",
       "   7 │ Hyundai Creta                          731  Diesel                    1493            4               5.0  Automatic                        5\n",
       "   8 │ Tata Punch                             381  Petrol                    1199            3               5.0  Automatic                        3\n",
       "   9 │ Mahindra Bolero                        107  Diesel                    1498            3               7.0  Manual                           6 ⋯\n",
       "  10 │ Maruti Swift                           205  Petrol                    1197            4               5.0  Automatic                        3\n",
       "  11 │ Tata Nexon                             568  Diesel                    1497            4               5.0  Automatic                        4\n",
       "  ⋮  │              ⋮                     ⋮            ⋮               ⋮                ⋮              ⋮                  ⋮                  ⋮       ⋱\n",
       " 194 │ Porsche Cayenne Coupe                    1  Petrol                    3996            8               4.0  Automatic\n",
       " 195 │ Porsche Cayenne Coupe                    6  Petrol                    3996            8               4.0  Automatic                          ⋯\n",
       " 196 │ Honda City Hybrid                        1  Petrol                    1498            4               5.0  Automatic                        4\n",
       " 197 │ Compass Trailhawk                        1  Diesel                    1998            4               5.0  Automatic                        6\n",
       " 198 │ Jeep Meridian                           78  Diesel                    1956            4               7.0  Automatic                        6\n",
       " 199 │ Mercedes-Benz AMG A 45 S                35  Petrol                    1991            4               5.0  Automatic                          ⋯\n",
       " 200 │ BMW 3 Series Gran Limousine              3  Petrol                    1998            4               5.0  Automatic                        5\n",
       " 201 │ MG Hector Plus                           2  Diesel                    1956            4               7.0  Manual                           6\n",
       " 202 │ Audi RS Q8                               9  Petrol                    3998            8               5.0  Automatic                        8\n",
       " 203 │ Maruti Alto 800 tour                     4  Petrol                     796            3               5.0  Manual                           3 ⋯\n",
       "\u001b[36m                                                                                                                        9 columns and 182 rows omitted\u001b[0m"
      ]
     },
     "execution_count": 7,
     "metadata": {},
     "output_type": "execute_result"
    }
   ],
   "source": [
    "CARS = CSV.read( \"C:/Users/danil/OneDrive/Danilo_Back-up/Kaggle/CARS_1.csv\", DataFrame )"
   ]
  },
  {
   "cell_type": "markdown",
   "id": "6bcf7add",
   "metadata": {},
   "source": [
    "##### kc_house_data"
   ]
  },
  {
   "cell_type": "code",
   "execution_count": 3,
   "id": "0bd3cd38",
   "metadata": {},
   "outputs": [
    {
     "data": {
      "text/html": [
       "<div><div style = \"float: left;\"><span>21613×21 DataFrame</span></div><div style = \"float: right;\"><span style = \"font-style: italic;\">21588 rows omitted</span></div><div style = \"clear: both;\"></div></div><div class = \"data-frame\" style = \"overflow-x: scroll;\"><table class = \"data-frame\" style = \"margin-bottom: 6px;\"><thead><tr class = \"header\"><th class = \"rowNumber\" style = \"font-weight: bold; text-align: right;\">Row</th><th style = \"text-align: left;\">id</th><th style = \"text-align: left;\">date</th><th style = \"text-align: left;\">price</th><th style = \"text-align: left;\">bedrooms</th><th style = \"text-align: left;\">bathrooms</th><th style = \"text-align: left;\">sqft_living</th><th style = \"text-align: left;\">sqft_lot</th><th style = \"text-align: left;\">floors</th><th style = \"text-align: left;\">waterfront</th><th style = \"text-align: left;\">view</th><th style = \"text-align: left;\">condition</th><th style = \"text-align: left;\">grade</th><th style = \"text-align: left;\">sqft_above</th><th style = \"text-align: left;\">sqft_basement</th><th style = \"text-align: left;\">yr_built</th><th style = \"text-align: left;\">yr_renovated</th><th style = \"text-align: left;\">zipcode</th><th style = \"text-align: left;\">lat</th><th style = \"text-align: left;\">long</th><th style = \"text-align: left;\">sqft_living15</th><th style = \"text-align: left;\">sqft_lot15</th></tr><tr class = \"subheader headerLastRow\"><th class = \"rowNumber\" style = \"font-weight: bold; text-align: right;\"></th><th title = \"Int64\" style = \"text-align: left;\">Int64</th><th title = \"String15\" style = \"text-align: left;\">String15</th><th title = \"Float64\" style = \"text-align: left;\">Float64</th><th title = \"Int64\" style = \"text-align: left;\">Int64</th><th title = \"Float64\" style = \"text-align: left;\">Float64</th><th title = \"Int64\" style = \"text-align: left;\">Int64</th><th title = \"Int64\" style = \"text-align: left;\">Int64</th><th title = \"Float64\" style = \"text-align: left;\">Float64</th><th title = \"Int64\" style = \"text-align: left;\">Int64</th><th title = \"Int64\" style = \"text-align: left;\">Int64</th><th title = \"Int64\" style = \"text-align: left;\">Int64</th><th title = \"Int64\" style = \"text-align: left;\">Int64</th><th title = \"Int64\" style = \"text-align: left;\">Int64</th><th title = \"Int64\" style = \"text-align: left;\">Int64</th><th title = \"Int64\" style = \"text-align: left;\">Int64</th><th title = \"Int64\" style = \"text-align: left;\">Int64</th><th title = \"Int64\" style = \"text-align: left;\">Int64</th><th title = \"Float64\" style = \"text-align: left;\">Float64</th><th title = \"Float64\" style = \"text-align: left;\">Float64</th><th title = \"Int64\" style = \"text-align: left;\">Int64</th><th title = \"Int64\" style = \"text-align: left;\">Int64</th></tr></thead><tbody><tr><td class = \"rowNumber\" style = \"font-weight: bold; text-align: right;\">1</td><td style = \"text-align: right;\">7129300520</td><td style = \"text-align: left;\">20141013T000000</td><td style = \"text-align: right;\">221900.0</td><td style = \"text-align: right;\">3</td><td style = \"text-align: right;\">1.0</td><td style = \"text-align: right;\">1180</td><td style = \"text-align: right;\">5650</td><td style = \"text-align: right;\">1.0</td><td style = \"text-align: right;\">0</td><td style = \"text-align: right;\">0</td><td style = \"text-align: right;\">3</td><td style = \"text-align: right;\">7</td><td style = \"text-align: right;\">1180</td><td style = \"text-align: right;\">0</td><td style = \"text-align: right;\">1955</td><td style = \"text-align: right;\">0</td><td style = \"text-align: right;\">98178</td><td style = \"text-align: right;\">47.5112</td><td style = \"text-align: right;\">-122.257</td><td style = \"text-align: right;\">1340</td><td style = \"text-align: right;\">5650</td></tr><tr><td class = \"rowNumber\" style = \"font-weight: bold; text-align: right;\">2</td><td style = \"text-align: right;\">6414100192</td><td style = \"text-align: left;\">20141209T000000</td><td style = \"text-align: right;\">538000.0</td><td style = \"text-align: right;\">3</td><td style = \"text-align: right;\">2.25</td><td style = \"text-align: right;\">2570</td><td style = \"text-align: right;\">7242</td><td style = \"text-align: right;\">2.0</td><td style = \"text-align: right;\">0</td><td style = \"text-align: right;\">0</td><td style = \"text-align: right;\">3</td><td style = \"text-align: right;\">7</td><td style = \"text-align: right;\">2170</td><td style = \"text-align: right;\">400</td><td style = \"text-align: right;\">1951</td><td style = \"text-align: right;\">1991</td><td style = \"text-align: right;\">98125</td><td style = \"text-align: right;\">47.721</td><td style = \"text-align: right;\">-122.319</td><td style = \"text-align: right;\">1690</td><td style = \"text-align: right;\">7639</td></tr><tr><td class = \"rowNumber\" style = \"font-weight: bold; text-align: right;\">3</td><td style = \"text-align: right;\">5631500400</td><td style = \"text-align: left;\">20150225T000000</td><td style = \"text-align: right;\">180000.0</td><td style = \"text-align: right;\">2</td><td style = \"text-align: right;\">1.0</td><td style = \"text-align: right;\">770</td><td style = \"text-align: right;\">10000</td><td style = \"text-align: right;\">1.0</td><td style = \"text-align: right;\">0</td><td style = \"text-align: right;\">0</td><td style = \"text-align: right;\">3</td><td style = \"text-align: right;\">6</td><td style = \"text-align: right;\">770</td><td style = \"text-align: right;\">0</td><td style = \"text-align: right;\">1933</td><td style = \"text-align: right;\">0</td><td style = \"text-align: right;\">98028</td><td style = \"text-align: right;\">47.7379</td><td style = \"text-align: right;\">-122.233</td><td style = \"text-align: right;\">2720</td><td style = \"text-align: right;\">8062</td></tr><tr><td class = \"rowNumber\" style = \"font-weight: bold; text-align: right;\">4</td><td style = \"text-align: right;\">2487200875</td><td style = \"text-align: left;\">20141209T000000</td><td style = \"text-align: right;\">604000.0</td><td style = \"text-align: right;\">4</td><td style = \"text-align: right;\">3.0</td><td style = \"text-align: right;\">1960</td><td style = \"text-align: right;\">5000</td><td style = \"text-align: right;\">1.0</td><td style = \"text-align: right;\">0</td><td style = \"text-align: right;\">0</td><td style = \"text-align: right;\">5</td><td style = \"text-align: right;\">7</td><td style = \"text-align: right;\">1050</td><td style = \"text-align: right;\">910</td><td style = \"text-align: right;\">1965</td><td style = \"text-align: right;\">0</td><td style = \"text-align: right;\">98136</td><td style = \"text-align: right;\">47.5208</td><td style = \"text-align: right;\">-122.393</td><td style = \"text-align: right;\">1360</td><td style = \"text-align: right;\">5000</td></tr><tr><td class = \"rowNumber\" style = \"font-weight: bold; text-align: right;\">5</td><td style = \"text-align: right;\">1954400510</td><td style = \"text-align: left;\">20150218T000000</td><td style = \"text-align: right;\">510000.0</td><td style = \"text-align: right;\">3</td><td style = \"text-align: right;\">2.0</td><td style = \"text-align: right;\">1680</td><td style = \"text-align: right;\">8080</td><td style = \"text-align: right;\">1.0</td><td style = \"text-align: right;\">0</td><td style = \"text-align: right;\">0</td><td style = \"text-align: right;\">3</td><td style = \"text-align: right;\">8</td><td style = \"text-align: right;\">1680</td><td style = \"text-align: right;\">0</td><td style = \"text-align: right;\">1987</td><td style = \"text-align: right;\">0</td><td style = \"text-align: right;\">98074</td><td style = \"text-align: right;\">47.6168</td><td style = \"text-align: right;\">-122.045</td><td style = \"text-align: right;\">1800</td><td style = \"text-align: right;\">7503</td></tr><tr><td class = \"rowNumber\" style = \"font-weight: bold; text-align: right;\">6</td><td style = \"text-align: right;\">7237550310</td><td style = \"text-align: left;\">20140512T000000</td><td style = \"text-align: right;\">1.225e6</td><td style = \"text-align: right;\">4</td><td style = \"text-align: right;\">4.5</td><td style = \"text-align: right;\">5420</td><td style = \"text-align: right;\">101930</td><td style = \"text-align: right;\">1.0</td><td style = \"text-align: right;\">0</td><td style = \"text-align: right;\">0</td><td style = \"text-align: right;\">3</td><td style = \"text-align: right;\">11</td><td style = \"text-align: right;\">3890</td><td style = \"text-align: right;\">1530</td><td style = \"text-align: right;\">2001</td><td style = \"text-align: right;\">0</td><td style = \"text-align: right;\">98053</td><td style = \"text-align: right;\">47.6561</td><td style = \"text-align: right;\">-122.005</td><td style = \"text-align: right;\">4760</td><td style = \"text-align: right;\">101930</td></tr><tr><td class = \"rowNumber\" style = \"font-weight: bold; text-align: right;\">7</td><td style = \"text-align: right;\">1321400060</td><td style = \"text-align: left;\">20140627T000000</td><td style = \"text-align: right;\">257500.0</td><td style = \"text-align: right;\">3</td><td style = \"text-align: right;\">2.25</td><td style = \"text-align: right;\">1715</td><td style = \"text-align: right;\">6819</td><td style = \"text-align: right;\">2.0</td><td style = \"text-align: right;\">0</td><td style = \"text-align: right;\">0</td><td style = \"text-align: right;\">3</td><td style = \"text-align: right;\">7</td><td style = \"text-align: right;\">1715</td><td style = \"text-align: right;\">0</td><td style = \"text-align: right;\">1995</td><td style = \"text-align: right;\">0</td><td style = \"text-align: right;\">98003</td><td style = \"text-align: right;\">47.3097</td><td style = \"text-align: right;\">-122.327</td><td style = \"text-align: right;\">2238</td><td style = \"text-align: right;\">6819</td></tr><tr><td class = \"rowNumber\" style = \"font-weight: bold; text-align: right;\">8</td><td style = \"text-align: right;\">2008000270</td><td style = \"text-align: left;\">20150115T000000</td><td style = \"text-align: right;\">291850.0</td><td style = \"text-align: right;\">3</td><td style = \"text-align: right;\">1.5</td><td style = \"text-align: right;\">1060</td><td style = \"text-align: right;\">9711</td><td style = \"text-align: right;\">1.0</td><td style = \"text-align: right;\">0</td><td style = \"text-align: right;\">0</td><td style = \"text-align: right;\">3</td><td style = \"text-align: right;\">7</td><td style = \"text-align: right;\">1060</td><td style = \"text-align: right;\">0</td><td style = \"text-align: right;\">1963</td><td style = \"text-align: right;\">0</td><td style = \"text-align: right;\">98198</td><td style = \"text-align: right;\">47.4095</td><td style = \"text-align: right;\">-122.315</td><td style = \"text-align: right;\">1650</td><td style = \"text-align: right;\">9711</td></tr><tr><td class = \"rowNumber\" style = \"font-weight: bold; text-align: right;\">9</td><td style = \"text-align: right;\">2414600126</td><td style = \"text-align: left;\">20150415T000000</td><td style = \"text-align: right;\">229500.0</td><td style = \"text-align: right;\">3</td><td style = \"text-align: right;\">1.0</td><td style = \"text-align: right;\">1780</td><td style = \"text-align: right;\">7470</td><td style = \"text-align: right;\">1.0</td><td style = \"text-align: right;\">0</td><td style = \"text-align: right;\">0</td><td style = \"text-align: right;\">3</td><td style = \"text-align: right;\">7</td><td style = \"text-align: right;\">1050</td><td style = \"text-align: right;\">730</td><td style = \"text-align: right;\">1960</td><td style = \"text-align: right;\">0</td><td style = \"text-align: right;\">98146</td><td style = \"text-align: right;\">47.5123</td><td style = \"text-align: right;\">-122.337</td><td style = \"text-align: right;\">1780</td><td style = \"text-align: right;\">8113</td></tr><tr><td class = \"rowNumber\" style = \"font-weight: bold; text-align: right;\">10</td><td style = \"text-align: right;\">3793500160</td><td style = \"text-align: left;\">20150312T000000</td><td style = \"text-align: right;\">323000.0</td><td style = \"text-align: right;\">3</td><td style = \"text-align: right;\">2.5</td><td style = \"text-align: right;\">1890</td><td style = \"text-align: right;\">6560</td><td style = \"text-align: right;\">2.0</td><td style = \"text-align: right;\">0</td><td style = \"text-align: right;\">0</td><td style = \"text-align: right;\">3</td><td style = \"text-align: right;\">7</td><td style = \"text-align: right;\">1890</td><td style = \"text-align: right;\">0</td><td style = \"text-align: right;\">2003</td><td style = \"text-align: right;\">0</td><td style = \"text-align: right;\">98038</td><td style = \"text-align: right;\">47.3684</td><td style = \"text-align: right;\">-122.031</td><td style = \"text-align: right;\">2390</td><td style = \"text-align: right;\">7570</td></tr><tr><td class = \"rowNumber\" style = \"font-weight: bold; text-align: right;\">11</td><td style = \"text-align: right;\">1736800520</td><td style = \"text-align: left;\">20150403T000000</td><td style = \"text-align: right;\">662500.0</td><td style = \"text-align: right;\">3</td><td style = \"text-align: right;\">2.5</td><td style = \"text-align: right;\">3560</td><td style = \"text-align: right;\">9796</td><td style = \"text-align: right;\">1.0</td><td style = \"text-align: right;\">0</td><td style = \"text-align: right;\">0</td><td style = \"text-align: right;\">3</td><td style = \"text-align: right;\">8</td><td style = \"text-align: right;\">1860</td><td style = \"text-align: right;\">1700</td><td style = \"text-align: right;\">1965</td><td style = \"text-align: right;\">0</td><td style = \"text-align: right;\">98007</td><td style = \"text-align: right;\">47.6007</td><td style = \"text-align: right;\">-122.145</td><td style = \"text-align: right;\">2210</td><td style = \"text-align: right;\">8925</td></tr><tr><td class = \"rowNumber\" style = \"font-weight: bold; text-align: right;\">12</td><td style = \"text-align: right;\">9212900260</td><td style = \"text-align: left;\">20140527T000000</td><td style = \"text-align: right;\">468000.0</td><td style = \"text-align: right;\">2</td><td style = \"text-align: right;\">1.0</td><td style = \"text-align: right;\">1160</td><td style = \"text-align: right;\">6000</td><td style = \"text-align: right;\">1.0</td><td style = \"text-align: right;\">0</td><td style = \"text-align: right;\">0</td><td style = \"text-align: right;\">4</td><td style = \"text-align: right;\">7</td><td style = \"text-align: right;\">860</td><td style = \"text-align: right;\">300</td><td style = \"text-align: right;\">1942</td><td style = \"text-align: right;\">0</td><td style = \"text-align: right;\">98115</td><td style = \"text-align: right;\">47.69</td><td style = \"text-align: right;\">-122.292</td><td style = \"text-align: right;\">1330</td><td style = \"text-align: right;\">6000</td></tr><tr><td class = \"rowNumber\" style = \"font-weight: bold; text-align: right;\">13</td><td style = \"text-align: right;\">114101516</td><td style = \"text-align: left;\">20140528T000000</td><td style = \"text-align: right;\">310000.0</td><td style = \"text-align: right;\">3</td><td style = \"text-align: right;\">1.0</td><td style = \"text-align: right;\">1430</td><td style = \"text-align: right;\">19901</td><td style = \"text-align: right;\">1.5</td><td style = \"text-align: right;\">0</td><td style = \"text-align: right;\">0</td><td style = \"text-align: right;\">4</td><td style = \"text-align: right;\">7</td><td style = \"text-align: right;\">1430</td><td style = \"text-align: right;\">0</td><td style = \"text-align: right;\">1927</td><td style = \"text-align: right;\">0</td><td style = \"text-align: right;\">98028</td><td style = \"text-align: right;\">47.7558</td><td style = \"text-align: right;\">-122.229</td><td style = \"text-align: right;\">1780</td><td style = \"text-align: right;\">12697</td></tr><tr><td style = \"text-align: right;\">&vellip;</td><td style = \"text-align: right;\">&vellip;</td><td style = \"text-align: right;\">&vellip;</td><td style = \"text-align: right;\">&vellip;</td><td style = \"text-align: right;\">&vellip;</td><td style = \"text-align: right;\">&vellip;</td><td style = \"text-align: right;\">&vellip;</td><td style = \"text-align: right;\">&vellip;</td><td style = \"text-align: right;\">&vellip;</td><td style = \"text-align: right;\">&vellip;</td><td style = \"text-align: right;\">&vellip;</td><td style = \"text-align: right;\">&vellip;</td><td style = \"text-align: right;\">&vellip;</td><td style = \"text-align: right;\">&vellip;</td><td style = \"text-align: right;\">&vellip;</td><td style = \"text-align: right;\">&vellip;</td><td style = \"text-align: right;\">&vellip;</td><td style = \"text-align: right;\">&vellip;</td><td style = \"text-align: right;\">&vellip;</td><td style = \"text-align: right;\">&vellip;</td><td style = \"text-align: right;\">&vellip;</td><td style = \"text-align: right;\">&vellip;</td></tr><tr><td class = \"rowNumber\" style = \"font-weight: bold; text-align: right;\">21602</td><td style = \"text-align: right;\">5100403806</td><td style = \"text-align: left;\">20150407T000000</td><td style = \"text-align: right;\">467000.0</td><td style = \"text-align: right;\">3</td><td style = \"text-align: right;\">2.5</td><td style = \"text-align: right;\">1425</td><td style = \"text-align: right;\">1179</td><td style = \"text-align: right;\">3.0</td><td style = \"text-align: right;\">0</td><td style = \"text-align: right;\">0</td><td style = \"text-align: right;\">3</td><td style = \"text-align: right;\">8</td><td style = \"text-align: right;\">1425</td><td style = \"text-align: right;\">0</td><td style = \"text-align: right;\">2008</td><td style = \"text-align: right;\">0</td><td style = \"text-align: right;\">98125</td><td style = \"text-align: right;\">47.6963</td><td style = \"text-align: right;\">-122.318</td><td style = \"text-align: right;\">1285</td><td style = \"text-align: right;\">1253</td></tr><tr><td class = \"rowNumber\" style = \"font-weight: bold; text-align: right;\">21603</td><td style = \"text-align: right;\">844000965</td><td style = \"text-align: left;\">20140626T000000</td><td style = \"text-align: right;\">224000.0</td><td style = \"text-align: right;\">3</td><td style = \"text-align: right;\">1.75</td><td style = \"text-align: right;\">1500</td><td style = \"text-align: right;\">11968</td><td style = \"text-align: right;\">1.0</td><td style = \"text-align: right;\">0</td><td style = \"text-align: right;\">0</td><td style = \"text-align: right;\">3</td><td style = \"text-align: right;\">6</td><td style = \"text-align: right;\">1500</td><td style = \"text-align: right;\">0</td><td style = \"text-align: right;\">2014</td><td style = \"text-align: right;\">0</td><td style = \"text-align: right;\">98010</td><td style = \"text-align: right;\">47.3095</td><td style = \"text-align: right;\">-122.002</td><td style = \"text-align: right;\">1320</td><td style = \"text-align: right;\">11303</td></tr><tr><td class = \"rowNumber\" style = \"font-weight: bold; text-align: right;\">21604</td><td style = \"text-align: right;\">7852140040</td><td style = \"text-align: left;\">20140825T000000</td><td style = \"text-align: right;\">507250.0</td><td style = \"text-align: right;\">3</td><td style = \"text-align: right;\">2.5</td><td style = \"text-align: right;\">2270</td><td style = \"text-align: right;\">5536</td><td style = \"text-align: right;\">2.0</td><td style = \"text-align: right;\">0</td><td style = \"text-align: right;\">0</td><td style = \"text-align: right;\">3</td><td style = \"text-align: right;\">8</td><td style = \"text-align: right;\">2270</td><td style = \"text-align: right;\">0</td><td style = \"text-align: right;\">2003</td><td style = \"text-align: right;\">0</td><td style = \"text-align: right;\">98065</td><td style = \"text-align: right;\">47.5389</td><td style = \"text-align: right;\">-121.881</td><td style = \"text-align: right;\">2270</td><td style = \"text-align: right;\">5731</td></tr><tr><td class = \"rowNumber\" style = \"font-weight: bold; text-align: right;\">21605</td><td style = \"text-align: right;\">9834201367</td><td style = \"text-align: left;\">20150126T000000</td><td style = \"text-align: right;\">429000.0</td><td style = \"text-align: right;\">3</td><td style = \"text-align: right;\">2.0</td><td style = \"text-align: right;\">1490</td><td style = \"text-align: right;\">1126</td><td style = \"text-align: right;\">3.0</td><td style = \"text-align: right;\">0</td><td style = \"text-align: right;\">0</td><td style = \"text-align: right;\">3</td><td style = \"text-align: right;\">8</td><td style = \"text-align: right;\">1490</td><td style = \"text-align: right;\">0</td><td style = \"text-align: right;\">2014</td><td style = \"text-align: right;\">0</td><td style = \"text-align: right;\">98144</td><td style = \"text-align: right;\">47.5699</td><td style = \"text-align: right;\">-122.288</td><td style = \"text-align: right;\">1400</td><td style = \"text-align: right;\">1230</td></tr><tr><td class = \"rowNumber\" style = \"font-weight: bold; text-align: right;\">21606</td><td style = \"text-align: right;\">3448900210</td><td style = \"text-align: left;\">20141014T000000</td><td style = \"text-align: right;\">610685.0</td><td style = \"text-align: right;\">4</td><td style = \"text-align: right;\">2.5</td><td style = \"text-align: right;\">2520</td><td style = \"text-align: right;\">6023</td><td style = \"text-align: right;\">2.0</td><td style = \"text-align: right;\">0</td><td style = \"text-align: right;\">0</td><td style = \"text-align: right;\">3</td><td style = \"text-align: right;\">9</td><td style = \"text-align: right;\">2520</td><td style = \"text-align: right;\">0</td><td style = \"text-align: right;\">2014</td><td style = \"text-align: right;\">0</td><td style = \"text-align: right;\">98056</td><td style = \"text-align: right;\">47.5137</td><td style = \"text-align: right;\">-122.167</td><td style = \"text-align: right;\">2520</td><td style = \"text-align: right;\">6023</td></tr><tr><td class = \"rowNumber\" style = \"font-weight: bold; text-align: right;\">21607</td><td style = \"text-align: right;\">7936000429</td><td style = \"text-align: left;\">20150326T000000</td><td style = \"text-align: right;\">1.0075e6</td><td style = \"text-align: right;\">4</td><td style = \"text-align: right;\">3.5</td><td style = \"text-align: right;\">3510</td><td style = \"text-align: right;\">7200</td><td style = \"text-align: right;\">2.0</td><td style = \"text-align: right;\">0</td><td style = \"text-align: right;\">0</td><td style = \"text-align: right;\">3</td><td style = \"text-align: right;\">9</td><td style = \"text-align: right;\">2600</td><td style = \"text-align: right;\">910</td><td style = \"text-align: right;\">2009</td><td style = \"text-align: right;\">0</td><td style = \"text-align: right;\">98136</td><td style = \"text-align: right;\">47.5537</td><td style = \"text-align: right;\">-122.398</td><td style = \"text-align: right;\">2050</td><td style = \"text-align: right;\">6200</td></tr><tr><td class = \"rowNumber\" style = \"font-weight: bold; text-align: right;\">21608</td><td style = \"text-align: right;\">2997800021</td><td style = \"text-align: left;\">20150219T000000</td><td style = \"text-align: right;\">475000.0</td><td style = \"text-align: right;\">3</td><td style = \"text-align: right;\">2.5</td><td style = \"text-align: right;\">1310</td><td style = \"text-align: right;\">1294</td><td style = \"text-align: right;\">2.0</td><td style = \"text-align: right;\">0</td><td style = \"text-align: right;\">0</td><td style = \"text-align: right;\">3</td><td style = \"text-align: right;\">8</td><td style = \"text-align: right;\">1180</td><td style = \"text-align: right;\">130</td><td style = \"text-align: right;\">2008</td><td style = \"text-align: right;\">0</td><td style = \"text-align: right;\">98116</td><td style = \"text-align: right;\">47.5773</td><td style = \"text-align: right;\">-122.409</td><td style = \"text-align: right;\">1330</td><td style = \"text-align: right;\">1265</td></tr><tr><td class = \"rowNumber\" style = \"font-weight: bold; text-align: right;\">21609</td><td style = \"text-align: right;\">263000018</td><td style = \"text-align: left;\">20140521T000000</td><td style = \"text-align: right;\">360000.0</td><td style = \"text-align: right;\">3</td><td style = \"text-align: right;\">2.5</td><td style = \"text-align: right;\">1530</td><td style = \"text-align: right;\">1131</td><td style = \"text-align: right;\">3.0</td><td style = \"text-align: right;\">0</td><td style = \"text-align: right;\">0</td><td style = \"text-align: right;\">3</td><td style = \"text-align: right;\">8</td><td style = \"text-align: right;\">1530</td><td style = \"text-align: right;\">0</td><td style = \"text-align: right;\">2009</td><td style = \"text-align: right;\">0</td><td style = \"text-align: right;\">98103</td><td style = \"text-align: right;\">47.6993</td><td style = \"text-align: right;\">-122.346</td><td style = \"text-align: right;\">1530</td><td style = \"text-align: right;\">1509</td></tr><tr><td class = \"rowNumber\" style = \"font-weight: bold; text-align: right;\">21610</td><td style = \"text-align: right;\">6600060120</td><td style = \"text-align: left;\">20150223T000000</td><td style = \"text-align: right;\">400000.0</td><td style = \"text-align: right;\">4</td><td style = \"text-align: right;\">2.5</td><td style = \"text-align: right;\">2310</td><td style = \"text-align: right;\">5813</td><td style = \"text-align: right;\">2.0</td><td style = \"text-align: right;\">0</td><td style = \"text-align: right;\">0</td><td style = \"text-align: right;\">3</td><td style = \"text-align: right;\">8</td><td style = \"text-align: right;\">2310</td><td style = \"text-align: right;\">0</td><td style = \"text-align: right;\">2014</td><td style = \"text-align: right;\">0</td><td style = \"text-align: right;\">98146</td><td style = \"text-align: right;\">47.5107</td><td style = \"text-align: right;\">-122.362</td><td style = \"text-align: right;\">1830</td><td style = \"text-align: right;\">7200</td></tr><tr><td class = \"rowNumber\" style = \"font-weight: bold; text-align: right;\">21611</td><td style = \"text-align: right;\">1523300141</td><td style = \"text-align: left;\">20140623T000000</td><td style = \"text-align: right;\">402101.0</td><td style = \"text-align: right;\">2</td><td style = \"text-align: right;\">0.75</td><td style = \"text-align: right;\">1020</td><td style = \"text-align: right;\">1350</td><td style = \"text-align: right;\">2.0</td><td style = \"text-align: right;\">0</td><td style = \"text-align: right;\">0</td><td style = \"text-align: right;\">3</td><td style = \"text-align: right;\">7</td><td style = \"text-align: right;\">1020</td><td style = \"text-align: right;\">0</td><td style = \"text-align: right;\">2009</td><td style = \"text-align: right;\">0</td><td style = \"text-align: right;\">98144</td><td style = \"text-align: right;\">47.5944</td><td style = \"text-align: right;\">-122.299</td><td style = \"text-align: right;\">1020</td><td style = \"text-align: right;\">2007</td></tr><tr><td class = \"rowNumber\" style = \"font-weight: bold; text-align: right;\">21612</td><td style = \"text-align: right;\">291310100</td><td style = \"text-align: left;\">20150116T000000</td><td style = \"text-align: right;\">400000.0</td><td style = \"text-align: right;\">3</td><td style = \"text-align: right;\">2.5</td><td style = \"text-align: right;\">1600</td><td style = \"text-align: right;\">2388</td><td style = \"text-align: right;\">2.0</td><td style = \"text-align: right;\">0</td><td style = \"text-align: right;\">0</td><td style = \"text-align: right;\">3</td><td style = \"text-align: right;\">8</td><td style = \"text-align: right;\">1600</td><td style = \"text-align: right;\">0</td><td style = \"text-align: right;\">2004</td><td style = \"text-align: right;\">0</td><td style = \"text-align: right;\">98027</td><td style = \"text-align: right;\">47.5345</td><td style = \"text-align: right;\">-122.069</td><td style = \"text-align: right;\">1410</td><td style = \"text-align: right;\">1287</td></tr><tr><td class = \"rowNumber\" style = \"font-weight: bold; text-align: right;\">21613</td><td style = \"text-align: right;\">1523300157</td><td style = \"text-align: left;\">20141015T000000</td><td style = \"text-align: right;\">325000.0</td><td style = \"text-align: right;\">2</td><td style = \"text-align: right;\">0.75</td><td style = \"text-align: right;\">1020</td><td style = \"text-align: right;\">1076</td><td style = \"text-align: right;\">2.0</td><td style = \"text-align: right;\">0</td><td style = \"text-align: right;\">0</td><td style = \"text-align: right;\">3</td><td style = \"text-align: right;\">7</td><td style = \"text-align: right;\">1020</td><td style = \"text-align: right;\">0</td><td style = \"text-align: right;\">2008</td><td style = \"text-align: right;\">0</td><td style = \"text-align: right;\">98144</td><td style = \"text-align: right;\">47.5941</td><td style = \"text-align: right;\">-122.299</td><td style = \"text-align: right;\">1020</td><td style = \"text-align: right;\">1357</td></tr></tbody></table></div>"
      ],
      "text/latex": [
       "\\begin{tabular}{r|cccccccc}\n",
       "\t& id & date & price & bedrooms & bathrooms & sqft\\_living & sqft\\_lot & \\\\\n",
       "\t\\hline\n",
       "\t& Int64 & String15 & Float64 & Int64 & Float64 & Int64 & Int64 & \\\\\n",
       "\t\\hline\n",
       "\t1 & 7129300520 & 20141013T000000 & 221900.0 & 3 & 1.0 & 1180 & 5650 & $\\dots$ \\\\\n",
       "\t2 & 6414100192 & 20141209T000000 & 538000.0 & 3 & 2.25 & 2570 & 7242 & $\\dots$ \\\\\n",
       "\t3 & 5631500400 & 20150225T000000 & 180000.0 & 2 & 1.0 & 770 & 10000 & $\\dots$ \\\\\n",
       "\t4 & 2487200875 & 20141209T000000 & 604000.0 & 4 & 3.0 & 1960 & 5000 & $\\dots$ \\\\\n",
       "\t5 & 1954400510 & 20150218T000000 & 510000.0 & 3 & 2.0 & 1680 & 8080 & $\\dots$ \\\\\n",
       "\t6 & 7237550310 & 20140512T000000 & 1.225e6 & 4 & 4.5 & 5420 & 101930 & $\\dots$ \\\\\n",
       "\t7 & 1321400060 & 20140627T000000 & 257500.0 & 3 & 2.25 & 1715 & 6819 & $\\dots$ \\\\\n",
       "\t8 & 2008000270 & 20150115T000000 & 291850.0 & 3 & 1.5 & 1060 & 9711 & $\\dots$ \\\\\n",
       "\t9 & 2414600126 & 20150415T000000 & 229500.0 & 3 & 1.0 & 1780 & 7470 & $\\dots$ \\\\\n",
       "\t10 & 3793500160 & 20150312T000000 & 323000.0 & 3 & 2.5 & 1890 & 6560 & $\\dots$ \\\\\n",
       "\t11 & 1736800520 & 20150403T000000 & 662500.0 & 3 & 2.5 & 3560 & 9796 & $\\dots$ \\\\\n",
       "\t12 & 9212900260 & 20140527T000000 & 468000.0 & 2 & 1.0 & 1160 & 6000 & $\\dots$ \\\\\n",
       "\t13 & 114101516 & 20140528T000000 & 310000.0 & 3 & 1.0 & 1430 & 19901 & $\\dots$ \\\\\n",
       "\t14 & 6054650070 & 20141007T000000 & 400000.0 & 3 & 1.75 & 1370 & 9680 & $\\dots$ \\\\\n",
       "\t15 & 1175000570 & 20150312T000000 & 530000.0 & 5 & 2.0 & 1810 & 4850 & $\\dots$ \\\\\n",
       "\t16 & 9297300055 & 20150124T000000 & 650000.0 & 4 & 3.0 & 2950 & 5000 & $\\dots$ \\\\\n",
       "\t17 & 1875500060 & 20140731T000000 & 395000.0 & 3 & 2.0 & 1890 & 14040 & $\\dots$ \\\\\n",
       "\t18 & 6865200140 & 20140529T000000 & 485000.0 & 4 & 1.0 & 1600 & 4300 & $\\dots$ \\\\\n",
       "\t19 & 16000397 & 20141205T000000 & 189000.0 & 2 & 1.0 & 1200 & 9850 & $\\dots$ \\\\\n",
       "\t20 & 7983200060 & 20150424T000000 & 230000.0 & 3 & 1.0 & 1250 & 9774 & $\\dots$ \\\\\n",
       "\t21 & 6300500875 & 20140514T000000 & 385000.0 & 4 & 1.75 & 1620 & 4980 & $\\dots$ \\\\\n",
       "\t22 & 2524049179 & 20140826T000000 & 2.0e6 & 3 & 2.75 & 3050 & 44867 & $\\dots$ \\\\\n",
       "\t23 & 7137970340 & 20140703T000000 & 285000.0 & 5 & 2.5 & 2270 & 6300 & $\\dots$ \\\\\n",
       "\t24 & 8091400200 & 20140516T000000 & 252700.0 & 2 & 1.5 & 1070 & 9643 & $\\dots$ \\\\\n",
       "\t$\\dots$ & $\\dots$ & $\\dots$ & $\\dots$ & $\\dots$ & $\\dots$ & $\\dots$ & $\\dots$ &  \\\\\n",
       "\\end{tabular}\n"
      ],
      "text/plain": [
       "\u001b[1m21613×21 DataFrame\u001b[0m\n",
       "\u001b[1m   Row \u001b[0m│\u001b[1m id         \u001b[0m\u001b[1m date            \u001b[0m\u001b[1m price         \u001b[0m\u001b[1m bedrooms \u001b[0m\u001b[1m bathrooms \u001b[0m\u001b[1m sqft\u001b[0m ⋯\n",
       "       │\u001b[90m Int64      \u001b[0m\u001b[90m String15        \u001b[0m\u001b[90m Float64       \u001b[0m\u001b[90m Int64    \u001b[0m\u001b[90m Float64   \u001b[0m\u001b[90m Int6\u001b[0m ⋯\n",
       "───────┼────────────────────────────────────────────────────────────────────────\n",
       "     1 │ 7129300520  20141013T000000  221900.0              3       1.0        ⋯\n",
       "     2 │ 6414100192  20141209T000000  538000.0              3       2.25\n",
       "     3 │ 5631500400  20150225T000000  180000.0              2       1.0\n",
       "     4 │ 2487200875  20141209T000000  604000.0              4       3.0\n",
       "     5 │ 1954400510  20150218T000000  510000.0              3       2.0        ⋯\n",
       "     6 │ 7237550310  20140512T000000       1.225e6          4       4.5\n",
       "     7 │ 1321400060  20140627T000000  257500.0              3       2.25\n",
       "     8 │ 2008000270  20150115T000000  291850.0              3       1.5\n",
       "   ⋮   │     ⋮              ⋮               ⋮           ⋮          ⋮           ⋱\n",
       " 21607 │ 7936000429  20150326T000000       1.0075e6         4       3.5        ⋯\n",
       " 21608 │ 2997800021  20150219T000000  475000.0              3       2.5\n",
       " 21609 │  263000018  20140521T000000  360000.0              3       2.5\n",
       " 21610 │ 6600060120  20150223T000000  400000.0              4       2.5\n",
       " 21611 │ 1523300141  20140623T000000  402101.0              2       0.75       ⋯\n",
       " 21612 │  291310100  20150116T000000  400000.0              3       2.5\n",
       " 21613 │ 1523300157  20141015T000000  325000.0              2       0.75\n",
       "\u001b[36m                                               16 columns and 21598 rows omitted\u001b[0m"
      ]
     },
     "metadata": {},
     "output_type": "display_data"
    }
   ],
   "source": [
    "kc_house_data = CSV.read( \"C:/Users/danil/OneDrive/Danilo_Back-up/Kaggle/kc_house_data.csv\", DataFrame )"
   ]
  },
  {
   "cell_type": "markdown",
   "id": "85e32613",
   "metadata": {},
   "source": [
    "##### hotel_bookings"
   ]
  },
  {
   "cell_type": "code",
   "execution_count": 4,
   "id": "57561392",
   "metadata": {},
   "outputs": [
    {
     "data": {
      "text/html": [
       "<div><div style = \"float: left;\"><span>119390×32 DataFrame</span></div><div style = \"float: right;\"><span style = \"font-style: italic;\">119365 rows omitted</span></div><div style = \"clear: both;\"></div></div><div class = \"data-frame\" style = \"overflow-x: scroll;\"><table class = \"data-frame\" style = \"margin-bottom: 6px;\"><thead><tr class = \"header\"><th class = \"rowNumber\" style = \"font-weight: bold; text-align: right;\">Row</th><th style = \"text-align: left;\">hotel</th><th style = \"text-align: left;\">is_canceled</th><th style = \"text-align: left;\">lead_time</th><th style = \"text-align: left;\">arrival_date_year</th><th style = \"text-align: left;\">arrival_date_month</th><th style = \"text-align: left;\">arrival_date_week_number</th><th style = \"text-align: left;\">arrival_date_day_of_month</th><th style = \"text-align: left;\">stays_in_weekend_nights</th><th style = \"text-align: left;\">stays_in_week_nights</th><th style = \"text-align: left;\">adults</th><th style = \"text-align: left;\">children</th><th style = \"text-align: left;\">babies</th><th style = \"text-align: left;\">meal</th><th style = \"text-align: left;\">country</th><th style = \"text-align: left;\">market_segment</th><th style = \"text-align: left;\">distribution_channel</th><th style = \"text-align: left;\">is_repeated_guest</th><th style = \"text-align: left;\">previous_cancellations</th><th style = \"text-align: left;\">previous_bookings_not_canceled</th><th style = \"text-align: left;\">reserved_room_type</th><th style = \"text-align: left;\">assigned_room_type</th><th style = \"text-align: left;\">booking_changes</th><th style = \"text-align: left;\">deposit_type</th><th style = \"text-align: left;\">agent</th><th style = \"text-align: left;\">company</th><th style = \"text-align: left;\">days_in_waiting_list</th><th style = \"text-align: left;\">customer_type</th><th style = \"text-align: left;\">adr</th><th style = \"text-align: left;\">required_car_parking_spaces</th><th style = \"text-align: left;\">total_of_special_requests</th><th style = \"text-align: left;\">reservation_status</th><th style = \"text-align: left;\">reservation_status_date</th></tr><tr class = \"subheader headerLastRow\"><th class = \"rowNumber\" style = \"font-weight: bold; text-align: right;\"></th><th title = \"String15\" style = \"text-align: left;\">String15</th><th title = \"Int64\" style = \"text-align: left;\">Int64</th><th title = \"Int64\" style = \"text-align: left;\">Int64</th><th title = \"Int64\" style = \"text-align: left;\">Int64</th><th title = \"String15\" style = \"text-align: left;\">String15</th><th title = \"Int64\" style = \"text-align: left;\">Int64</th><th title = \"Int64\" style = \"text-align: left;\">Int64</th><th title = \"Int64\" style = \"text-align: left;\">Int64</th><th title = \"Int64\" style = \"text-align: left;\">Int64</th><th title = \"Int64\" style = \"text-align: left;\">Int64</th><th title = \"String3\" style = \"text-align: left;\">String3</th><th title = \"Int64\" style = \"text-align: left;\">Int64</th><th title = \"String15\" style = \"text-align: left;\">String15</th><th title = \"String7\" style = \"text-align: left;\">String7</th><th title = \"String15\" style = \"text-align: left;\">String15</th><th title = \"String15\" style = \"text-align: left;\">String15</th><th title = \"Int64\" style = \"text-align: left;\">Int64</th><th title = \"Int64\" style = \"text-align: left;\">Int64</th><th title = \"Int64\" style = \"text-align: left;\">Int64</th><th title = \"String1\" style = \"text-align: left;\">String1</th><th title = \"String1\" style = \"text-align: left;\">String1</th><th title = \"Int64\" style = \"text-align: left;\">Int64</th><th title = \"String15\" style = \"text-align: left;\">String15</th><th title = \"String7\" style = \"text-align: left;\">String7</th><th title = \"String7\" style = \"text-align: left;\">String7</th><th title = \"Int64\" style = \"text-align: left;\">Int64</th><th title = \"String15\" style = \"text-align: left;\">String15</th><th title = \"Float64\" style = \"text-align: left;\">Float64</th><th title = \"Int64\" style = \"text-align: left;\">Int64</th><th title = \"Int64\" style = \"text-align: left;\">Int64</th><th title = \"String15\" style = \"text-align: left;\">String15</th><th title = \"Date\" style = \"text-align: left;\">Date</th></tr></thead><tbody><tr><td class = \"rowNumber\" style = \"font-weight: bold; text-align: right;\">1</td><td style = \"text-align: left;\">Resort Hotel</td><td style = \"text-align: right;\">0</td><td style = \"text-align: right;\">342</td><td style = \"text-align: right;\">2015</td><td style = \"text-align: left;\">July</td><td style = \"text-align: right;\">27</td><td style = \"text-align: right;\">1</td><td style = \"text-align: right;\">0</td><td style = \"text-align: right;\">0</td><td style = \"text-align: right;\">2</td><td style = \"text-align: left;\">0</td><td style = \"text-align: right;\">0</td><td style = \"text-align: left;\">BB</td><td style = \"text-align: left;\">PRT</td><td style = \"text-align: left;\">Direct</td><td style = \"text-align: left;\">Direct</td><td style = \"text-align: right;\">0</td><td style = \"text-align: right;\">0</td><td style = \"text-align: right;\">0</td><td style = \"text-align: left;\">C</td><td style = \"text-align: left;\">C</td><td style = \"text-align: right;\">3</td><td style = \"text-align: left;\">No Deposit</td><td style = \"text-align: left;\">NULL</td><td style = \"text-align: left;\">NULL</td><td style = \"text-align: right;\">0</td><td style = \"text-align: left;\">Transient</td><td style = \"text-align: right;\">0.0</td><td style = \"text-align: right;\">0</td><td style = \"text-align: right;\">0</td><td style = \"text-align: left;\">Check-Out</td><td style = \"text-align: left;\">2015-07-01</td></tr><tr><td class = \"rowNumber\" style = \"font-weight: bold; text-align: right;\">2</td><td style = \"text-align: left;\">Resort Hotel</td><td style = \"text-align: right;\">0</td><td style = \"text-align: right;\">737</td><td style = \"text-align: right;\">2015</td><td style = \"text-align: left;\">July</td><td style = \"text-align: right;\">27</td><td style = \"text-align: right;\">1</td><td style = \"text-align: right;\">0</td><td style = \"text-align: right;\">0</td><td style = \"text-align: right;\">2</td><td style = \"text-align: left;\">0</td><td style = \"text-align: right;\">0</td><td style = \"text-align: left;\">BB</td><td style = \"text-align: left;\">PRT</td><td style = \"text-align: left;\">Direct</td><td style = \"text-align: left;\">Direct</td><td style = \"text-align: right;\">0</td><td style = \"text-align: right;\">0</td><td style = \"text-align: right;\">0</td><td style = \"text-align: left;\">C</td><td style = \"text-align: left;\">C</td><td style = \"text-align: right;\">4</td><td style = \"text-align: left;\">No Deposit</td><td style = \"text-align: left;\">NULL</td><td style = \"text-align: left;\">NULL</td><td style = \"text-align: right;\">0</td><td style = \"text-align: left;\">Transient</td><td style = \"text-align: right;\">0.0</td><td style = \"text-align: right;\">0</td><td style = \"text-align: right;\">0</td><td style = \"text-align: left;\">Check-Out</td><td style = \"text-align: left;\">2015-07-01</td></tr><tr><td class = \"rowNumber\" style = \"font-weight: bold; text-align: right;\">3</td><td style = \"text-align: left;\">Resort Hotel</td><td style = \"text-align: right;\">0</td><td style = \"text-align: right;\">7</td><td style = \"text-align: right;\">2015</td><td style = \"text-align: left;\">July</td><td style = \"text-align: right;\">27</td><td style = \"text-align: right;\">1</td><td style = \"text-align: right;\">0</td><td style = \"text-align: right;\">1</td><td style = \"text-align: right;\">1</td><td style = \"text-align: left;\">0</td><td style = \"text-align: right;\">0</td><td style = \"text-align: left;\">BB</td><td style = \"text-align: left;\">GBR</td><td style = \"text-align: left;\">Direct</td><td style = \"text-align: left;\">Direct</td><td style = \"text-align: right;\">0</td><td style = \"text-align: right;\">0</td><td style = \"text-align: right;\">0</td><td style = \"text-align: left;\">A</td><td style = \"text-align: left;\">C</td><td style = \"text-align: right;\">0</td><td style = \"text-align: left;\">No Deposit</td><td style = \"text-align: left;\">NULL</td><td style = \"text-align: left;\">NULL</td><td style = \"text-align: right;\">0</td><td style = \"text-align: left;\">Transient</td><td style = \"text-align: right;\">75.0</td><td style = \"text-align: right;\">0</td><td style = \"text-align: right;\">0</td><td style = \"text-align: left;\">Check-Out</td><td style = \"text-align: left;\">2015-07-02</td></tr><tr><td class = \"rowNumber\" style = \"font-weight: bold; text-align: right;\">4</td><td style = \"text-align: left;\">Resort Hotel</td><td style = \"text-align: right;\">0</td><td style = \"text-align: right;\">13</td><td style = \"text-align: right;\">2015</td><td style = \"text-align: left;\">July</td><td style = \"text-align: right;\">27</td><td style = \"text-align: right;\">1</td><td style = \"text-align: right;\">0</td><td style = \"text-align: right;\">1</td><td style = \"text-align: right;\">1</td><td style = \"text-align: left;\">0</td><td style = \"text-align: right;\">0</td><td style = \"text-align: left;\">BB</td><td style = \"text-align: left;\">GBR</td><td style = \"text-align: left;\">Corporate</td><td style = \"text-align: left;\">Corporate</td><td style = \"text-align: right;\">0</td><td style = \"text-align: right;\">0</td><td style = \"text-align: right;\">0</td><td style = \"text-align: left;\">A</td><td style = \"text-align: left;\">A</td><td style = \"text-align: right;\">0</td><td style = \"text-align: left;\">No Deposit</td><td style = \"text-align: left;\">304</td><td style = \"text-align: left;\">NULL</td><td style = \"text-align: right;\">0</td><td style = \"text-align: left;\">Transient</td><td style = \"text-align: right;\">75.0</td><td style = \"text-align: right;\">0</td><td style = \"text-align: right;\">0</td><td style = \"text-align: left;\">Check-Out</td><td style = \"text-align: left;\">2015-07-02</td></tr><tr><td class = \"rowNumber\" style = \"font-weight: bold; text-align: right;\">5</td><td style = \"text-align: left;\">Resort Hotel</td><td style = \"text-align: right;\">0</td><td style = \"text-align: right;\">14</td><td style = \"text-align: right;\">2015</td><td style = \"text-align: left;\">July</td><td style = \"text-align: right;\">27</td><td style = \"text-align: right;\">1</td><td style = \"text-align: right;\">0</td><td style = \"text-align: right;\">2</td><td style = \"text-align: right;\">2</td><td style = \"text-align: left;\">0</td><td style = \"text-align: right;\">0</td><td style = \"text-align: left;\">BB</td><td style = \"text-align: left;\">GBR</td><td style = \"text-align: left;\">Online TA</td><td style = \"text-align: left;\">TA/TO</td><td style = \"text-align: right;\">0</td><td style = \"text-align: right;\">0</td><td style = \"text-align: right;\">0</td><td style = \"text-align: left;\">A</td><td style = \"text-align: left;\">A</td><td style = \"text-align: right;\">0</td><td style = \"text-align: left;\">No Deposit</td><td style = \"text-align: left;\">240</td><td style = \"text-align: left;\">NULL</td><td style = \"text-align: right;\">0</td><td style = \"text-align: left;\">Transient</td><td style = \"text-align: right;\">98.0</td><td style = \"text-align: right;\">0</td><td style = \"text-align: right;\">1</td><td style = \"text-align: left;\">Check-Out</td><td style = \"text-align: left;\">2015-07-03</td></tr><tr><td class = \"rowNumber\" style = \"font-weight: bold; text-align: right;\">6</td><td style = \"text-align: left;\">Resort Hotel</td><td style = \"text-align: right;\">0</td><td style = \"text-align: right;\">14</td><td style = \"text-align: right;\">2015</td><td style = \"text-align: left;\">July</td><td style = \"text-align: right;\">27</td><td style = \"text-align: right;\">1</td><td style = \"text-align: right;\">0</td><td style = \"text-align: right;\">2</td><td style = \"text-align: right;\">2</td><td style = \"text-align: left;\">0</td><td style = \"text-align: right;\">0</td><td style = \"text-align: left;\">BB</td><td style = \"text-align: left;\">GBR</td><td style = \"text-align: left;\">Online TA</td><td style = \"text-align: left;\">TA/TO</td><td style = \"text-align: right;\">0</td><td style = \"text-align: right;\">0</td><td style = \"text-align: right;\">0</td><td style = \"text-align: left;\">A</td><td style = \"text-align: left;\">A</td><td style = \"text-align: right;\">0</td><td style = \"text-align: left;\">No Deposit</td><td style = \"text-align: left;\">240</td><td style = \"text-align: left;\">NULL</td><td style = \"text-align: right;\">0</td><td style = \"text-align: left;\">Transient</td><td style = \"text-align: right;\">98.0</td><td style = \"text-align: right;\">0</td><td style = \"text-align: right;\">1</td><td style = \"text-align: left;\">Check-Out</td><td style = \"text-align: left;\">2015-07-03</td></tr><tr><td class = \"rowNumber\" style = \"font-weight: bold; text-align: right;\">7</td><td style = \"text-align: left;\">Resort Hotel</td><td style = \"text-align: right;\">0</td><td style = \"text-align: right;\">0</td><td style = \"text-align: right;\">2015</td><td style = \"text-align: left;\">July</td><td style = \"text-align: right;\">27</td><td style = \"text-align: right;\">1</td><td style = \"text-align: right;\">0</td><td style = \"text-align: right;\">2</td><td style = \"text-align: right;\">2</td><td style = \"text-align: left;\">0</td><td style = \"text-align: right;\">0</td><td style = \"text-align: left;\">BB</td><td style = \"text-align: left;\">PRT</td><td style = \"text-align: left;\">Direct</td><td style = \"text-align: left;\">Direct</td><td style = \"text-align: right;\">0</td><td style = \"text-align: right;\">0</td><td style = \"text-align: right;\">0</td><td style = \"text-align: left;\">C</td><td style = \"text-align: left;\">C</td><td style = \"text-align: right;\">0</td><td style = \"text-align: left;\">No Deposit</td><td style = \"text-align: left;\">NULL</td><td style = \"text-align: left;\">NULL</td><td style = \"text-align: right;\">0</td><td style = \"text-align: left;\">Transient</td><td style = \"text-align: right;\">107.0</td><td style = \"text-align: right;\">0</td><td style = \"text-align: right;\">0</td><td style = \"text-align: left;\">Check-Out</td><td style = \"text-align: left;\">2015-07-03</td></tr><tr><td class = \"rowNumber\" style = \"font-weight: bold; text-align: right;\">8</td><td style = \"text-align: left;\">Resort Hotel</td><td style = \"text-align: right;\">0</td><td style = \"text-align: right;\">9</td><td style = \"text-align: right;\">2015</td><td style = \"text-align: left;\">July</td><td style = \"text-align: right;\">27</td><td style = \"text-align: right;\">1</td><td style = \"text-align: right;\">0</td><td style = \"text-align: right;\">2</td><td style = \"text-align: right;\">2</td><td style = \"text-align: left;\">0</td><td style = \"text-align: right;\">0</td><td style = \"text-align: left;\">FB</td><td style = \"text-align: left;\">PRT</td><td style = \"text-align: left;\">Direct</td><td style = \"text-align: left;\">Direct</td><td style = \"text-align: right;\">0</td><td style = \"text-align: right;\">0</td><td style = \"text-align: right;\">0</td><td style = \"text-align: left;\">C</td><td style = \"text-align: left;\">C</td><td style = \"text-align: right;\">0</td><td style = \"text-align: left;\">No Deposit</td><td style = \"text-align: left;\">303</td><td style = \"text-align: left;\">NULL</td><td style = \"text-align: right;\">0</td><td style = \"text-align: left;\">Transient</td><td style = \"text-align: right;\">103.0</td><td style = \"text-align: right;\">0</td><td style = \"text-align: right;\">1</td><td style = \"text-align: left;\">Check-Out</td><td style = \"text-align: left;\">2015-07-03</td></tr><tr><td class = \"rowNumber\" style = \"font-weight: bold; text-align: right;\">9</td><td style = \"text-align: left;\">Resort Hotel</td><td style = \"text-align: right;\">1</td><td style = \"text-align: right;\">85</td><td style = \"text-align: right;\">2015</td><td style = \"text-align: left;\">July</td><td style = \"text-align: right;\">27</td><td style = \"text-align: right;\">1</td><td style = \"text-align: right;\">0</td><td style = \"text-align: right;\">3</td><td style = \"text-align: right;\">2</td><td style = \"text-align: left;\">0</td><td style = \"text-align: right;\">0</td><td style = \"text-align: left;\">BB</td><td style = \"text-align: left;\">PRT</td><td style = \"text-align: left;\">Online TA</td><td style = \"text-align: left;\">TA/TO</td><td style = \"text-align: right;\">0</td><td style = \"text-align: right;\">0</td><td style = \"text-align: right;\">0</td><td style = \"text-align: left;\">A</td><td style = \"text-align: left;\">A</td><td style = \"text-align: right;\">0</td><td style = \"text-align: left;\">No Deposit</td><td style = \"text-align: left;\">240</td><td style = \"text-align: left;\">NULL</td><td style = \"text-align: right;\">0</td><td style = \"text-align: left;\">Transient</td><td style = \"text-align: right;\">82.0</td><td style = \"text-align: right;\">0</td><td style = \"text-align: right;\">1</td><td style = \"text-align: left;\">Canceled</td><td style = \"text-align: left;\">2015-05-06</td></tr><tr><td class = \"rowNumber\" style = \"font-weight: bold; text-align: right;\">10</td><td style = \"text-align: left;\">Resort Hotel</td><td style = \"text-align: right;\">1</td><td style = \"text-align: right;\">75</td><td style = \"text-align: right;\">2015</td><td style = \"text-align: left;\">July</td><td style = \"text-align: right;\">27</td><td style = \"text-align: right;\">1</td><td style = \"text-align: right;\">0</td><td style = \"text-align: right;\">3</td><td style = \"text-align: right;\">2</td><td style = \"text-align: left;\">0</td><td style = \"text-align: right;\">0</td><td style = \"text-align: left;\">HB</td><td style = \"text-align: left;\">PRT</td><td style = \"text-align: left;\">Offline TA/TO</td><td style = \"text-align: left;\">TA/TO</td><td style = \"text-align: right;\">0</td><td style = \"text-align: right;\">0</td><td style = \"text-align: right;\">0</td><td style = \"text-align: left;\">D</td><td style = \"text-align: left;\">D</td><td style = \"text-align: right;\">0</td><td style = \"text-align: left;\">No Deposit</td><td style = \"text-align: left;\">15</td><td style = \"text-align: left;\">NULL</td><td style = \"text-align: right;\">0</td><td style = \"text-align: left;\">Transient</td><td style = \"text-align: right;\">105.5</td><td style = \"text-align: right;\">0</td><td style = \"text-align: right;\">0</td><td style = \"text-align: left;\">Canceled</td><td style = \"text-align: left;\">2015-04-22</td></tr><tr><td class = \"rowNumber\" style = \"font-weight: bold; text-align: right;\">11</td><td style = \"text-align: left;\">Resort Hotel</td><td style = \"text-align: right;\">1</td><td style = \"text-align: right;\">23</td><td style = \"text-align: right;\">2015</td><td style = \"text-align: left;\">July</td><td style = \"text-align: right;\">27</td><td style = \"text-align: right;\">1</td><td style = \"text-align: right;\">0</td><td style = \"text-align: right;\">4</td><td style = \"text-align: right;\">2</td><td style = \"text-align: left;\">0</td><td style = \"text-align: right;\">0</td><td style = \"text-align: left;\">BB</td><td style = \"text-align: left;\">PRT</td><td style = \"text-align: left;\">Online TA</td><td style = \"text-align: left;\">TA/TO</td><td style = \"text-align: right;\">0</td><td style = \"text-align: right;\">0</td><td style = \"text-align: right;\">0</td><td style = \"text-align: left;\">E</td><td style = \"text-align: left;\">E</td><td style = \"text-align: right;\">0</td><td style = \"text-align: left;\">No Deposit</td><td style = \"text-align: left;\">240</td><td style = \"text-align: left;\">NULL</td><td style = \"text-align: right;\">0</td><td style = \"text-align: left;\">Transient</td><td style = \"text-align: right;\">123.0</td><td style = \"text-align: right;\">0</td><td style = \"text-align: right;\">0</td><td style = \"text-align: left;\">Canceled</td><td style = \"text-align: left;\">2015-06-23</td></tr><tr><td class = \"rowNumber\" style = \"font-weight: bold; text-align: right;\">12</td><td style = \"text-align: left;\">Resort Hotel</td><td style = \"text-align: right;\">0</td><td style = \"text-align: right;\">35</td><td style = \"text-align: right;\">2015</td><td style = \"text-align: left;\">July</td><td style = \"text-align: right;\">27</td><td style = \"text-align: right;\">1</td><td style = \"text-align: right;\">0</td><td style = \"text-align: right;\">4</td><td style = \"text-align: right;\">2</td><td style = \"text-align: left;\">0</td><td style = \"text-align: right;\">0</td><td style = \"text-align: left;\">HB</td><td style = \"text-align: left;\">PRT</td><td style = \"text-align: left;\">Online TA</td><td style = \"text-align: left;\">TA/TO</td><td style = \"text-align: right;\">0</td><td style = \"text-align: right;\">0</td><td style = \"text-align: right;\">0</td><td style = \"text-align: left;\">D</td><td style = \"text-align: left;\">D</td><td style = \"text-align: right;\">0</td><td style = \"text-align: left;\">No Deposit</td><td style = \"text-align: left;\">240</td><td style = \"text-align: left;\">NULL</td><td style = \"text-align: right;\">0</td><td style = \"text-align: left;\">Transient</td><td style = \"text-align: right;\">145.0</td><td style = \"text-align: right;\">0</td><td style = \"text-align: right;\">0</td><td style = \"text-align: left;\">Check-Out</td><td style = \"text-align: left;\">2015-07-05</td></tr><tr><td class = \"rowNumber\" style = \"font-weight: bold; text-align: right;\">13</td><td style = \"text-align: left;\">Resort Hotel</td><td style = \"text-align: right;\">0</td><td style = \"text-align: right;\">68</td><td style = \"text-align: right;\">2015</td><td style = \"text-align: left;\">July</td><td style = \"text-align: right;\">27</td><td style = \"text-align: right;\">1</td><td style = \"text-align: right;\">0</td><td style = \"text-align: right;\">4</td><td style = \"text-align: right;\">2</td><td style = \"text-align: left;\">0</td><td style = \"text-align: right;\">0</td><td style = \"text-align: left;\">BB</td><td style = \"text-align: left;\">USA</td><td style = \"text-align: left;\">Online TA</td><td style = \"text-align: left;\">TA/TO</td><td style = \"text-align: right;\">0</td><td style = \"text-align: right;\">0</td><td style = \"text-align: right;\">0</td><td style = \"text-align: left;\">D</td><td style = \"text-align: left;\">E</td><td style = \"text-align: right;\">0</td><td style = \"text-align: left;\">No Deposit</td><td style = \"text-align: left;\">240</td><td style = \"text-align: left;\">NULL</td><td style = \"text-align: right;\">0</td><td style = \"text-align: left;\">Transient</td><td style = \"text-align: right;\">97.0</td><td style = \"text-align: right;\">0</td><td style = \"text-align: right;\">3</td><td style = \"text-align: left;\">Check-Out</td><td style = \"text-align: left;\">2015-07-05</td></tr><tr><td style = \"text-align: right;\">&vellip;</td><td style = \"text-align: right;\">&vellip;</td><td style = \"text-align: right;\">&vellip;</td><td style = \"text-align: right;\">&vellip;</td><td style = \"text-align: right;\">&vellip;</td><td style = \"text-align: right;\">&vellip;</td><td style = \"text-align: right;\">&vellip;</td><td style = \"text-align: right;\">&vellip;</td><td style = \"text-align: right;\">&vellip;</td><td style = \"text-align: right;\">&vellip;</td><td style = \"text-align: right;\">&vellip;</td><td style = \"text-align: right;\">&vellip;</td><td style = \"text-align: right;\">&vellip;</td><td style = \"text-align: right;\">&vellip;</td><td style = \"text-align: right;\">&vellip;</td><td style = \"text-align: right;\">&vellip;</td><td style = \"text-align: right;\">&vellip;</td><td style = \"text-align: right;\">&vellip;</td><td style = \"text-align: right;\">&vellip;</td><td style = \"text-align: right;\">&vellip;</td><td style = \"text-align: right;\">&vellip;</td><td style = \"text-align: right;\">&vellip;</td><td style = \"text-align: right;\">&vellip;</td><td style = \"text-align: right;\">&vellip;</td><td style = \"text-align: right;\">&vellip;</td><td style = \"text-align: right;\">&vellip;</td><td style = \"text-align: right;\">&vellip;</td><td style = \"text-align: right;\">&vellip;</td><td style = \"text-align: right;\">&vellip;</td><td style = \"text-align: right;\">&vellip;</td><td style = \"text-align: right;\">&vellip;</td><td style = \"text-align: right;\">&vellip;</td><td style = \"text-align: right;\">&vellip;</td></tr><tr><td class = \"rowNumber\" style = \"font-weight: bold; text-align: right;\">119379</td><td style = \"text-align: left;\">City Hotel</td><td style = \"text-align: right;\">0</td><td style = \"text-align: right;\">247</td><td style = \"text-align: right;\">2017</td><td style = \"text-align: left;\">August</td><td style = \"text-align: right;\">35</td><td style = \"text-align: right;\">31</td><td style = \"text-align: right;\">1</td><td style = \"text-align: right;\">3</td><td style = \"text-align: right;\">2</td><td style = \"text-align: left;\">0</td><td style = \"text-align: right;\">0</td><td style = \"text-align: left;\">BB</td><td style = \"text-align: left;\">GBR</td><td style = \"text-align: left;\">Offline TA/TO</td><td style = \"text-align: left;\">TA/TO</td><td style = \"text-align: right;\">0</td><td style = \"text-align: right;\">0</td><td style = \"text-align: right;\">0</td><td style = \"text-align: left;\">A</td><td style = \"text-align: left;\">A</td><td style = \"text-align: right;\">0</td><td style = \"text-align: left;\">No Deposit</td><td style = \"text-align: left;\">42</td><td style = \"text-align: left;\">NULL</td><td style = \"text-align: right;\">0</td><td style = \"text-align: left;\">Transient</td><td style = \"text-align: right;\">86.85</td><td style = \"text-align: right;\">0</td><td style = \"text-align: right;\">0</td><td style = \"text-align: left;\">Check-Out</td><td style = \"text-align: left;\">2017-09-04</td></tr><tr><td class = \"rowNumber\" style = \"font-weight: bold; text-align: right;\">119380</td><td style = \"text-align: left;\">City Hotel</td><td style = \"text-align: right;\">0</td><td style = \"text-align: right;\">109</td><td style = \"text-align: right;\">2017</td><td style = \"text-align: left;\">August</td><td style = \"text-align: right;\">35</td><td style = \"text-align: right;\">31</td><td style = \"text-align: right;\">1</td><td style = \"text-align: right;\">3</td><td style = \"text-align: right;\">2</td><td style = \"text-align: left;\">0</td><td style = \"text-align: right;\">0</td><td style = \"text-align: left;\">BB</td><td style = \"text-align: left;\">GBR</td><td style = \"text-align: left;\">Online TA</td><td style = \"text-align: left;\">TA/TO</td><td style = \"text-align: right;\">0</td><td style = \"text-align: right;\">0</td><td style = \"text-align: right;\">0</td><td style = \"text-align: left;\">D</td><td style = \"text-align: left;\">D</td><td style = \"text-align: right;\">0</td><td style = \"text-align: left;\">No Deposit</td><td style = \"text-align: left;\">9</td><td style = \"text-align: left;\">NULL</td><td style = \"text-align: right;\">0</td><td style = \"text-align: left;\">Transient</td><td style = \"text-align: right;\">155.0</td><td style = \"text-align: right;\">0</td><td style = \"text-align: right;\">1</td><td style = \"text-align: left;\">Check-Out</td><td style = \"text-align: left;\">2017-09-04</td></tr><tr><td class = \"rowNumber\" style = \"font-weight: bold; text-align: right;\">119381</td><td style = \"text-align: left;\">City Hotel</td><td style = \"text-align: right;\">0</td><td style = \"text-align: right;\">44</td><td style = \"text-align: right;\">2017</td><td style = \"text-align: left;\">August</td><td style = \"text-align: right;\">35</td><td style = \"text-align: right;\">31</td><td style = \"text-align: right;\">1</td><td style = \"text-align: right;\">3</td><td style = \"text-align: right;\">2</td><td style = \"text-align: left;\">0</td><td style = \"text-align: right;\">0</td><td style = \"text-align: left;\">SC</td><td style = \"text-align: left;\">DEU</td><td style = \"text-align: left;\">Online TA</td><td style = \"text-align: left;\">TA/TO</td><td style = \"text-align: right;\">0</td><td style = \"text-align: right;\">0</td><td style = \"text-align: right;\">0</td><td style = \"text-align: left;\">A</td><td style = \"text-align: left;\">A</td><td style = \"text-align: right;\">0</td><td style = \"text-align: left;\">No Deposit</td><td style = \"text-align: left;\">9</td><td style = \"text-align: left;\">NULL</td><td style = \"text-align: right;\">0</td><td style = \"text-align: left;\">Transient</td><td style = \"text-align: right;\">140.75</td><td style = \"text-align: right;\">0</td><td style = \"text-align: right;\">1</td><td style = \"text-align: left;\">Check-Out</td><td style = \"text-align: left;\">2017-09-04</td></tr><tr><td class = \"rowNumber\" style = \"font-weight: bold; text-align: right;\">119382</td><td style = \"text-align: left;\">City Hotel</td><td style = \"text-align: right;\">0</td><td style = \"text-align: right;\">188</td><td style = \"text-align: right;\">2017</td><td style = \"text-align: left;\">August</td><td style = \"text-align: right;\">35</td><td style = \"text-align: right;\">31</td><td style = \"text-align: right;\">2</td><td style = \"text-align: right;\">3</td><td style = \"text-align: right;\">2</td><td style = \"text-align: left;\">0</td><td style = \"text-align: right;\">0</td><td style = \"text-align: left;\">BB</td><td style = \"text-align: left;\">DEU</td><td style = \"text-align: left;\">Direct</td><td style = \"text-align: left;\">Direct</td><td style = \"text-align: right;\">0</td><td style = \"text-align: right;\">0</td><td style = \"text-align: right;\">0</td><td style = \"text-align: left;\">A</td><td style = \"text-align: left;\">A</td><td style = \"text-align: right;\">0</td><td style = \"text-align: left;\">No Deposit</td><td style = \"text-align: left;\">14</td><td style = \"text-align: left;\">NULL</td><td style = \"text-align: right;\">0</td><td style = \"text-align: left;\">Transient</td><td style = \"text-align: right;\">99.0</td><td style = \"text-align: right;\">0</td><td style = \"text-align: right;\">0</td><td style = \"text-align: left;\">Check-Out</td><td style = \"text-align: left;\">2017-09-05</td></tr><tr><td class = \"rowNumber\" style = \"font-weight: bold; text-align: right;\">119383</td><td style = \"text-align: left;\">City Hotel</td><td style = \"text-align: right;\">0</td><td style = \"text-align: right;\">135</td><td style = \"text-align: right;\">2017</td><td style = \"text-align: left;\">August</td><td style = \"text-align: right;\">35</td><td style = \"text-align: right;\">30</td><td style = \"text-align: right;\">2</td><td style = \"text-align: right;\">4</td><td style = \"text-align: right;\">3</td><td style = \"text-align: left;\">0</td><td style = \"text-align: right;\">0</td><td style = \"text-align: left;\">BB</td><td style = \"text-align: left;\">JPN</td><td style = \"text-align: left;\">Online TA</td><td style = \"text-align: left;\">TA/TO</td><td style = \"text-align: right;\">0</td><td style = \"text-align: right;\">0</td><td style = \"text-align: right;\">0</td><td style = \"text-align: left;\">G</td><td style = \"text-align: left;\">G</td><td style = \"text-align: right;\">0</td><td style = \"text-align: left;\">No Deposit</td><td style = \"text-align: left;\">7</td><td style = \"text-align: left;\">NULL</td><td style = \"text-align: right;\">0</td><td style = \"text-align: left;\">Transient</td><td style = \"text-align: right;\">209.0</td><td style = \"text-align: right;\">0</td><td style = \"text-align: right;\">0</td><td style = \"text-align: left;\">Check-Out</td><td style = \"text-align: left;\">2017-09-05</td></tr><tr><td class = \"rowNumber\" style = \"font-weight: bold; text-align: right;\">119384</td><td style = \"text-align: left;\">City Hotel</td><td style = \"text-align: right;\">0</td><td style = \"text-align: right;\">164</td><td style = \"text-align: right;\">2017</td><td style = \"text-align: left;\">August</td><td style = \"text-align: right;\">35</td><td style = \"text-align: right;\">31</td><td style = \"text-align: right;\">2</td><td style = \"text-align: right;\">4</td><td style = \"text-align: right;\">2</td><td style = \"text-align: left;\">0</td><td style = \"text-align: right;\">0</td><td style = \"text-align: left;\">BB</td><td style = \"text-align: left;\">DEU</td><td style = \"text-align: left;\">Offline TA/TO</td><td style = \"text-align: left;\">TA/TO</td><td style = \"text-align: right;\">0</td><td style = \"text-align: right;\">0</td><td style = \"text-align: right;\">0</td><td style = \"text-align: left;\">A</td><td style = \"text-align: left;\">A</td><td style = \"text-align: right;\">0</td><td style = \"text-align: left;\">No Deposit</td><td style = \"text-align: left;\">42</td><td style = \"text-align: left;\">NULL</td><td style = \"text-align: right;\">0</td><td style = \"text-align: left;\">Transient</td><td style = \"text-align: right;\">87.6</td><td style = \"text-align: right;\">0</td><td style = \"text-align: right;\">0</td><td style = \"text-align: left;\">Check-Out</td><td style = \"text-align: left;\">2017-09-06</td></tr><tr><td class = \"rowNumber\" style = \"font-weight: bold; text-align: right;\">119385</td><td style = \"text-align: left;\">City Hotel</td><td style = \"text-align: right;\">0</td><td style = \"text-align: right;\">21</td><td style = \"text-align: right;\">2017</td><td style = \"text-align: left;\">August</td><td style = \"text-align: right;\">35</td><td style = \"text-align: right;\">30</td><td style = \"text-align: right;\">2</td><td style = \"text-align: right;\">5</td><td style = \"text-align: right;\">2</td><td style = \"text-align: left;\">0</td><td style = \"text-align: right;\">0</td><td style = \"text-align: left;\">BB</td><td style = \"text-align: left;\">BEL</td><td style = \"text-align: left;\">Offline TA/TO</td><td style = \"text-align: left;\">TA/TO</td><td style = \"text-align: right;\">0</td><td style = \"text-align: right;\">0</td><td style = \"text-align: right;\">0</td><td style = \"text-align: left;\">A</td><td style = \"text-align: left;\">A</td><td style = \"text-align: right;\">0</td><td style = \"text-align: left;\">No Deposit</td><td style = \"text-align: left;\">394</td><td style = \"text-align: left;\">NULL</td><td style = \"text-align: right;\">0</td><td style = \"text-align: left;\">Transient</td><td style = \"text-align: right;\">96.14</td><td style = \"text-align: right;\">0</td><td style = \"text-align: right;\">2</td><td style = \"text-align: left;\">Check-Out</td><td style = \"text-align: left;\">2017-09-06</td></tr><tr><td class = \"rowNumber\" style = \"font-weight: bold; text-align: right;\">119386</td><td style = \"text-align: left;\">City Hotel</td><td style = \"text-align: right;\">0</td><td style = \"text-align: right;\">23</td><td style = \"text-align: right;\">2017</td><td style = \"text-align: left;\">August</td><td style = \"text-align: right;\">35</td><td style = \"text-align: right;\">30</td><td style = \"text-align: right;\">2</td><td style = \"text-align: right;\">5</td><td style = \"text-align: right;\">2</td><td style = \"text-align: left;\">0</td><td style = \"text-align: right;\">0</td><td style = \"text-align: left;\">BB</td><td style = \"text-align: left;\">BEL</td><td style = \"text-align: left;\">Offline TA/TO</td><td style = \"text-align: left;\">TA/TO</td><td style = \"text-align: right;\">0</td><td style = \"text-align: right;\">0</td><td style = \"text-align: right;\">0</td><td style = \"text-align: left;\">A</td><td style = \"text-align: left;\">A</td><td style = \"text-align: right;\">0</td><td style = \"text-align: left;\">No Deposit</td><td style = \"text-align: left;\">394</td><td style = \"text-align: left;\">NULL</td><td style = \"text-align: right;\">0</td><td style = \"text-align: left;\">Transient</td><td style = \"text-align: right;\">96.14</td><td style = \"text-align: right;\">0</td><td style = \"text-align: right;\">0</td><td style = \"text-align: left;\">Check-Out</td><td style = \"text-align: left;\">2017-09-06</td></tr><tr><td class = \"rowNumber\" style = \"font-weight: bold; text-align: right;\">119387</td><td style = \"text-align: left;\">City Hotel</td><td style = \"text-align: right;\">0</td><td style = \"text-align: right;\">102</td><td style = \"text-align: right;\">2017</td><td style = \"text-align: left;\">August</td><td style = \"text-align: right;\">35</td><td style = \"text-align: right;\">31</td><td style = \"text-align: right;\">2</td><td style = \"text-align: right;\">5</td><td style = \"text-align: right;\">3</td><td style = \"text-align: left;\">0</td><td style = \"text-align: right;\">0</td><td style = \"text-align: left;\">BB</td><td style = \"text-align: left;\">FRA</td><td style = \"text-align: left;\">Online TA</td><td style = \"text-align: left;\">TA/TO</td><td style = \"text-align: right;\">0</td><td style = \"text-align: right;\">0</td><td style = \"text-align: right;\">0</td><td style = \"text-align: left;\">E</td><td style = \"text-align: left;\">E</td><td style = \"text-align: right;\">0</td><td style = \"text-align: left;\">No Deposit</td><td style = \"text-align: left;\">9</td><td style = \"text-align: left;\">NULL</td><td style = \"text-align: right;\">0</td><td style = \"text-align: left;\">Transient</td><td style = \"text-align: right;\">225.43</td><td style = \"text-align: right;\">0</td><td style = \"text-align: right;\">2</td><td style = \"text-align: left;\">Check-Out</td><td style = \"text-align: left;\">2017-09-07</td></tr><tr><td class = \"rowNumber\" style = \"font-weight: bold; text-align: right;\">119388</td><td style = \"text-align: left;\">City Hotel</td><td style = \"text-align: right;\">0</td><td style = \"text-align: right;\">34</td><td style = \"text-align: right;\">2017</td><td style = \"text-align: left;\">August</td><td style = \"text-align: right;\">35</td><td style = \"text-align: right;\">31</td><td style = \"text-align: right;\">2</td><td style = \"text-align: right;\">5</td><td style = \"text-align: right;\">2</td><td style = \"text-align: left;\">0</td><td style = \"text-align: right;\">0</td><td style = \"text-align: left;\">BB</td><td style = \"text-align: left;\">DEU</td><td style = \"text-align: left;\">Online TA</td><td style = \"text-align: left;\">TA/TO</td><td style = \"text-align: right;\">0</td><td style = \"text-align: right;\">0</td><td style = \"text-align: right;\">0</td><td style = \"text-align: left;\">D</td><td style = \"text-align: left;\">D</td><td style = \"text-align: right;\">0</td><td style = \"text-align: left;\">No Deposit</td><td style = \"text-align: left;\">9</td><td style = \"text-align: left;\">NULL</td><td style = \"text-align: right;\">0</td><td style = \"text-align: left;\">Transient</td><td style = \"text-align: right;\">157.71</td><td style = \"text-align: right;\">0</td><td style = \"text-align: right;\">4</td><td style = \"text-align: left;\">Check-Out</td><td style = \"text-align: left;\">2017-09-07</td></tr><tr><td class = \"rowNumber\" style = \"font-weight: bold; text-align: right;\">119389</td><td style = \"text-align: left;\">City Hotel</td><td style = \"text-align: right;\">0</td><td style = \"text-align: right;\">109</td><td style = \"text-align: right;\">2017</td><td style = \"text-align: left;\">August</td><td style = \"text-align: right;\">35</td><td style = \"text-align: right;\">31</td><td style = \"text-align: right;\">2</td><td style = \"text-align: right;\">5</td><td style = \"text-align: right;\">2</td><td style = \"text-align: left;\">0</td><td style = \"text-align: right;\">0</td><td style = \"text-align: left;\">BB</td><td style = \"text-align: left;\">GBR</td><td style = \"text-align: left;\">Online TA</td><td style = \"text-align: left;\">TA/TO</td><td style = \"text-align: right;\">0</td><td style = \"text-align: right;\">0</td><td style = \"text-align: right;\">0</td><td style = \"text-align: left;\">A</td><td style = \"text-align: left;\">A</td><td style = \"text-align: right;\">0</td><td style = \"text-align: left;\">No Deposit</td><td style = \"text-align: left;\">89</td><td style = \"text-align: left;\">NULL</td><td style = \"text-align: right;\">0</td><td style = \"text-align: left;\">Transient</td><td style = \"text-align: right;\">104.4</td><td style = \"text-align: right;\">0</td><td style = \"text-align: right;\">0</td><td style = \"text-align: left;\">Check-Out</td><td style = \"text-align: left;\">2017-09-07</td></tr><tr><td class = \"rowNumber\" style = \"font-weight: bold; text-align: right;\">119390</td><td style = \"text-align: left;\">City Hotel</td><td style = \"text-align: right;\">0</td><td style = \"text-align: right;\">205</td><td style = \"text-align: right;\">2017</td><td style = \"text-align: left;\">August</td><td style = \"text-align: right;\">35</td><td style = \"text-align: right;\">29</td><td style = \"text-align: right;\">2</td><td style = \"text-align: right;\">7</td><td style = \"text-align: right;\">2</td><td style = \"text-align: left;\">0</td><td style = \"text-align: right;\">0</td><td style = \"text-align: left;\">HB</td><td style = \"text-align: left;\">DEU</td><td style = \"text-align: left;\">Online TA</td><td style = \"text-align: left;\">TA/TO</td><td style = \"text-align: right;\">0</td><td style = \"text-align: right;\">0</td><td style = \"text-align: right;\">0</td><td style = \"text-align: left;\">A</td><td style = \"text-align: left;\">A</td><td style = \"text-align: right;\">0</td><td style = \"text-align: left;\">No Deposit</td><td style = \"text-align: left;\">9</td><td style = \"text-align: left;\">NULL</td><td style = \"text-align: right;\">0</td><td style = \"text-align: left;\">Transient</td><td style = \"text-align: right;\">151.2</td><td style = \"text-align: right;\">0</td><td style = \"text-align: right;\">2</td><td style = \"text-align: left;\">Check-Out</td><td style = \"text-align: left;\">2017-09-07</td></tr></tbody></table></div>"
      ],
      "text/latex": [
       "\\begin{tabular}{r|ccccccc}\n",
       "\t& hotel & is\\_canceled & lead\\_time & arrival\\_date\\_year & arrival\\_date\\_month & arrival\\_date\\_week\\_number & \\\\\n",
       "\t\\hline\n",
       "\t& String15 & Int64 & Int64 & Int64 & String15 & Int64 & \\\\\n",
       "\t\\hline\n",
       "\t1 & Resort Hotel & 0 & 342 & 2015 & July & 27 & $\\dots$ \\\\\n",
       "\t2 & Resort Hotel & 0 & 737 & 2015 & July & 27 & $\\dots$ \\\\\n",
       "\t3 & Resort Hotel & 0 & 7 & 2015 & July & 27 & $\\dots$ \\\\\n",
       "\t4 & Resort Hotel & 0 & 13 & 2015 & July & 27 & $\\dots$ \\\\\n",
       "\t5 & Resort Hotel & 0 & 14 & 2015 & July & 27 & $\\dots$ \\\\\n",
       "\t6 & Resort Hotel & 0 & 14 & 2015 & July & 27 & $\\dots$ \\\\\n",
       "\t7 & Resort Hotel & 0 & 0 & 2015 & July & 27 & $\\dots$ \\\\\n",
       "\t8 & Resort Hotel & 0 & 9 & 2015 & July & 27 & $\\dots$ \\\\\n",
       "\t9 & Resort Hotel & 1 & 85 & 2015 & July & 27 & $\\dots$ \\\\\n",
       "\t10 & Resort Hotel & 1 & 75 & 2015 & July & 27 & $\\dots$ \\\\\n",
       "\t11 & Resort Hotel & 1 & 23 & 2015 & July & 27 & $\\dots$ \\\\\n",
       "\t12 & Resort Hotel & 0 & 35 & 2015 & July & 27 & $\\dots$ \\\\\n",
       "\t13 & Resort Hotel & 0 & 68 & 2015 & July & 27 & $\\dots$ \\\\\n",
       "\t14 & Resort Hotel & 0 & 18 & 2015 & July & 27 & $\\dots$ \\\\\n",
       "\t15 & Resort Hotel & 0 & 37 & 2015 & July & 27 & $\\dots$ \\\\\n",
       "\t16 & Resort Hotel & 0 & 68 & 2015 & July & 27 & $\\dots$ \\\\\n",
       "\t17 & Resort Hotel & 0 & 37 & 2015 & July & 27 & $\\dots$ \\\\\n",
       "\t18 & Resort Hotel & 0 & 12 & 2015 & July & 27 & $\\dots$ \\\\\n",
       "\t19 & Resort Hotel & 0 & 0 & 2015 & July & 27 & $\\dots$ \\\\\n",
       "\t20 & Resort Hotel & 0 & 7 & 2015 & July & 27 & $\\dots$ \\\\\n",
       "\t21 & Resort Hotel & 0 & 37 & 2015 & July & 27 & $\\dots$ \\\\\n",
       "\t22 & Resort Hotel & 0 & 72 & 2015 & July & 27 & $\\dots$ \\\\\n",
       "\t23 & Resort Hotel & 0 & 72 & 2015 & July & 27 & $\\dots$ \\\\\n",
       "\t24 & Resort Hotel & 0 & 72 & 2015 & July & 27 & $\\dots$ \\\\\n",
       "\t$\\dots$ & $\\dots$ & $\\dots$ & $\\dots$ & $\\dots$ & $\\dots$ & $\\dots$ &  \\\\\n",
       "\\end{tabular}\n"
      ],
      "text/plain": [
       "\u001b[1m119390×32 DataFrame\u001b[0m\n",
       "\u001b[1m    Row \u001b[0m│\u001b[1m hotel        \u001b[0m\u001b[1m is_canceled \u001b[0m\u001b[1m lead_time \u001b[0m\u001b[1m arrival_date_year \u001b[0m\u001b[1m arrival_dat\u001b[0m ⋯\n",
       "        │\u001b[90m String15     \u001b[0m\u001b[90m Int64       \u001b[0m\u001b[90m Int64     \u001b[0m\u001b[90m Int64             \u001b[0m\u001b[90m String15   \u001b[0m ⋯\n",
       "────────┼───────────────────────────────────────────────────────────────────────\n",
       "      1 │ Resort Hotel            0        342               2015  July        ⋯\n",
       "      2 │ Resort Hotel            0        737               2015  July\n",
       "      3 │ Resort Hotel            0          7               2015  July\n",
       "      4 │ Resort Hotel            0         13               2015  July\n",
       "      5 │ Resort Hotel            0         14               2015  July        ⋯\n",
       "      6 │ Resort Hotel            0         14               2015  July\n",
       "      7 │ Resort Hotel            0          0               2015  July\n",
       "      8 │ Resort Hotel            0          9               2015  July\n",
       "   ⋮    │      ⋮             ⋮           ⋮              ⋮                  ⋮   ⋱\n",
       " 119384 │ City Hotel              0        164               2017  August      ⋯\n",
       " 119385 │ City Hotel              0         21               2017  August\n",
       " 119386 │ City Hotel              0         23               2017  August\n",
       " 119387 │ City Hotel              0        102               2017  August\n",
       " 119388 │ City Hotel              0         34               2017  August      ⋯\n",
       " 119389 │ City Hotel              0        109               2017  August\n",
       " 119390 │ City Hotel              0        205               2017  August\n",
       "\u001b[36m                                              28 columns and 119375 rows omitted\u001b[0m"
      ]
     },
     "metadata": {},
     "output_type": "display_data"
    }
   ],
   "source": [
    "hotel_bookings = CSV.read( \"C:/Users/danil/OneDrive/Danilo_Back-up/Kaggle/hotel_bookings.csv\", DataFrame )"
   ]
  },
  {
   "cell_type": "markdown",
   "id": "f5aee787",
   "metadata": {},
   "source": [
    "##### diamonds"
   ]
  },
  {
   "cell_type": "code",
   "execution_count": 5,
   "id": "6b45e3df",
   "metadata": {},
   "outputs": [
    {
     "data": {
      "text/html": [
       "<div><div style = \"float: left;\"><span>53940×10 DataFrame</span></div><div style = \"float: right;\"><span style = \"font-style: italic;\">53915 rows omitted</span></div><div style = \"clear: both;\"></div></div><div class = \"data-frame\" style = \"overflow-x: scroll;\"><table class = \"data-frame\" style = \"margin-bottom: 6px;\"><thead><tr class = \"header\"><th class = \"rowNumber\" style = \"font-weight: bold; text-align: right;\">Row</th><th style = \"text-align: left;\">carat</th><th style = \"text-align: left;\">cut</th><th style = \"text-align: left;\">color</th><th style = \"text-align: left;\">clarity</th><th style = \"text-align: left;\">depth</th><th style = \"text-align: left;\">table</th><th style = \"text-align: left;\">price</th><th style = \"text-align: left;\">x</th><th style = \"text-align: left;\">y</th><th style = \"text-align: left;\">z</th></tr><tr class = \"subheader headerLastRow\"><th class = \"rowNumber\" style = \"font-weight: bold; text-align: right;\"></th><th title = \"Float64\" style = \"text-align: left;\">Float64</th><th title = \"String15\" style = \"text-align: left;\">String15</th><th title = \"String1\" style = \"text-align: left;\">String1</th><th title = \"String7\" style = \"text-align: left;\">String7</th><th title = \"Float64\" style = \"text-align: left;\">Float64</th><th title = \"Float64\" style = \"text-align: left;\">Float64</th><th title = \"Int64\" style = \"text-align: left;\">Int64</th><th title = \"Float64\" style = \"text-align: left;\">Float64</th><th title = \"Float64\" style = \"text-align: left;\">Float64</th><th title = \"Float64\" style = \"text-align: left;\">Float64</th></tr></thead><tbody><tr><td class = \"rowNumber\" style = \"font-weight: bold; text-align: right;\">1</td><td style = \"text-align: right;\">0.23</td><td style = \"text-align: left;\">Ideal</td><td style = \"text-align: left;\">E</td><td style = \"text-align: left;\">SI2</td><td style = \"text-align: right;\">61.5</td><td style = \"text-align: right;\">55.0</td><td style = \"text-align: right;\">326</td><td style = \"text-align: right;\">3.95</td><td style = \"text-align: right;\">3.98</td><td style = \"text-align: right;\">2.43</td></tr><tr><td class = \"rowNumber\" style = \"font-weight: bold; text-align: right;\">2</td><td style = \"text-align: right;\">0.21</td><td style = \"text-align: left;\">Premium</td><td style = \"text-align: left;\">E</td><td style = \"text-align: left;\">SI1</td><td style = \"text-align: right;\">59.8</td><td style = \"text-align: right;\">61.0</td><td style = \"text-align: right;\">326</td><td style = \"text-align: right;\">3.89</td><td style = \"text-align: right;\">3.84</td><td style = \"text-align: right;\">2.31</td></tr><tr><td class = \"rowNumber\" style = \"font-weight: bold; text-align: right;\">3</td><td style = \"text-align: right;\">0.23</td><td style = \"text-align: left;\">Good</td><td style = \"text-align: left;\">E</td><td style = \"text-align: left;\">VS1</td><td style = \"text-align: right;\">56.9</td><td style = \"text-align: right;\">65.0</td><td style = \"text-align: right;\">327</td><td style = \"text-align: right;\">4.05</td><td style = \"text-align: right;\">4.07</td><td style = \"text-align: right;\">2.31</td></tr><tr><td class = \"rowNumber\" style = \"font-weight: bold; text-align: right;\">4</td><td style = \"text-align: right;\">0.29</td><td style = \"text-align: left;\">Premium</td><td style = \"text-align: left;\">I</td><td style = \"text-align: left;\">VS2</td><td style = \"text-align: right;\">62.4</td><td style = \"text-align: right;\">58.0</td><td style = \"text-align: right;\">334</td><td style = \"text-align: right;\">4.2</td><td style = \"text-align: right;\">4.23</td><td style = \"text-align: right;\">2.63</td></tr><tr><td class = \"rowNumber\" style = \"font-weight: bold; text-align: right;\">5</td><td style = \"text-align: right;\">0.31</td><td style = \"text-align: left;\">Good</td><td style = \"text-align: left;\">J</td><td style = \"text-align: left;\">SI2</td><td style = \"text-align: right;\">63.3</td><td style = \"text-align: right;\">58.0</td><td style = \"text-align: right;\">335</td><td style = \"text-align: right;\">4.34</td><td style = \"text-align: right;\">4.35</td><td style = \"text-align: right;\">2.75</td></tr><tr><td class = \"rowNumber\" style = \"font-weight: bold; text-align: right;\">6</td><td style = \"text-align: right;\">0.24</td><td style = \"text-align: left;\">Very Good</td><td style = \"text-align: left;\">J</td><td style = \"text-align: left;\">VVS2</td><td style = \"text-align: right;\">62.8</td><td style = \"text-align: right;\">57.0</td><td style = \"text-align: right;\">336</td><td style = \"text-align: right;\">3.94</td><td style = \"text-align: right;\">3.96</td><td style = \"text-align: right;\">2.48</td></tr><tr><td class = \"rowNumber\" style = \"font-weight: bold; text-align: right;\">7</td><td style = \"text-align: right;\">0.24</td><td style = \"text-align: left;\">Very Good</td><td style = \"text-align: left;\">I</td><td style = \"text-align: left;\">VVS1</td><td style = \"text-align: right;\">62.3</td><td style = \"text-align: right;\">57.0</td><td style = \"text-align: right;\">336</td><td style = \"text-align: right;\">3.95</td><td style = \"text-align: right;\">3.98</td><td style = \"text-align: right;\">2.47</td></tr><tr><td class = \"rowNumber\" style = \"font-weight: bold; text-align: right;\">8</td><td style = \"text-align: right;\">0.26</td><td style = \"text-align: left;\">Very Good</td><td style = \"text-align: left;\">H</td><td style = \"text-align: left;\">SI1</td><td style = \"text-align: right;\">61.9</td><td style = \"text-align: right;\">55.0</td><td style = \"text-align: right;\">337</td><td style = \"text-align: right;\">4.07</td><td style = \"text-align: right;\">4.11</td><td style = \"text-align: right;\">2.53</td></tr><tr><td class = \"rowNumber\" style = \"font-weight: bold; text-align: right;\">9</td><td style = \"text-align: right;\">0.22</td><td style = \"text-align: left;\">Fair</td><td style = \"text-align: left;\">E</td><td style = \"text-align: left;\">VS2</td><td style = \"text-align: right;\">65.1</td><td style = \"text-align: right;\">61.0</td><td style = \"text-align: right;\">337</td><td style = \"text-align: right;\">3.87</td><td style = \"text-align: right;\">3.78</td><td style = \"text-align: right;\">2.49</td></tr><tr><td class = \"rowNumber\" style = \"font-weight: bold; text-align: right;\">10</td><td style = \"text-align: right;\">0.23</td><td style = \"text-align: left;\">Very Good</td><td style = \"text-align: left;\">H</td><td style = \"text-align: left;\">VS1</td><td style = \"text-align: right;\">59.4</td><td style = \"text-align: right;\">61.0</td><td style = \"text-align: right;\">338</td><td style = \"text-align: right;\">4.0</td><td style = \"text-align: right;\">4.05</td><td style = \"text-align: right;\">2.39</td></tr><tr><td class = \"rowNumber\" style = \"font-weight: bold; text-align: right;\">11</td><td style = \"text-align: right;\">0.3</td><td style = \"text-align: left;\">Good</td><td style = \"text-align: left;\">J</td><td style = \"text-align: left;\">SI1</td><td style = \"text-align: right;\">64.0</td><td style = \"text-align: right;\">55.0</td><td style = \"text-align: right;\">339</td><td style = \"text-align: right;\">4.25</td><td style = \"text-align: right;\">4.28</td><td style = \"text-align: right;\">2.73</td></tr><tr><td class = \"rowNumber\" style = \"font-weight: bold; text-align: right;\">12</td><td style = \"text-align: right;\">0.23</td><td style = \"text-align: left;\">Ideal</td><td style = \"text-align: left;\">J</td><td style = \"text-align: left;\">VS1</td><td style = \"text-align: right;\">62.8</td><td style = \"text-align: right;\">56.0</td><td style = \"text-align: right;\">340</td><td style = \"text-align: right;\">3.93</td><td style = \"text-align: right;\">3.9</td><td style = \"text-align: right;\">2.46</td></tr><tr><td class = \"rowNumber\" style = \"font-weight: bold; text-align: right;\">13</td><td style = \"text-align: right;\">0.22</td><td style = \"text-align: left;\">Premium</td><td style = \"text-align: left;\">F</td><td style = \"text-align: left;\">SI1</td><td style = \"text-align: right;\">60.4</td><td style = \"text-align: right;\">61.0</td><td style = \"text-align: right;\">342</td><td style = \"text-align: right;\">3.88</td><td style = \"text-align: right;\">3.84</td><td style = \"text-align: right;\">2.33</td></tr><tr><td style = \"text-align: right;\">&vellip;</td><td style = \"text-align: right;\">&vellip;</td><td style = \"text-align: right;\">&vellip;</td><td style = \"text-align: right;\">&vellip;</td><td style = \"text-align: right;\">&vellip;</td><td style = \"text-align: right;\">&vellip;</td><td style = \"text-align: right;\">&vellip;</td><td style = \"text-align: right;\">&vellip;</td><td style = \"text-align: right;\">&vellip;</td><td style = \"text-align: right;\">&vellip;</td><td style = \"text-align: right;\">&vellip;</td></tr><tr><td class = \"rowNumber\" style = \"font-weight: bold; text-align: right;\">53929</td><td style = \"text-align: right;\">0.79</td><td style = \"text-align: left;\">Premium</td><td style = \"text-align: left;\">E</td><td style = \"text-align: left;\">SI2</td><td style = \"text-align: right;\">61.4</td><td style = \"text-align: right;\">58.0</td><td style = \"text-align: right;\">2756</td><td style = \"text-align: right;\">6.03</td><td style = \"text-align: right;\">5.96</td><td style = \"text-align: right;\">3.68</td></tr><tr><td class = \"rowNumber\" style = \"font-weight: bold; text-align: right;\">53930</td><td style = \"text-align: right;\">0.71</td><td style = \"text-align: left;\">Ideal</td><td style = \"text-align: left;\">G</td><td style = \"text-align: left;\">VS1</td><td style = \"text-align: right;\">61.4</td><td style = \"text-align: right;\">56.0</td><td style = \"text-align: right;\">2756</td><td style = \"text-align: right;\">5.76</td><td style = \"text-align: right;\">5.73</td><td style = \"text-align: right;\">3.53</td></tr><tr><td class = \"rowNumber\" style = \"font-weight: bold; text-align: right;\">53931</td><td style = \"text-align: right;\">0.71</td><td style = \"text-align: left;\">Premium</td><td style = \"text-align: left;\">E</td><td style = \"text-align: left;\">SI1</td><td style = \"text-align: right;\">60.5</td><td style = \"text-align: right;\">55.0</td><td style = \"text-align: right;\">2756</td><td style = \"text-align: right;\">5.79</td><td style = \"text-align: right;\">5.74</td><td style = \"text-align: right;\">3.49</td></tr><tr><td class = \"rowNumber\" style = \"font-weight: bold; text-align: right;\">53932</td><td style = \"text-align: right;\">0.71</td><td style = \"text-align: left;\">Premium</td><td style = \"text-align: left;\">F</td><td style = \"text-align: left;\">SI1</td><td style = \"text-align: right;\">59.8</td><td style = \"text-align: right;\">62.0</td><td style = \"text-align: right;\">2756</td><td style = \"text-align: right;\">5.74</td><td style = \"text-align: right;\">5.73</td><td style = \"text-align: right;\">3.43</td></tr><tr><td class = \"rowNumber\" style = \"font-weight: bold; text-align: right;\">53933</td><td style = \"text-align: right;\">0.7</td><td style = \"text-align: left;\">Very Good</td><td style = \"text-align: left;\">E</td><td style = \"text-align: left;\">VS2</td><td style = \"text-align: right;\">60.5</td><td style = \"text-align: right;\">59.0</td><td style = \"text-align: right;\">2757</td><td style = \"text-align: right;\">5.71</td><td style = \"text-align: right;\">5.76</td><td style = \"text-align: right;\">3.47</td></tr><tr><td class = \"rowNumber\" style = \"font-weight: bold; text-align: right;\">53934</td><td style = \"text-align: right;\">0.7</td><td style = \"text-align: left;\">Very Good</td><td style = \"text-align: left;\">E</td><td style = \"text-align: left;\">VS2</td><td style = \"text-align: right;\">61.2</td><td style = \"text-align: right;\">59.0</td><td style = \"text-align: right;\">2757</td><td style = \"text-align: right;\">5.69</td><td style = \"text-align: right;\">5.72</td><td style = \"text-align: right;\">3.49</td></tr><tr><td class = \"rowNumber\" style = \"font-weight: bold; text-align: right;\">53935</td><td style = \"text-align: right;\">0.72</td><td style = \"text-align: left;\">Premium</td><td style = \"text-align: left;\">D</td><td style = \"text-align: left;\">SI1</td><td style = \"text-align: right;\">62.7</td><td style = \"text-align: right;\">59.0</td><td style = \"text-align: right;\">2757</td><td style = \"text-align: right;\">5.69</td><td style = \"text-align: right;\">5.73</td><td style = \"text-align: right;\">3.58</td></tr><tr><td class = \"rowNumber\" style = \"font-weight: bold; text-align: right;\">53936</td><td style = \"text-align: right;\">0.72</td><td style = \"text-align: left;\">Ideal</td><td style = \"text-align: left;\">D</td><td style = \"text-align: left;\">SI1</td><td style = \"text-align: right;\">60.8</td><td style = \"text-align: right;\">57.0</td><td style = \"text-align: right;\">2757</td><td style = \"text-align: right;\">5.75</td><td style = \"text-align: right;\">5.76</td><td style = \"text-align: right;\">3.5</td></tr><tr><td class = \"rowNumber\" style = \"font-weight: bold; text-align: right;\">53937</td><td style = \"text-align: right;\">0.72</td><td style = \"text-align: left;\">Good</td><td style = \"text-align: left;\">D</td><td style = \"text-align: left;\">SI1</td><td style = \"text-align: right;\">63.1</td><td style = \"text-align: right;\">55.0</td><td style = \"text-align: right;\">2757</td><td style = \"text-align: right;\">5.69</td><td style = \"text-align: right;\">5.75</td><td style = \"text-align: right;\">3.61</td></tr><tr><td class = \"rowNumber\" style = \"font-weight: bold; text-align: right;\">53938</td><td style = \"text-align: right;\">0.7</td><td style = \"text-align: left;\">Very Good</td><td style = \"text-align: left;\">D</td><td style = \"text-align: left;\">SI1</td><td style = \"text-align: right;\">62.8</td><td style = \"text-align: right;\">60.0</td><td style = \"text-align: right;\">2757</td><td style = \"text-align: right;\">5.66</td><td style = \"text-align: right;\">5.68</td><td style = \"text-align: right;\">3.56</td></tr><tr><td class = \"rowNumber\" style = \"font-weight: bold; text-align: right;\">53939</td><td style = \"text-align: right;\">0.86</td><td style = \"text-align: left;\">Premium</td><td style = \"text-align: left;\">H</td><td style = \"text-align: left;\">SI2</td><td style = \"text-align: right;\">61.0</td><td style = \"text-align: right;\">58.0</td><td style = \"text-align: right;\">2757</td><td style = \"text-align: right;\">6.15</td><td style = \"text-align: right;\">6.12</td><td style = \"text-align: right;\">3.74</td></tr><tr><td class = \"rowNumber\" style = \"font-weight: bold; text-align: right;\">53940</td><td style = \"text-align: right;\">0.75</td><td style = \"text-align: left;\">Ideal</td><td style = \"text-align: left;\">D</td><td style = \"text-align: left;\">SI2</td><td style = \"text-align: right;\">62.2</td><td style = \"text-align: right;\">55.0</td><td style = \"text-align: right;\">2757</td><td style = \"text-align: right;\">5.83</td><td style = \"text-align: right;\">5.87</td><td style = \"text-align: right;\">3.64</td></tr></tbody></table></div>"
      ],
      "text/latex": [
       "\\begin{tabular}{r|cccccccccc}\n",
       "\t& carat & cut & color & clarity & depth & table & price & x & y & \\\\\n",
       "\t\\hline\n",
       "\t& Float64 & String15 & String1 & String7 & Float64 & Float64 & Int64 & Float64 & Float64 & \\\\\n",
       "\t\\hline\n",
       "\t1 & 0.23 & Ideal & E & SI2 & 61.5 & 55.0 & 326 & 3.95 & 3.98 & $\\dots$ \\\\\n",
       "\t2 & 0.21 & Premium & E & SI1 & 59.8 & 61.0 & 326 & 3.89 & 3.84 & $\\dots$ \\\\\n",
       "\t3 & 0.23 & Good & E & VS1 & 56.9 & 65.0 & 327 & 4.05 & 4.07 & $\\dots$ \\\\\n",
       "\t4 & 0.29 & Premium & I & VS2 & 62.4 & 58.0 & 334 & 4.2 & 4.23 & $\\dots$ \\\\\n",
       "\t5 & 0.31 & Good & J & SI2 & 63.3 & 58.0 & 335 & 4.34 & 4.35 & $\\dots$ \\\\\n",
       "\t6 & 0.24 & Very Good & J & VVS2 & 62.8 & 57.0 & 336 & 3.94 & 3.96 & $\\dots$ \\\\\n",
       "\t7 & 0.24 & Very Good & I & VVS1 & 62.3 & 57.0 & 336 & 3.95 & 3.98 & $\\dots$ \\\\\n",
       "\t8 & 0.26 & Very Good & H & SI1 & 61.9 & 55.0 & 337 & 4.07 & 4.11 & $\\dots$ \\\\\n",
       "\t9 & 0.22 & Fair & E & VS2 & 65.1 & 61.0 & 337 & 3.87 & 3.78 & $\\dots$ \\\\\n",
       "\t10 & 0.23 & Very Good & H & VS1 & 59.4 & 61.0 & 338 & 4.0 & 4.05 & $\\dots$ \\\\\n",
       "\t11 & 0.3 & Good & J & SI1 & 64.0 & 55.0 & 339 & 4.25 & 4.28 & $\\dots$ \\\\\n",
       "\t12 & 0.23 & Ideal & J & VS1 & 62.8 & 56.0 & 340 & 3.93 & 3.9 & $\\dots$ \\\\\n",
       "\t13 & 0.22 & Premium & F & SI1 & 60.4 & 61.0 & 342 & 3.88 & 3.84 & $\\dots$ \\\\\n",
       "\t14 & 0.31 & Ideal & J & SI2 & 62.2 & 54.0 & 344 & 4.35 & 4.37 & $\\dots$ \\\\\n",
       "\t15 & 0.2 & Premium & E & SI2 & 60.2 & 62.0 & 345 & 3.79 & 3.75 & $\\dots$ \\\\\n",
       "\t16 & 0.32 & Premium & E & I1 & 60.9 & 58.0 & 345 & 4.38 & 4.42 & $\\dots$ \\\\\n",
       "\t17 & 0.3 & Ideal & I & SI2 & 62.0 & 54.0 & 348 & 4.31 & 4.34 & $\\dots$ \\\\\n",
       "\t18 & 0.3 & Good & J & SI1 & 63.4 & 54.0 & 351 & 4.23 & 4.29 & $\\dots$ \\\\\n",
       "\t19 & 0.3 & Good & J & SI1 & 63.8 & 56.0 & 351 & 4.23 & 4.26 & $\\dots$ \\\\\n",
       "\t20 & 0.3 & Very Good & J & SI1 & 62.7 & 59.0 & 351 & 4.21 & 4.27 & $\\dots$ \\\\\n",
       "\t21 & 0.3 & Good & I & SI2 & 63.3 & 56.0 & 351 & 4.26 & 4.3 & $\\dots$ \\\\\n",
       "\t22 & 0.23 & Very Good & E & VS2 & 63.8 & 55.0 & 352 & 3.85 & 3.92 & $\\dots$ \\\\\n",
       "\t23 & 0.23 & Very Good & H & VS1 & 61.0 & 57.0 & 353 & 3.94 & 3.96 & $\\dots$ \\\\\n",
       "\t24 & 0.31 & Very Good & J & SI1 & 59.4 & 62.0 & 353 & 4.39 & 4.43 & $\\dots$ \\\\\n",
       "\t$\\dots$ & $\\dots$ & $\\dots$ & $\\dots$ & $\\dots$ & $\\dots$ & $\\dots$ & $\\dots$ & $\\dots$ & $\\dots$ &  \\\\\n",
       "\\end{tabular}\n"
      ],
      "text/plain": [
       "\u001b[1m53940×10 DataFrame\u001b[0m\n",
       "\u001b[1m   Row \u001b[0m│\u001b[1m carat   \u001b[0m\u001b[1m cut       \u001b[0m\u001b[1m color   \u001b[0m\u001b[1m clarity \u001b[0m\u001b[1m depth   \u001b[0m\u001b[1m table   \u001b[0m\u001b[1m price \u001b[0m\u001b[1m x     \u001b[0m ⋯\n",
       "       │\u001b[90m Float64 \u001b[0m\u001b[90m String15  \u001b[0m\u001b[90m String1 \u001b[0m\u001b[90m String7 \u001b[0m\u001b[90m Float64 \u001b[0m\u001b[90m Float64 \u001b[0m\u001b[90m Int64 \u001b[0m\u001b[90m Float6\u001b[0m ⋯\n",
       "───────┼────────────────────────────────────────────────────────────────────────\n",
       "     1 │    0.23  Ideal      E        SI2         61.5     55.0    326     3.9 ⋯\n",
       "     2 │    0.21  Premium    E        SI1         59.8     61.0    326     3.8\n",
       "     3 │    0.23  Good       E        VS1         56.9     65.0    327     4.0\n",
       "     4 │    0.29  Premium    I        VS2         62.4     58.0    334     4.2\n",
       "     5 │    0.31  Good       J        SI2         63.3     58.0    335     4.3 ⋯\n",
       "     6 │    0.24  Very Good  J        VVS2        62.8     57.0    336     3.9\n",
       "     7 │    0.24  Very Good  I        VVS1        62.3     57.0    336     3.9\n",
       "     8 │    0.26  Very Good  H        SI1         61.9     55.0    337     4.0\n",
       "   ⋮   │    ⋮         ⋮         ⋮        ⋮        ⋮        ⋮       ⋮       ⋮   ⋱\n",
       " 53934 │    0.7   Very Good  E        VS2         61.2     59.0   2757     5.6 ⋯\n",
       " 53935 │    0.72  Premium    D        SI1         62.7     59.0   2757     5.6\n",
       " 53936 │    0.72  Ideal      D        SI1         60.8     57.0   2757     5.7\n",
       " 53937 │    0.72  Good       D        SI1         63.1     55.0   2757     5.6\n",
       " 53938 │    0.7   Very Good  D        SI1         62.8     60.0   2757     5.6 ⋯\n",
       " 53939 │    0.86  Premium    H        SI2         61.0     58.0   2757     6.1\n",
       " 53940 │    0.75  Ideal      D        SI2         62.2     55.0   2757     5.8\n",
       "\u001b[36m                                                3 columns and 53925 rows omitted\u001b[0m"
      ]
     },
     "metadata": {},
     "output_type": "display_data"
    }
   ],
   "source": [
    "diamonds = CSV.read( \"C:/Users/danil/OneDrive/Danilo_Back-up/Projetos_Pessoais/Canal_Youtube/Base_Dados/diamonds.csv\", DataFrame )"
   ]
  },
  {
   "cell_type": "markdown",
   "id": "7885f50c",
   "metadata": {},
   "source": [
    "##### Vendas_PBI"
   ]
  },
  {
   "cell_type": "code",
   "execution_count": 6,
   "id": "e7be3e4d",
   "metadata": {},
   "outputs": [
    {
     "data": {
      "text/html": [
       "<div><div style = \"float: left;\"><span>700×12 DataFrame</span></div><div style = \"float: right;\"><span style = \"font-style: italic;\">675 rows omitted</span></div><div style = \"clear: both;\"></div></div><div class = \"data-frame\" style = \"overflow-x: scroll;\"><table class = \"data-frame\" style = \"margin-bottom: 6px;\"><thead><tr class = \"header\"><th class = \"rowNumber\" style = \"font-weight: bold; text-align: right;\">Row</th><th style = \"text-align: left;\">Segment</th><th style = \"text-align: left;\">Country</th><th style = \"text-align: left;\">Product</th><th style = \"text-align: left;\">Units Sold</th><th style = \"text-align: left;\">Manufacturing Price</th><th style = \"text-align: left;\">Sale Price</th><th style = \"text-align: left;\">Gross Sales</th><th style = \"text-align: left;\">Discounts</th><th style = \"text-align: left;\">Sales</th><th style = \"text-align: left;\">COGS</th><th style = \"text-align: left;\">Profit</th><th style = \"text-align: left;\">Date</th></tr><tr class = \"subheader headerLastRow\"><th class = \"rowNumber\" style = \"font-weight: bold; text-align: right;\"></th><th title = \"String\" style = \"text-align: left;\">String</th><th title = \"String\" style = \"text-align: left;\">String</th><th title = \"String\" style = \"text-align: left;\">String</th><th title = \"Any\" style = \"text-align: left;\">Any</th><th title = \"Int64\" style = \"text-align: left;\">Int64</th><th title = \"Int64\" style = \"text-align: left;\">Int64</th><th title = \"Float64\" style = \"text-align: left;\">Float64</th><th title = \"Any\" style = \"text-align: left;\">Any</th><th title = \"Float64\" style = \"text-align: left;\">Float64</th><th title = \"Any\" style = \"text-align: left;\">Any</th><th title = \"Any\" style = \"text-align: left;\">Any</th><th title = \"Date\" style = \"text-align: left;\">Date</th></tr></thead><tbody><tr><td class = \"rowNumber\" style = \"font-weight: bold; text-align: right;\">1</td><td style = \"text-align: left;\">Government</td><td style = \"text-align: left;\">Germany</td><td style = \"text-align: left;\">Carretera</td><td style = \"text-align: left;\">1513.0</td><td style = \"text-align: right;\">3</td><td style = \"text-align: right;\">350</td><td style = \"text-align: right;\">529550.0</td><td style = \"text-align: left;\">0</td><td style = \"text-align: right;\">529550.0</td><td style = \"text-align: left;\">393380.0</td><td style = \"text-align: left;\">136170.0</td><td style = \"text-align: left;\">2014-12-01</td></tr><tr><td class = \"rowNumber\" style = \"font-weight: bold; text-align: right;\">2</td><td style = \"text-align: left;\">Government</td><td style = \"text-align: left;\">Germany</td><td style = \"text-align: left;\">Paseo</td><td style = \"text-align: left;\">1006.0</td><td style = \"text-align: right;\">10</td><td style = \"text-align: right;\">350</td><td style = \"text-align: right;\">352100.0</td><td style = \"text-align: left;\">0</td><td style = \"text-align: right;\">352100.0</td><td style = \"text-align: left;\">261560.0</td><td style = \"text-align: left;\">90540.0</td><td style = \"text-align: left;\">2014-06-01</td></tr><tr><td class = \"rowNumber\" style = \"font-weight: bold; text-align: right;\">3</td><td style = \"text-align: left;\">Government</td><td style = \"text-align: left;\">Canada</td><td style = \"text-align: left;\">Paseo</td><td style = \"text-align: left;\">1725.0</td><td style = \"text-align: right;\">10</td><td style = \"text-align: right;\">350</td><td style = \"text-align: right;\">603750.0</td><td style = \"text-align: left;\">0</td><td style = \"text-align: right;\">603750.0</td><td style = \"text-align: left;\">448500.0</td><td style = \"text-align: left;\">155250.0</td><td style = \"text-align: left;\">2013-11-01</td></tr><tr><td class = \"rowNumber\" style = \"font-weight: bold; text-align: right;\">4</td><td style = \"text-align: left;\">Government</td><td style = \"text-align: left;\">Germany</td><td style = \"text-align: left;\">Paseo</td><td style = \"text-align: left;\">1513.0</td><td style = \"text-align: right;\">10</td><td style = \"text-align: right;\">350</td><td style = \"text-align: right;\">529550.0</td><td style = \"text-align: left;\">0</td><td style = \"text-align: right;\">529550.0</td><td style = \"text-align: left;\">393380.0</td><td style = \"text-align: left;\">136170.0</td><td style = \"text-align: left;\">2014-12-01</td></tr><tr><td class = \"rowNumber\" style = \"font-weight: bold; text-align: right;\">5</td><td style = \"text-align: left;\">Government</td><td style = \"text-align: left;\">Germany</td><td style = \"text-align: left;\">Velo</td><td style = \"text-align: left;\">1006.0</td><td style = \"text-align: right;\">120</td><td style = \"text-align: right;\">350</td><td style = \"text-align: right;\">352100.0</td><td style = \"text-align: left;\">0</td><td style = \"text-align: right;\">352100.0</td><td style = \"text-align: left;\">261560.0</td><td style = \"text-align: left;\">90540.0</td><td style = \"text-align: left;\">2014-06-01</td></tr><tr><td class = \"rowNumber\" style = \"font-weight: bold; text-align: right;\">6</td><td style = \"text-align: left;\">Government</td><td style = \"text-align: left;\">France</td><td style = \"text-align: left;\">VTT</td><td style = \"text-align: left;\">1527.0</td><td style = \"text-align: right;\">250</td><td style = \"text-align: right;\">350</td><td style = \"text-align: right;\">534450.0</td><td style = \"text-align: left;\">0</td><td style = \"text-align: right;\">534450.0</td><td style = \"text-align: left;\">397020.0</td><td style = \"text-align: left;\">137430.0</td><td style = \"text-align: left;\">2013-09-01</td></tr><tr><td class = \"rowNumber\" style = \"font-weight: bold; text-align: right;\">7</td><td style = \"text-align: left;\">Government</td><td style = \"text-align: left;\">France</td><td style = \"text-align: left;\">Amarilla</td><td style = \"text-align: left;\">2750.0</td><td style = \"text-align: right;\">260</td><td style = \"text-align: right;\">350</td><td style = \"text-align: right;\">962500.0</td><td style = \"text-align: left;\">0</td><td style = \"text-align: right;\">962500.0</td><td style = \"text-align: left;\">715000.0</td><td style = \"text-align: left;\">247500.0</td><td style = \"text-align: left;\">2014-02-01</td></tr><tr><td class = \"rowNumber\" style = \"font-weight: bold; text-align: right;\">8</td><td style = \"text-align: left;\">Government</td><td style = \"text-align: left;\">Mexico</td><td style = \"text-align: left;\">Carretera</td><td style = \"text-align: left;\">1210.0</td><td style = \"text-align: right;\">3</td><td style = \"text-align: right;\">350</td><td style = \"text-align: right;\">423500.0</td><td style = \"text-align: left;\">4235.0</td><td style = \"text-align: right;\">419265.0</td><td style = \"text-align: left;\">314600.0</td><td style = \"text-align: left;\">104665.0</td><td style = \"text-align: left;\">2014-03-01</td></tr><tr><td class = \"rowNumber\" style = \"font-weight: bold; text-align: right;\">9</td><td style = \"text-align: left;\">Government</td><td style = \"text-align: left;\">Mexico</td><td style = \"text-align: left;\">Carretera</td><td style = \"text-align: left;\">1397.0</td><td style = \"text-align: right;\">3</td><td style = \"text-align: right;\">350</td><td style = \"text-align: right;\">488950.0</td><td style = \"text-align: left;\">4889.5</td><td style = \"text-align: right;\">4.8406e5</td><td style = \"text-align: left;\">363220.0</td><td style = \"text-align: left;\">1.2084e5</td><td style = \"text-align: left;\">2014-10-01</td></tr><tr><td class = \"rowNumber\" style = \"font-weight: bold; text-align: right;\">10</td><td style = \"text-align: left;\">Government</td><td style = \"text-align: left;\">France</td><td style = \"text-align: left;\">Carretera</td><td style = \"text-align: left;\">2155.0</td><td style = \"text-align: right;\">3</td><td style = \"text-align: right;\">350</td><td style = \"text-align: right;\">754250.0</td><td style = \"text-align: left;\">7542.5</td><td style = \"text-align: right;\">7.46708e5</td><td style = \"text-align: left;\">560300.0</td><td style = \"text-align: left;\">1.86408e5</td><td style = \"text-align: left;\">2014-12-01</td></tr><tr><td class = \"rowNumber\" style = \"font-weight: bold; text-align: right;\">11</td><td style = \"text-align: left;\">Government</td><td style = \"text-align: left;\">France</td><td style = \"text-align: left;\">Paseo</td><td style = \"text-align: left;\">2155.0</td><td style = \"text-align: right;\">10</td><td style = \"text-align: right;\">350</td><td style = \"text-align: right;\">754250.0</td><td style = \"text-align: left;\">7542.5</td><td style = \"text-align: right;\">7.46708e5</td><td style = \"text-align: left;\">560300.0</td><td style = \"text-align: left;\">1.86408e5</td><td style = \"text-align: left;\">2014-12-01</td></tr><tr><td class = \"rowNumber\" style = \"font-weight: bold; text-align: right;\">12</td><td style = \"text-align: left;\">Government</td><td style = \"text-align: left;\">Canada</td><td style = \"text-align: left;\">VTT</td><td style = \"text-align: left;\">943.5</td><td style = \"text-align: right;\">250</td><td style = \"text-align: right;\">350</td><td style = \"text-align: right;\">330225.0</td><td style = \"text-align: left;\">3302.25</td><td style = \"text-align: right;\">3.26923e5</td><td style = \"text-align: left;\">245310.0</td><td style = \"text-align: left;\">81612.8</td><td style = \"text-align: left;\">2014-04-01</td></tr><tr><td class = \"rowNumber\" style = \"font-weight: bold; text-align: right;\">13</td><td style = \"text-align: left;\">Government</td><td style = \"text-align: left;\">Mexico</td><td style = \"text-align: left;\">VTT</td><td style = \"text-align: left;\">1397.0</td><td style = \"text-align: right;\">250</td><td style = \"text-align: right;\">350</td><td style = \"text-align: right;\">488950.0</td><td style = \"text-align: left;\">4889.5</td><td style = \"text-align: right;\">4.8406e5</td><td style = \"text-align: left;\">363220.0</td><td style = \"text-align: left;\">1.2084e5</td><td style = \"text-align: left;\">2014-10-01</td></tr><tr><td style = \"text-align: right;\">&vellip;</td><td style = \"text-align: right;\">&vellip;</td><td style = \"text-align: right;\">&vellip;</td><td style = \"text-align: right;\">&vellip;</td><td style = \"text-align: right;\">&vellip;</td><td style = \"text-align: right;\">&vellip;</td><td style = \"text-align: right;\">&vellip;</td><td style = \"text-align: right;\">&vellip;</td><td style = \"text-align: right;\">&vellip;</td><td style = \"text-align: right;\">&vellip;</td><td style = \"text-align: right;\">&vellip;</td><td style = \"text-align: right;\">&vellip;</td><td style = \"text-align: right;\">&vellip;</td></tr><tr><td class = \"rowNumber\" style = \"font-weight: bold; text-align: right;\">689</td><td style = \"text-align: left;\">Midmarket</td><td style = \"text-align: left;\">Germany</td><td style = \"text-align: left;\">Paseo</td><td style = \"text-align: left;\">278</td><td style = \"text-align: right;\">10</td><td style = \"text-align: right;\">15</td><td style = \"text-align: right;\">4170.0</td><td style = \"text-align: left;\">583.8</td><td style = \"text-align: right;\">3586.2</td><td style = \"text-align: left;\">2780.0</td><td style = \"text-align: left;\">806.2</td><td style = \"text-align: left;\">2014-02-01</td></tr><tr><td class = \"rowNumber\" style = \"font-weight: bold; text-align: right;\">690</td><td style = \"text-align: left;\">Midmarket</td><td style = \"text-align: left;\">United States of America</td><td style = \"text-align: left;\">Paseo</td><td style = \"text-align: left;\">1767.0</td><td style = \"text-align: right;\">10</td><td style = \"text-align: right;\">15</td><td style = \"text-align: right;\">26505.0</td><td style = \"text-align: left;\">3710.7</td><td style = \"text-align: right;\">22794.3</td><td style = \"text-align: left;\">17670.0</td><td style = \"text-align: left;\">5124.3</td><td style = \"text-align: left;\">2014-09-01</td></tr><tr><td class = \"rowNumber\" style = \"font-weight: bold; text-align: right;\">691</td><td style = \"text-align: left;\">Channel Partners</td><td style = \"text-align: left;\">France</td><td style = \"text-align: left;\">Paseo</td><td style = \"text-align: left;\">1393.0</td><td style = \"text-align: right;\">10</td><td style = \"text-align: right;\">12</td><td style = \"text-align: right;\">16716.0</td><td style = \"text-align: left;\">2340.24</td><td style = \"text-align: right;\">14375.8</td><td style = \"text-align: left;\">4179.0</td><td style = \"text-align: left;\">10196.8</td><td style = \"text-align: left;\">2014-10-01</td></tr><tr><td class = \"rowNumber\" style = \"font-weight: bold; text-align: right;\">692</td><td style = \"text-align: left;\">Midmarket</td><td style = \"text-align: left;\">Canada</td><td style = \"text-align: left;\">Paseo</td><td style = \"text-align: left;\">2470.0</td><td style = \"text-align: right;\">10</td><td style = \"text-align: right;\">15</td><td style = \"text-align: right;\">37050.0</td><td style = \"text-align: left;\">5187.0</td><td style = \"text-align: right;\">31863.0</td><td style = \"text-align: left;\">24700.0</td><td style = \"text-align: left;\">7163.0</td><td style = \"text-align: left;\">2013-09-01</td></tr><tr><td class = \"rowNumber\" style = \"font-weight: bold; text-align: right;\">693</td><td style = \"text-align: left;\">Midmarket</td><td style = \"text-align: left;\">Canada</td><td style = \"text-align: left;\">Paseo</td><td style = \"text-align: left;\">1743.0</td><td style = \"text-align: right;\">10</td><td style = \"text-align: right;\">15</td><td style = \"text-align: right;\">26145.0</td><td style = \"text-align: left;\">3660.3</td><td style = \"text-align: right;\">22484.7</td><td style = \"text-align: left;\">17430.0</td><td style = \"text-align: left;\">5054.7</td><td style = \"text-align: left;\">2013-10-01</td></tr><tr><td class = \"rowNumber\" style = \"font-weight: bold; text-align: right;\">694</td><td style = \"text-align: left;\">Channel Partners</td><td style = \"text-align: left;\">United States of America</td><td style = \"text-align: left;\">Paseo</td><td style = \"text-align: left;\">2914.0</td><td style = \"text-align: right;\">10</td><td style = \"text-align: right;\">12</td><td style = \"text-align: right;\">34968.0</td><td style = \"text-align: left;\">4895.52</td><td style = \"text-align: right;\">30072.5</td><td style = \"text-align: left;\">8742.0</td><td style = \"text-align: left;\">21330.5</td><td style = \"text-align: left;\">2014-10-01</td></tr><tr><td class = \"rowNumber\" style = \"font-weight: bold; text-align: right;\">695</td><td style = \"text-align: left;\">Channel Partners</td><td style = \"text-align: left;\">Canada</td><td style = \"text-align: left;\">Paseo</td><td style = \"text-align: left;\">2222.0</td><td style = \"text-align: right;\">10</td><td style = \"text-align: right;\">12</td><td style = \"text-align: right;\">26664.0</td><td style = \"text-align: left;\">3732.96</td><td style = \"text-align: right;\">22931.0</td><td style = \"text-align: left;\">6666.0</td><td style = \"text-align: left;\">16265.0</td><td style = \"text-align: left;\">2013-11-01</td></tr><tr><td class = \"rowNumber\" style = \"font-weight: bold; text-align: right;\">696</td><td style = \"text-align: left;\">Midmarket</td><td style = \"text-align: left;\">Canada</td><td style = \"text-align: left;\">Paseo</td><td style = \"text-align: left;\">1614.0</td><td style = \"text-align: right;\">10</td><td style = \"text-align: right;\">15</td><td style = \"text-align: right;\">24210.0</td><td style = \"text-align: left;\">3631.5</td><td style = \"text-align: right;\">20578.5</td><td style = \"text-align: left;\">16140.0</td><td style = \"text-align: left;\">4438.5</td><td style = \"text-align: left;\">2014-04-01</td></tr><tr><td class = \"rowNumber\" style = \"font-weight: bold; text-align: right;\">697</td><td style = \"text-align: left;\">Midmarket</td><td style = \"text-align: left;\">Canada</td><td style = \"text-align: left;\">Paseo</td><td style = \"text-align: left;\">2559.0</td><td style = \"text-align: right;\">10</td><td style = \"text-align: right;\">15</td><td style = \"text-align: right;\">38385.0</td><td style = \"text-align: left;\">5757.75</td><td style = \"text-align: right;\">32627.2</td><td style = \"text-align: left;\">25590.0</td><td style = \"text-align: left;\">7037.25</td><td style = \"text-align: left;\">2014-08-01</td></tr><tr><td class = \"rowNumber\" style = \"font-weight: bold; text-align: right;\">698</td><td style = \"text-align: left;\">Enterprise</td><td style = \"text-align: left;\">Germany</td><td style = \"text-align: left;\">Paseo</td><td style = \"text-align: left;\">1085.0</td><td style = \"text-align: right;\">10</td><td style = \"text-align: right;\">125</td><td style = \"text-align: right;\">135625.0</td><td style = \"text-align: left;\">20343.8</td><td style = \"text-align: right;\">1.15281e5</td><td style = \"text-align: left;\">130200.0</td><td style = \"text-align: left;\">-14918.8</td><td style = \"text-align: left;\">2014-10-01</td></tr><tr><td class = \"rowNumber\" style = \"font-weight: bold; text-align: right;\">699</td><td style = \"text-align: left;\">Midmarket</td><td style = \"text-align: left;\">Germany</td><td style = \"text-align: left;\">Paseo</td><td style = \"text-align: left;\">1175.0</td><td style = \"text-align: right;\">10</td><td style = \"text-align: right;\">15</td><td style = \"text-align: right;\">17625.0</td><td style = \"text-align: left;\">2643.75</td><td style = \"text-align: right;\">14981.2</td><td style = \"text-align: left;\">11750.0</td><td style = \"text-align: left;\">3231.25</td><td style = \"text-align: left;\">2014-10-01</td></tr><tr><td class = \"rowNumber\" style = \"font-weight: bold; text-align: right;\">700</td><td style = \"text-align: left;\">Channel Partners</td><td style = \"text-align: left;\">United States of America</td><td style = \"text-align: left;\">Paseo</td><td style = \"text-align: left;\">914</td><td style = \"text-align: right;\">10</td><td style = \"text-align: right;\">12</td><td style = \"text-align: right;\">10968.0</td><td style = \"text-align: left;\">1645.2</td><td style = \"text-align: right;\">9322.8</td><td style = \"text-align: left;\">2742.0</td><td style = \"text-align: left;\">6580.8</td><td style = \"text-align: left;\">2014-12-01</td></tr></tbody></table></div>"
      ],
      "text/latex": [
       "\\begin{tabular}{r|cccccc}\n",
       "\t& Segment & Country & Product & Units Sold & Manufacturing Price & \\\\\n",
       "\t\\hline\n",
       "\t& String & String & String & Any & Int64 & \\\\\n",
       "\t\\hline\n",
       "\t1 & Government & Germany & Carretera & 1513.0 & 3 & $\\dots$ \\\\\n",
       "\t2 & Government & Germany & Paseo & 1006.0 & 10 & $\\dots$ \\\\\n",
       "\t3 & Government & Canada & Paseo & 1725.0 & 10 & $\\dots$ \\\\\n",
       "\t4 & Government & Germany & Paseo & 1513.0 & 10 & $\\dots$ \\\\\n",
       "\t5 & Government & Germany & Velo & 1006.0 & 120 & $\\dots$ \\\\\n",
       "\t6 & Government & France & VTT & 1527.0 & 250 & $\\dots$ \\\\\n",
       "\t7 & Government & France & Amarilla & 2750.0 & 260 & $\\dots$ \\\\\n",
       "\t8 & Government & Mexico & Carretera & 1210.0 & 3 & $\\dots$ \\\\\n",
       "\t9 & Government & Mexico & Carretera & 1397.0 & 3 & $\\dots$ \\\\\n",
       "\t10 & Government & France & Carretera & 2155.0 & 3 & $\\dots$ \\\\\n",
       "\t11 & Government & France & Paseo & 2155.0 & 10 & $\\dots$ \\\\\n",
       "\t12 & Government & Canada & VTT & 943.5 & 250 & $\\dots$ \\\\\n",
       "\t13 & Government & Mexico & VTT & 1397.0 & 250 & $\\dots$ \\\\\n",
       "\t14 & Government & Canada & Carretera & 2852.0 & 3 & $\\dots$ \\\\\n",
       "\t15 & Government & Canada & Paseo & 2852.0 & 10 & $\\dots$ \\\\\n",
       "\t16 & Government & Germany & Velo & 2966.0 & 120 & $\\dots$ \\\\\n",
       "\t17 & Government & Germany & Velo & 2877.0 & 120 & $\\dots$ \\\\\n",
       "\t18 & Government & Germany & VTT & 2877.0 & 250 & $\\dots$ \\\\\n",
       "\t19 & Government & United States of America & VTT & 266 & 250 & $\\dots$ \\\\\n",
       "\t20 & Government & Mexico & VTT & 1940.0 & 250 & $\\dots$ \\\\\n",
       "\t21 & Government & Germany & Amarilla & 2966.0 & 260 & $\\dots$ \\\\\n",
       "\t22 & Government & Germany & Montana & 1797.0 & 5 & $\\dots$ \\\\\n",
       "\t23 & Government & Mexico & VTT & 1642.0 & 250 & $\\dots$ \\\\\n",
       "\t24 & Government & United States of America & Carretera & 274 & 3 & $\\dots$ \\\\\n",
       "\t$\\dots$ & $\\dots$ & $\\dots$ & $\\dots$ & $\\dots$ & $\\dots$ &  \\\\\n",
       "\\end{tabular}\n"
      ],
      "text/plain": [
       "\u001b[1m700×12 DataFrame\u001b[0m\n",
       "\u001b[1m Row \u001b[0m│\u001b[1m Segment          \u001b[0m\u001b[1m Country                  \u001b[0m\u001b[1m Product   \u001b[0m\u001b[1m Units Sold \u001b[0m\u001b[1m Manu\u001b[0m ⋯\n",
       "     │\u001b[90m String           \u001b[0m\u001b[90m String                   \u001b[0m\u001b[90m String    \u001b[0m\u001b[90m Any        \u001b[0m\u001b[90m Int6\u001b[0m ⋯\n",
       "─────┼──────────────────────────────────────────────────────────────────────────\n",
       "   1 │ Government        Germany                   Carretera  1513.0           ⋯\n",
       "   2 │ Government        Germany                   Paseo      1006.0\n",
       "   3 │ Government        Canada                    Paseo      1725.0\n",
       "   4 │ Government        Germany                   Paseo      1513.0\n",
       "   5 │ Government        Germany                   Velo       1006.0           ⋯\n",
       "   6 │ Government        France                    VTT        1527.0\n",
       "   7 │ Government        France                    Amarilla   2750.0\n",
       "   8 │ Government        Mexico                    Carretera  1210.0\n",
       "  ⋮  │        ⋮                     ⋮                  ⋮          ⋮            ⋱\n",
       " 694 │ Channel Partners  United States of America  Paseo      2914.0           ⋯\n",
       " 695 │ Channel Partners  Canada                    Paseo      2222.0\n",
       " 696 │ Midmarket         Canada                    Paseo      1614.0\n",
       " 697 │ Midmarket         Canada                    Paseo      2559.0\n",
       " 698 │ Enterprise        Germany                   Paseo      1085.0           ⋯\n",
       " 699 │ Midmarket         Germany                   Paseo      1175.0\n",
       " 700 │ Channel Partners  United States of America  Paseo      914\n",
       "\u001b[36m                                                  8 columns and 685 rows omitted\u001b[0m"
      ]
     },
     "metadata": {},
     "output_type": "display_data"
    }
   ],
   "source": [
    "Vendas_PBI = DataFrame( \n",
    "    XLSX.readtable( \n",
    "        \"C:/Users/danil/OneDrive/Danilo_Back-up/Projetos_Pessoais/Canal_Youtube/Base_Dados/Vendas_PBI.xlsx\", \n",
    "        \"Planilha1\", \n",
    "        infer_eltypes = true \n",
    "    ) \n",
    "    ... \n",
    ")"
   ]
  },
  {
   "cell_type": "markdown",
   "id": "f38c38ce",
   "metadata": {},
   "source": [
    "##### Ctas_Receber_DB"
   ]
  },
  {
   "cell_type": "code",
   "execution_count": 3,
   "id": "e66af468",
   "metadata": {},
   "outputs": [
    {
     "data": {
      "text/html": [
       "<div><div style = \"float: left;\"><span>180×10 DataFrame</span></div><div style = \"float: right;\"><span style = \"font-style: italic;\">155 rows omitted</span></div><div style = \"clear: both;\"></div></div><div class = \"data-frame\" style = \"overflow-x: scroll;\"><table class = \"data-frame\" style = \"margin-bottom: 6px;\"><thead><tr class = \"header\"><th class = \"rowNumber\" style = \"font-weight: bold; text-align: right;\">Row</th><th style = \"text-align: left;\">ID_Cliente</th><th style = \"text-align: left;\">Descr_Cliente</th><th style = \"text-align: left;\">NF</th><th style = \"text-align: left;\">Data_Emissão</th><th style = \"text-align: left;\">Data_Vencimento</th><th style = \"text-align: left;\">Data_Recebimento</th><th style = \"text-align: left;\">Valor_a_Receber</th><th style = \"text-align: left;\">Valor_Recebido</th><th style = \"text-align: left;\">Diferenca</th><th style = \"text-align: left;\">Descontado_com</th></tr><tr class = \"subheader headerLastRow\"><th class = \"rowNumber\" style = \"font-weight: bold; text-align: right;\"></th><th title = \"Int64\" style = \"text-align: left;\">Int64</th><th title = \"String\" style = \"text-align: left;\">String</th><th title = \"Int64\" style = \"text-align: left;\">Int64</th><th title = \"Date\" style = \"text-align: left;\">Date</th><th title = \"Date\" style = \"text-align: left;\">Date</th><th title = \"Date\" style = \"text-align: left;\">Date</th><th title = \"Float64\" style = \"text-align: left;\">Float64</th><th title = \"Float64\" style = \"text-align: left;\">Float64</th><th title = \"Union{Missing, Float64}\" style = \"text-align: left;\">Float64?</th><th title = \"Union{Missing, String}\" style = \"text-align: left;\">String?</th></tr></thead><tbody><tr><td class = \"rowNumber\" style = \"font-weight: bold; text-align: right;\">1</td><td style = \"text-align: right;\">1234</td><td style = \"text-align: left;\">Razão_Social_1</td><td style = \"text-align: right;\">8001</td><td style = \"text-align: left;\">2021-06-25</td><td style = \"text-align: left;\">2021-08-03</td><td style = \"text-align: left;\">2021-07-15</td><td style = \"text-align: right;\">2250.0</td><td style = \"text-align: right;\">2207.49</td><td style = \"text-align: right;\">-42.51</td><td style = \"text-align: left;\">FDIC_2</td></tr><tr><td class = \"rowNumber\" style = \"font-weight: bold; text-align: right;\">2</td><td style = \"text-align: right;\">1234</td><td style = \"text-align: left;\">Razão_Social_1</td><td style = \"text-align: right;\">8003</td><td style = \"text-align: left;\">2021-06-24</td><td style = \"text-align: left;\">2021-07-16</td><td style = \"text-align: left;\">2021-07-16</td><td style = \"text-align: right;\">3655.0</td><td style = \"text-align: right;\">3655.0</td><td style = \"font-style: italic; text-align: right;\">missing</td><td style = \"font-style: italic; text-align: left;\">missing</td></tr><tr><td class = \"rowNumber\" style = \"font-weight: bold; text-align: right;\">3</td><td style = \"text-align: right;\">1234</td><td style = \"text-align: left;\">Razão_Social_1</td><td style = \"text-align: right;\">8005</td><td style = \"text-align: left;\">2021-06-25</td><td style = \"text-align: left;\">2021-07-13</td><td style = \"text-align: left;\">2021-07-13</td><td style = \"text-align: right;\">2295.0</td><td style = \"text-align: right;\">2295.0</td><td style = \"font-style: italic; text-align: right;\">missing</td><td style = \"font-style: italic; text-align: left;\">missing</td></tr><tr><td class = \"rowNumber\" style = \"font-weight: bold; text-align: right;\">4</td><td style = \"text-align: right;\">1234</td><td style = \"text-align: left;\">Razão_Social_1</td><td style = \"text-align: right;\">8009</td><td style = \"text-align: left;\">2021-06-24</td><td style = \"text-align: left;\">2021-08-02</td><td style = \"text-align: left;\">2021-07-10</td><td style = \"text-align: right;\">2295.0</td><td style = \"text-align: right;\">2248.82</td><td style = \"text-align: right;\">-46.18</td><td style = \"text-align: left;\">FDIC_1</td></tr><tr><td class = \"rowNumber\" style = \"font-weight: bold; text-align: right;\">5</td><td style = \"text-align: right;\">3456</td><td style = \"text-align: left;\">Razão_Social_3</td><td style = \"text-align: right;\">8012</td><td style = \"text-align: left;\">2021-06-21</td><td style = \"text-align: left;\">2021-07-14</td><td style = \"text-align: left;\">2021-07-09</td><td style = \"text-align: right;\">2250.0</td><td style = \"text-align: right;\">2239.18</td><td style = \"text-align: right;\">-10.82</td><td style = \"text-align: left;\">FDIC_1</td></tr><tr><td class = \"rowNumber\" style = \"font-weight: bold; text-align: right;\">6</td><td style = \"text-align: right;\">2345</td><td style = \"text-align: left;\">Razão_Social_2</td><td style = \"text-align: right;\">8015</td><td style = \"text-align: left;\">2021-06-28</td><td style = \"text-align: left;\">2021-08-05</td><td style = \"text-align: left;\">2021-07-11</td><td style = \"text-align: right;\">24253.0</td><td style = \"text-align: right;\">23960.3</td><td style = \"text-align: right;\">-292.72</td><td style = \"text-align: left;\">FDIC_3</td></tr><tr><td class = \"rowNumber\" style = \"font-weight: bold; text-align: right;\">7</td><td style = \"text-align: right;\">1234</td><td style = \"text-align: left;\">Razão_Social_1</td><td style = \"text-align: right;\">8017</td><td style = \"text-align: left;\">2021-06-28</td><td style = \"text-align: left;\">2021-07-18</td><td style = \"text-align: left;\">2021-07-08</td><td style = \"text-align: right;\">8803.0</td><td style = \"text-align: right;\">8743.31</td><td style = \"text-align: right;\">-59.69</td><td style = \"text-align: left;\">FDIC_1</td></tr><tr><td class = \"rowNumber\" style = \"font-weight: bold; text-align: right;\">8</td><td style = \"text-align: right;\">1234</td><td style = \"text-align: left;\">Razão_Social_1</td><td style = \"text-align: right;\">8018</td><td style = \"text-align: left;\">2021-06-28</td><td style = \"text-align: left;\">2021-07-26</td><td style = \"text-align: left;\">2021-07-26</td><td style = \"text-align: right;\">4993.0</td><td style = \"text-align: right;\">4993.0</td><td style = \"font-style: italic; text-align: right;\">missing</td><td style = \"font-style: italic; text-align: left;\">missing</td></tr><tr><td class = \"rowNumber\" style = \"font-weight: bold; text-align: right;\">9</td><td style = \"text-align: right;\">2345</td><td style = \"text-align: left;\">Razão_Social_2</td><td style = \"text-align: right;\">8020</td><td style = \"text-align: left;\">2021-06-28</td><td style = \"text-align: left;\">2021-07-23</td><td style = \"text-align: left;\">2021-07-13</td><td style = \"text-align: right;\">2295.0</td><td style = \"text-align: right;\">2254.39</td><td style = \"text-align: right;\">-40.61</td><td style = \"text-align: left;\">FDIC_3</td></tr><tr><td class = \"rowNumber\" style = \"font-weight: bold; text-align: right;\">10</td><td style = \"text-align: right;\">2345</td><td style = \"text-align: left;\">Razão_Social_2</td><td style = \"text-align: right;\">8024</td><td style = \"text-align: left;\">2021-06-27</td><td style = \"text-align: left;\">2021-08-13</td><td style = \"text-align: left;\">2021-07-19</td><td style = \"text-align: right;\">3727.0</td><td style = \"text-align: right;\">3676.2</td><td style = \"text-align: right;\">-50.8</td><td style = \"text-align: left;\">FDIC_2</td></tr><tr><td class = \"rowNumber\" style = \"font-weight: bold; text-align: right;\">11</td><td style = \"text-align: right;\">5678</td><td style = \"text-align: left;\">Razão_Social_5</td><td style = \"text-align: right;\">8026</td><td style = \"text-align: left;\">2021-06-26</td><td style = \"text-align: left;\">2021-07-24</td><td style = \"text-align: left;\">2021-07-24</td><td style = \"text-align: right;\">3727.0</td><td style = \"text-align: right;\">3727.0</td><td style = \"font-style: italic; text-align: right;\">missing</td><td style = \"font-style: italic; text-align: left;\">missing</td></tr><tr><td class = \"rowNumber\" style = \"font-weight: bold; text-align: right;\">12</td><td style = \"text-align: right;\">1234</td><td style = \"text-align: left;\">Razão_Social_1</td><td style = \"text-align: right;\">8028</td><td style = \"text-align: left;\">2021-06-24</td><td style = \"text-align: left;\">2021-07-24</td><td style = \"text-align: left;\">2021-07-09</td><td style = \"text-align: right;\">2250.0</td><td style = \"text-align: right;\">2225.88</td><td style = \"text-align: right;\">-24.12</td><td style = \"text-align: left;\">FDIC_1</td></tr><tr><td class = \"rowNumber\" style = \"font-weight: bold; text-align: right;\">13</td><td style = \"text-align: right;\">2345</td><td style = \"text-align: left;\">Razão_Social_2</td><td style = \"text-align: right;\">8029</td><td style = \"text-align: left;\">2021-06-27</td><td style = \"text-align: left;\">2021-07-24</td><td style = \"text-align: left;\">2021-07-24</td><td style = \"text-align: right;\">3355.0</td><td style = \"text-align: right;\">3355.0</td><td style = \"font-style: italic; text-align: right;\">missing</td><td style = \"font-style: italic; text-align: left;\">missing</td></tr><tr><td style = \"text-align: right;\">&vellip;</td><td style = \"text-align: right;\">&vellip;</td><td style = \"text-align: right;\">&vellip;</td><td style = \"text-align: right;\">&vellip;</td><td style = \"text-align: right;\">&vellip;</td><td style = \"text-align: right;\">&vellip;</td><td style = \"text-align: right;\">&vellip;</td><td style = \"text-align: right;\">&vellip;</td><td style = \"text-align: right;\">&vellip;</td><td style = \"text-align: right;\">&vellip;</td><td style = \"text-align: right;\">&vellip;</td></tr><tr><td class = \"rowNumber\" style = \"font-weight: bold; text-align: right;\">169</td><td style = \"text-align: right;\">5678</td><td style = \"text-align: left;\">Razão_Social_5</td><td style = \"text-align: right;\">8395</td><td style = \"text-align: left;\">2021-10-17</td><td style = \"text-align: left;\">2021-11-16</td><td style = \"text-align: left;\">2021-11-11</td><td style = \"text-align: right;\">25446.0</td><td style = \"text-align: right;\">25355.5</td><td style = \"text-align: right;\">-90.55</td><td style = \"text-align: left;\">FDIC_1</td></tr><tr><td class = \"rowNumber\" style = \"font-weight: bold; text-align: right;\">170</td><td style = \"text-align: right;\">5678</td><td style = \"text-align: left;\">Razão_Social_5</td><td style = \"text-align: right;\">8398</td><td style = \"text-align: left;\">2021-09-14</td><td style = \"text-align: left;\">2021-10-31</td><td style = \"text-align: left;\">2021-10-11</td><td style = \"text-align: right;\">3731.0</td><td style = \"text-align: right;\">3671.73</td><td style = \"text-align: right;\">-59.27</td><td style = \"text-align: left;\">FDIC_2</td></tr><tr><td class = \"rowNumber\" style = \"font-weight: bold; text-align: right;\">171</td><td style = \"text-align: right;\">5678</td><td style = \"text-align: left;\">Razão_Social_5</td><td style = \"text-align: right;\">8402</td><td style = \"text-align: left;\">2021-10-16</td><td style = \"text-align: left;\">2021-11-01</td><td style = \"text-align: left;\">2021-11-01</td><td style = \"text-align: right;\">13274.0</td><td style = \"text-align: right;\">13274.0</td><td style = \"text-align: right;\">missing</td><td style = \"text-align: left;\">missing</td></tr><tr><td class = \"rowNumber\" style = \"font-weight: bold; text-align: right;\">172</td><td style = \"text-align: right;\">4567</td><td style = \"text-align: left;\">Razão_Social_4</td><td style = \"text-align: right;\">8403</td><td style = \"text-align: left;\">2021-10-18</td><td style = \"text-align: left;\">2021-11-02</td><td style = \"text-align: left;\">2021-10-24</td><td style = \"text-align: right;\">4044.0</td><td style = \"text-align: right;\">4012.17</td><td style = \"text-align: right;\">-31.83</td><td style = \"text-align: left;\">FDIC_3</td></tr><tr><td class = \"rowNumber\" style = \"font-weight: bold; text-align: right;\">173</td><td style = \"text-align: right;\">5678</td><td style = \"text-align: left;\">Razão_Social_5</td><td style = \"text-align: right;\">8404</td><td style = \"text-align: left;\">2021-09-15</td><td style = \"text-align: left;\">2021-11-04</td><td style = \"text-align: left;\">2021-11-04</td><td style = \"text-align: right;\">2931.0</td><td style = \"text-align: right;\">2931.0</td><td style = \"text-align: right;\">missing</td><td style = \"text-align: left;\">missing</td></tr><tr><td class = \"rowNumber\" style = \"font-weight: bold; text-align: right;\">174</td><td style = \"text-align: right;\">5678</td><td style = \"text-align: left;\">Razão_Social_5</td><td style = \"text-align: right;\">8405</td><td style = \"text-align: left;\">2021-10-02</td><td style = \"text-align: left;\">2021-11-24</td><td style = \"text-align: left;\">2021-11-19</td><td style = \"text-align: right;\">31177.0</td><td style = \"text-align: right;\">31069.4</td><td style = \"text-align: right;\">-107.56</td><td style = \"text-align: left;\">FDIC_1</td></tr><tr><td class = \"rowNumber\" style = \"font-weight: bold; text-align: right;\">175</td><td style = \"text-align: right;\">5678</td><td style = \"text-align: left;\">Razão_Social_5</td><td style = \"text-align: right;\">8409</td><td style = \"text-align: left;\">2021-09-18</td><td style = \"text-align: left;\">2021-11-07</td><td style = \"text-align: left;\">2021-10-15</td><td style = \"text-align: right;\">1376.0</td><td style = \"text-align: right;\">1358.34</td><td style = \"text-align: right;\">-17.66</td><td style = \"text-align: left;\">FDIC_2</td></tr><tr><td class = \"rowNumber\" style = \"font-weight: bold; text-align: right;\">176</td><td style = \"text-align: right;\">4567</td><td style = \"text-align: left;\">Razão_Social_4</td><td style = \"text-align: right;\">8413</td><td style = \"text-align: left;\">2021-10-20</td><td style = \"text-align: left;\">2021-11-07</td><td style = \"text-align: left;\">2021-11-07</td><td style = \"text-align: right;\">2827.0</td><td style = \"text-align: right;\">2827.0</td><td style = \"font-style: italic; text-align: right;\">missing</td><td style = \"font-style: italic; text-align: left;\">missing</td></tr><tr><td class = \"rowNumber\" style = \"font-weight: bold; text-align: right;\">177</td><td style = \"text-align: right;\">5678</td><td style = \"text-align: left;\">Razão_Social_5</td><td style = \"text-align: right;\">8417</td><td style = \"text-align: left;\">2021-10-04</td><td style = \"text-align: left;\">2021-11-14</td><td style = \"text-align: left;\">2021-11-09</td><td style = \"text-align: right;\">2931.0</td><td style = \"text-align: right;\">2907.3</td><td style = \"text-align: right;\">-23.7</td><td style = \"text-align: left;\">FDIC_1</td></tr><tr><td class = \"rowNumber\" style = \"font-weight: bold; text-align: right;\">178</td><td style = \"text-align: right;\">2345</td><td style = \"text-align: left;\">Razão_Social_2</td><td style = \"text-align: right;\">8421</td><td style = \"text-align: left;\">2021-10-18</td><td style = \"text-align: left;\">2021-11-18</td><td style = \"text-align: left;\">2021-10-29</td><td style = \"text-align: right;\">26655.0</td><td style = \"text-align: right;\">26379.1</td><td style = \"text-align: right;\">-275.91</td><td style = \"text-align: left;\">FDIC_3</td></tr><tr><td class = \"rowNumber\" style = \"font-weight: bold; text-align: right;\">179</td><td style = \"text-align: right;\">5678</td><td style = \"text-align: left;\">Razão_Social_5</td><td style = \"text-align: right;\">8424</td><td style = \"text-align: left;\">2021-10-16</td><td style = \"text-align: left;\">2021-11-16</td><td style = \"text-align: left;\">2021-11-07</td><td style = \"text-align: right;\">4044.0</td><td style = \"text-align: right;\">4021.87</td><td style = \"text-align: right;\">-22.13</td><td style = \"text-align: left;\">FDIC_3</td></tr><tr><td class = \"rowNumber\" style = \"font-weight: bold; text-align: right;\">180</td><td style = \"text-align: right;\">5678</td><td style = \"text-align: left;\">Razão_Social_5</td><td style = \"text-align: right;\">8427</td><td style = \"text-align: left;\">2021-10-17</td><td style = \"text-align: left;\">2021-11-23</td><td style = \"text-align: left;\">2021-10-30</td><td style = \"text-align: right;\">4044.0</td><td style = \"text-align: right;\">3971.69</td><td style = \"text-align: right;\">-72.31</td><td style = \"text-align: left;\">FDIC_1</td></tr></tbody></table></div>"
      ],
      "text/latex": [
       "\\begin{tabular}{r|cccccccccc}\n",
       "\t& ID\\_Cliente & Descr\\_Cliente & NF & Data\\_Emissão & Data\\_Vencimento & Data\\_Recebimento & Valor\\_a\\_Receber & Valor\\_Recebido & Diferenca & Descontado\\_com\\\\\n",
       "\t\\hline\n",
       "\t& Int64 & String & Int64 & Date & Date & Date & Float64 & Float64 & Float64? & String?\\\\\n",
       "\t\\hline\n",
       "\t1 & 1234 & Razão\\_Social\\_1 & 8001 & 2021-06-25 & 2021-08-03 & 2021-07-15 & 2250.0 & 2207.49 & -42.51 & FDIC\\_2 \\\\\n",
       "\t2 & 1234 & Razão\\_Social\\_1 & 8003 & 2021-06-24 & 2021-07-16 & 2021-07-16 & 3655.0 & 3655.0 & \\emph{missing} & \\emph{missing} \\\\\n",
       "\t3 & 1234 & Razão\\_Social\\_1 & 8005 & 2021-06-25 & 2021-07-13 & 2021-07-13 & 2295.0 & 2295.0 & \\emph{missing} & \\emph{missing} \\\\\n",
       "\t4 & 1234 & Razão\\_Social\\_1 & 8009 & 2021-06-24 & 2021-08-02 & 2021-07-10 & 2295.0 & 2248.82 & -46.18 & FDIC\\_1 \\\\\n",
       "\t5 & 3456 & Razão\\_Social\\_3 & 8012 & 2021-06-21 & 2021-07-14 & 2021-07-09 & 2250.0 & 2239.18 & -10.82 & FDIC\\_1 \\\\\n",
       "\t6 & 2345 & Razão\\_Social\\_2 & 8015 & 2021-06-28 & 2021-08-05 & 2021-07-11 & 24253.0 & 23960.3 & -292.72 & FDIC\\_3 \\\\\n",
       "\t7 & 1234 & Razão\\_Social\\_1 & 8017 & 2021-06-28 & 2021-07-18 & 2021-07-08 & 8803.0 & 8743.31 & -59.69 & FDIC\\_1 \\\\\n",
       "\t8 & 1234 & Razão\\_Social\\_1 & 8018 & 2021-06-28 & 2021-07-26 & 2021-07-26 & 4993.0 & 4993.0 & \\emph{missing} & \\emph{missing} \\\\\n",
       "\t9 & 2345 & Razão\\_Social\\_2 & 8020 & 2021-06-28 & 2021-07-23 & 2021-07-13 & 2295.0 & 2254.39 & -40.61 & FDIC\\_3 \\\\\n",
       "\t10 & 2345 & Razão\\_Social\\_2 & 8024 & 2021-06-27 & 2021-08-13 & 2021-07-19 & 3727.0 & 3676.2 & -50.8 & FDIC\\_2 \\\\\n",
       "\t11 & 5678 & Razão\\_Social\\_5 & 8026 & 2021-06-26 & 2021-07-24 & 2021-07-24 & 3727.0 & 3727.0 & \\emph{missing} & \\emph{missing} \\\\\n",
       "\t12 & 1234 & Razão\\_Social\\_1 & 8028 & 2021-06-24 & 2021-07-24 & 2021-07-09 & 2250.0 & 2225.88 & -24.12 & FDIC\\_1 \\\\\n",
       "\t13 & 2345 & Razão\\_Social\\_2 & 8029 & 2021-06-27 & 2021-07-24 & 2021-07-24 & 3355.0 & 3355.0 & \\emph{missing} & \\emph{missing} \\\\\n",
       "\t14 & 4567 & Razão\\_Social\\_4 & 8031 & 2021-07-05 & 2021-08-14 & 2021-07-16 & 17295.0 & 17051.6 & -243.41 & FDIC\\_3 \\\\\n",
       "\t15 & 1234 & Razão\\_Social\\_1 & 8035 & 2021-07-06 & 2021-07-24 & 2021-07-14 & 15938.0 & 15848.3 & -89.7 & FDIC\\_2 \\\\\n",
       "\t16 & 2345 & Razão\\_Social\\_2 & 8038 & 2021-07-08 & 2021-07-26 & 2021-07-20 & 3655.0 & 3626.98 & -28.02 & FDIC\\_1 \\\\\n",
       "\t17 & 2345 & Razão\\_Social\\_2 & 8041 & 2021-07-08 & 2021-09-04 & 2021-08-30 & 30249.0 & 30161.1 & -87.88 & FDIC\\_3 \\\\\n",
       "\t18 & 2345 & Razão\\_Social\\_2 & 8043 & 2021-06-27 & 2021-08-19 & 2021-07-29 & 17563.0 & 17348.9 & -214.07 & FDIC\\_2 \\\\\n",
       "\t19 & 3456 & Razão\\_Social\\_3 & 8046 & 2021-07-09 & 2021-08-02 & 2021-07-08 & 8803.0 & 8665.6 & -137.4 & FDIC\\_1 \\\\\n",
       "\t20 & 5678 & Razão\\_Social\\_5 & 8047 & 2021-07-10 & 2021-07-30 & 2021-07-18 & 17295.0 & 17167.8 & -127.16 & FDIC\\_2 \\\\\n",
       "\t21 & 3456 & Razão\\_Social\\_3 & 8051 & 2021-06-21 & 2021-07-31 & 2021-07-31 & 3355.0 & 3355.0 & \\emph{missing} & \\emph{missing} \\\\\n",
       "\t22 & 1234 & Razão\\_Social\\_1 & 8055 & 2021-07-18 & 2021-09-09 & 2021-08-20 & 24111.0 & 23874.4 & -236.56 & FDIC\\_3 \\\\\n",
       "\t23 & 2345 & Razão\\_Social\\_2 & 8058 & 2021-07-08 & 2021-08-05 & 2021-07-09 & 3655.0 & 3590.06 & -64.94 & FDIC\\_1 \\\\\n",
       "\t24 & 1234 & Razão\\_Social\\_1 & 8061 & 2021-07-18 & 2021-08-02 & 2021-07-17 & 4993.0 & 4926.11 & -66.89 & FDIC\\_3 \\\\\n",
       "\t25 & 4567 & Razão\\_Social\\_4 & 8064 & 2021-07-01 & 2021-08-03 & 2021-07-19 & 3727.0 & 3695.71 & -31.29 & FDIC\\_2 \\\\\n",
       "\t26 & 1234 & Razão\\_Social\\_1 & 8066 & 2021-07-06 & 2021-08-07 & 2021-07-15 & 3355.0 & 3307.83 & -47.17 & FDIC\\_1 \\\\\n",
       "\t27 & 3456 & Razão\\_Social\\_3 & 8067 & 2021-07-09 & 2021-08-03 & 2021-07-24 & 11175.0 & 11093.7 & -81.26 & FDIC\\_1 \\\\\n",
       "\t28 & 1234 & Razão\\_Social\\_1 & 8069 & 2021-07-06 & 2021-08-03 & 2021-07-19 & 33434.0 & 33153.3 & -280.66 & FDIC\\_2 \\\\\n",
       "\t29 & 1234 & Razão\\_Social\\_1 & 8071 & 2021-06-25 & 2021-08-04 & 2021-07-14 & 25080.0 & 24794.1 & -285.94 & FDIC\\_2 \\\\\n",
       "\t30 & 2345 & Razão\\_Social\\_2 & 8072 & 2021-06-28 & 2021-08-09 & 2021-07-15 & 4993.0 & 4916.94 & -76.06 & FDIC\\_1 \\\\\n",
       "\t$\\dots$ & $\\dots$ & $\\dots$ & $\\dots$ & $\\dots$ & $\\dots$ & $\\dots$ & $\\dots$ & $\\dots$ & $\\dots$ & $\\dots$ \\\\\n",
       "\\end{tabular}\n"
      ],
      "text/plain": [
       "\u001b[1m180×10 DataFrame\u001b[0m\n",
       "\u001b[1m Row \u001b[0m│\u001b[1m ID_Cliente \u001b[0m\u001b[1m Descr_Cliente  \u001b[0m\u001b[1m NF    \u001b[0m\u001b[1m Data_Emissão \u001b[0m\u001b[1m Data_Vencimento \u001b[0m\u001b[1m Data_Recebimento \u001b[0m\u001b[1m Valor_a_Receber \u001b[0m\u001b[1m Valor_Recebido \u001b[0m\u001b[1m Diferenca  \u001b[0m\u001b[1m Descontado_c\u001b[0m ⋯\n",
       "     │\u001b[90m Int64      \u001b[0m\u001b[90m String         \u001b[0m\u001b[90m Int64 \u001b[0m\u001b[90m Date         \u001b[0m\u001b[90m Date            \u001b[0m\u001b[90m Date             \u001b[0m\u001b[90m Float64         \u001b[0m\u001b[90m Float64        \u001b[0m\u001b[90m Float64?   \u001b[0m\u001b[90m String?     \u001b[0m ⋯\n",
       "─────┼────────────────────────────────────────────────────────────────────────────────────────────────────────────────────────────────────────────────\n",
       "   1 │       1234  Razão_Social_1   8001  2021-06-25    2021-08-03       2021-07-15                 2250.0         2207.49      -42.51  FDIC_2       ⋯\n",
       "   2 │       1234  Razão_Social_1   8003  2021-06-24    2021-07-16       2021-07-16                 3655.0         3655.0  \u001b[90m missing    \u001b[0m\u001b[90m missing     \u001b[0m\n",
       "   3 │       1234  Razão_Social_1   8005  2021-06-25    2021-07-13       2021-07-13                 2295.0         2295.0  \u001b[90m missing    \u001b[0m\u001b[90m missing     \u001b[0m\n",
       "   4 │       1234  Razão_Social_1   8009  2021-06-24    2021-08-02       2021-07-10                 2295.0         2248.82      -46.18  FDIC_1\n",
       "   5 │       3456  Razão_Social_3   8012  2021-06-21    2021-07-14       2021-07-09                 2250.0         2239.18      -10.82  FDIC_1       ⋯\n",
       "   6 │       2345  Razão_Social_2   8015  2021-06-28    2021-08-05       2021-07-11                24253.0        23960.3      -292.72  FDIC_3\n",
       "   7 │       1234  Razão_Social_1   8017  2021-06-28    2021-07-18       2021-07-08                 8803.0         8743.31      -59.69  FDIC_1\n",
       "   8 │       1234  Razão_Social_1   8018  2021-06-28    2021-07-26       2021-07-26                 4993.0         4993.0  \u001b[90m missing    \u001b[0m\u001b[90m missing     \u001b[0m\n",
       "   9 │       2345  Razão_Social_2   8020  2021-06-28    2021-07-23       2021-07-13                 2295.0         2254.39      -40.61  FDIC_3       ⋯\n",
       "  10 │       2345  Razão_Social_2   8024  2021-06-27    2021-08-13       2021-07-19                 3727.0         3676.2       -50.8   FDIC_2\n",
       "  11 │       5678  Razão_Social_5   8026  2021-06-26    2021-07-24       2021-07-24                 3727.0         3727.0  \u001b[90m missing    \u001b[0m\u001b[90m missing     \u001b[0m\n",
       "  ⋮  │     ⋮             ⋮           ⋮         ⋮               ⋮                ⋮                 ⋮               ⋮             ⋮             ⋮      ⋱\n",
       " 171 │       5678  Razão_Social_5   8402  2021-10-16    2021-11-01       2021-11-01                13274.0        13274.0  \u001b[90m missing    \u001b[0m\u001b[90m missing     \u001b[0m\n",
       " 172 │       4567  Razão_Social_4   8403  2021-10-18    2021-11-02       2021-10-24                 4044.0         4012.17      -31.83  FDIC_3       ⋯\n",
       " 173 │       5678  Razão_Social_5   8404  2021-09-15    2021-11-04       2021-11-04                 2931.0         2931.0  \u001b[90m missing    \u001b[0m\u001b[90m missing     \u001b[0m\n",
       " 174 │       5678  Razão_Social_5   8405  2021-10-02    2021-11-24       2021-11-19                31177.0        31069.4      -107.56  FDIC_1\n",
       " 175 │       5678  Razão_Social_5   8409  2021-09-18    2021-11-07       2021-10-15                 1376.0         1358.34      -17.66  FDIC_2\n",
       " 176 │       4567  Razão_Social_4   8413  2021-10-20    2021-11-07       2021-11-07                 2827.0         2827.0  \u001b[90m missing    \u001b[0m\u001b[90m missing     \u001b[0m ⋯\n",
       " 177 │       5678  Razão_Social_5   8417  2021-10-04    2021-11-14       2021-11-09                 2931.0         2907.3       -23.7   FDIC_1\n",
       " 178 │       2345  Razão_Social_2   8421  2021-10-18    2021-11-18       2021-10-29                26655.0        26379.1      -275.91  FDIC_3\n",
       " 179 │       5678  Razão_Social_5   8424  2021-10-16    2021-11-16       2021-11-07                 4044.0         4021.87      -22.13  FDIC_3\n",
       " 180 │       5678  Razão_Social_5   8427  2021-10-17    2021-11-23       2021-10-30                 4044.0         3971.69      -72.31  FDIC_1       ⋯\n",
       "\u001b[36m                                                                                                                         1 column and 159 rows omitted\u001b[0m"
      ]
     },
     "execution_count": 3,
     "metadata": {},
     "output_type": "execute_result"
    }
   ],
   "source": [
    "Ctas_Receber_DB = DataFrame( \n",
    "    XLSX.readtable( \n",
    "        \"C:/Users/danil/OneDrive/Danilo_Back-up/Projetos_Pessoais/Canal_Youtube/Base_Dados/Ctas_Receber_DB.xlsx\", \n",
    "        \"Planilha1\", \n",
    "        infer_eltypes = true \n",
    "    ) \n",
    "    ... \n",
    ")"
   ]
  },
  {
   "cell_type": "markdown",
   "id": "740913c6",
   "metadata": {},
   "source": [
    "## Análise"
   ]
  },
  {
   "cell_type": "markdown",
   "id": "876b9698",
   "metadata": {},
   "source": [
    "#### Dimensão dos Dados"
   ]
  },
  {
   "cell_type": "markdown",
   "id": "82472fa8",
   "metadata": {},
   "source": [
    "##### Escalar"
   ]
  },
  {
   "cell_type": "code",
   "execution_count": 45,
   "id": "ad3011dc",
   "metadata": {},
   "outputs": [
    {
     "data": {
      "text/plain": [
       "\"Maruti Alto K10\""
      ]
     },
     "metadata": {},
     "output_type": "display_data"
    }
   ],
   "source": [
    "CARS[1,1]"
   ]
  },
  {
   "cell_type": "code",
   "execution_count": 4,
   "id": "28a19a19",
   "metadata": {},
   "outputs": [
    {
     "data": {
      "text/plain": [
       "\"Maruti Alto K10\""
      ]
     },
     "metadata": {},
     "output_type": "display_data"
    }
   ],
   "source": [
    "Matrix(CARS)[1]"
   ]
  },
  {
   "cell_type": "code",
   "execution_count": 6,
   "id": "2596168f",
   "metadata": {},
   "outputs": [
    {
     "data": {
      "text/plain": [
       "51"
      ]
     },
     "metadata": {},
     "output_type": "display_data"
    }
   ],
   "source": [
    "CARS[1,2]"
   ]
  },
  {
   "cell_type": "code",
   "execution_count": 5,
   "id": "90f5e4ce",
   "metadata": {},
   "outputs": [
    {
     "data": {
      "text/plain": [
       "51"
      ]
     },
     "metadata": {},
     "output_type": "display_data"
    }
   ],
   "source": [
    "Matrix(CARS)[204]"
   ]
  },
  {
   "cell_type": "code",
   "execution_count": 7,
   "id": "1592ea35",
   "metadata": {},
   "outputs": [
    {
     "data": {
      "text/plain": [
       "\"Maruti Alto K10\""
      ]
     },
     "metadata": {},
     "output_type": "display_data"
    }
   ],
   "source": [
    "Array(CARS)[1]"
   ]
  },
  {
   "cell_type": "code",
   "execution_count": 8,
   "id": "42059bee",
   "metadata": {},
   "outputs": [
    {
     "data": {
      "text/plain": [
       "\"Maruti Alto K10\""
      ]
     },
     "metadata": {},
     "output_type": "display_data"
    }
   ],
   "source": [
    "CARS.car_name[1]"
   ]
  },
  {
   "cell_type": "code",
   "execution_count": 9,
   "id": "35702bc7",
   "metadata": {},
   "outputs": [
    {
     "data": {
      "text/plain": [
       "\"Maruti Alto K10\""
      ]
     },
     "metadata": {},
     "output_type": "display_data"
    }
   ],
   "source": [
    "Vector(CARS.car_name)[1]"
   ]
  },
  {
   "cell_type": "code",
   "execution_count": 10,
   "id": "032f6203",
   "metadata": {},
   "outputs": [
    {
     "data": {
      "text/plain": [
       "\"Aston Martin DBX\""
      ]
     },
     "metadata": {},
     "output_type": "display_data"
    }
   ],
   "source": [
    "sort( CARS.car_name )[1]"
   ]
  },
  {
   "cell_type": "code",
   "execution_count": 9,
   "id": "13086bf2",
   "metadata": {},
   "outputs": [
    {
     "data": {
      "text/plain": [
       "\"Aston Martin DBX\""
      ]
     },
     "execution_count": 9,
     "metadata": {},
     "output_type": "execute_result"
    }
   ],
   "source": [
    "@chain CARS begin\n",
    "    select( :car_name )\n",
    "    sort()\n",
    "    first()\n",
    "    values()\n",
    "    collect()\n",
    "    first()\n",
    "end"
   ]
  },
  {
   "cell_type": "code",
   "execution_count": 38,
   "id": "4adb882b",
   "metadata": {},
   "outputs": [
    {
     "data": {
      "text/plain": [
       "100.0"
      ]
     },
     "metadata": {},
     "output_type": "display_data"
    }
   ],
   "source": [
    "@chain CARS begin\n",
    "    unique( :car_name )\n",
    "    select( :fuel_tank_capacity )\n",
    "    Array()\n",
    "    maximum()\n",
    "end"
   ]
  },
  {
   "cell_type": "markdown",
   "id": "fd869058",
   "metadata": {},
   "source": [
    "##### Vetor"
   ]
  },
  {
   "cell_type": "code",
   "execution_count": 19,
   "id": "4244161b",
   "metadata": {},
   "outputs": [
    {
     "data": {
      "text/plain": [
       "3-element Vector{Int64}:\n",
       " 1\n",
       " 2\n",
       " 3"
      ]
     },
     "metadata": {},
     "output_type": "display_data"
    }
   ],
   "source": [
    "[1,2,3]"
   ]
  },
  {
   "cell_type": "code",
   "execution_count": 20,
   "id": "a0102ba5",
   "metadata": {},
   "outputs": [
    {
     "data": {
      "text/plain": [
       "16-element Vector{String}:\n",
       " \"car_name\"\n",
       " \"reviews_count\"\n",
       " \"fuel_type\"\n",
       " \"engine_displacement\"\n",
       " \"no_cylinder\"\n",
       " \"seating_capacity\"\n",
       " \"transmission_type\"\n",
       " \"fuel_tank_capacity\"\n",
       " \"body_type\"\n",
       " \"rating\"\n",
       " \"starting_price\"\n",
       " \"ending_price\"\n",
       " \"max_torque_nm\"\n",
       " \"max_torque_rpm\"\n",
       " \"max_power_bhp\"\n",
       " \"max_power_rp\""
      ]
     },
     "metadata": {},
     "output_type": "display_data"
    }
   ],
   "source": [
    "names( CARS ) "
   ]
  },
  {
   "cell_type": "code",
   "execution_count": 21,
   "id": "555d91c2",
   "metadata": {},
   "outputs": [
    {
     "data": {
      "text/plain": [
       "16-element Vector{String}:\n",
       " \"body_type\"\n",
       " \"car_name\"\n",
       " \"ending_price\"\n",
       " \"engine_displacement\"\n",
       " \"fuel_tank_capacity\"\n",
       " \"fuel_type\"\n",
       " \"max_power_bhp\"\n",
       " \"max_power_rp\"\n",
       " \"max_torque_nm\"\n",
       " \"max_torque_rpm\"\n",
       " \"no_cylinder\"\n",
       " \"rating\"\n",
       " \"reviews_count\"\n",
       " \"seating_capacity\"\n",
       " \"starting_price\"\n",
       " \"transmission_type\""
      ]
     },
     "metadata": {},
     "output_type": "display_data"
    }
   ],
   "source": [
    "sort( names( CARS ) )"
   ]
  },
  {
   "cell_type": "code",
   "execution_count": 27,
   "id": "2b1bb21e",
   "metadata": {},
   "outputs": [
    {
     "data": {
      "text/plain": [
       "47-element Vector{Float64}:\n",
       "   0.0\n",
       "  27.0\n",
       "  28.0\n",
       "  30.0\n",
       "  32.0\n",
       "  35.0\n",
       "  37.0\n",
       "  40.0\n",
       "  42.0\n",
       "  43.0\n",
       "   ⋮\n",
       "  82.0\n",
       "  83.0\n",
       "  85.0\n",
       "  86.0\n",
       "  89.0\n",
       "  90.0\n",
       "  92.0\n",
       "  93.0\n",
       " 100.0"
      ]
     },
     "metadata": {},
     "output_type": "display_data"
    }
   ],
   "source": [
    "@chain CARS begin\n",
    "    select( :fuel_tank_capacity )\n",
    "    unique()\n",
    "    sort()\n",
    "    Array()\n",
    "    vec()\n",
    "end"
   ]
  },
  {
   "cell_type": "code",
   "execution_count": 33,
   "id": "05f3eac7",
   "metadata": {},
   "outputs": [
    {
     "data": {
      "text/plain": [
       "3-element Vector{String15}:\n",
       " \"Electric\"\n",
       " \"Diesel\"\n",
       " \"Petrol\""
      ]
     },
     "metadata": {},
     "output_type": "display_data"
    }
   ],
   "source": [
    "@chain CARS begin\n",
    "    @subset( :fuel_tank_capacity .== 0.0 )\n",
    "    select( :fuel_type )\n",
    "    unique()\n",
    "    Array()\n",
    "    vec()\n",
    "end"
   ]
  },
  {
   "cell_type": "markdown",
   "id": "0d6e970f",
   "metadata": {},
   "source": [
    "##### Tabela"
   ]
  },
  {
   "cell_type": "code",
   "execution_count": 48,
   "id": "111066d7",
   "metadata": {},
   "outputs": [
    {
     "data": {
      "text/plain": [
       "3×3 Matrix{Int64}:\n",
       " 1  2  3\n",
       " 4  5  6\n",
       " 7  8  9"
      ]
     },
     "metadata": {},
     "output_type": "display_data"
    }
   ],
   "source": [
    "a = [\n",
    "    1  2  3\n",
    "    4  5  6\n",
    "    7  8  9\n",
    "]"
   ]
  },
  {
   "cell_type": "code",
   "execution_count": 49,
   "id": "43ea844a",
   "metadata": {},
   "outputs": [
    {
     "data": {
      "text/plain": [
       "3×3 adjoint(::Matrix{Int64}) with eltype Int64:\n",
       " 1  4  7\n",
       " 2  5  8\n",
       " 3  6  9"
      ]
     },
     "metadata": {},
     "output_type": "display_data"
    }
   ],
   "source": [
    "a'"
   ]
  },
  {
   "cell_type": "code",
   "execution_count": 40,
   "id": "78bd3ff9",
   "metadata": {
    "notebookRunGroups": {
     "groupValue": ""
    }
   },
   "outputs": [
    {
     "data": {
      "text/html": [
       "<div><div style = \"float: left;\"><span>203×16 DataFrame</span></div><div style = \"float: right;\"><span style = \"font-style: italic;\">178 rows omitted</span></div><div style = \"clear: both;\"></div></div><div class = \"data-frame\" style = \"overflow-x: scroll;\"><table class = \"data-frame\" style = \"margin-bottom: 6px;\"><thead><tr class = \"header\"><th class = \"rowNumber\" style = \"font-weight: bold; text-align: right;\">Row</th><th style = \"text-align: left;\">car_name</th><th style = \"text-align: left;\">reviews_count</th><th style = \"text-align: left;\">fuel_type</th><th style = \"text-align: left;\">engine_displacement</th><th style = \"text-align: left;\">no_cylinder</th><th style = \"text-align: left;\">seating_capacity</th><th style = \"text-align: left;\">transmission_type</th><th style = \"text-align: left;\">fuel_tank_capacity</th><th style = \"text-align: left;\">body_type</th><th style = \"text-align: left;\">rating</th><th style = \"text-align: left;\">starting_price</th><th style = \"text-align: left;\">ending_price</th><th style = \"text-align: left;\">max_torque_nm</th><th style = \"text-align: left;\">max_torque_rpm</th><th style = \"text-align: left;\">max_power_bhp</th><th style = \"text-align: left;\">max_power_rp</th></tr><tr class = \"subheader headerLastRow\"><th class = \"rowNumber\" style = \"font-weight: bold; text-align: right;\"></th><th title = \"String31\" style = \"text-align: left;\">String31</th><th title = \"Int64\" style = \"text-align: left;\">Int64</th><th title = \"String15\" style = \"text-align: left;\">String15</th><th title = \"Int64\" style = \"text-align: left;\">Int64</th><th title = \"Int64\" style = \"text-align: left;\">Int64</th><th title = \"Union{Missing, Float64}\" style = \"text-align: left;\">Float64?</th><th title = \"String15\" style = \"text-align: left;\">String15</th><th title = \"Float64\" style = \"text-align: left;\">Float64</th><th title = \"String15\" style = \"text-align: left;\">String15</th><th title = \"Float64\" style = \"text-align: left;\">Float64</th><th title = \"Int64\" style = \"text-align: left;\">Int64</th><th title = \"Int64\" style = \"text-align: left;\">Int64</th><th title = \"Float64\" style = \"text-align: left;\">Float64</th><th title = \"Int64\" style = \"text-align: left;\">Int64</th><th title = \"Float64\" style = \"text-align: left;\">Float64</th><th title = \"Int64\" style = \"text-align: left;\">Int64</th></tr></thead><tbody><tr><td class = \"rowNumber\" style = \"font-weight: bold; text-align: right;\">1</td><td style = \"text-align: left;\">Maruti Alto K10</td><td style = \"text-align: right;\">51</td><td style = \"text-align: left;\">Petrol</td><td style = \"text-align: right;\">998</td><td style = \"text-align: right;\">3</td><td style = \"text-align: right;\">5.0</td><td style = \"text-align: left;\">Automatic</td><td style = \"text-align: right;\">27.0</td><td style = \"text-align: left;\">Hatchback</td><td style = \"text-align: right;\">4.5</td><td style = \"text-align: right;\">399000</td><td style = \"text-align: right;\">583000</td><td style = \"text-align: right;\">89.0</td><td style = \"text-align: right;\">3500</td><td style = \"text-align: right;\">65.71</td><td style = \"text-align: right;\">5500</td></tr><tr><td class = \"rowNumber\" style = \"font-weight: bold; text-align: right;\">2</td><td style = \"text-align: left;\">Maruti Brezza</td><td style = \"text-align: right;\">86</td><td style = \"text-align: left;\">Petrol</td><td style = \"text-align: right;\">1462</td><td style = \"text-align: right;\">4</td><td style = \"text-align: right;\">5.0</td><td style = \"text-align: left;\">Automatic</td><td style = \"text-align: right;\">48.0</td><td style = \"text-align: left;\">SUV</td><td style = \"text-align: right;\">4.5</td><td style = \"text-align: right;\">799000</td><td style = \"text-align: right;\">1396000</td><td style = \"text-align: right;\">136.8</td><td style = \"text-align: right;\">4400</td><td style = \"text-align: right;\">101.65</td><td style = \"text-align: right;\">6000</td></tr><tr><td class = \"rowNumber\" style = \"font-weight: bold; text-align: right;\">3</td><td style = \"text-align: left;\">Mahindra Thar</td><td style = \"text-align: right;\">242</td><td style = \"text-align: left;\">Diesel</td><td style = \"text-align: right;\">2184</td><td style = \"text-align: right;\">4</td><td style = \"text-align: right;\">4.0</td><td style = \"text-align: left;\">Automatic</td><td style = \"text-align: right;\">57.0</td><td style = \"text-align: left;\">SUV</td><td style = \"text-align: right;\">4.5</td><td style = \"text-align: right;\">1353000</td><td style = \"text-align: right;\">1603000</td><td style = \"text-align: right;\">300.0</td><td style = \"text-align: right;\">2800</td><td style = \"text-align: right;\">130.0</td><td style = \"text-align: right;\">3750</td></tr><tr><td class = \"rowNumber\" style = \"font-weight: bold; text-align: right;\">4</td><td style = \"text-align: left;\">Mahindra XUV700</td><td style = \"text-align: right;\">313</td><td style = \"text-align: left;\">Diesel</td><td style = \"text-align: right;\">2198</td><td style = \"text-align: right;\">4</td><td style = \"text-align: right;\">7.0</td><td style = \"text-align: left;\">Automatic</td><td style = \"text-align: right;\">60.0</td><td style = \"text-align: left;\">SUV</td><td style = \"text-align: right;\">4.5</td><td style = \"text-align: right;\">1318000</td><td style = \"text-align: right;\">2458000</td><td style = \"text-align: right;\">450.0</td><td style = \"text-align: right;\">2800</td><td style = \"text-align: right;\">182.38</td><td style = \"text-align: right;\">3500</td></tr><tr><td class = \"rowNumber\" style = \"font-weight: bold; text-align: right;\">5</td><td style = \"text-align: left;\">Mahindra Scorpio-N</td><td style = \"text-align: right;\">107</td><td style = \"text-align: left;\">Diesel</td><td style = \"text-align: right;\">2198</td><td style = \"text-align: right;\">4</td><td style = \"text-align: right;\">7.0</td><td style = \"text-align: left;\">Automatic</td><td style = \"text-align: right;\">57.0</td><td style = \"text-align: left;\">SUV</td><td style = \"text-align: right;\">4.5</td><td style = \"text-align: right;\">1199000</td><td style = \"text-align: right;\">2390000</td><td style = \"text-align: right;\">400.0</td><td style = \"text-align: right;\">2750</td><td style = \"text-align: right;\">172.45</td><td style = \"text-align: right;\">3500</td></tr><tr><td class = \"rowNumber\" style = \"font-weight: bold; text-align: right;\">6</td><td style = \"text-align: left;\">Toyota Fortuner</td><td style = \"text-align: right;\">99</td><td style = \"text-align: left;\">Diesel</td><td style = \"text-align: right;\">2755</td><td style = \"text-align: right;\">4</td><td style = \"text-align: right;\">7.0</td><td style = \"text-align: left;\">Automatic</td><td style = \"text-align: right;\">80.0</td><td style = \"text-align: left;\">SUV</td><td style = \"text-align: right;\">4.5</td><td style = \"text-align: right;\">3240000</td><td style = \"text-align: right;\">4957000</td><td style = \"text-align: right;\">500.0</td><td style = \"text-align: right;\">2800</td><td style = \"text-align: right;\">201.15</td><td style = \"text-align: right;\">3400</td></tr><tr><td class = \"rowNumber\" style = \"font-weight: bold; text-align: right;\">7</td><td style = \"text-align: left;\">Hyundai Creta</td><td style = \"text-align: right;\">731</td><td style = \"text-align: left;\">Diesel</td><td style = \"text-align: right;\">1493</td><td style = \"text-align: right;\">4</td><td style = \"text-align: right;\">5.0</td><td style = \"text-align: left;\">Automatic</td><td style = \"text-align: right;\">50.0</td><td style = \"text-align: left;\">SUV</td><td style = \"text-align: right;\">4.5</td><td style = \"text-align: right;\">1044000</td><td style = \"text-align: right;\">1818000</td><td style = \"text-align: right;\">250.0</td><td style = \"text-align: right;\">2750</td><td style = \"text-align: right;\">113.45</td><td style = \"text-align: right;\">4000</td></tr><tr><td class = \"rowNumber\" style = \"font-weight: bold; text-align: right;\">8</td><td style = \"text-align: left;\">Tata Punch</td><td style = \"text-align: right;\">381</td><td style = \"text-align: left;\">Petrol</td><td style = \"text-align: right;\">1199</td><td style = \"text-align: right;\">3</td><td style = \"text-align: right;\">5.0</td><td style = \"text-align: left;\">Automatic</td><td style = \"text-align: right;\">37.0</td><td style = \"text-align: left;\">SUV</td><td style = \"text-align: right;\">4.5</td><td style = \"text-align: right;\">593000</td><td style = \"text-align: right;\">949000</td><td style = \"text-align: right;\">113.0</td><td style = \"text-align: right;\">3400</td><td style = \"text-align: right;\">84.48</td><td style = \"text-align: right;\">6000</td></tr><tr><td class = \"rowNumber\" style = \"font-weight: bold; text-align: right;\">9</td><td style = \"text-align: left;\">Mahindra Bolero</td><td style = \"text-align: right;\">107</td><td style = \"text-align: left;\">Diesel</td><td style = \"text-align: right;\">1498</td><td style = \"text-align: right;\">3</td><td style = \"text-align: right;\">7.0</td><td style = \"text-align: left;\">Manual</td><td style = \"text-align: right;\">60.0</td><td style = \"text-align: left;\">SUV</td><td style = \"text-align: right;\">4.5</td><td style = \"text-align: right;\">933000</td><td style = \"text-align: right;\">1026000</td><td style = \"text-align: right;\">210.0</td><td style = \"text-align: right;\">2200</td><td style = \"text-align: right;\">74.96</td><td style = \"text-align: right;\">3600</td></tr><tr><td class = \"rowNumber\" style = \"font-weight: bold; text-align: right;\">10</td><td style = \"text-align: left;\">Maruti Swift</td><td style = \"text-align: right;\">205</td><td style = \"text-align: left;\">Petrol</td><td style = \"text-align: right;\">1197</td><td style = \"text-align: right;\">4</td><td style = \"text-align: right;\">5.0</td><td style = \"text-align: left;\">Automatic</td><td style = \"text-align: right;\">37.0</td><td style = \"text-align: left;\">Hatchback</td><td style = \"text-align: right;\">4.0</td><td style = \"text-align: right;\">592000</td><td style = \"text-align: right;\">885000</td><td style = \"text-align: right;\">113.0</td><td style = \"text-align: right;\">4400</td><td style = \"text-align: right;\">88.5</td><td style = \"text-align: right;\">6000</td></tr><tr><td class = \"rowNumber\" style = \"font-weight: bold; text-align: right;\">11</td><td style = \"text-align: left;\">Tata Nexon</td><td style = \"text-align: right;\">568</td><td style = \"text-align: left;\">Diesel</td><td style = \"text-align: right;\">1497</td><td style = \"text-align: right;\">4</td><td style = \"text-align: right;\">5.0</td><td style = \"text-align: left;\">Automatic</td><td style = \"text-align: right;\">44.0</td><td style = \"text-align: left;\">SUV</td><td style = \"text-align: right;\">4.5</td><td style = \"text-align: right;\">760000</td><td style = \"text-align: right;\">1408000</td><td style = \"text-align: right;\">260.0</td><td style = \"text-align: right;\">2750</td><td style = \"text-align: right;\">108.49</td><td style = \"text-align: right;\">4000</td></tr><tr><td class = \"rowNumber\" style = \"font-weight: bold; text-align: right;\">12</td><td style = \"text-align: left;\">Hyundai Venue</td><td style = \"text-align: right;\">36</td><td style = \"text-align: left;\">Petrol</td><td style = \"text-align: right;\">998</td><td style = \"text-align: right;\">3</td><td style = \"text-align: right;\">5.0</td><td style = \"text-align: left;\">Automatic</td><td style = \"text-align: right;\">45.0</td><td style = \"text-align: left;\">SUV</td><td style = \"text-align: right;\">4.5</td><td style = \"text-align: right;\">753000</td><td style = \"text-align: right;\">1272000</td><td style = \"text-align: right;\">172.0</td><td style = \"text-align: right;\">4000</td><td style = \"text-align: right;\">118.41</td><td style = \"text-align: right;\">6000</td></tr><tr><td class = \"rowNumber\" style = \"font-weight: bold; text-align: right;\">13</td><td style = \"text-align: left;\">Kia Seltos</td><td style = \"text-align: right;\">2171</td><td style = \"text-align: left;\">Diesel</td><td style = \"text-align: right;\">1493</td><td style = \"text-align: right;\">4</td><td style = \"text-align: right;\">5.0</td><td style = \"text-align: left;\">Automatic</td><td style = \"text-align: right;\">50.0</td><td style = \"text-align: left;\">SUV</td><td style = \"text-align: right;\">4.5</td><td style = \"text-align: right;\">1049000</td><td style = \"text-align: right;\">1865000</td><td style = \"text-align: right;\">250.0</td><td style = \"text-align: right;\">2750</td><td style = \"text-align: right;\">113.43</td><td style = \"text-align: right;\">4000</td></tr><tr><td style = \"text-align: right;\">&vellip;</td><td style = \"text-align: right;\">&vellip;</td><td style = \"text-align: right;\">&vellip;</td><td style = \"text-align: right;\">&vellip;</td><td style = \"text-align: right;\">&vellip;</td><td style = \"text-align: right;\">&vellip;</td><td style = \"text-align: right;\">&vellip;</td><td style = \"text-align: right;\">&vellip;</td><td style = \"text-align: right;\">&vellip;</td><td style = \"text-align: right;\">&vellip;</td><td style = \"text-align: right;\">&vellip;</td><td style = \"text-align: right;\">&vellip;</td><td style = \"text-align: right;\">&vellip;</td><td style = \"text-align: right;\">&vellip;</td><td style = \"text-align: right;\">&vellip;</td><td style = \"text-align: right;\">&vellip;</td><td style = \"text-align: right;\">&vellip;</td></tr><tr><td class = \"rowNumber\" style = \"font-weight: bold; text-align: right;\">192</td><td style = \"text-align: left;\">Toyota Glanza</td><td style = \"text-align: right;\">23</td><td style = \"text-align: left;\">Petrol</td><td style = \"text-align: right;\">1197</td><td style = \"text-align: right;\">4</td><td style = \"text-align: right;\">5.0</td><td style = \"text-align: left;\">Automatic</td><td style = \"text-align: right;\">37.0</td><td style = \"text-align: left;\">Hatchback</td><td style = \"text-align: right;\">4.5</td><td style = \"text-align: right;\">2990000</td><td style = \"text-align: right;\">3695000</td><td style = \"text-align: right;\">113.0</td><td style = \"text-align: right;\">4400</td><td style = \"text-align: right;\">88.5</td><td style = \"text-align: right;\">6000</td></tr><tr><td class = \"rowNumber\" style = \"font-weight: bold; text-align: right;\">193</td><td style = \"text-align: left;\">Toyota Glanza</td><td style = \"text-align: right;\">3</td><td style = \"text-align: left;\">Petrol</td><td style = \"text-align: right;\">1197</td><td style = \"text-align: right;\">4</td><td style = \"text-align: right;\">5.0</td><td style = \"text-align: left;\">Automatic</td><td style = \"text-align: right;\">37.0</td><td style = \"text-align: left;\">Hatchback</td><td style = \"text-align: right;\">4.5</td><td style = \"text-align: right;\">5590000</td><td style = \"text-align: right;\">5590000</td><td style = \"text-align: right;\">113.0</td><td style = \"text-align: right;\">4400</td><td style = \"text-align: right;\">88.5</td><td style = \"text-align: right;\">6000</td></tr><tr><td class = \"rowNumber\" style = \"font-weight: bold; text-align: right;\">194</td><td style = \"text-align: left;\">Porsche Cayenne Coupe</td><td style = \"text-align: right;\">1</td><td style = \"text-align: left;\">Petrol</td><td style = \"text-align: right;\">3996</td><td style = \"text-align: right;\">8</td><td style = \"text-align: right;\">4.0</td><td style = \"text-align: left;\">Automatic</td><td style = \"text-align: right;\">0.0</td><td style = \"text-align: left;\">SUV</td><td style = \"text-align: right;\">3.5</td><td style = \"text-align: right;\">18900000</td><td style = \"text-align: right;\">18900000</td><td style = \"text-align: right;\">850.0</td><td style = \"text-align: right;\">4500</td><td style = \"text-align: right;\">631.62</td><td style = \"text-align: right;\">6000</td></tr><tr><td class = \"rowNumber\" style = \"font-weight: bold; text-align: right;\">195</td><td style = \"text-align: left;\">Porsche Cayenne Coupe</td><td style = \"text-align: right;\">6</td><td style = \"text-align: left;\">Petrol</td><td style = \"text-align: right;\">3996</td><td style = \"text-align: right;\">8</td><td style = \"text-align: right;\">4.0</td><td style = \"text-align: left;\">Automatic</td><td style = \"text-align: right;\">0.0</td><td style = \"text-align: left;\">SUV</td><td style = \"text-align: right;\">3.5</td><td style = \"text-align: right;\">391000</td><td style = \"text-align: right;\">397000</td><td style = \"text-align: right;\">850.0</td><td style = \"text-align: right;\">4500</td><td style = \"text-align: right;\">631.62</td><td style = \"text-align: right;\">6000</td></tr><tr><td class = \"rowNumber\" style = \"font-weight: bold; text-align: right;\">196</td><td style = \"text-align: left;\">Honda City Hybrid</td><td style = \"text-align: right;\">1</td><td style = \"text-align: left;\">Petrol</td><td style = \"text-align: right;\">1498</td><td style = \"text-align: right;\">4</td><td style = \"text-align: right;\">5.0</td><td style = \"text-align: left;\">Automatic</td><td style = \"text-align: right;\">40.0</td><td style = \"text-align: left;\">Sedan</td><td style = \"text-align: right;\">4.5</td><td style = \"text-align: right;\">8150000</td><td style = \"text-align: right;\">8150000</td><td style = \"text-align: right;\">127.0</td><td style = \"text-align: right;\">5000</td><td style = \"text-align: right;\">96.55</td><td style = \"text-align: right;\">6400</td></tr><tr><td class = \"rowNumber\" style = \"font-weight: bold; text-align: right;\">197</td><td style = \"text-align: left;\">Compass Trailhawk</td><td style = \"text-align: right;\">1</td><td style = \"text-align: left;\">Diesel</td><td style = \"text-align: right;\">1998</td><td style = \"text-align: right;\">4</td><td style = \"text-align: right;\">5.0</td><td style = \"text-align: left;\">Automatic</td><td style = \"text-align: right;\">60.0</td><td style = \"text-align: left;\">SUV</td><td style = \"text-align: right;\">4.5</td><td style = \"text-align: right;\">5450000</td><td style = \"text-align: right;\">5690000</td><td style = \"text-align: right;\">350.0</td><td style = \"text-align: right;\">2500</td><td style = \"text-align: right;\">170.0</td><td style = \"text-align: right;\">3750</td></tr><tr><td class = \"rowNumber\" style = \"font-weight: bold; text-align: right;\">198</td><td style = \"text-align: left;\">Jeep Meridian</td><td style = \"text-align: right;\">78</td><td style = \"text-align: left;\">Diesel</td><td style = \"text-align: right;\">1956</td><td style = \"text-align: right;\">4</td><td style = \"text-align: right;\">7.0</td><td style = \"text-align: left;\">Automatic</td><td style = \"text-align: right;\">60.0</td><td style = \"text-align: left;\">SUV</td><td style = \"text-align: right;\">4.5</td><td style = \"text-align: right;\">1615000</td><td style = \"text-align: right;\">2075000</td><td style = \"text-align: right;\">350.0</td><td style = \"text-align: right;\">2500</td><td style = \"text-align: right;\">167.67</td><td style = \"text-align: right;\">3750</td></tr><tr><td class = \"rowNumber\" style = \"font-weight: bold; text-align: right;\">199</td><td style = \"text-align: left;\">Mercedes-Benz AMG A 45 S</td><td style = \"text-align: right;\">35</td><td style = \"text-align: left;\">Petrol</td><td style = \"text-align: right;\">1991</td><td style = \"text-align: right;\">4</td><td style = \"text-align: right;\">5.0</td><td style = \"text-align: left;\">Automatic</td><td style = \"text-align: right;\">0.0</td><td style = \"text-align: left;\">Hatchback</td><td style = \"text-align: right;\">4.5</td><td style = \"text-align: right;\">659000</td><td style = \"text-align: right;\">999000</td><td style = \"text-align: right;\">500.0</td><td style = \"text-align: right;\">5250</td><td style = \"text-align: right;\">415.71</td><td style = \"text-align: right;\">6750</td></tr><tr><td class = \"rowNumber\" style = \"font-weight: bold; text-align: right;\">200</td><td style = \"text-align: left;\">BMW 3 Series Gran Limousine</td><td style = \"text-align: right;\">3</td><td style = \"text-align: left;\">Petrol</td><td style = \"text-align: right;\">1998</td><td style = \"text-align: right;\">4</td><td style = \"text-align: right;\">5.0</td><td style = \"text-align: left;\">Automatic</td><td style = \"text-align: right;\">59.0</td><td style = \"text-align: left;\">Sedan</td><td style = \"text-align: right;\">4.5</td><td style = \"text-align: right;\">1041000</td><td style = \"text-align: right;\">1041000</td><td style = \"text-align: right;\">400.0</td><td style = \"text-align: right;\">4400</td><td style = \"text-align: right;\">254.79</td><td style = \"text-align: right;\">5000</td></tr><tr><td class = \"rowNumber\" style = \"font-weight: bold; text-align: right;\">201</td><td style = \"text-align: left;\">MG Hector Plus</td><td style = \"text-align: right;\">2</td><td style = \"text-align: left;\">Diesel</td><td style = \"text-align: right;\">1956</td><td style = \"text-align: right;\">4</td><td style = \"text-align: right;\">7.0</td><td style = \"text-align: left;\">Manual</td><td style = \"text-align: right;\">60.0</td><td style = \"text-align: left;\">SUV</td><td style = \"text-align: right;\">4.5</td><td style = \"text-align: right;\">1615000</td><td style = \"text-align: right;\">2075000</td><td style = \"text-align: right;\">350.0</td><td style = \"text-align: right;\">2500</td><td style = \"text-align: right;\">167.67</td><td style = \"text-align: right;\">3750</td></tr><tr><td class = \"rowNumber\" style = \"font-weight: bold; text-align: right;\">202</td><td style = \"text-align: left;\">Audi RS Q8</td><td style = \"text-align: right;\">9</td><td style = \"text-align: left;\">Petrol</td><td style = \"text-align: right;\">3998</td><td style = \"text-align: right;\">8</td><td style = \"text-align: right;\">5.0</td><td style = \"text-align: left;\">Automatic</td><td style = \"text-align: right;\">85.0</td><td style = \"text-align: left;\">SUV</td><td style = \"text-align: right;\">3.5</td><td style = \"text-align: right;\">21700000</td><td style = \"text-align: right;\">21700000</td><td style = \"text-align: right;\">800.0</td><td style = \"text-align: right;\">4500</td><td style = \"text-align: right;\">591.39</td><td style = \"text-align: right;\">6000</td></tr><tr><td class = \"rowNumber\" style = \"font-weight: bold; text-align: right;\">203</td><td style = \"text-align: left;\">Maruti Alto 800 tour</td><td style = \"text-align: right;\">4</td><td style = \"text-align: left;\">Petrol</td><td style = \"text-align: right;\">796</td><td style = \"text-align: right;\">3</td><td style = \"text-align: right;\">5.0</td><td style = \"text-align: left;\">Manual</td><td style = \"text-align: right;\">35.0</td><td style = \"text-align: left;\">Hatchback</td><td style = \"text-align: right;\">4.5</td><td style = \"text-align: right;\">391000</td><td style = \"text-align: right;\">397000</td><td style = \"text-align: right;\">69.0</td><td style = \"text-align: right;\">3500</td><td style = \"text-align: right;\">47.33</td><td style = \"text-align: right;\">6000</td></tr></tbody></table></div>"
      ],
      "text/latex": [
       "\\begin{tabular}{r|cccccccccc}\n",
       "\t& car\\_name & reviews\\_count & fuel\\_type & engine\\_displacement & no\\_cylinder & seating\\_capacity & transmission\\_type & fuel\\_tank\\_capacity & body\\_type & \\\\\n",
       "\t\\hline\n",
       "\t& String31 & Int64 & String15 & Int64 & Int64 & Float64? & String15 & Float64 & String15 & \\\\\n",
       "\t\\hline\n",
       "\t1 & Maruti Alto K10 & 51 & Petrol & 998 & 3 & 5.0 & Automatic & 27.0 & Hatchback & $\\dots$ \\\\\n",
       "\t2 & Maruti Brezza & 86 & Petrol & 1462 & 4 & 5.0 & Automatic & 48.0 & SUV & $\\dots$ \\\\\n",
       "\t3 & Mahindra Thar & 242 & Diesel & 2184 & 4 & 4.0 & Automatic & 57.0 & SUV & $\\dots$ \\\\\n",
       "\t4 & Mahindra XUV700 & 313 & Diesel & 2198 & 4 & 7.0 & Automatic & 60.0 & SUV & $\\dots$ \\\\\n",
       "\t5 & Mahindra Scorpio-N & 107 & Diesel & 2198 & 4 & 7.0 & Automatic & 57.0 & SUV & $\\dots$ \\\\\n",
       "\t6 & Toyota Fortuner & 99 & Diesel & 2755 & 4 & 7.0 & Automatic & 80.0 & SUV & $\\dots$ \\\\\n",
       "\t7 & Hyundai Creta & 731 & Diesel & 1493 & 4 & 5.0 & Automatic & 50.0 & SUV & $\\dots$ \\\\\n",
       "\t8 & Tata Punch & 381 & Petrol & 1199 & 3 & 5.0 & Automatic & 37.0 & SUV & $\\dots$ \\\\\n",
       "\t9 & Mahindra Bolero & 107 & Diesel & 1498 & 3 & 7.0 & Manual & 60.0 & SUV & $\\dots$ \\\\\n",
       "\t10 & Maruti Swift & 205 & Petrol & 1197 & 4 & 5.0 & Automatic & 37.0 & Hatchback & $\\dots$ \\\\\n",
       "\t11 & Tata Nexon & 568 & Diesel & 1497 & 4 & 5.0 & Automatic & 44.0 & SUV & $\\dots$ \\\\\n",
       "\t12 & Hyundai Venue & 36 & Petrol & 998 & 3 & 5.0 & Automatic & 45.0 & SUV & $\\dots$ \\\\\n",
       "\t13 & Kia Seltos & 2171 & Diesel & 1493 & 4 & 5.0 & Automatic & 50.0 & SUV & $\\dots$ \\\\\n",
       "\t14 & Hyundai Tucson & 8 & Diesel & 1997 & 4 & 5.0 & Automatic & 54.0 & SUV & $\\dots$ \\\\\n",
       "\t15 & Tata Harrier & 2392 & Diesel & 1956 & 4 & 5.0 & Automatic & 50.0 & SUV & $\\dots$ \\\\\n",
       "\t16 & Maruti Baleno & 137 & Petrol & 1197 & 4 & 5.0 & Automatic & 37.0 & Hatchback & $\\dots$ \\\\\n",
       "\t17 & Toyota Innova Crysta & 91 & Diesel & 2393 & 4 & 8.0 & Automatic & 55.0 & MUV & $\\dots$ \\\\\n",
       "\t18 & Maruti Ertiga & 110 & Petrol & 1462 & 4 & 7.0 & Automatic & 45.0 & MUV & $\\dots$ \\\\\n",
       "\t19 & Kia Sonet & 523 & Diesel & 1493 & 4 & 5.0 & Automatic & 45.0 & SUV & $\\dots$ \\\\\n",
       "\t20 & Maruti Dzire & 245 & Petrol & 1197 & 4 & 5.0 & Automatic & 37.0 & Sedan & $\\dots$ \\\\\n",
       "\t21 & Honda City 4th Generation & 1067 & Petrol & 1497 & 4 & 5.0 & Manual & 40.0 & Sedan & $\\dots$ \\\\\n",
       "\t22 & Land Rover Range Rover & 17 & Petrol & 4367 & 8 & 7.0 & Automatic & 90.0 & SUV & $\\dots$ \\\\\n",
       "\t23 & Tata Tiago & 435 & CNG & 1199 & 3 & 5.0 & Manual & 60.0 & Hatchback & $\\dots$ \\\\\n",
       "\t24 & Hyundai i20 & 432 & Petrol & 998 & 3 & 5.0 & Automatic & 37.0 & Hatchback & $\\dots$ \\\\\n",
       "\t$\\dots$ & $\\dots$ & $\\dots$ & $\\dots$ & $\\dots$ & $\\dots$ & $\\dots$ & $\\dots$ & $\\dots$ & $\\dots$ &  \\\\\n",
       "\\end{tabular}\n"
      ],
      "text/plain": [
       "\u001b[1m203×16 DataFrame\u001b[0m\n",
       "\u001b[1m Row \u001b[0m│\u001b[1m car_name                    \u001b[0m\u001b[1m reviews_count \u001b[0m\u001b[1m fuel_type \u001b[0m\u001b[1m engine_displacement \u001b[0m\u001b[1m no_cylinder \u001b[0m\u001b[1m seating_capacity \u001b[0m\u001b[1m transmission_type \u001b[0m\u001b[1m fuel_tank_capac\u001b[0m ⋯\n",
       "     │\u001b[90m String31                    \u001b[0m\u001b[90m Int64         \u001b[0m\u001b[90m String15  \u001b[0m\u001b[90m Int64               \u001b[0m\u001b[90m Int64       \u001b[0m\u001b[90m Float64?         \u001b[0m\u001b[90m String15          \u001b[0m\u001b[90m Float64        \u001b[0m ⋯\n",
       "─────┼────────────────────────────────────────────────────────────────────────────────────────────────────────────────────────────────────────────────\n",
       "   1 │ Maruti Alto K10                         51  Petrol                     998            3               5.0  Automatic                        2 ⋯\n",
       "   2 │ Maruti Brezza                           86  Petrol                    1462            4               5.0  Automatic                        4\n",
       "   3 │ Mahindra Thar                          242  Diesel                    2184            4               4.0  Automatic                        5\n",
       "   4 │ Mahindra XUV700                        313  Diesel                    2198            4               7.0  Automatic                        6\n",
       "   5 │ Mahindra Scorpio-N                     107  Diesel                    2198            4               7.0  Automatic                        5 ⋯\n",
       "   6 │ Toyota Fortuner                         99  Diesel                    2755            4               7.0  Automatic                        8\n",
       "   7 │ Hyundai Creta                          731  Diesel                    1493            4               5.0  Automatic                        5\n",
       "   8 │ Tata Punch                             381  Petrol                    1199            3               5.0  Automatic                        3\n",
       "  ⋮  │              ⋮                     ⋮            ⋮               ⋮                ⋮              ⋮                  ⋮                  ⋮       ⋱\n",
       " 197 │ Compass Trailhawk                        1  Diesel                    1998            4               5.0  Automatic                        6 ⋯\n",
       " 198 │ Jeep Meridian                           78  Diesel                    1956            4               7.0  Automatic                        6\n",
       " 199 │ Mercedes-Benz AMG A 45 S                35  Petrol                    1991            4               5.0  Automatic\n",
       " 200 │ BMW 3 Series Gran Limousine              3  Petrol                    1998            4               5.0  Automatic                        5\n",
       " 201 │ MG Hector Plus                           2  Diesel                    1956            4               7.0  Manual                           6 ⋯\n",
       " 202 │ Audi RS Q8                               9  Petrol                    3998            8               5.0  Automatic                        8\n",
       " 203 │ Maruti Alto 800 tour                     4  Petrol                     796            3               5.0  Manual                           3\n",
       "\u001b[36m                                                                                                                        9 columns and 188 rows omitted\u001b[0m"
      ]
     },
     "metadata": {},
     "output_type": "display_data"
    }
   ],
   "source": [
    "CARS"
   ]
  },
  {
   "cell_type": "code",
   "execution_count": 41,
   "id": "3f4ebb02",
   "metadata": {},
   "outputs": [
    {
     "data": {
      "text/html": [
       "<div><div style = \"float: left;\"><span>7×3 DataFrame</span></div><div style = \"clear: both;\"></div></div><div class = \"data-frame\" style = \"overflow-x: scroll;\"><table class = \"data-frame\" style = \"margin-bottom: 6px;\"><thead><tr class = \"header\"><th class = \"rowNumber\" style = \"font-weight: bold; text-align: right;\">Row</th><th style = \"text-align: left;\">car_name</th><th style = \"text-align: left;\">fuel_type</th><th style = \"text-align: left;\">fuel_tank_capacity</th></tr><tr class = \"subheader headerLastRow\"><th class = \"rowNumber\" style = \"font-weight: bold; text-align: right;\"></th><th title = \"String31\" style = \"text-align: left;\">String31</th><th title = \"String15\" style = \"text-align: left;\">String15</th><th title = \"Float64\" style = \"text-align: left;\">Float64</th></tr></thead><tbody><tr><td class = \"rowNumber\" style = \"font-weight: bold; text-align: right;\">1</td><td style = \"text-align: left;\">Tata Tiago</td><td style = \"text-align: left;\">CNG</td><td style = \"text-align: right;\">60.0</td></tr><tr><td class = \"rowNumber\" style = \"font-weight: bold; text-align: right;\">2</td><td style = \"text-align: left;\">Maruti Alto 800</td><td style = \"text-align: left;\">CNG</td><td style = \"text-align: right;\">60.0</td></tr><tr><td class = \"rowNumber\" style = \"font-weight: bold; text-align: right;\">3</td><td style = \"text-align: left;\">Tata Tigor</td><td style = \"text-align: left;\">CNG</td><td style = \"text-align: right;\">60.0</td></tr><tr><td class = \"rowNumber\" style = \"font-weight: bold; text-align: right;\">4</td><td style = \"text-align: left;\">Hyundai Santro</td><td style = \"text-align: left;\">CNG</td><td style = \"text-align: right;\">60.0</td></tr><tr><td class = \"rowNumber\" style = \"font-weight: bold; text-align: right;\">5</td><td style = \"text-align: left;\">Bajaj Qute (RE60)</td><td style = \"text-align: left;\">CNG</td><td style = \"text-align: right;\">35.0</td></tr><tr><td class = \"rowNumber\" style = \"font-weight: bold; text-align: right;\">6</td><td style = \"text-align: left;\">Hyundai Xcent Prime</td><td style = \"text-align: left;\">CNG</td><td style = \"text-align: right;\">65.0</td></tr><tr><td class = \"rowNumber\" style = \"font-weight: bold; text-align: right;\">7</td><td style = \"text-align: left;\">Maruti Swift Dzire Tour</td><td style = \"text-align: left;\">CNG</td><td style = \"text-align: right;\">55.0</td></tr></tbody></table></div>"
      ],
      "text/latex": [
       "\\begin{tabular}{r|ccc}\n",
       "\t& car\\_name & fuel\\_type & fuel\\_tank\\_capacity\\\\\n",
       "\t\\hline\n",
       "\t& String31 & String15 & Float64\\\\\n",
       "\t\\hline\n",
       "\t1 & Tata Tiago & CNG & 60.0 \\\\\n",
       "\t2 & Maruti Alto 800 & CNG & 60.0 \\\\\n",
       "\t3 & Tata Tigor & CNG & 60.0 \\\\\n",
       "\t4 & Hyundai Santro & CNG & 60.0 \\\\\n",
       "\t5 & Bajaj Qute (RE60) & CNG & 35.0 \\\\\n",
       "\t6 & Hyundai Xcent Prime & CNG & 65.0 \\\\\n",
       "\t7 & Maruti Swift Dzire Tour & CNG & 55.0 \\\\\n",
       "\\end{tabular}\n"
      ],
      "text/plain": [
       "\u001b[1m7×3 DataFrame\u001b[0m\n",
       "\u001b[1m Row \u001b[0m│\u001b[1m car_name                \u001b[0m\u001b[1m fuel_type \u001b[0m\u001b[1m fuel_tank_capacity \u001b[0m\n",
       "     │\u001b[90m String31                \u001b[0m\u001b[90m String15  \u001b[0m\u001b[90m Float64            \u001b[0m\n",
       "─────┼────────────────────────────────────────────────────────\n",
       "   1 │ Tata Tiago               CNG                      60.0\n",
       "   2 │ Maruti Alto 800          CNG                      60.0\n",
       "   3 │ Tata Tigor               CNG                      60.0\n",
       "   4 │ Hyundai Santro           CNG                      60.0\n",
       "   5 │ Bajaj Qute (RE60)        CNG                      35.0\n",
       "   6 │ Hyundai Xcent Prime      CNG                      65.0\n",
       "   7 │ Maruti Swift Dzire Tour  CNG                      55.0"
      ]
     },
     "metadata": {},
     "output_type": "display_data"
    }
   ],
   "source": [
    "@chain CARS begin\n",
    "    select( [:car_name, :fuel_type, :fuel_tank_capacity] )\n",
    "    # @subset( in( [\"Mahindra Bolero Neo\", \"Toyota Glanza\", \"Porsche Cayenne Coupe\", \"BMW 3 Series Gran Limousine\"] ).(:car_name) )\n",
    "    @subset( :fuel_type .!= \"Petrol\" .&& :fuel_type .!= \"Diesel\" .&& :fuel_type .!= \"Electric\" )\n",
    "end"
   ]
  },
  {
   "cell_type": "code",
   "execution_count": 42,
   "id": "699ae617",
   "metadata": {},
   "outputs": [
    {
     "data": {
      "text/html": [
       "<div><div style = \"float: left;\"><span>3×3 DataFrame</span></div><div style = \"clear: both;\"></div></div><div class = \"data-frame\" style = \"overflow-x: scroll;\"><table class = \"data-frame\" style = \"margin-bottom: 6px;\"><thead><tr class = \"header\"><th class = \"rowNumber\" style = \"font-weight: bold; text-align: right;\">Row</th><th style = \"text-align: left;\">car_name</th><th style = \"text-align: left;\">reviews_count</th><th style = \"text-align: left;\">fuel_type</th></tr><tr class = \"subheader headerLastRow\"><th class = \"rowNumber\" style = \"font-weight: bold; text-align: right;\"></th><th title = \"String31\" style = \"text-align: left;\">String31</th><th title = \"Int64\" style = \"text-align: left;\">Int64</th><th title = \"String15\" style = \"text-align: left;\">String15</th></tr></thead><tbody><tr><td class = \"rowNumber\" style = \"font-weight: bold; text-align: right;\">1</td><td style = \"text-align: left;\">Maruti Alto K10</td><td style = \"text-align: right;\">51</td><td style = \"text-align: left;\">Petrol</td></tr><tr><td class = \"rowNumber\" style = \"font-weight: bold; text-align: right;\">2</td><td style = \"text-align: left;\">Maruti Brezza</td><td style = \"text-align: right;\">86</td><td style = \"text-align: left;\">Petrol</td></tr><tr><td class = \"rowNumber\" style = \"font-weight: bold; text-align: right;\">3</td><td style = \"text-align: left;\">Mahindra Thar</td><td style = \"text-align: right;\">242</td><td style = \"text-align: left;\">Diesel</td></tr></tbody></table></div>"
      ],
      "text/latex": [
       "\\begin{tabular}{r|ccc}\n",
       "\t& car\\_name & reviews\\_count & fuel\\_type\\\\\n",
       "\t\\hline\n",
       "\t& String31 & Int64 & String15\\\\\n",
       "\t\\hline\n",
       "\t1 & Maruti Alto K10 & 51 & Petrol \\\\\n",
       "\t2 & Maruti Brezza & 86 & Petrol \\\\\n",
       "\t3 & Mahindra Thar & 242 & Diesel \\\\\n",
       "\\end{tabular}\n"
      ],
      "text/plain": [
       "\u001b[1m3×3 DataFrame\u001b[0m\n",
       "\u001b[1m Row \u001b[0m│\u001b[1m car_name        \u001b[0m\u001b[1m reviews_count \u001b[0m\u001b[1m fuel_type \u001b[0m\n",
       "     │\u001b[90m String31        \u001b[0m\u001b[90m Int64         \u001b[0m\u001b[90m String15  \u001b[0m\n",
       "─────┼───────────────────────────────────────────\n",
       "   1 │ Maruti Alto K10             51  Petrol\n",
       "   2 │ Maruti Brezza               86  Petrol\n",
       "   3 │ Mahindra Thar              242  Diesel"
      ]
     },
     "metadata": {},
     "output_type": "display_data"
    }
   ],
   "source": [
    "CARS[ 1:3, 1:3 ]"
   ]
  },
  {
   "cell_type": "code",
   "execution_count": 47,
   "id": "2aa2eb88",
   "metadata": {},
   "outputs": [
    {
     "data": {
      "text/plain": [
       "3×3 Matrix{Any}:\n",
       " \"Maruti Alto K10\"   51  \"Petrol\"\n",
       " \"Maruti Brezza\"     86  \"Petrol\"\n",
       " \"Mahindra Thar\"    242  \"Diesel\""
      ]
     },
     "metadata": {},
     "output_type": "display_data"
    }
   ],
   "source": [
    "CARS_3_3 = Matrix(CARS[ 1:3, 1:3 ])"
   ]
  },
  {
   "cell_type": "code",
   "execution_count": 51,
   "id": "68d9bef4",
   "metadata": {},
   "outputs": [
    {
     "data": {
      "text/html": [
       "<div><div style = \"float: left;\"><span>3×2 DataFrame</span></div><div style = \"clear: both;\"></div></div><div class = \"data-frame\" style = \"overflow-x: scroll;\"><table class = \"data-frame\" style = \"margin-bottom: 6px;\"><thead><tr class = \"header\"><th class = \"rowNumber\" style = \"font-weight: bold; text-align: right;\">Row</th><th style = \"text-align: left;\">a</th><th style = \"text-align: left;\">b</th></tr><tr class = \"subheader headerLastRow\"><th class = \"rowNumber\" style = \"font-weight: bold; text-align: right;\"></th><th title = \"Int64\" style = \"text-align: left;\">Int64</th><th title = \"String\" style = \"text-align: left;\">String</th></tr></thead><tbody><tr><td class = \"rowNumber\" style = \"font-weight: bold; text-align: right;\">1</td><td style = \"text-align: right;\">1</td><td style = \"text-align: left;\">a</td></tr><tr><td class = \"rowNumber\" style = \"font-weight: bold; text-align: right;\">2</td><td style = \"text-align: right;\">2</td><td style = \"text-align: left;\">b</td></tr><tr><td class = \"rowNumber\" style = \"font-weight: bold; text-align: right;\">3</td><td style = \"text-align: right;\">3</td><td style = \"text-align: left;\">c</td></tr></tbody></table></div>"
      ],
      "text/latex": [
       "\\begin{tabular}{r|cc}\n",
       "\t& a & b\\\\\n",
       "\t\\hline\n",
       "\t& Int64 & String\\\\\n",
       "\t\\hline\n",
       "\t1 & 1 & a \\\\\n",
       "\t2 & 2 & b \\\\\n",
       "\t3 & 3 & c \\\\\n",
       "\\end{tabular}\n"
      ],
      "text/plain": [
       "\u001b[1m3×2 DataFrame\u001b[0m\n",
       "\u001b[1m Row \u001b[0m│\u001b[1m a     \u001b[0m\u001b[1m b      \u001b[0m\n",
       "     │\u001b[90m Int64 \u001b[0m\u001b[90m String \u001b[0m\n",
       "─────┼───────────────\n",
       "   1 │     1  a\n",
       "   2 │     2  b\n",
       "   3 │     3  c"
      ]
     },
     "metadata": {},
     "output_type": "display_data"
    }
   ],
   "source": [
    "df = DataFrame(\n",
    "    a = [ 1 ,  2 ,  3 ],\n",
    "    b = [\"a\", \"b\", \"c\"]\n",
    ")"
   ]
  },
  {
   "cell_type": "code",
   "execution_count": 52,
   "id": "21613952",
   "metadata": {},
   "outputs": [
    {
     "data": {
      "text/plain": [
       "3×2 Matrix{Any}:\n",
       " 1  \"a\"\n",
       " 2  \"b\"\n",
       " 3  \"c\""
      ]
     },
     "metadata": {},
     "output_type": "display_data"
    }
   ],
   "source": [
    "Matrix(df)"
   ]
  },
  {
   "cell_type": "markdown",
   "id": "f7c31961",
   "metadata": {},
   "source": [
    "#### Tipos de Dados"
   ]
  },
  {
   "cell_type": "markdown",
   "id": "45b086b3",
   "metadata": {},
   "source": [
    "##### Número"
   ]
  },
  {
   "cell_type": "markdown",
   "id": "846017f4",
   "metadata": {},
   "source": [
    "Escalar"
   ]
  },
  {
   "cell_type": "code",
   "execution_count": 8,
   "id": "ff18284f",
   "metadata": {},
   "outputs": [
    {
     "name": "stdout",
     "output_type": "stream",
     "text": [
      "1 -> Int64\n",
      "1.0 -> Float64\n"
     ]
    }
   ],
   "source": [
    "println( \n",
    "    1,   \" -> \", typeof( 1 ), \"\\n\",\n",
    "    1.0, \" -> \", typeof( 1.0 ) \n",
    ")"
   ]
  },
  {
   "cell_type": "code",
   "execution_count": 6,
   "id": "53160c55",
   "metadata": {},
   "outputs": [
    {
     "name": "stdout",
     "output_type": "stream",
     "text": [
      "2 -> Int64\n",
      "4 -> Int64\n",
      "4.0 -> Float64\n",
      "1.0 -> Float64\n",
      "2.0 -> Float64\n"
     ]
    }
   ],
   "source": [
    "println( \n",
    "    1   + 1,   \" -> \", typeof( 1 + 1 ),   \"\\n\",\n",
    "    2   * 2,   \" -> \", typeof( 2 * 2 ),   \"\\n\",\n",
    "    2   * 2.0, \" -> \", typeof( 2 * 2.0 ), \"\\n\",\n",
    "    2   / 2,   \" -> \", typeof( 2 / 2 ),   \"\\n\",\n",
    "    1.0 + 1,   \" -> \", typeof( 1.0 + 1 ) \n",
    ")"
   ]
  },
  {
   "cell_type": "markdown",
   "id": "a2c3fcea",
   "metadata": {},
   "source": [
    "Vetor"
   ]
  },
  {
   "cell_type": "code",
   "execution_count": 16,
   "id": "089c0920",
   "metadata": {},
   "outputs": [],
   "source": [
    "n1 = [1  , 2  , 3  ] ;\n",
    "n2 = [1.0, 2.0, 3.0] ;\n",
    "n3 = [1.0, 2  , 3  ] ;"
   ]
  },
  {
   "cell_type": "code",
   "execution_count": 21,
   "id": "10964240",
   "metadata": {},
   "outputs": [
    {
     "name": "stdout",
     "output_type": "stream",
     "text": [
      "[1, 2, 3] -> Vector{Int64} -> DataType[Int64, Int64, Int64]\n",
      "[1.0, 2.0, 3.0] -> Vector{Float64} -> DataType[Float64, Float64, Float64]\n",
      "[1.0, 2.0, 3.0] -> Vector{Float64} -> DataType[Float64, Float64, Float64]\n",
      "[1, 2, 3] -> Vector{Int64} -> DataType[Int64, Int64, Int64]\n",
      "[1.0, 2.0, 3.0] -> Vector{Float64}\n"
     ]
    }
   ],
   "source": [
    "println(\n",
    "    n1,     \" -> \", typeof(n1),     \" -> \", typeof.(n1),     \"\\n\",\n",
    "    n2,     \" -> \", typeof(n2),     \" -> \", typeof.(n2),     \"\\n\",\n",
    "    n3,     \" -> \", typeof(n3),     \" -> \", typeof.(n3),     \"\\n\",\n",
    "    n1 * 1, \" -> \", typeof(n1 * 1), \" -> \", typeof.(n1 * 1), \"\\n\",\n",
    "    n1 / 1, \" -> \", typeof(n1 / 1)\n",
    ")"
   ]
  },
  {
   "cell_type": "markdown",
   "id": "e3a104a6",
   "metadata": {},
   "source": [
    "##### Texto"
   ]
  },
  {
   "cell_type": "code",
   "execution_count": 11,
   "id": "042bef45",
   "metadata": {},
   "outputs": [
    {
     "name": "stdout",
     "output_type": "stream",
     "text": [
      "casa -> String\n"
     ]
    }
   ],
   "source": [
    "println( \n",
    "    \"casa\", \n",
    "    \" -> \", \n",
    "    typeof( \"casa\" ) \n",
    ")"
   ]
  },
  {
   "cell_type": "code",
   "execution_count": 12,
   "id": "56431b4a",
   "metadata": {},
   "outputs": [
    {
     "name": "stdout",
     "output_type": "stream",
     "text": [
      "casa -> String\n"
     ]
    }
   ],
   "source": [
    "println(\n",
    "    \"casa\", \n",
    "    \" -> \", \n",
    "    typeof( \"casa\" )\n",
    ") "
   ]
  },
  {
   "cell_type": "code",
   "execution_count": 14,
   "id": "19285ea1",
   "metadata": {},
   "outputs": [
    {
     "ename": "ErrorException",
     "evalue": "syntax: character literal contains multiple characters",
     "output_type": "error",
     "traceback": [
      "syntax: character literal contains multiple characters\n",
      "\n",
      "Stacktrace:\n",
      " [1] top-level scope\n",
      "   @ c:\\Users\\danil\\OneDrive\\Danilo_Back-up\\Projetos_Pessoais\\Canal_Youtube\\Julia\\Analytics.ipynb:2"
     ]
    }
   ],
   "source": [
    "println(\n",
    "    'casa', \n",
    "    \" -> \", \n",
    "    typeof( 'casa' )\n",
    ") "
   ]
  },
  {
   "cell_type": "code",
   "execution_count": 15,
   "id": "1ef404ed",
   "metadata": {},
   "outputs": [
    {
     "name": "stdout",
     "output_type": "stream",
     "text": [
      "a -> Char\n"
     ]
    }
   ],
   "source": [
    "println(\n",
    "    'a', \n",
    "    \" -> \", \n",
    "    typeof( 'a' )\n",
    ") "
   ]
  },
  {
   "cell_type": "code",
   "execution_count": 16,
   "id": "b2e8add0",
   "metadata": {},
   "outputs": [
    {
     "name": "stdout",
     "output_type": "stream",
     "text": [
      "a casa -> String\n"
     ]
    }
   ],
   "source": [
    "# concatenar: \"*\" (similar ao \"&\" no excel)\n",
    "\n",
    "println(\n",
    "    'a' * \" \" * \"casa\", \n",
    "    \" -> \", \n",
    "    typeof( 'a' * \" \" * \"casa\" )\n",
    ")  "
   ]
  },
  {
   "cell_type": "markdown",
   "id": "1f5e7be0",
   "metadata": {},
   "source": [
    "Vetor"
   ]
  },
  {
   "cell_type": "code",
   "execution_count": 17,
   "id": "9660c4a6",
   "metadata": {},
   "outputs": [],
   "source": [
    "t1 = [\"banana\", \"maçã\", \"pêssego\"] ;\n",
    "t2 = ['a', 'b', 'c'] ;\n",
    "t3 = ['b', \"banana\", 'm', \"maçã\"] ;\n",
    "t4 = [ 1 , \"banana\"] ;"
   ]
  },
  {
   "cell_type": "code",
   "execution_count": 19,
   "id": "fefa4b6d",
   "metadata": {},
   "outputs": [
    {
     "name": "stdout",
     "output_type": "stream",
     "text": [
      "[\"banana\", \"maçã\", \"pêssego\"] -> Vector{String}\n",
      "['a', 'b', 'c'] -> Vector{Char}\n",
      "Any['b', \"banana\", 'm', \"maçã\"] -> Vector{Any}\n",
      "Any[1, \"banana\"] -> Vector{Any}\n"
     ]
    }
   ],
   "source": [
    "println(\n",
    "    t1,  \" -> \", typeof(t1),  \"\\n\",\n",
    "    t2,  \" -> \", typeof(t2),  \"\\n\",\n",
    "    t3,  \" -> \", typeof(t3),  \"\\n\",\n",
    "    t4,  \" -> \", typeof(t4)\n",
    ")"
   ]
  },
  {
   "cell_type": "code",
   "execution_count": 54,
   "id": "80896ded",
   "metadata": {},
   "outputs": [
    {
     "ename": "MethodError",
     "evalue": "MethodError: no method matching *(::Vector{String}, ::String)\nClosest candidates are:\n  *(::Any, ::Any, !Matched::Any, !Matched::Any...) at operators.jl:591\n  *(!Matched::Union{AbstractChar, AbstractString}, ::Union{AbstractChar, AbstractString}...) at strings/basic.jl:260\n  *(::StridedVecOrMat, !Matched::Adjoint{<:Any, <:LinearAlgebra.LQPackedQ}) at C:\\Users\\danil\\AppData\\Local\\Programs\\Julia-1.8.2\\share\\julia\\stdlib\\v1.8\\LinearAlgebra\\src\\lq.jl:269\n  ...",
     "output_type": "error",
     "traceback": [
      "MethodError: no method matching *(::Vector{String}, ::String)\n",
      "Closest candidates are:\n",
      "  *(::Any, ::Any, !Matched::Any, !Matched::Any...) at operators.jl:591\n",
      "  *(!Matched::Union{AbstractChar, AbstractString}, ::Union{AbstractChar, AbstractString}...) at strings/basic.jl:260\n",
      "  *(::StridedVecOrMat, !Matched::Adjoint{<:Any, <:LinearAlgebra.LQPackedQ}) at C:\\Users\\danil\\AppData\\Local\\Programs\\Julia-1.8.2\\share\\julia\\stdlib\\v1.8\\LinearAlgebra\\src\\lq.jl:269\n",
      "  ...\n",
      "\n",
      "Stacktrace:\n",
      " [1] *(::Vector{String}, ::String, ::Vector{Char})\n",
      "   @ Base .\\operators.jl:591\n",
      " [2] top-level scope\n",
      "   @ c:\\Users\\danil\\OneDrive\\Danilo_Back-up\\Projetos_Pessoais\\Canal_Youtube\\Julia\\Analytics.ipynb:1"
     ]
    }
   ],
   "source": [
    "t1 * \" \" * t2"
   ]
  },
  {
   "cell_type": "code",
   "execution_count": 68,
   "id": "db1f5259",
   "metadata": {},
   "outputs": [
    {
     "data": {
      "text/plain": [
       "3-element Vector{String}:\n",
       " \"banana a\"\n",
       " \"maçã b\"\n",
       " \"pêssego c\""
      ]
     },
     "metadata": {},
     "output_type": "display_data"
    }
   ],
   "source": [
    "t1 .* \" \" .* t2"
   ]
  },
  {
   "cell_type": "markdown",
   "id": "5a2da712",
   "metadata": {},
   "source": [
    "##### Data"
   ]
  },
  {
   "cell_type": "markdown",
   "id": "f2056f17",
   "metadata": {},
   "source": [
    "Escalar"
   ]
  },
  {
   "cell_type": "code",
   "execution_count": 6,
   "id": "462be003",
   "metadata": {},
   "outputs": [
    {
     "data": {
      "text/plain": [
       "2022 years"
      ]
     },
     "metadata": {},
     "output_type": "display_data"
    }
   ],
   "source": [
    "Year(2022)"
   ]
  },
  {
   "cell_type": "code",
   "execution_count": 7,
   "id": "05903281",
   "metadata": {},
   "outputs": [
    {
     "data": {
      "text/plain": [
       "1 month"
      ]
     },
     "metadata": {},
     "output_type": "display_data"
    }
   ],
   "source": [
    "Month(01)"
   ]
  },
  {
   "cell_type": "code",
   "execution_count": 8,
   "id": "3612ccf7",
   "metadata": {},
   "outputs": [
    {
     "data": {
      "text/plain": [
       "1 day"
      ]
     },
     "metadata": {},
     "output_type": "display_data"
    }
   ],
   "source": [
    "Day(01)"
   ]
  },
  {
   "cell_type": "code",
   "execution_count": 9,
   "id": "7bc41e05",
   "metadata": {},
   "outputs": [
    {
     "data": {
      "text/plain": [
       "1 hour"
      ]
     },
     "metadata": {},
     "output_type": "display_data"
    }
   ],
   "source": [
    "Hour(01)"
   ]
  },
  {
   "cell_type": "code",
   "execution_count": 10,
   "id": "d3962b9c",
   "metadata": {},
   "outputs": [
    {
     "data": {
      "text/plain": [
       "1 minute"
      ]
     },
     "metadata": {},
     "output_type": "display_data"
    }
   ],
   "source": [
    "Minute(01)"
   ]
  },
  {
   "cell_type": "code",
   "execution_count": 11,
   "id": "068cf187",
   "metadata": {},
   "outputs": [
    {
     "data": {
      "text/plain": [
       "1 second"
      ]
     },
     "metadata": {},
     "output_type": "display_data"
    }
   ],
   "source": [
    "Second(01)"
   ]
  },
  {
   "cell_type": "code",
   "execution_count": 19,
   "id": "5567ce15",
   "metadata": {},
   "outputs": [
    {
     "data": {
      "text/plain": [
       "1 microsecond"
      ]
     },
     "metadata": {},
     "output_type": "display_data"
    }
   ],
   "source": [
    "Millisecond(01)"
   ]
  },
  {
   "cell_type": "code",
   "execution_count": 20,
   "id": "08df71e8",
   "metadata": {},
   "outputs": [
    {
     "data": {
      "text/plain": [
       "1 microsecond"
      ]
     },
     "metadata": {},
     "output_type": "display_data"
    }
   ],
   "source": [
    "Microsecond(01)"
   ]
  },
  {
   "cell_type": "code",
   "execution_count": 47,
   "id": "6d378660",
   "metadata": {},
   "outputs": [
    {
     "data": {
      "text/plain": [
       "1 nanosecond"
      ]
     },
     "metadata": {},
     "output_type": "display_data"
    }
   ],
   "source": [
    "Nanosecond(01)"
   ]
  },
  {
   "cell_type": "code",
   "execution_count": 24,
   "id": "4405f649",
   "metadata": {},
   "outputs": [
    {
     "data": {
      "text/plain": [
       "true"
      ]
     },
     "metadata": {},
     "output_type": "display_data"
    }
   ],
   "source": [
    "Nanosecond(01) * 1000 == Microsecond(01)"
   ]
  },
  {
   "cell_type": "code",
   "execution_count": 46,
   "id": "8a096e04",
   "metadata": {},
   "outputs": [
    {
     "data": {
      "text/plain": [
       "true"
      ]
     },
     "metadata": {},
     "output_type": "display_data"
    }
   ],
   "source": [
    "Nanosecond(01) * 1_000_000 == Millisecond(01)"
   ]
  },
  {
   "cell_type": "code",
   "execution_count": 45,
   "id": "0ada2417",
   "metadata": {},
   "outputs": [
    {
     "data": {
      "text/plain": [
       "true"
      ]
     },
     "metadata": {},
     "output_type": "display_data"
    }
   ],
   "source": [
    "Nanosecond(01) * 1_000_000_000 == Second(01)"
   ]
  },
  {
   "cell_type": "code",
   "execution_count": 42,
   "id": "ba4b5aa4",
   "metadata": {},
   "outputs": [
    {
     "data": {
      "text/plain": [
       "true"
      ]
     },
     "metadata": {},
     "output_type": "display_data"
    }
   ],
   "source": [
    "Nanosecond(01) * 60_000_000_000 == Minute(01)"
   ]
  },
  {
   "cell_type": "code",
   "execution_count": 43,
   "id": "43ef3da6",
   "metadata": {},
   "outputs": [
    {
     "data": {
      "text/plain": [
       "true"
      ]
     },
     "metadata": {},
     "output_type": "display_data"
    }
   ],
   "source": [
    "Nanosecond(01) * 3_600_000_000_000 == Hour(01)"
   ]
  },
  {
   "cell_type": "code",
   "execution_count": 44,
   "id": "74770afa",
   "metadata": {},
   "outputs": [
    {
     "data": {
      "text/plain": [
       "true"
      ]
     },
     "metadata": {},
     "output_type": "display_data"
    }
   ],
   "source": [
    "Nanosecond(01) * 86_400_000_000_000 == Day(01)"
   ]
  },
  {
   "cell_type": "code",
   "execution_count": 20,
   "id": "8ba101a3",
   "metadata": {},
   "outputs": [
    {
     "data": {
      "text/plain": [
       "2022 years, 1 month, 1 day"
      ]
     },
     "metadata": {},
     "output_type": "display_data"
    }
   ],
   "source": [
    "Year(2022) + Month(1) + Day(1)"
   ]
  },
  {
   "cell_type": "code",
   "execution_count": 21,
   "id": "15197105",
   "metadata": {},
   "outputs": [
    {
     "name": "stdout",
     "output_type": "stream",
     "text": [
      "2023-01-01 -> String\n"
     ]
    }
   ],
   "source": [
    "println(\n",
    "    \"2023-01-01\", \" -> \",\n",
    "    typeof( \"2023-01-01\" )\n",
    ")"
   ]
  },
  {
   "cell_type": "code",
   "execution_count": 22,
   "id": "3420cb86",
   "metadata": {},
   "outputs": [
    {
     "name": "stdout",
     "output_type": "stream",
     "text": [
      "2023-01-01 -> Date\n"
     ]
    }
   ],
   "source": [
    "println(\n",
    "    Date(\"2023-01-01\"), \" -> \",\n",
    "    typeof( Date(\"2023-01-01\") )\n",
    ")"
   ]
  },
  {
   "cell_type": "code",
   "execution_count": 179,
   "id": "7001e187",
   "metadata": {},
   "outputs": [
    {
     "name": "stdout",
     "output_type": "stream",
     "text": [
      "2022 years, 1 month, 1 day -> Dates.CompoundPeriod\n"
     ]
    }
   ],
   "source": [
    "println(\n",
    "    Year(2022) + Month(01) + Day(01), \n",
    "    \" -> \",\n",
    "    typeof( Year(2022) + Month(01) + Day(01) )\n",
    ")"
   ]
  },
  {
   "cell_type": "code",
   "execution_count": 212,
   "id": "b619692f",
   "metadata": {},
   "outputs": [
    {
     "name": "stdout",
     "output_type": "stream",
     "text": [
      "2022-01-01 -> Date\n"
     ]
    }
   ],
   "source": [
    "println(\n",
    "    Date( Year(2022), Month(01), Day(01) ), \n",
    "    \" -> \",\n",
    "    typeof( Date( Year(2022), Month(01), Day(01) ) )\n",
    ")"
   ]
  },
  {
   "cell_type": "code",
   "execution_count": 209,
   "id": "e2f9c883",
   "metadata": {},
   "outputs": [
    {
     "name": "stdout",
     "output_type": "stream",
     "text": [
      "2022-01-01 -> Date\n"
     ]
    }
   ],
   "source": [
    "println(\n",
    "    Date( 2022, 01, 01 ), \n",
    "    \" -> \",\n",
    "    typeof( Date( 2022, 01, 01 ) )\n",
    ")"
   ]
  },
  {
   "cell_type": "code",
   "execution_count": 208,
   "id": "7e895ef9",
   "metadata": {},
   "outputs": [
    {
     "name": "stdout",
     "output_type": "stream",
     "text": [
      "2022-01-01T01:02:03.004 -> DateTime\n"
     ]
    }
   ],
   "source": [
    "println(\n",
    "    DateTime( 2022, 1, 1, 1, 2, 3, 4 ), \n",
    "    \" -> \",\n",
    "    typeof( DateTime( 2022, 1, 1, 1, 2, 3, 4 ) )\n",
    ")"
   ]
  },
  {
   "cell_type": "code",
   "execution_count": 2,
   "id": "cd412e71",
   "metadata": {},
   "outputs": [
    {
     "ename": "MethodError",
     "evalue": "MethodError: no method matching +(::Date, ::Int64)\nClosest candidates are:\n  +(::Any, ::Any, !Matched::Any, !Matched::Any...) at operators.jl:591\n  +(!Matched::T, ::T) where T<:Union{Int128, Int16, Int32, Int64, Int8, UInt128, UInt16, UInt32, UInt64, UInt8} at int.jl:87\n  +(!Matched::Base.TwicePrecision, ::Number) at twiceprecision.jl:290\n  ...",
     "output_type": "error",
     "traceback": [
      "MethodError: no method matching +(::Date, ::Int64)\n",
      "Closest candidates are:\n",
      "  +(::Any, ::Any, !Matched::Any, !Matched::Any...) at operators.jl:591\n",
      "  +(!Matched::T, ::T) where T<:Union{Int128, Int16, Int32, Int64, Int8, UInt128, UInt16, UInt32, UInt64, UInt8} at int.jl:87\n",
      "  +(!Matched::Base.TwicePrecision, ::Number) at twiceprecision.jl:290\n",
      "  ...\n",
      "\n",
      "Stacktrace:\n",
      " [1] top-level scope\n",
      "   @ c:\\Users\\danil\\OneDrive\\Danilo_Back-up\\Projetos_Pessoais\\Canal_Youtube\\Julia\\Analytics.ipynb:1"
     ]
    }
   ],
   "source": [
    "Date(\"2022-01-01\") + 1"
   ]
  },
  {
   "cell_type": "code",
   "execution_count": 7,
   "id": "fabd106c",
   "metadata": {},
   "outputs": [
    {
     "data": {
      "text/plain": [
       "2023-02-02"
      ]
     },
     "metadata": {},
     "output_type": "display_data"
    }
   ],
   "source": [
    "Date(\"2022-01-01\") + Day(1) + Month(1) + Year(1)"
   ]
  },
  {
   "cell_type": "markdown",
   "id": "2b25e4b6",
   "metadata": {},
   "source": [
    "Vetor"
   ]
  },
  {
   "cell_type": "code",
   "execution_count": 3,
   "id": "63d21560",
   "metadata": {},
   "outputs": [],
   "source": [
    "d1 = [ Date(\"2022-01-01\"),     Date(\"2022-01-02\"),     Date(\"2022-01-03\") ] ;\n",
    "d2 = [ Date(2022, 01, 01),     Date(2022, 01, 01),     Date(2022, 01, 01) ] ;\n",
    "d3 = [ DateTime(\"2022-01-01\"), DateTime(\"2022-01-02\"), DateTime(\"2022-01-03\") ] ;\n",
    "d4 = [ DateTime(2022, 01, 01), DateTime(2022, 01, 02), DateTime(2022, 01, 03) ] ;\n",
    "\n",
    "d5 = [ \"2022-01-01\", \"2022-01-02\", \"2022-01-03\" ] ;\n",
    "d6 = Date.([ \"2022-01-01\", \"2022-01-02\", \"2022-01-03\" ]) ;\n",
    "d7 = DateTime.([ \"2022-01-01\", \"2022-01-02\", \"2022-01-03\" ]) ;"
   ]
  },
  {
   "cell_type": "code",
   "execution_count": 27,
   "id": "aa0cf317",
   "metadata": {},
   "outputs": [
    {
     "name": "stdout",
     "output_type": "stream",
     "text": [
      "[Date(\"2022-01-01\"), Date(\"2022-01-02\"), Date(\"2022-01-03\")] -> Vector{Date}\n",
      "[Date(\"2022-01-01\"), Date(\"2022-01-01\"), Date(\"2022-01-01\")] -> Vector{Date}\n",
      "[DateTime(\"2022-01-01T00:00:00\"), DateTime(\"2022-01-02T00:00:00\"), DateTime(\"2022-01-03T00:00:00\")] -> Vector{DateTime}\n",
      "[DateTime(\"2022-01-01T00:00:00\"), DateTime(\"2022-01-02T00:00:00\"), DateTime(\"2022-01-03T00:00:00\")] -> Vector{DateTime}\n"
     ]
    }
   ],
   "source": [
    "println(\n",
    "    d1, \" -> \", typeof(d1), \"\\n\",\n",
    "    d2, \" -> \", typeof(d2), \"\\n\",\n",
    "    d3, \" -> \", typeof(d3), \"\\n\",\n",
    "    d4, \" -> \", typeof(d4)\n",
    ")"
   ]
  },
  {
   "cell_type": "code",
   "execution_count": 133,
   "id": "50fba3dc",
   "metadata": {},
   "outputs": [
    {
     "name": "stdout",
     "output_type": "stream",
     "text": [
      "[\"2022-01-01\", \"2022-01-02\", \"2022-01-03\"] -> Vector{String}\n",
      "[Date(\"2022-01-01\"), Date(\"2022-01-02\"), Date(\"2022-01-03\")] -> Vector{Date}\n",
      "[DateTime(\"2022-01-01T00:00:00\"), DateTime(\"2022-01-02T00:00:00\"), DateTime(\"2022-01-03T00:00:00\")] -> Vector{DateTime}\n"
     ]
    }
   ],
   "source": [
    "println(\n",
    "    d5, \" -> \", typeof(d5), \"\\n\",\n",
    "    d6, \" -> \", typeof(d6), \"\\n\",\n",
    "    d7, \" -> \", typeof(d7)\n",
    ")"
   ]
  },
  {
   "cell_type": "code",
   "execution_count": 1,
   "id": "2745ff90",
   "metadata": {},
   "outputs": [
    {
     "ename": "UndefVarError",
     "evalue": "UndefVarError: Year not defined",
     "output_type": "error",
     "traceback": [
      "UndefVarError: Year not defined\n",
      "\n",
      "Stacktrace:\n",
      " [1] top-level scope\n",
      "   @ c:\\Users\\danil\\OneDrive\\Danilo_Back-up\\Projetos_Pessoais\\Canal_Youtube\\Julia\\Analytics.ipynb:1"
     ]
    }
   ],
   "source": [
    "println(\n",
    "    [Year(2022), Month(01), Day(01)], \"\\n\",\n",
    "    [Year(2022), Month(01), Day(01), Hour(01), Minute(01), Second(01)]\n",
    ")"
   ]
  },
  {
   "cell_type": "code",
   "execution_count": 66,
   "id": "41669445",
   "metadata": {},
   "outputs": [
    {
     "data": {
      "text/plain": [
       "2022-01-02"
      ]
     },
     "metadata": {},
     "output_type": "display_data"
    }
   ],
   "source": [
    "Date(\"2022-01-01\") + Day(1)"
   ]
  },
  {
   "cell_type": "markdown",
   "id": "afb83e83",
   "metadata": {},
   "source": [
    "##### Lógico"
   ]
  },
  {
   "cell_type": "markdown",
   "id": "cd3bbcba",
   "metadata": {},
   "source": [
    "Escalar"
   ]
  },
  {
   "cell_type": "code",
   "execution_count": 134,
   "id": "87d5c66a",
   "metadata": {},
   "outputs": [
    {
     "data": {
      "text/plain": [
       "true"
      ]
     },
     "metadata": {},
     "output_type": "display_data"
    }
   ],
   "source": [
    "true"
   ]
  },
  {
   "cell_type": "code",
   "execution_count": 135,
   "id": "77d64b3f",
   "metadata": {},
   "outputs": [
    {
     "data": {
      "text/plain": [
       "false"
      ]
     },
     "metadata": {},
     "output_type": "display_data"
    }
   ],
   "source": [
    "false"
   ]
  },
  {
   "cell_type": "markdown",
   "id": "8e0b03ec",
   "metadata": {},
   "source": [
    "Vetor"
   ]
  },
  {
   "cell_type": "code",
   "execution_count": 159,
   "id": "0de0c848",
   "metadata": {},
   "outputs": [],
   "source": [
    "l1 = [true, true, false] ;\n",
    "l2 = [ Bool(1), Bool(1), Bool(0)] ;\n",
    "l3 = Bool.([1, 1, 0]) ;"
   ]
  },
  {
   "cell_type": "code",
   "execution_count": 162,
   "id": "3566147c",
   "metadata": {},
   "outputs": [
    {
     "name": "stdout",
     "output_type": "stream",
     "text": [
      "Bool[1, 1, 0] -> Vector{Bool}\n",
      "Bool[1, 1, 0] -> Vector{Bool}\n",
      "Bool[1, 1, 0] -> BitVector\n"
     ]
    }
   ],
   "source": [
    "println(\n",
    "    l1, \" -> \", typeof(l1), \"\\n\",\n",
    "    l2, \" -> \", typeof(l2), \"\\n\",\n",
    "    l3, \" -> \", typeof(l3)\n",
    ")"
   ]
  },
  {
   "cell_type": "code",
   "execution_count": 205,
   "id": "c3610c35",
   "metadata": {},
   "outputs": [
    {
     "name": "stdout",
     "output_type": "stream",
     "text": [
      "[1, 1, 0, 1, 2]\n",
      "Vector{Int64}\n",
      "DataType[Int64, Int64, Int64, Int64, Int64]\n"
     ]
    }
   ],
   "source": [
    "println(\n",
    "    [true, true, false, 1, 2], \"\\n\",\n",
    "    typeof( [true, true, false, 1, 2] ), \"\\n\",\n",
    "    typeof.( [true, true, false, 1, 2] )\n",
    ")"
   ]
  },
  {
   "cell_type": "code",
   "execution_count": 204,
   "id": "4a7592c3",
   "metadata": {},
   "outputs": [
    {
     "name": "stdout",
     "output_type": "stream",
     "text": [
      "Any[true, true, false, \"banana\"]\n",
      "Vector{Any}\n",
      "DataType[Bool, Bool, Bool, String]\n"
     ]
    }
   ],
   "source": [
    "println(\n",
    "    [true, true, false, \"banana\"], \"\\n\",\n",
    "    typeof( [true, true, false, \"banana\"] ), \"\\n\",\n",
    "    typeof.( [true, true, false, \"banana\"] )\n",
    ")"
   ]
  },
  {
   "cell_type": "code",
   "execution_count": 203,
   "id": "7ee1739c",
   "metadata": {},
   "outputs": [
    {
     "name": "stdout",
     "output_type": "stream",
     "text": [
      "Any[true, true, false, \"banana\", Date(\"2022-01-01\")]\n",
      "Vector{Any}\n",
      "DataType[Bool, Bool, Bool, String, Date]\n"
     ]
    }
   ],
   "source": [
    "println(\n",
    "    [true, true, false, \"banana\", Date(2022, 01, 01)], \"\\n\",\n",
    "    typeof( [true, true, false, \"banana\", Date(2022, 01, 01)] ), \"\\n\",\n",
    "    typeof.( [true, true, false, \"banana\", Date(2022, 01, 01)] )\n",
    ")"
   ]
  },
  {
   "cell_type": "code",
   "execution_count": 5,
   "id": "40541968",
   "metadata": {},
   "outputs": [
    {
     "data": {
      "text/plain": [
       "2"
      ]
     },
     "metadata": {},
     "output_type": "display_data"
    }
   ],
   "source": [
    "true + 1"
   ]
  },
  {
   "cell_type": "code",
   "execution_count": 4,
   "id": "587516c7",
   "metadata": {},
   "outputs": [
    {
     "data": {
      "text/plain": [
       "2"
      ]
     },
     "metadata": {},
     "output_type": "display_data"
    }
   ],
   "source": [
    "true + true"
   ]
  },
  {
   "cell_type": "code",
   "execution_count": 6,
   "id": "6e6d529e",
   "metadata": {},
   "outputs": [
    {
     "ename": "MethodError",
     "evalue": "MethodError: no method matching +(::Bool, ::Date)\nClosest candidates are:\n  +(::Any, ::Any, !Matched::Any, !Matched::Any...) at operators.jl:591\n  +(!Matched::Period, ::TimeType) at C:\\Users\\danil\\AppData\\Local\\Programs\\Julia-1.8.3\\share\\julia\\stdlib\\v1.8\\Dates\\src\\arithmetic.jl:85\n  +(!Matched::ChainRulesCore.AbstractThunk, ::Any) at C:\\Users\\danil\\.julia\\packages\\ChainRulesCore\\C73ay\\src\\tangent_arithmetic.jl:122\n  ...",
     "output_type": "error",
     "traceback": [
      "MethodError: no method matching +(::Bool, ::Date)\n",
      "Closest candidates are:\n",
      "  +(::Any, ::Any, !Matched::Any, !Matched::Any...) at operators.jl:591\n",
      "  +(!Matched::Period, ::TimeType) at C:\\Users\\danil\\AppData\\Local\\Programs\\Julia-1.8.3\\share\\julia\\stdlib\\v1.8\\Dates\\src\\arithmetic.jl:85\n",
      "  +(!Matched::ChainRulesCore.AbstractThunk, ::Any) at C:\\Users\\danil\\.julia\\packages\\ChainRulesCore\\C73ay\\src\\tangent_arithmetic.jl:122\n",
      "  ...\n",
      "\n",
      "Stacktrace:\n",
      " [1] top-level scope\n",
      "   @ c:\\Users\\danil\\OneDrive\\Danilo_Back-up\\Projetos_Pessoais\\Canal_Youtube\\Julia\\Analytics.ipynb:1"
     ]
    }
   ],
   "source": [
    "true + Date(\"2023-01-01\")"
   ]
  },
  {
   "cell_type": "markdown",
   "id": "361d5d17",
   "metadata": {},
   "source": [
    "##### Vazio"
   ]
  },
  {
   "cell_type": "markdown",
   "id": "96ac73b3",
   "metadata": {},
   "source": [
    "Escalar"
   ]
  },
  {
   "cell_type": "code",
   "execution_count": 173,
   "id": "da797497",
   "metadata": {},
   "outputs": [
    {
     "data": {
      "text/plain": [
       "missing"
      ]
     },
     "metadata": {},
     "output_type": "display_data"
    }
   ],
   "source": [
    "missing"
   ]
  },
  {
   "cell_type": "code",
   "execution_count": 2,
   "id": "51ede5c1",
   "metadata": {},
   "outputs": [
    {
     "data": {
      "text/plain": [
       "missing"
      ]
     },
     "metadata": {},
     "output_type": "display_data"
    }
   ],
   "source": [
    "missing + 1"
   ]
  },
  {
   "cell_type": "markdown",
   "id": "f8ca8ff5",
   "metadata": {},
   "source": [
    "Vetor"
   ]
  },
  {
   "cell_type": "code",
   "execution_count": 200,
   "id": "a30a4b95",
   "metadata": {},
   "outputs": [
    {
     "name": "stdout",
     "output_type": "stream",
     "text": [
      "[missing, missing, missing]\n",
      " -> Vector{Missing}\n",
      "DataType[Missing, Missing, Missing]\n"
     ]
    }
   ],
   "source": [
    "println(\n",
    "    [missing, missing, missing], \"\\n\", \" -> \",\n",
    "    typeof([missing, missing, missing]), \"\\n\",\n",
    "    typeof.([missing, missing, missing])\n",
    ")"
   ]
  },
  {
   "cell_type": "code",
   "execution_count": 8,
   "id": "6a58de1b",
   "metadata": {},
   "outputs": [
    {
     "data": {
      "text/plain": [
       "4-element Vector{Union{Missing, Bool}}:\n",
       " true\n",
       " true\n",
       " true\n",
       "     missing"
      ]
     },
     "metadata": {},
     "output_type": "display_data"
    }
   ],
   "source": [
    "[1, 2, 3, missing] .== [1, 2, 3, 4]"
   ]
  },
  {
   "cell_type": "code",
   "execution_count": 9,
   "id": "0c216494",
   "metadata": {},
   "outputs": [
    {
     "data": {
      "text/plain": [
       "4-element BitVector:\n",
       " 1\n",
       " 1\n",
       " 1\n",
       " 0"
      ]
     },
     "metadata": {},
     "output_type": "display_data"
    }
   ],
   "source": [
    "[1, 2, 3, missing] .=== [1, 2, 3, 4]"
   ]
  },
  {
   "cell_type": "code",
   "execution_count": 5,
   "id": "65808e2e",
   "metadata": {},
   "outputs": [
    {
     "data": {
      "text/html": [
       "<div><div style = \"float: left;\"><span>2×2 DataFrame</span></div><div style = \"clear: both;\"></div></div><div class = \"data-frame\" style = \"overflow-x: scroll;\"><table class = \"data-frame\" style = \"margin-bottom: 6px;\"><thead><tr class = \"header\"><th class = \"rowNumber\" style = \"font-weight: bold; text-align: right;\">Row</th><th style = \"text-align: left;\">Vazio</th><th style = \"text-align: left;\">Type</th></tr><tr class = \"subheader headerLastRow\"><th class = \"rowNumber\" style = \"font-weight: bold; text-align: right;\"></th><th title = \"Missing\" style = \"text-align: left;\">Missing</th><th title = \"DataType\" style = \"text-align: left;\">DataType</th></tr></thead><tbody><tr><td class = \"rowNumber\" style = \"font-weight: bold; text-align: right;\">1</td><td style = \"font-style: italic; text-align: right;\">missing</td><td style = \"text-align: left;\">Missing</td></tr><tr><td class = \"rowNumber\" style = \"font-weight: bold; text-align: right;\">2</td><td style = \"font-style: italic; text-align: right;\">missing</td><td style = \"text-align: left;\">Missing</td></tr></tbody></table></div>"
      ],
      "text/latex": [
       "\\begin{tabular}{r|cc}\n",
       "\t& Vazio & Type\\\\\n",
       "\t\\hline\n",
       "\t& Missing & DataType\\\\\n",
       "\t\\hline\n",
       "\t1 & \\emph{missing} & Missing \\\\\n",
       "\t2 & \\emph{missing} & Missing \\\\\n",
       "\\end{tabular}\n"
      ],
      "text/plain": [
       "\u001b[1m2×2 DataFrame\u001b[0m\n",
       "\u001b[1m Row \u001b[0m│\u001b[1m Vazio   \u001b[0m\u001b[1m Type     \u001b[0m\n",
       "     │\u001b[90m Missing \u001b[0m\u001b[90m DataType \u001b[0m\n",
       "─────┼───────────────────\n",
       "   1 │\u001b[90m missing \u001b[0m Missing\n",
       "   2 │\u001b[90m missing \u001b[0m Missing"
      ]
     },
     "metadata": {},
     "output_type": "display_data"
    }
   ],
   "source": [
    "DF_Vazio = DataFrame(\n",
    "    Vazio = [missing, missing]\n",
    ")\n",
    "\n",
    "@chain DF_Vazio begin\n",
    "    @transform( :Type = typeof.( :Vazio ) )\n",
    "end"
   ]
  },
  {
   "cell_type": "code",
   "execution_count": 35,
   "id": "b8e34972",
   "metadata": {},
   "outputs": [
    {
     "data": {
      "text/html": [
       "<div><div style = \"float: left;\"><span>6×2 DataFrame</span></div><div style = \"clear: both;\"></div></div><div class = \"data-frame\" style = \"overflow-x: scroll;\"><table class = \"data-frame\" style = \"margin-bottom: 6px;\"><thead><tr class = \"header\"><th class = \"rowNumber\" style = \"font-weight: bold; text-align: right;\">Row</th><th style = \"text-align: left;\">Numeros1</th><th style = \"text-align: left;\">Numeros2</th></tr><tr class = \"subheader headerLastRow\"><th class = \"rowNumber\" style = \"font-weight: bold; text-align: right;\"></th><th title = \"String\" style = \"text-align: left;\">String</th><th title = \"Union{Missing, String}\" style = \"text-align: left;\">String?</th></tr></thead><tbody><tr><td class = \"rowNumber\" style = \"font-weight: bold; text-align: right;\">1</td><td style = \"text-align: left;\">1</td><td style = \"text-align: left;\">1</td></tr><tr><td class = \"rowNumber\" style = \"font-weight: bold; text-align: right;\">2</td><td style = \"text-align: left;\">2</td><td style = \"text-align: left;\">2</td></tr><tr><td class = \"rowNumber\" style = \"font-weight: bold; text-align: right;\">3</td><td style = \"text-align: left;\">3</td><td style = \"text-align: left;\">3</td></tr><tr><td class = \"rowNumber\" style = \"font-weight: bold; text-align: right;\">4</td><td style = \"text-align: left;\">4</td><td style = \"text-align: left;\">4</td></tr><tr><td class = \"rowNumber\" style = \"font-weight: bold; text-align: right;\">5</td><td style = \"text-align: left;\">5</td><td style = \"text-align: left;\">5</td></tr><tr><td class = \"rowNumber\" style = \"font-weight: bold; text-align: right;\">6</td><td style = \"text-align: left;\">6</td><td style = \"font-style: italic; text-align: left;\">missing</td></tr></tbody></table></div>"
      ],
      "text/latex": [
       "\\begin{tabular}{r|cc}\n",
       "\t& Numeros1 & Numeros2\\\\\n",
       "\t\\hline\n",
       "\t& String & String?\\\\\n",
       "\t\\hline\n",
       "\t1 & 1 & 1 \\\\\n",
       "\t2 & 2 & 2 \\\\\n",
       "\t3 & 3 & 3 \\\\\n",
       "\t4 & 4 & 4 \\\\\n",
       "\t5 & 5 & 5 \\\\\n",
       "\t6 & 6 & \\emph{missing} \\\\\n",
       "\\end{tabular}\n"
      ],
      "text/plain": [
       "\u001b[1m6×2 DataFrame\u001b[0m\n",
       "\u001b[1m Row \u001b[0m│\u001b[1m Numeros1 \u001b[0m\u001b[1m Numeros2 \u001b[0m\n",
       "     │\u001b[90m String   \u001b[0m\u001b[90m String?  \u001b[0m\n",
       "─────┼────────────────────\n",
       "   1 │ 1         1\n",
       "   2 │ 2         2\n",
       "   3 │ 3         3\n",
       "   4 │ 4         4\n",
       "   5 │ 5         5\n",
       "   6 │ 6        \u001b[90m missing  \u001b[0m"
      ]
     },
     "metadata": {},
     "output_type": "display_data"
    }
   ],
   "source": [
    "DF_Numero_Vazio = DataFrame(\n",
    "    Numeros1 = [\"1\", \"2\", \"3\", \"4\", \"5\", \"6\"],\n",
    "    Numeros2 = [\"1\", \"2\", \"3\", \"4\", \"5\", missing]\n",
    ")"
   ]
  },
  {
   "cell_type": "code",
   "execution_count": 39,
   "id": "3e0ddb8a",
   "metadata": {},
   "outputs": [
    {
     "data": {
      "text/plain": [
       "6-element BitVector:\n",
       " 0\n",
       " 0\n",
       " 0\n",
       " 0\n",
       " 1\n",
       " 0"
      ]
     },
     "metadata": {},
     "output_type": "display_data"
    }
   ],
   "source": [
    "DF_Numero_Vazio.Teste1 = ( DF_Numero_Vazio.Numeros1 ) .=== \"5\""
   ]
  },
  {
   "cell_type": "code",
   "execution_count": 40,
   "id": "a3aebd16",
   "metadata": {},
   "outputs": [
    {
     "data": {
      "text/plain": [
       "6-element BitVector:\n",
       " 0\n",
       " 0\n",
       " 0\n",
       " 0\n",
       " 1\n",
       " 0"
      ]
     },
     "metadata": {},
     "output_type": "display_data"
    }
   ],
   "source": [
    "DF_Numero_Vazio.Teste2 = ( DF_Numero_Vazio.Numeros2 ) .=== \"5\""
   ]
  },
  {
   "cell_type": "code",
   "execution_count": 41,
   "id": "d2278017",
   "metadata": {},
   "outputs": [
    {
     "data": {
      "text/html": [
       "<div><div style = \"float: left;\"><span>6×4 DataFrame</span></div><div style = \"clear: both;\"></div></div><div class = \"data-frame\" style = \"overflow-x: scroll;\"><table class = \"data-frame\" style = \"margin-bottom: 6px;\"><thead><tr class = \"header\"><th class = \"rowNumber\" style = \"font-weight: bold; text-align: right;\">Row</th><th style = \"text-align: left;\">Numeros1</th><th style = \"text-align: left;\">Numeros2</th><th style = \"text-align: left;\">Teste1</th><th style = \"text-align: left;\">Teste2</th></tr><tr class = \"subheader headerLastRow\"><th class = \"rowNumber\" style = \"font-weight: bold; text-align: right;\"></th><th title = \"String\" style = \"text-align: left;\">String</th><th title = \"Union{Missing, String}\" style = \"text-align: left;\">String?</th><th title = \"Bool\" style = \"text-align: left;\">Bool</th><th title = \"Bool\" style = \"text-align: left;\">Bool</th></tr></thead><tbody><tr><td class = \"rowNumber\" style = \"font-weight: bold; text-align: right;\">1</td><td style = \"text-align: left;\">1</td><td style = \"text-align: left;\">1</td><td style = \"text-align: right;\">false</td><td style = \"text-align: right;\">false</td></tr><tr><td class = \"rowNumber\" style = \"font-weight: bold; text-align: right;\">2</td><td style = \"text-align: left;\">2</td><td style = \"text-align: left;\">2</td><td style = \"text-align: right;\">false</td><td style = \"text-align: right;\">false</td></tr><tr><td class = \"rowNumber\" style = \"font-weight: bold; text-align: right;\">3</td><td style = \"text-align: left;\">3</td><td style = \"text-align: left;\">3</td><td style = \"text-align: right;\">false</td><td style = \"text-align: right;\">false</td></tr><tr><td class = \"rowNumber\" style = \"font-weight: bold; text-align: right;\">4</td><td style = \"text-align: left;\">4</td><td style = \"text-align: left;\">4</td><td style = \"text-align: right;\">false</td><td style = \"text-align: right;\">false</td></tr><tr><td class = \"rowNumber\" style = \"font-weight: bold; text-align: right;\">5</td><td style = \"text-align: left;\">5</td><td style = \"text-align: left;\">5</td><td style = \"text-align: right;\">true</td><td style = \"text-align: right;\">true</td></tr><tr><td class = \"rowNumber\" style = \"font-weight: bold; text-align: right;\">6</td><td style = \"text-align: left;\">6</td><td style = \"font-style: italic; text-align: left;\">missing</td><td style = \"text-align: right;\">false</td><td style = \"text-align: right;\">false</td></tr></tbody></table></div>"
      ],
      "text/latex": [
       "\\begin{tabular}{r|cccc}\n",
       "\t& Numeros1 & Numeros2 & Teste1 & Teste2\\\\\n",
       "\t\\hline\n",
       "\t& String & String? & Bool & Bool\\\\\n",
       "\t\\hline\n",
       "\t1 & 1 & 1 & 0 & 0 \\\\\n",
       "\t2 & 2 & 2 & 0 & 0 \\\\\n",
       "\t3 & 3 & 3 & 0 & 0 \\\\\n",
       "\t4 & 4 & 4 & 0 & 0 \\\\\n",
       "\t5 & 5 & 5 & 1 & 1 \\\\\n",
       "\t6 & 6 & \\emph{missing} & 0 & 0 \\\\\n",
       "\\end{tabular}\n"
      ],
      "text/plain": [
       "\u001b[1m6×4 DataFrame\u001b[0m\n",
       "\u001b[1m Row \u001b[0m│\u001b[1m Numeros1 \u001b[0m\u001b[1m Numeros2 \u001b[0m\u001b[1m Teste1 \u001b[0m\u001b[1m Teste2 \u001b[0m\n",
       "     │\u001b[90m String   \u001b[0m\u001b[90m String?  \u001b[0m\u001b[90m Bool   \u001b[0m\u001b[90m Bool   \u001b[0m\n",
       "─────┼────────────────────────────────────\n",
       "   1 │ 1         1          false   false\n",
       "   2 │ 2         2          false   false\n",
       "   3 │ 3         3          false   false\n",
       "   4 │ 4         4          false   false\n",
       "   5 │ 5         5           true    true\n",
       "   6 │ 6        \u001b[90m missing  \u001b[0m  false   false"
      ]
     },
     "metadata": {},
     "output_type": "display_data"
    }
   ],
   "source": [
    "DF_Numero_Vazio"
   ]
  },
  {
   "cell_type": "code",
   "execution_count": 22,
   "id": "43287695",
   "metadata": {},
   "outputs": [
    {
     "data": {
      "text/plain": [
       "4-element Vector{Union{Missing, Date}}:\n",
       " 2023-01-01\n",
       " 2023-01-02\n",
       " 2023-01-03\n",
       " missing"
      ]
     },
     "metadata": {},
     "output_type": "display_data"
    }
   ],
   "source": [
    "push!( allowmissing( Date.( [\"2023-01-01\",\"2023-01-02\",\"2023-01-03\"]) ), missing )"
   ]
  },
  {
   "cell_type": "code",
   "execution_count": 40,
   "id": "f5f4e020",
   "metadata": {},
   "outputs": [
    {
     "data": {
      "text/plain": [
       "4-element Vector{Union{Missing, Date}}:\n",
       " 2023-01-01\n",
       " 2023-01-02\n",
       " 2023-01-03\n",
       " missing"
      ]
     },
     "metadata": {},
     "output_type": "display_data"
    }
   ],
   "source": [
    "@chain [\"2023-01-01\",\"2023-01-02\",\"2023-01-03\"] begin\n",
    "    Date.()\n",
    "    allowmissing()\n",
    "    push!(missing)\n",
    "end"
   ]
  },
  {
   "cell_type": "code",
   "execution_count": 47,
   "id": "e8e4d8c9",
   "metadata": {},
   "outputs": [
    {
     "data": {
      "text/html": [
       "<div><div style = \"float: left;\"><span>5×10 DataFrame</span></div><div style = \"clear: both;\"></div></div><div class = \"data-frame\" style = \"overflow-x: scroll;\"><table class = \"data-frame\" style = \"margin-bottom: 6px;\"><thead><tr class = \"header\"><th class = \"rowNumber\" style = \"font-weight: bold; text-align: right;\">Row</th><th style = \"text-align: left;\">Texto</th><th style = \"text-align: left;\">Texto_</th><th style = \"text-align: left;\">Número_Int</th><th style = \"text-align: left;\">Número_Int_</th><th style = \"text-align: left;\">Número_Virg</th><th style = \"text-align: left;\">Número_Virg_</th><th style = \"text-align: left;\">Data</th><th style = \"text-align: left;\">Data_</th><th style = \"text-align: left;\">Lógico</th><th style = \"text-align: left;\">Lógico_</th></tr><tr class = \"subheader headerLastRow\"><th class = \"rowNumber\" style = \"font-weight: bold; text-align: right;\"></th><th title = \"String\" style = \"text-align: left;\">String</th><th title = \"Union{Missing, String}\" style = \"text-align: left;\">String?</th><th title = \"Int64\" style = \"text-align: left;\">Int64</th><th title = \"Union{Missing, Int64}\" style = \"text-align: left;\">Int64?</th><th title = \"Float64\" style = \"text-align: left;\">Float64</th><th title = \"Union{Missing, Float64}\" style = \"text-align: left;\">Float64?</th><th title = \"Date\" style = \"text-align: left;\">Date</th><th title = \"Union{Missing, Date}\" style = \"text-align: left;\">Date?</th><th title = \"Bool\" style = \"text-align: left;\">Bool</th><th title = \"Union{Missing, Bool}\" style = \"text-align: left;\">Bool?</th></tr></thead><tbody><tr><td class = \"rowNumber\" style = \"font-weight: bold; text-align: right;\">1</td><td style = \"text-align: left;\">a</td><td style = \"text-align: left;\">a</td><td style = \"text-align: right;\">1</td><td style = \"text-align: right;\">1</td><td style = \"text-align: right;\">1.0</td><td style = \"text-align: right;\">1.0</td><td style = \"text-align: left;\">2023-01-01</td><td style = \"text-align: left;\">2023-01-01</td><td style = \"text-align: right;\">true</td><td style = \"text-align: right;\">true</td></tr><tr><td class = \"rowNumber\" style = \"font-weight: bold; text-align: right;\">2</td><td style = \"text-align: left;\">b</td><td style = \"text-align: left;\">b</td><td style = \"text-align: right;\">2</td><td style = \"text-align: right;\">2</td><td style = \"text-align: right;\">2.0</td><td style = \"text-align: right;\">2.0</td><td style = \"text-align: left;\">2023-01-02</td><td style = \"text-align: left;\">2023-01-02</td><td style = \"text-align: right;\">false</td><td style = \"text-align: right;\">false</td></tr><tr><td class = \"rowNumber\" style = \"font-weight: bold; text-align: right;\">3</td><td style = \"text-align: left;\">c</td><td style = \"text-align: left;\">c</td><td style = \"text-align: right;\">3</td><td style = \"text-align: right;\">3</td><td style = \"text-align: right;\">3.0</td><td style = \"text-align: right;\">3.0</td><td style = \"text-align: left;\">2023-01-03</td><td style = \"text-align: left;\">2023-01-03</td><td style = \"text-align: right;\">true</td><td style = \"text-align: right;\">true</td></tr><tr><td class = \"rowNumber\" style = \"font-weight: bold; text-align: right;\">4</td><td style = \"text-align: left;\">d</td><td style = \"text-align: left;\">d</td><td style = \"text-align: right;\">4</td><td style = \"text-align: right;\">4</td><td style = \"text-align: right;\">4.0</td><td style = \"text-align: right;\">4.0</td><td style = \"text-align: left;\">2023-01-04</td><td style = \"text-align: left;\">2023-01-04</td><td style = \"text-align: right;\">false</td><td style = \"text-align: right;\">false</td></tr><tr><td class = \"rowNumber\" style = \"font-weight: bold; text-align: right;\">5</td><td style = \"text-align: left;\">e</td><td style = \"font-style: italic; text-align: left;\">missing</td><td style = \"text-align: right;\">5</td><td style = \"font-style: italic; text-align: right;\">missing</td><td style = \"text-align: right;\">5.0</td><td style = \"font-style: italic; text-align: right;\">missing</td><td style = \"text-align: left;\">2023-01-05</td><td style = \"font-style: italic; text-align: left;\">missing</td><td style = \"text-align: right;\">true</td><td style = \"font-style: italic; text-align: right;\">missing</td></tr></tbody></table></div>"
      ],
      "text/latex": [
       "\\begin{tabular}{r|cccccccccc}\n",
       "\t& Texto & Texto\\_ & Número\\_Int & Número\\_Int\\_ & Número\\_Virg & Número\\_Virg\\_ & Data & Data\\_ & Lógico & Lógico\\_\\\\\n",
       "\t\\hline\n",
       "\t& String & String? & Int64 & Int64? & Float64 & Float64? & Date & Date? & Bool & Bool?\\\\\n",
       "\t\\hline\n",
       "\t1 & a & a & 1 & 1 & 1.0 & 1.0 & 2023-01-01 & 2023-01-01 & 1 & 1 \\\\\n",
       "\t2 & b & b & 2 & 2 & 2.0 & 2.0 & 2023-01-02 & 2023-01-02 & 0 & 0 \\\\\n",
       "\t3 & c & c & 3 & 3 & 3.0 & 3.0 & 2023-01-03 & 2023-01-03 & 1 & 1 \\\\\n",
       "\t4 & d & d & 4 & 4 & 4.0 & 4.0 & 2023-01-04 & 2023-01-04 & 0 & 0 \\\\\n",
       "\t5 & e & \\emph{missing} & 5 & \\emph{missing} & 5.0 & \\emph{missing} & 2023-01-05 & \\emph{missing} & 1 & \\emph{missing} \\\\\n",
       "\\end{tabular}\n"
      ],
      "text/plain": [
       "\u001b[1m5×10 DataFrame\u001b[0m\n",
       "\u001b[1m Row \u001b[0m│\u001b[1m Texto  \u001b[0m\u001b[1m Texto_  \u001b[0m\u001b[1m Número_Int \u001b[0m\u001b[1m Número_Int_ \u001b[0m\u001b[1m Número_Virg \u001b[0m\u001b[1m Número_Virg_ \u001b[0m\u001b[1m Data       \u001b[0m\u001b[1m Data_      \u001b[0m\u001b[1m Lógico \u001b[0m\u001b[1m Lógico_ \u001b[0m\n",
       "     │\u001b[90m String \u001b[0m\u001b[90m String? \u001b[0m\u001b[90m Int64      \u001b[0m\u001b[90m Int64?      \u001b[0m\u001b[90m Float64     \u001b[0m\u001b[90m Float64?     \u001b[0m\u001b[90m Date       \u001b[0m\u001b[90m Date?      \u001b[0m\u001b[90m Bool   \u001b[0m\u001b[90m Bool?   \u001b[0m\n",
       "─────┼──────────────────────────────────────────────────────────────────────────────────────────────────────────────\n",
       "   1 │ a       a                 1            1          1.0           1.0  2023-01-01  2023-01-01    true     true\n",
       "   2 │ b       b                 2            2          2.0           2.0  2023-01-02  2023-01-02   false    false\n",
       "   3 │ c       c                 3            3          3.0           3.0  2023-01-03  2023-01-03    true     true\n",
       "   4 │ d       d                 4            4          4.0           4.0  2023-01-04  2023-01-04   false    false\n",
       "   5 │ e      \u001b[90m missing \u001b[0m          5 \u001b[90m     missing \u001b[0m         5.0 \u001b[90m    missing   \u001b[0m 2023-01-05 \u001b[90m missing    \u001b[0m   true \u001b[90m missing \u001b[0m"
      ]
     },
     "metadata": {},
     "output_type": "display_data"
    }
   ],
   "source": [
    "DataFrame(\n",
    "    Texto   = [\"a\", \"b\", \"c\", \"d\", \"e\"],\n",
    "    Texto_  = [\"a\", \"b\", \"c\", \"d\", missing],\n",
    "\n",
    "    Número_Int  = [1, 2, 3, 4, 5],\n",
    "    Número_Int_ = [1, 2, 3, 4, missing],\n",
    "\n",
    "    Número_Virg  = [1.0, 2.0, 3.0, 4.0, 5.0],\n",
    "    Número_Virg_ = [1.0, 2.0, 3.0, 4.0, missing],\n",
    "\n",
    "    Data    = Date.([\"2023-01-01\", \"2023-01-02\", \"2023-01-03\", \"2023-01-04\", \"2023-01-05\"]),\n",
    "    Data_   = push!( allowmissing( Date.( [\"2023-01-01\",\"2023-01-02\",\"2023-01-03\", \"2023-01-04\"]) ), missing ),\n",
    "\n",
    "    Lógico  = [true, false, true, false, true],\n",
    "    Lógico_ = [true, false, true, false, missing]\n",
    ")"
   ]
  },
  {
   "cell_type": "markdown",
   "id": "21fb8be5",
   "metadata": {},
   "source": [
    "##### Tipos diferentes"
   ]
  },
  {
   "cell_type": "code",
   "execution_count": 56,
   "id": "ee930331",
   "metadata": {},
   "outputs": [
    {
     "data": {
      "text/plain": [
       "\"casacasacasacasacasacasacasacasacasacasa\""
      ]
     },
     "metadata": {},
     "output_type": "display_data"
    }
   ],
   "source": [
    "\"casa\""
   ]
  },
  {
   "cell_type": "code",
   "execution_count": 27,
   "id": "8eb0d41a",
   "metadata": {},
   "outputs": [
    {
     "name": "stdout",
     "output_type": "stream",
     "text": [
      "796"
     ]
    }
   ],
   "source": [
    "let _QTD_car_name_  = length( unique( CARS.car_name ) ) \n",
    "    _QTD_fuel_type_ = length( unique( CARS.fuel_type ) ) \n",
    "    combinacoes_car_name_X_fuel_type = _QTD_car_name_ * _QTD_fuel_type_\n",
    "    print(combinacoes_car_name_X_fuel_type)\n",
    "end"
   ]
  },
  {
   "cell_type": "code",
   "execution_count": 14,
   "id": "12fd40a2",
   "metadata": {},
   "outputs": [
    {
     "data": {
      "text/html": [
       "<div><div style = \"float: left;\"><span>8×3 DataFrame</span></div><div style = \"clear: both;\"></div></div><div class = \"data-frame\" style = \"overflow-x: scroll;\"><table class = \"data-frame\" style = \"margin-bottom: 6px;\"><thead><tr class = \"header\"><th class = \"rowNumber\" style = \"font-weight: bold; text-align: right;\">Row</th><th style = \"text-align: left;\">car_name</th><th style = \"text-align: left;\">fuel_type</th><th style = \"text-align: left;\">no_cylinder</th></tr><tr class = \"subheader headerLastRow\"><th class = \"rowNumber\" style = \"font-weight: bold; text-align: right;\"></th><th title = \"String31\" style = \"text-align: left;\">String31</th><th title = \"String15\" style = \"text-align: left;\">String15</th><th title = \"Int64\" style = \"text-align: left;\">Int64</th></tr></thead><tbody><tr><td class = \"rowNumber\" style = \"font-weight: bold; text-align: right;\">1</td><td style = \"text-align: left;\">Lamborghini Aventador</td><td style = \"text-align: left;\">Petrol</td><td style = \"text-align: right;\">12</td></tr><tr><td class = \"rowNumber\" style = \"font-weight: bold; text-align: right;\">2</td><td style = \"text-align: left;\">Rolls-Royce Ghost</td><td style = \"text-align: left;\">Petrol</td><td style = \"text-align: right;\">12</td></tr><tr><td class = \"rowNumber\" style = \"font-weight: bold; text-align: right;\">3</td><td style = \"text-align: left;\">Rolls-Royce Cullinan</td><td style = \"text-align: left;\">Petrol</td><td style = \"text-align: right;\">12</td></tr><tr><td class = \"rowNumber\" style = \"font-weight: bold; text-align: right;\">4</td><td style = \"text-align: left;\">Bentley Flying Spur</td><td style = \"text-align: left;\">Petrol</td><td style = \"text-align: right;\">12</td></tr><tr><td class = \"rowNumber\" style = \"font-weight: bold; text-align: right;\">5</td><td style = \"text-align: left;\">Mercedes-Benz Maybach S-Class</td><td style = \"text-align: left;\">Petrol</td><td style = \"text-align: right;\">12</td></tr><tr><td class = \"rowNumber\" style = \"font-weight: bold; text-align: right;\">6</td><td style = \"text-align: left;\">Bentley Continental</td><td style = \"text-align: left;\">Petrol</td><td style = \"text-align: right;\">12</td></tr><tr><td class = \"rowNumber\" style = \"font-weight: bold; text-align: right;\">7</td><td style = \"text-align: left;\">Rolls Royce Wraith</td><td style = \"text-align: left;\">Petrol</td><td style = \"text-align: right;\">12</td></tr><tr><td class = \"rowNumber\" style = \"font-weight: bold; text-align: right;\">8</td><td style = \"text-align: left;\">Rolls Royce Dawn</td><td style = \"text-align: left;\">Petrol</td><td style = \"text-align: right;\">12</td></tr></tbody></table></div>"
      ],
      "text/latex": [
       "\\begin{tabular}{r|ccc}\n",
       "\t& car\\_name & fuel\\_type & no\\_cylinder\\\\\n",
       "\t\\hline\n",
       "\t& String31 & String15 & Int64\\\\\n",
       "\t\\hline\n",
       "\t1 & Lamborghini Aventador & Petrol & 12 \\\\\n",
       "\t2 & Rolls-Royce Ghost & Petrol & 12 \\\\\n",
       "\t3 & Rolls-Royce Cullinan & Petrol & 12 \\\\\n",
       "\t4 & Bentley Flying Spur & Petrol & 12 \\\\\n",
       "\t5 & Mercedes-Benz Maybach S-Class & Petrol & 12 \\\\\n",
       "\t6 & Bentley Continental & Petrol & 12 \\\\\n",
       "\t7 & Rolls Royce Wraith & Petrol & 12 \\\\\n",
       "\t8 & Rolls Royce Dawn & Petrol & 12 \\\\\n",
       "\\end{tabular}\n"
      ],
      "text/plain": [
       "\u001b[1m8×3 DataFrame\u001b[0m\n",
       "\u001b[1m Row \u001b[0m│\u001b[1m car_name                      \u001b[0m\u001b[1m fuel_type \u001b[0m\u001b[1m no_cylinder \u001b[0m\n",
       "     │\u001b[90m String31                      \u001b[0m\u001b[90m String15  \u001b[0m\u001b[90m Int64       \u001b[0m\n",
       "─────┼───────────────────────────────────────────────────────\n",
       "   1 │ Lamborghini Aventador          Petrol              12\n",
       "   2 │ Rolls-Royce Ghost              Petrol              12\n",
       "   3 │ Rolls-Royce Cullinan           Petrol              12\n",
       "   4 │ Bentley Flying Spur            Petrol              12\n",
       "   5 │ Mercedes-Benz Maybach S-Class  Petrol              12\n",
       "   6 │ Bentley Continental            Petrol              12\n",
       "   7 │ Rolls Royce Wraith             Petrol              12\n",
       "   8 │ Rolls Royce Dawn               Petrol              12"
      ]
     },
     "execution_count": 14,
     "metadata": {},
     "output_type": "execute_result"
    }
   ],
   "source": [
    "@chain CARS begin\n",
    "    select( [:car_name, :fuel_type, :no_cylinder] )  # Filtro de Colunas\n",
    "    @subset( :no_cylinder .> 10 )                    # Filtro de Linhas\n",
    "end"
   ]
  },
  {
   "cell_type": "code",
   "execution_count": null,
   "id": "39121a5c",
   "metadata": {},
   "outputs": [],
   "source": []
  },
  {
   "attachments": {},
   "cell_type": "markdown",
   "id": "5cec9a3f",
   "metadata": {},
   "source": [
    "## <h1 style=\"font-family:impact; background-color:#3C2A21; color:#D5CEA3; text-align:center\">Teste de Velocidade</h1>"
   ]
  },
  {
   "cell_type": "code",
   "execution_count": 25,
   "id": "52625406",
   "metadata": {},
   "outputs": [],
   "source": [
    "lat1 = Float64[]\n",
    "lat2 = Float64[]\n",
    "lon1 = Float64[]\n",
    "lon2 = Float64[]\n",
    "\n",
    "for x in 1:5_000_000\n",
    "    push!( lat1, (rand() * 120)  -60 )\n",
    "    push!( lat2, (rand() * 120)  -60 )\n",
    "    push!( lon1, (rand() * 240) -120 )\n",
    "    push!( lon2, (rand() * 240) -120 )\n",
    "end\n",
    "\n",
    "teste = DataFrame(\n",
    "    lat_1 = lat1,\n",
    "    lat_2 = lat2,\n",
    "    lon_1 = lon1,\n",
    "    lon_2 = lon2,\n",
    "    distancia = 2 .* 6378.1 .* asin.( sqrt.( abs.(\n",
    "        sin.( ( deg2rad.(lat1 .- lat2) ) ./ 2 ).^2 .+\n",
    "        cos.( deg2rad.(lon1) ) .* cos.( deg2rad.(lon2) ) .*\n",
    "        sin.( ( deg2rad.(lon1 .- lon2) ) ./ 2 ).^2\n",
    "    ) ) )\n",
    ")\n",
    "teste\n",
    "GC.gc()"
   ]
  },
  {
   "cell_type": "code",
   "execution_count": null,
   "id": "a7b407c1",
   "metadata": {},
   "outputs": [],
   "source": [
    "t100000 = [0.2, 0.2, 0.2]"
   ]
  },
  {
   "attachments": {},
   "cell_type": "markdown",
   "id": "094b424b",
   "metadata": {},
   "source": [
    "## <h1 style=\"font-family:impact; background-color:#3C2A21; color:#D5CEA3; text-align:center\">Dashboard</h1>"
   ]
  },
  {
   "cell_type": "code",
   "execution_count": 2,
   "id": "af10475f",
   "metadata": {},
   "outputs": [
    {
     "name": "stderr",
     "output_type": "stream",
     "text": [
      "┌ Info: Listening on: 0.0.0.0:8080\n",
      "└ @ HTTP.Servers C:\\Users\\danil\\.julia\\packages\\HTTP\\aTjcj\\src\\Servers.jl:268\n"
     ]
    }
   ],
   "source": [
    "app = dash(external_stylesheets = [\"https://codepen.io/chriddyp/pen/bWLwgP.css\"])\n",
    "\n",
    "app.layout = html_div() do\n",
    "    html_h1(\"Hello Dash\"),\n",
    "    html_div(\"Dash.jl: Julia interface for Dash\"),\n",
    "    dcc_graph(\n",
    "        id = \"example-graph\",\n",
    "        figure = (\n",
    "            data = [\n",
    "                (x = [1, 2, 3], y = [4, 1, 2], type = \"bar\", name = \"SF\"),\n",
    "                (x = [1, 2, 3], y = [2, 4, 5], type = \"bar\", name = \"Montréal\"),\n",
    "            ],\n",
    "            layout = (title = \"Dash Data Visualization\",)\n",
    "        )\n",
    "    )\n",
    "end\n",
    "\n",
    "run_server(app, \"0.0.0.0\", 8080)"
   ]
  }
 ],
 "metadata": {
  "kernelspec": {
   "display_name": "Julia 1.8.4",
   "language": "julia",
   "name": "julia-1.8"
  },
  "language_info": {
   "file_extension": ".jl",
   "mimetype": "application/julia",
   "name": "julia",
   "version": "1.8.4"
  },
  "vscode": {
   "interpreter": {
    "hash": "bf6e68f63c5332c5a5c0afd729fba59b86b097c63a7331fcdf5575bcde342b88"
   }
  }
 },
 "nbformat": 4,
 "nbformat_minor": 5
}
