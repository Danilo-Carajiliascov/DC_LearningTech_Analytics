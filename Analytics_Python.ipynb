{
 "cells": [
  {
   "cell_type": "markdown",
   "id": "32a688dc",
   "metadata": {},
   "source": [
    "## Carregar Bibliotecas"
   ]
  },
  {
   "cell_type": "code",
   "execution_count": 2,
   "id": "612ec1b4-1a52-44fd-a2b1-95f151a14552",
   "metadata": {},
   "outputs": [],
   "source": [
    "import pandas as pd\n",
    "import numpy as np\n",
    "import datetime as dtt\n",
    "import gc\n",
    "from datar import f\n",
    "from datar.all import *\n",
    "import random"
   ]
  },
  {
   "cell_type": "code",
   "execution_count": 2,
   "id": "7a67f18c",
   "metadata": {},
   "outputs": [],
   "source": [
    "pd.options.display.min_rows    =  15\n",
    "pd.options.display.max_rows    =  20\n",
    "pd.options.display.max_columns =  35\n",
    "pd.options.display.width       = 150"
   ]
  },
  {
   "cell_type": "markdown",
   "id": "1b84983a",
   "metadata": {},
   "source": [
    "## Base de Dados"
   ]
  },
  {
   "cell_type": "markdown",
   "id": "f404c20c",
   "metadata": {},
   "source": [
    "##### CARS"
   ]
  },
  {
   "cell_type": "code",
   "execution_count": 63,
   "id": "fa247766",
   "metadata": {},
   "outputs": [
    {
     "data": {
      "text/html": [
       "<div>\n",
       "<style scoped>\n",
       "    .dataframe tbody tr th:only-of-type {\n",
       "        vertical-align: middle;\n",
       "    }\n",
       "\n",
       "    .dataframe tbody tr th {\n",
       "        vertical-align: top;\n",
       "    }\n",
       "\n",
       "    .dataframe thead th {\n",
       "        text-align: right;\n",
       "    }\n",
       "</style>\n",
       "<table border=\"1\" class=\"dataframe\">\n",
       "  <thead>\n",
       "    <tr style=\"text-align: right;\">\n",
       "      <th></th>\n",
       "      <th>car_name</th>\n",
       "      <th>reviews_count</th>\n",
       "      <th>fuel_type</th>\n",
       "      <th>engine_displacement</th>\n",
       "      <th>no_cylinder</th>\n",
       "      <th>seating_capacity</th>\n",
       "      <th>transmission_type</th>\n",
       "      <th>fuel_tank_capacity</th>\n",
       "      <th>body_type</th>\n",
       "      <th>rating</th>\n",
       "      <th>starting_price</th>\n",
       "      <th>ending_price</th>\n",
       "      <th>max_torque_nm</th>\n",
       "      <th>max_torque_rpm</th>\n",
       "      <th>max_power_bhp</th>\n",
       "      <th>max_power_rp</th>\n",
       "    </tr>\n",
       "  </thead>\n",
       "  <tbody>\n",
       "    <tr>\n",
       "      <th style=\"font-style: italic;\" ></th>\n",
       "      <td style=\"font-style: italic;\" >&lt;object&gt;</td>\n",
       "      <td style=\"font-style: italic;\" >&lt;int64&gt;</td>\n",
       "      <td style=\"font-style: italic;\" >&lt;object&gt;</td>\n",
       "      <td style=\"font-style: italic;\" >&lt;int64&gt;</td>\n",
       "      <td style=\"font-style: italic;\" >&lt;int64&gt;</td>\n",
       "      <td style=\"font-style: italic;\" >&lt;float64&gt;</td>\n",
       "      <td style=\"font-style: italic;\" >&lt;object&gt;</td>\n",
       "      <td style=\"font-style: italic;\" >&lt;float64&gt;</td>\n",
       "      <td style=\"font-style: italic;\" >&lt;object&gt;</td>\n",
       "      <td style=\"font-style: italic;\" >&lt;float64&gt;</td>\n",
       "      <td style=\"font-style: italic;\" >&lt;int64&gt;</td>\n",
       "      <td style=\"font-style: italic;\" >&lt;int64&gt;</td>\n",
       "      <td style=\"font-style: italic;\" >&lt;float64&gt;</td>\n",
       "      <td style=\"font-style: italic;\" >&lt;int64&gt;</td>\n",
       "      <td style=\"font-style: italic;\" >&lt;float64&gt;</td>\n",
       "      <td style=\"font-style: italic;\" >&lt;int64&gt;</td>\n",
       "    </tr>\n",
       "    <tr>\n",
       "      <th>0</th>\n",
       "      <td>Maruti Alto K10</td>\n",
       "      <td>51</td>\n",
       "      <td>Petrol</td>\n",
       "      <td>998</td>\n",
       "      <td>3</td>\n",
       "      <td>5.0</td>\n",
       "      <td>Automatic</td>\n",
       "      <td>27.0</td>\n",
       "      <td>Hatchback</td>\n",
       "      <td>4.5</td>\n",
       "      <td>399000</td>\n",
       "      <td>583000</td>\n",
       "      <td>89.0</td>\n",
       "      <td>3500</td>\n",
       "      <td>65.71</td>\n",
       "      <td>5500</td>\n",
       "    </tr>\n",
       "    <tr>\n",
       "      <th>1</th>\n",
       "      <td>Maruti Brezza</td>\n",
       "      <td>86</td>\n",
       "      <td>Petrol</td>\n",
       "      <td>1462</td>\n",
       "      <td>4</td>\n",
       "      <td>5.0</td>\n",
       "      <td>Automatic</td>\n",
       "      <td>48.0</td>\n",
       "      <td>SUV</td>\n",
       "      <td>4.5</td>\n",
       "      <td>799000</td>\n",
       "      <td>1396000</td>\n",
       "      <td>136.8</td>\n",
       "      <td>4400</td>\n",
       "      <td>101.65</td>\n",
       "      <td>6000</td>\n",
       "    </tr>\n",
       "    <tr>\n",
       "      <th>2</th>\n",
       "      <td>Mahindra Thar</td>\n",
       "      <td>242</td>\n",
       "      <td>Diesel</td>\n",
       "      <td>2184</td>\n",
       "      <td>4</td>\n",
       "      <td>4.0</td>\n",
       "      <td>Automatic</td>\n",
       "      <td>57.0</td>\n",
       "      <td>SUV</td>\n",
       "      <td>4.5</td>\n",
       "      <td>1353000</td>\n",
       "      <td>1603000</td>\n",
       "      <td>300.0</td>\n",
       "      <td>2800</td>\n",
       "      <td>130.00</td>\n",
       "      <td>3750</td>\n",
       "    </tr>\n",
       "    <tr>\n",
       "      <th>3</th>\n",
       "      <td>Mahindra XUV700</td>\n",
       "      <td>313</td>\n",
       "      <td>Diesel</td>\n",
       "      <td>2198</td>\n",
       "      <td>4</td>\n",
       "      <td>7.0</td>\n",
       "      <td>Automatic</td>\n",
       "      <td>60.0</td>\n",
       "      <td>SUV</td>\n",
       "      <td>4.5</td>\n",
       "      <td>1318000</td>\n",
       "      <td>2458000</td>\n",
       "      <td>450.0</td>\n",
       "      <td>2800</td>\n",
       "      <td>182.38</td>\n",
       "      <td>3500</td>\n",
       "    </tr>\n",
       "    <tr>\n",
       "      <th>...</th>\n",
       "      <td>...</td>\n",
       "      <td>...</td>\n",
       "      <td>...</td>\n",
       "      <td>...</td>\n",
       "      <td>...</td>\n",
       "      <td>...</td>\n",
       "      <td>...</td>\n",
       "      <td>...</td>\n",
       "      <td>...</td>\n",
       "      <td>...</td>\n",
       "      <td>...</td>\n",
       "      <td>...</td>\n",
       "      <td>...</td>\n",
       "      <td>...</td>\n",
       "      <td>...</td>\n",
       "      <td>...</td>\n",
       "    </tr>\n",
       "    <tr>\n",
       "      <th>4</th>\n",
       "      <td>Mahindra Scorpio-N</td>\n",
       "      <td>107</td>\n",
       "      <td>Diesel</td>\n",
       "      <td>2198</td>\n",
       "      <td>4</td>\n",
       "      <td>7.0</td>\n",
       "      <td>Automatic</td>\n",
       "      <td>57.0</td>\n",
       "      <td>SUV</td>\n",
       "      <td>4.5</td>\n",
       "      <td>1199000</td>\n",
       "      <td>2390000</td>\n",
       "      <td>400.0</td>\n",
       "      <td>2750</td>\n",
       "      <td>172.45</td>\n",
       "      <td>3500</td>\n",
       "    </tr>\n",
       "    <tr>\n",
       "      <th>198</th>\n",
       "      <td>Mercedes-Benz AMG A 45 S</td>\n",
       "      <td>35</td>\n",
       "      <td>Petrol</td>\n",
       "      <td>1991</td>\n",
       "      <td>4</td>\n",
       "      <td>5.0</td>\n",
       "      <td>Automatic</td>\n",
       "      <td>0.0</td>\n",
       "      <td>Hatchback</td>\n",
       "      <td>4.5</td>\n",
       "      <td>659000</td>\n",
       "      <td>999000</td>\n",
       "      <td>500.0</td>\n",
       "      <td>5250</td>\n",
       "      <td>415.71</td>\n",
       "      <td>6750</td>\n",
       "    </tr>\n",
       "    <tr>\n",
       "      <th>199</th>\n",
       "      <td>BMW 3 Series Gran Limousine</td>\n",
       "      <td>3</td>\n",
       "      <td>Petrol</td>\n",
       "      <td>1998</td>\n",
       "      <td>4</td>\n",
       "      <td>5.0</td>\n",
       "      <td>Automatic</td>\n",
       "      <td>59.0</td>\n",
       "      <td>Sedan</td>\n",
       "      <td>4.5</td>\n",
       "      <td>1041000</td>\n",
       "      <td>1041000</td>\n",
       "      <td>400.0</td>\n",
       "      <td>4400</td>\n",
       "      <td>254.79</td>\n",
       "      <td>5000</td>\n",
       "    </tr>\n",
       "    <tr>\n",
       "      <th>200</th>\n",
       "      <td>MG Hector Plus</td>\n",
       "      <td>2</td>\n",
       "      <td>Diesel</td>\n",
       "      <td>1956</td>\n",
       "      <td>4</td>\n",
       "      <td>7.0</td>\n",
       "      <td>Manual</td>\n",
       "      <td>60.0</td>\n",
       "      <td>SUV</td>\n",
       "      <td>4.5</td>\n",
       "      <td>1615000</td>\n",
       "      <td>2075000</td>\n",
       "      <td>350.0</td>\n",
       "      <td>2500</td>\n",
       "      <td>167.67</td>\n",
       "      <td>3750</td>\n",
       "    </tr>\n",
       "    <tr>\n",
       "      <th>201</th>\n",
       "      <td>Audi RS Q8</td>\n",
       "      <td>9</td>\n",
       "      <td>Petrol</td>\n",
       "      <td>3998</td>\n",
       "      <td>8</td>\n",
       "      <td>5.0</td>\n",
       "      <td>Automatic</td>\n",
       "      <td>85.0</td>\n",
       "      <td>SUV</td>\n",
       "      <td>3.5</td>\n",
       "      <td>21700000</td>\n",
       "      <td>21700000</td>\n",
       "      <td>800.0</td>\n",
       "      <td>4500</td>\n",
       "      <td>591.39</td>\n",
       "      <td>6000</td>\n",
       "    </tr>\n",
       "    <tr>\n",
       "      <th>202</th>\n",
       "      <td>Maruti Alto 800 tour</td>\n",
       "      <td>4</td>\n",
       "      <td>Petrol</td>\n",
       "      <td>796</td>\n",
       "      <td>3</td>\n",
       "      <td>5.0</td>\n",
       "      <td>Manual</td>\n",
       "      <td>35.0</td>\n",
       "      <td>Hatchback</td>\n",
       "      <td>4.5</td>\n",
       "      <td>391000</td>\n",
       "      <td>397000</td>\n",
       "      <td>69.0</td>\n",
       "      <td>3500</td>\n",
       "      <td>47.33</td>\n",
       "      <td>6000</td>\n",
       "    </tr>\n",
       "  </tbody>\n",
       "</table>\n",
       "<p>203 rows × 16 columns</p>\n",
       "</div>\n"
      ],
      "text/plain": [
       "                        car_name  reviews_count fuel_type  \\\n",
       "                        <object>        <int64>  <object>   \n",
       "0                Maruti Alto K10             51    Petrol   \n",
       "1                  Maruti Brezza             86    Petrol   \n",
       "2                  Mahindra Thar            242    Diesel   \n",
       "3                Mahindra XUV700            313    Diesel   \n",
       "..                           ...            ...       ...   \n",
       "4             Mahindra Scorpio-N            107    Diesel   \n",
       "198     Mercedes-Benz AMG A 45 S             35    Petrol   \n",
       "199  BMW 3 Series Gran Limousine              3    Petrol   \n",
       "200               MG Hector Plus              2    Diesel   \n",
       "201                   Audi RS Q8              9    Petrol   \n",
       "202         Maruti Alto 800 tour              4    Petrol   \n",
       "\n",
       "     engine_displacement  no_cylinder  seating_capacity transmission_type  \\\n",
       "                 <int64>      <int64>         <float64>          <object>   \n",
       "0                    998            3               5.0         Automatic   \n",
       "1                   1462            4               5.0         Automatic   \n",
       "2                   2184            4               4.0         Automatic   \n",
       "3                   2198            4               7.0         Automatic   \n",
       "..                   ...          ...               ...               ...   \n",
       "4                   2198            4               7.0         Automatic   \n",
       "198                 1991            4               5.0         Automatic   \n",
       "199                 1998            4               5.0         Automatic   \n",
       "200                 1956            4               7.0            Manual   \n",
       "201                 3998            8               5.0         Automatic   \n",
       "202                  796            3               5.0            Manual   \n",
       "\n",
       "     fuel_tank_capacity  body_type    rating  starting_price  ending_price  \\\n",
       "              <float64>   <object> <float64>         <int64>       <int64>   \n",
       "0                  27.0  Hatchback       4.5          399000        583000   \n",
       "1                  48.0        SUV       4.5          799000       1396000   \n",
       "2                  57.0        SUV       4.5         1353000       1603000   \n",
       "3                  60.0        SUV       4.5         1318000       2458000   \n",
       "..                  ...        ...       ...             ...           ...   \n",
       "4                  57.0        SUV       4.5         1199000       2390000   \n",
       "198                 0.0  Hatchback       4.5          659000        999000   \n",
       "199                59.0      Sedan       4.5         1041000       1041000   \n",
       "200                60.0        SUV       4.5         1615000       2075000   \n",
       "201                85.0        SUV       3.5        21700000      21700000   \n",
       "202                35.0  Hatchback       4.5          391000        397000   \n",
       "\n",
       "     max_torque_nm  max_torque_rpm  max_power_bhp  max_power_rp  \n",
       "         <float64>         <int64>      <float64>       <int64>  \n",
       "0             89.0            3500          65.71          5500  \n",
       "1            136.8            4400         101.65          6000  \n",
       "2            300.0            2800         130.00          3750  \n",
       "3            450.0            2800         182.38          3500  \n",
       "..             ...             ...            ...           ...  \n",
       "4            400.0            2750         172.45          3500  \n",
       "198          500.0            5250         415.71          6750  \n",
       "199          400.0            4400         254.79          5000  \n",
       "200          350.0            2500         167.67          3750  \n",
       "201          800.0            4500         591.39          6000  \n",
       "202           69.0            3500          47.33          6000  \n",
       "\n",
       "[203 rows x 16 columns]"
      ]
     },
     "execution_count": 63,
     "metadata": {},
     "output_type": "execute_result"
    }
   ],
   "source": [
    "CARS = pd.read_csv(\"C:/Users/danil/OneDrive/Danilo_Back-up/Kaggle/CARS_1.csv\")\n",
    "CARS"
   ]
  },
  {
   "cell_type": "markdown",
   "id": "5aebbe24",
   "metadata": {},
   "source": [
    "##### kc_home"
   ]
  },
  {
   "cell_type": "code",
   "execution_count": null,
   "id": "4a37b8d1",
   "metadata": {},
   "outputs": [],
   "source": [
    "kc_house_data = pd.read_csv(\"C:/Users/danil/OneDrive/Danilo_Back-up/Kaggle/kc_house_data.csv\")\n",
    "kc_house_data"
   ]
  },
  {
   "cell_type": "markdown",
   "id": "170ea8de",
   "metadata": {},
   "source": [
    "##### hotel_booking"
   ]
  },
  {
   "cell_type": "code",
   "execution_count": null,
   "id": "12cdf5c2",
   "metadata": {},
   "outputs": [],
   "source": [
    "hotel_bookings = pd.read_csv( \"C:/Users/danil/OneDrive/Danilo_Back-up/Kaggle/hotel_bookings.csv\" )\n",
    "hotel_bookings"
   ]
  },
  {
   "cell_type": "code",
   "execution_count": 7,
   "id": "1a733054",
   "metadata": {},
   "outputs": [
    {
     "data": {
      "text/plain": [
       "array([ 0.,  1.,  2., 10.,  3., nan])"
      ]
     },
     "execution_count": 7,
     "metadata": {},
     "output_type": "execute_result"
    }
   ],
   "source": [
    "pd.unique(hotel_bookings['children'])"
   ]
  },
  {
   "cell_type": "markdown",
   "id": "f6483275",
   "metadata": {},
   "source": [
    "##### diamonds"
   ]
  },
  {
   "cell_type": "code",
   "execution_count": null,
   "id": "17fed062",
   "metadata": {},
   "outputs": [],
   "source": [
    "diamonds = pd.read_csv(\"C:/Users/danil/OneDrive/Danilo_Back-up/Projetos_Pessoais/Canal_Youtube/Base_Dados/diamonds.csv\")\n",
    "diamonds"
   ]
  },
  {
   "cell_type": "markdown",
   "id": "f13fb8cb",
   "metadata": {},
   "source": [
    "##### Vendas_PBI"
   ]
  },
  {
   "cell_type": "code",
   "execution_count": null,
   "id": "d4533ab5",
   "metadata": {},
   "outputs": [],
   "source": [
    "Vendas_PBI = pd.read_excel(\"C:/Users/danil/OneDrive/Danilo_Back-up/Projetos_Pessoais/Canal_Youtube/Base_Dados/Vendas_PBI.xlsx\")\n",
    "Vendas_PBI"
   ]
  },
  {
   "cell_type": "code",
   "execution_count": null,
   "id": "94020988",
   "metadata": {},
   "outputs": [],
   "source": [
    "sort(\n",
    "    Vendas_PBI\n",
    "        .groupby('Country')\n",
    "        .agg(\n",
    "            {\n",
    "                'Sales' : 'sum',\n",
    "                'COGS'  : 'sum'\n",
    "            }\n",
    "        ),\n",
    "    desc\n",
    ")"
   ]
  },
  {
   "cell_type": "code",
   "execution_count": 8,
   "id": "6a7e3865",
   "metadata": {},
   "outputs": [
    {
     "data": {
      "text/html": [
       "<div>\n",
       "<style scoped>\n",
       "    .dataframe tbody tr th:only-of-type {\n",
       "        vertical-align: middle;\n",
       "    }\n",
       "\n",
       "    .dataframe tbody tr th {\n",
       "        vertical-align: top;\n",
       "    }\n",
       "\n",
       "    .dataframe thead th {\n",
       "        text-align: right;\n",
       "    }\n",
       "</style>\n",
       "<table border=\"1\" class=\"dataframe\">\n",
       "  <thead>\n",
       "    <tr style=\"text-align: right;\">\n",
       "      <th></th>\n",
       "      <th>Sales</th>\n",
       "    </tr>\n",
       "    <tr>\n",
       "      <th>Segment</th>\n",
       "      <th></th>\n",
       "    </tr>\n",
       "  </thead>\n",
       "  <tbody>\n",
       "    <tr>\n",
       "      <th style=\"font-style: italic;\" ></th>\n",
       "      <td style=\"font-style: italic;\" >&lt;float64&gt;</td>\n",
       "    </tr>\n",
       "    <tr>\n",
       "      <th>Channel Partners</th>\n",
       "      <td>52504260.68</td>\n",
       "    </tr>\n",
       "    <tr>\n",
       "      <th>Enterprise</th>\n",
       "      <td>42427918.50</td>\n",
       "    </tr>\n",
       "    <tr>\n",
       "      <th>Government</th>\n",
       "      <td>19611694.38</td>\n",
       "    </tr>\n",
       "    <tr>\n",
       "      <th>Midmarket</th>\n",
       "      <td>2381883.09</td>\n",
       "    </tr>\n",
       "    <tr>\n",
       "      <th>Small Business</th>\n",
       "      <td>1800593.64</td>\n",
       "    </tr>\n",
       "  </tbody>\n",
       "</table>\n",
       "</div>\n"
      ],
      "text/plain": [
       "                        Sales\n",
       "                             \n",
       "Segment             <float64>\n",
       "Channel Partners  52504260.68\n",
       "Enterprise        42427918.50\n",
       "Government        19611694.38\n",
       "Midmarket          2381883.09\n",
       "Small Business     1800593.64"
      ]
     },
     "execution_count": 8,
     "metadata": {},
     "output_type": "execute_result"
    }
   ],
   "source": [
    "sort(\n",
    "    Vendas_PBI.groupby('Segment')['Sales'].agg(\n",
    "        Sales = 'sum'\n",
    "    ),\n",
    "    desc\n",
    ")"
   ]
  },
  {
   "cell_type": "code",
   "execution_count": 66,
   "id": "a8988b6c",
   "metadata": {},
   "outputs": [
    {
     "ename": "TypeError",
     "evalue": "unsupported format string passed to list.__format__",
     "output_type": "error",
     "traceback": [
      "\u001b[1;31m---------------------------------------------------------------------------\u001b[0m",
      "\u001b[1;31mTypeError\u001b[0m                                 Traceback (most recent call last)",
      "\u001b[1;32m~\\AppData\\Local\\Temp\\ipykernel_20380\\67565520.py\u001b[0m in \u001b[0;36m<module>\u001b[1;34m\u001b[0m\n\u001b[0;32m      1\u001b[0m \u001b[0ma\u001b[0m \u001b[1;33m=\u001b[0m \u001b[1;33m[\u001b[0m\u001b[1;36m1\u001b[0m\u001b[1;33m,\u001b[0m\u001b[1;36m2\u001b[0m\u001b[1;33m,\u001b[0m\u001b[1;36m3\u001b[0m\u001b[1;33m]\u001b[0m\u001b[1;33m\u001b[0m\u001b[1;33m\u001b[0m\u001b[0m\n\u001b[1;32m----> 2\u001b[1;33m \u001b[1;34mf\"{a: .2%}\"\u001b[0m\u001b[1;33m\u001b[0m\u001b[1;33m\u001b[0m\u001b[0m\n\u001b[0m",
      "\u001b[1;31mTypeError\u001b[0m: unsupported format string passed to list.__format__"
     ]
    }
   ],
   "source": [
    "a = [1,2,3]\n",
    "f\"{a: .2%}\""
   ]
  },
  {
   "cell_type": "code",
   "execution_count": 81,
   "id": "2766c902",
   "metadata": {},
   "outputs": [
    {
     "data": {
      "text/html": [
       "<div>\n",
       "<style scoped>\n",
       "    .dataframe tbody tr th:only-of-type {\n",
       "        vertical-align: middle;\n",
       "    }\n",
       "\n",
       "    .dataframe tbody tr th {\n",
       "        vertical-align: top;\n",
       "    }\n",
       "\n",
       "    .dataframe thead th {\n",
       "        text-align: right;\n",
       "    }\n",
       "</style>\n",
       "<table border=\"1\" class=\"dataframe\">\n",
       "  <thead>\n",
       "    <tr style=\"text-align: right;\">\n",
       "      <th></th>\n",
       "      <th>Sales</th>\n",
       "      <th>COGS</th>\n",
       "      <th>Profit</th>\n",
       "      <th>Profit2</th>\n",
       "    </tr>\n",
       "    <tr>\n",
       "      <th>Product</th>\n",
       "      <th></th>\n",
       "      <th></th>\n",
       "      <th></th>\n",
       "      <th></th>\n",
       "    </tr>\n",
       "  </thead>\n",
       "  <tbody>\n",
       "    <tr>\n",
       "      <th style=\"font-style: italic;\" ></th>\n",
       "      <td style=\"font-style: italic;\" >&lt;float64&gt;</td>\n",
       "      <td style=\"font-style: italic;\" >&lt;float64&gt;</td>\n",
       "      <td style=\"font-style: italic;\" >&lt;float64&gt;</td>\n",
       "      <td style=\"font-style: italic;\" >&lt;object&gt;</td>\n",
       "    </tr>\n",
       "    <tr>\n",
       "      <th>Amarilla</th>\n",
       "      <td>17747116.07</td>\n",
       "      <td>14933012.0</td>\n",
       "      <td>2814104.07</td>\n",
       "      <td>15.86%</td>\n",
       "    </tr>\n",
       "    <tr>\n",
       "      <th>Carretera</th>\n",
       "      <td>13815307.89</td>\n",
       "      <td>11988503.0</td>\n",
       "      <td>1826804.89</td>\n",
       "      <td>13.22%</td>\n",
       "    </tr>\n",
       "    <tr>\n",
       "      <th>Montana</th>\n",
       "      <td>15390801.88</td>\n",
       "      <td>13276047.0</td>\n",
       "      <td>2114754.88</td>\n",
       "      <td>13.74%</td>\n",
       "    </tr>\n",
       "    <tr>\n",
       "      <th>Paseo</th>\n",
       "      <td>33011143.96</td>\n",
       "      <td>28213706.0</td>\n",
       "      <td>4797437.96</td>\n",
       "      <td>14.53%</td>\n",
       "    </tr>\n",
       "    <tr>\n",
       "      <th>VTT</th>\n",
       "      <td>20511921.02</td>\n",
       "      <td>17477313.0</td>\n",
       "      <td>3034608.02</td>\n",
       "      <td>14.79%</td>\n",
       "    </tr>\n",
       "    <tr>\n",
       "      <th>Velo</th>\n",
       "      <td>18250059.47</td>\n",
       "      <td>15944067.0</td>\n",
       "      <td>2305992.47</td>\n",
       "      <td>12.64%</td>\n",
       "    </tr>\n",
       "  </tbody>\n",
       "</table>\n",
       "</div>\n"
      ],
      "text/plain": [
       "                 Sales        COGS      Profit  Profit2\n",
       "                                                       \n",
       "Product      <float64>   <float64>   <float64> <object>\n",
       "Amarilla   17747116.07  14933012.0  2814104.07   15.86%\n",
       "Carretera  13815307.89  11988503.0  1826804.89   13.22%\n",
       "Montana    15390801.88  13276047.0  2114754.88   13.74%\n",
       "Paseo      33011143.96  28213706.0  4797437.96   14.53%\n",
       "VTT        20511921.02  17477313.0  3034608.02   14.79%\n",
       "Velo       18250059.47  15944067.0  2305992.47   12.64%"
      ]
     },
     "execution_count": 81,
     "metadata": {},
     "output_type": "execute_result"
    }
   ],
   "source": [
    "Profit_Products = Vendas_PBI.groupby(\n",
    "        'Product'\n",
    "    ).agg({\n",
    "        'Sales' : 'sum',\n",
    "        'COGS'  : 'sum',\n",
    "        'Profit': 'sum'\n",
    "    })\n",
    "    \n",
    "Profit_Products = Profit_Products.assign(\n",
    "    Profit2 = Profit_Products['Profit'] / Profit_Products['Sales']\n",
    ")\n",
    "\n",
    "Profit_Products.assign(\n",
    "    Profit2 = round( Profit_Products['Profit2'] * 100, 2 ).astype(str) + '%'\n",
    ")"
   ]
  },
  {
   "cell_type": "markdown",
   "id": "2a32c3e1",
   "metadata": {},
   "source": [
    "Ctas_a_Receber"
   ]
  },
  {
   "cell_type": "code",
   "execution_count": null,
   "id": "8549bf74",
   "metadata": {},
   "outputs": [],
   "source": [
    "Ctas_Receber_DB = pd.read_excel(\"C:/Users/danil/OneDrive/Danilo_Back-up/Projetos_Pessoais/Canal_Youtube/Base_Dados/Ctas_Receber_DB.xlsx\")\n",
    "Ctas_Receber_DB"
   ]
  },
  {
   "cell_type": "markdown",
   "id": "4df955eb",
   "metadata": {},
   "source": [
    "## Análises"
   ]
  },
  {
   "cell_type": "markdown",
   "id": "571648aa",
   "metadata": {},
   "source": [
    "#### Dimensão dos Dados"
   ]
  },
  {
   "cell_type": "markdown",
   "id": "e61a6d23",
   "metadata": {},
   "source": [
    "##### Escalar"
   ]
  },
  {
   "cell_type": "code",
   "execution_count": 5,
   "id": "5a63054a",
   "metadata": {},
   "outputs": [
    {
     "data": {
      "text/plain": [
       "'Maruti Alto K10'"
      ]
     },
     "execution_count": 5,
     "metadata": {},
     "output_type": "execute_result"
    }
   ],
   "source": [
    "CARS[0:1]['car_name'][0]"
   ]
  },
  {
   "cell_type": "code",
   "execution_count": 7,
   "id": "7d127ec9",
   "metadata": {},
   "outputs": [
    {
     "data": {
      "text/plain": [
       "'Maruti Alto K10'"
      ]
     },
     "execution_count": 7,
     "metadata": {},
     "output_type": "execute_result"
    }
   ],
   "source": [
    "CARS[0:1]['car_name'].item()"
   ]
  },
  {
   "cell_type": "code",
   "execution_count": 8,
   "id": "0ba4daa1",
   "metadata": {},
   "outputs": [
    {
     "data": {
      "text/plain": [
       "'Maruti Alto K10'"
      ]
     },
     "execution_count": 8,
     "metadata": {},
     "output_type": "execute_result"
    }
   ],
   "source": [
    "CARS['car_name'][0]"
   ]
  },
  {
   "cell_type": "code",
   "execution_count": 9,
   "id": "cdee6434",
   "metadata": {},
   "outputs": [
    {
     "data": {
      "text/plain": [
       "'Maruti Alto K10'"
      ]
     },
     "execution_count": 9,
     "metadata": {},
     "output_type": "execute_result"
    }
   ],
   "source": [
    "np.array( CARS[['car_name']] )[0][0]"
   ]
  },
  {
   "cell_type": "code",
   "execution_count": 14,
   "id": "401295c3",
   "metadata": {},
   "outputs": [
    {
     "data": {
      "text/plain": [
       "\"['Maruti Alto K10']\""
      ]
     },
     "execution_count": 14,
     "metadata": {},
     "output_type": "execute_result"
    }
   ],
   "source": [
    "pd.array( CARS[['car_name']] )[0][0]"
   ]
  },
  {
   "cell_type": "code",
   "execution_count": 15,
   "id": "3335164a",
   "metadata": {},
   "outputs": [
    {
     "data": {
      "text/plain": [
       "'Maruti Alto K10'"
      ]
     },
     "execution_count": 15,
     "metadata": {},
     "output_type": "execute_result"
    }
   ],
   "source": [
    "select(CARS, 'car_name').iloc[0].item()"
   ]
  },
  {
   "cell_type": "code",
   "execution_count": 16,
   "id": "355e624c",
   "metadata": {},
   "outputs": [
    {
     "data": {
      "text/plain": [
       "'Aston Martin DBX'"
      ]
     },
     "execution_count": 16,
     "metadata": {},
     "output_type": "execute_result"
    }
   ],
   "source": [
    "sort( select(CARS, 'car_name') ).iloc[0].item()"
   ]
  },
  {
   "cell_type": "code",
   "execution_count": 17,
   "id": "2e2ffc4b",
   "metadata": {},
   "outputs": [
    {
     "data": {
      "text/plain": [
       "2"
      ]
     },
     "execution_count": 17,
     "metadata": {},
     "output_type": "execute_result"
    }
   ],
   "source": [
    "CARS.columns.get_loc('fuel_type')"
   ]
  },
  {
   "cell_type": "code",
   "execution_count": 18,
   "id": "1d1b8b4f",
   "metadata": {},
   "outputs": [
    {
     "data": {
      "text/plain": [
       "'Petrol'"
      ]
     },
     "execution_count": 18,
     "metadata": {},
     "output_type": "execute_result"
    }
   ],
   "source": [
    "CARS.iloc[ 0, CARS.columns.get_loc('fuel_type') ]"
   ]
  },
  {
   "cell_type": "code",
   "execution_count": 19,
   "id": "efcb1f8e",
   "metadata": {},
   "outputs": [
    {
     "data": {
      "text/plain": [
       "199"
      ]
     },
     "execution_count": 19,
     "metadata": {},
     "output_type": "execute_result"
    }
   ],
   "source": [
    "length( CARS['car_name'].unique() )"
   ]
  },
  {
   "cell_type": "code",
   "execution_count": 20,
   "id": "0184bbf9",
   "metadata": {},
   "outputs": [
    {
     "data": {
      "text/plain": [
       "199"
      ]
     },
     "execution_count": 20,
     "metadata": {},
     "output_type": "execute_result"
    }
   ],
   "source": [
    "length( pd.unique( CARS['car_name'] ) )"
   ]
  },
  {
   "cell_type": "code",
   "execution_count": 22,
   "id": "7d768afe",
   "metadata": {},
   "outputs": [
    {
     "data": {
      "text/plain": [
       "0.0"
      ]
     },
     "execution_count": 22,
     "metadata": {},
     "output_type": "execute_result"
    }
   ],
   "source": [
    "min( CARS['fuel_tank_capacity'] )"
   ]
  },
  {
   "cell_type": "markdown",
   "id": "a814a69e",
   "metadata": {},
   "source": [
    "##### Vetor"
   ]
  },
  {
   "cell_type": "code",
   "execution_count": 24,
   "id": "630c6ec7",
   "metadata": {},
   "outputs": [
    {
     "data": {
      "text/plain": [
       "array([1, 2, 3])"
      ]
     },
     "execution_count": 24,
     "metadata": {},
     "output_type": "execute_result"
    }
   ],
   "source": [
    "np.array( [1,2,3] )"
   ]
  },
  {
   "cell_type": "code",
   "execution_count": 23,
   "id": "5bf4b10a",
   "metadata": {},
   "outputs": [
    {
     "data": {
      "text/plain": [
       "0       Maruti Alto K10\n",
       "1         Maruti Brezza\n",
       "2         Mahindra Thar\n",
       "3       Mahindra XUV700\n",
       "4    Mahindra Scorpio-N\n",
       "Name: car_name, dtype: object"
      ]
     },
     "execution_count": 23,
     "metadata": {},
     "output_type": "execute_result"
    }
   ],
   "source": [
    "CARS['car_name'][0:5]"
   ]
  },
  {
   "cell_type": "code",
   "execution_count": 25,
   "id": "8de4465d",
   "metadata": {},
   "outputs": [
    {
     "data": {
      "text/plain": [
       "<PandasArray>\n",
       "['Maruti Alto K10', 'Maruti Brezza', 'Mahindra Thar', 'Mahindra XUV700', 'Mahindra Scorpio-N']\n",
       "Length: 5, dtype: object"
      ]
     },
     "execution_count": 25,
     "metadata": {},
     "output_type": "execute_result"
    }
   ],
   "source": [
    "pd.array( CARS['car_name'][0:5] )"
   ]
  },
  {
   "cell_type": "code",
   "execution_count": 26,
   "id": "62e1e1f9",
   "metadata": {},
   "outputs": [
    {
     "data": {
      "text/plain": [
       "array(['Maruti Alto K10', 'Maruti Brezza', 'Mahindra Thar',\n",
       "       'Mahindra XUV700', 'Mahindra Scorpio-N'], dtype=object)"
      ]
     },
     "execution_count": 26,
     "metadata": {},
     "output_type": "execute_result"
    }
   ],
   "source": [
    "np.array( CARS['car_name'][0:5] )"
   ]
  },
  {
   "cell_type": "code",
   "execution_count": 27,
   "id": "49a15cd7",
   "metadata": {},
   "outputs": [
    {
     "data": {
      "text/plain": [
       "0        Aston Martin DBX\n",
       "1    Aston Martin Vantage\n",
       "2                 Audi A4\n",
       "3                 Audi A6\n",
       "4                 Audi Q2\n",
       "Name: x, dtype: object"
      ]
     },
     "execution_count": 27,
     "metadata": {},
     "output_type": "execute_result"
    }
   ],
   "source": [
    "sort( CARS['car_name'] )[0:5]"
   ]
  },
  {
   "cell_type": "code",
   "execution_count": 28,
   "id": "73ef1122",
   "metadata": {},
   "outputs": [
    {
     "data": {
      "text/plain": [
       "array(['Aston Martin DBX', 'Aston Martin Vantage', 'Audi A4', 'Audi A6',\n",
       "       'Audi Q2'], dtype=object)"
      ]
     },
     "execution_count": 28,
     "metadata": {},
     "output_type": "execute_result"
    }
   ],
   "source": [
    "sort( np.array( CARS['car_name'] ) )[0:5]"
   ]
  },
  {
   "cell_type": "markdown",
   "id": "dcd7effb",
   "metadata": {},
   "source": [
    "##### Tabela"
   ]
  },
  {
   "cell_type": "markdown",
   "id": "bbcb665c",
   "metadata": {},
   "source": [
    "###### array / matrix"
   ]
  },
  {
   "cell_type": "code",
   "execution_count": 29,
   "id": "f16a44e4",
   "metadata": {},
   "outputs": [
    {
     "data": {
      "text/plain": [
       "array([['1', '2', '3'],\n",
       "       ['a', 'b', 'c']], dtype='<U11')"
      ]
     },
     "execution_count": 29,
     "metadata": {},
     "output_type": "execute_result"
    }
   ],
   "source": [
    "np.array(\n",
    "    [\n",
    "        [ 1 , 2 , 3 ],\n",
    "        ['a','b','c']\n",
    "    ]\n",
    ")"
   ]
  },
  {
   "cell_type": "code",
   "execution_count": 30,
   "id": "30b091e6",
   "metadata": {},
   "outputs": [
    {
     "data": {
      "text/plain": [
       "array([['Maruti Alto K10', 'Petrol', 27.0],\n",
       "       ['Maruti Brezza', 'Petrol', 48.0],\n",
       "       ['Mahindra Thar', 'Diesel', 57.0],\n",
       "       ['Mahindra XUV700', 'Diesel', 60.0]], dtype=object)"
      ]
     },
     "execution_count": 30,
     "metadata": {},
     "output_type": "execute_result"
    }
   ],
   "source": [
    "np.array( CARS[ ['car_name', 'fuel_type', 'fuel_tank_capacity'] ][0:4] )"
   ]
  },
  {
   "cell_type": "markdown",
   "id": "25e42aae",
   "metadata": {},
   "source": [
    "###### Dataframe"
   ]
  },
  {
   "cell_type": "code",
   "execution_count": 31,
   "id": "9512a5bc",
   "metadata": {},
   "outputs": [
    {
     "data": {
      "text/html": [
       "<div>\n",
       "<style scoped>\n",
       "    .dataframe tbody tr th:only-of-type {\n",
       "        vertical-align: middle;\n",
       "    }\n",
       "\n",
       "    .dataframe tbody tr th {\n",
       "        vertical-align: top;\n",
       "    }\n",
       "\n",
       "    .dataframe thead th {\n",
       "        text-align: right;\n",
       "    }\n",
       "</style>\n",
       "<table border=\"1\" class=\"dataframe\">\n",
       "  <thead>\n",
       "    <tr style=\"text-align: right;\">\n",
       "      <th></th>\n",
       "      <th>car_name</th>\n",
       "      <th>fuel_type</th>\n",
       "      <th>fuel_tank_capacity</th>\n",
       "    </tr>\n",
       "  </thead>\n",
       "  <tbody>\n",
       "    <tr>\n",
       "      <th style=\"font-style: italic;\" ></th>\n",
       "      <td style=\"font-style: italic;\" >&lt;object&gt;</td>\n",
       "      <td style=\"font-style: italic;\" >&lt;object&gt;</td>\n",
       "      <td style=\"font-style: italic;\" >&lt;float64&gt;</td>\n",
       "    </tr>\n",
       "    <tr>\n",
       "      <th>0</th>\n",
       "      <td>Maruti Alto K10</td>\n",
       "      <td>Petrol</td>\n",
       "      <td>27.0</td>\n",
       "    </tr>\n",
       "    <tr>\n",
       "      <th>1</th>\n",
       "      <td>Maruti Brezza</td>\n",
       "      <td>Petrol</td>\n",
       "      <td>48.0</td>\n",
       "    </tr>\n",
       "    <tr>\n",
       "      <th>2</th>\n",
       "      <td>Mahindra Thar</td>\n",
       "      <td>Diesel</td>\n",
       "      <td>57.0</td>\n",
       "    </tr>\n",
       "    <tr>\n",
       "      <th>3</th>\n",
       "      <td>Mahindra XUV700</td>\n",
       "      <td>Diesel</td>\n",
       "      <td>60.0</td>\n",
       "    </tr>\n",
       "  </tbody>\n",
       "</table>\n",
       "</div>\n"
      ],
      "text/plain": [
       "          car_name fuel_type  fuel_tank_capacity\n",
       "          <object>  <object>           <float64>\n",
       "0  Maruti Alto K10    Petrol                27.0\n",
       "1    Maruti Brezza    Petrol                48.0\n",
       "2    Mahindra Thar    Diesel                57.0\n",
       "3  Mahindra XUV700    Diesel                60.0"
      ]
     },
     "execution_count": 31,
     "metadata": {},
     "output_type": "execute_result"
    }
   ],
   "source": [
    "CARS[ ['car_name', 'fuel_type', 'fuel_tank_capacity'] ][0:4]"
   ]
  },
  {
   "cell_type": "code",
   "execution_count": 32,
   "id": "cb549517",
   "metadata": {},
   "outputs": [
    {
     "data": {
      "text/html": [
       "<div>\n",
       "<style scoped>\n",
       "    .dataframe tbody tr th:only-of-type {\n",
       "        vertical-align: middle;\n",
       "    }\n",
       "\n",
       "    .dataframe tbody tr th {\n",
       "        vertical-align: top;\n",
       "    }\n",
       "\n",
       "    .dataframe thead th {\n",
       "        text-align: right;\n",
       "    }\n",
       "</style>\n",
       "<table border=\"1\" class=\"dataframe\">\n",
       "  <thead>\n",
       "    <tr style=\"text-align: right;\">\n",
       "      <th></th>\n",
       "      <th>car_name</th>\n",
       "      <th>fuel_type</th>\n",
       "      <th>fuel_tank_capacity</th>\n",
       "    </tr>\n",
       "  </thead>\n",
       "  <tbody>\n",
       "    <tr>\n",
       "      <th style=\"font-style: italic;\" ></th>\n",
       "      <td style=\"font-style: italic;\" >&lt;object&gt;</td>\n",
       "      <td style=\"font-style: italic;\" >&lt;object&gt;</td>\n",
       "      <td style=\"font-style: italic;\" >&lt;float64&gt;</td>\n",
       "    </tr>\n",
       "    <tr>\n",
       "      <th>0</th>\n",
       "      <td>Maruti Alto K10</td>\n",
       "      <td>Petrol</td>\n",
       "      <td>27.0</td>\n",
       "    </tr>\n",
       "    <tr>\n",
       "      <th>1</th>\n",
       "      <td>Maruti Brezza</td>\n",
       "      <td>Petrol</td>\n",
       "      <td>48.0</td>\n",
       "    </tr>\n",
       "    <tr>\n",
       "      <th>2</th>\n",
       "      <td>Mahindra Thar</td>\n",
       "      <td>Diesel</td>\n",
       "      <td>57.0</td>\n",
       "    </tr>\n",
       "    <tr>\n",
       "      <th>3</th>\n",
       "      <td>Mahindra XUV700</td>\n",
       "      <td>Diesel</td>\n",
       "      <td>60.0</td>\n",
       "    </tr>\n",
       "  </tbody>\n",
       "</table>\n",
       "</div>\n"
      ],
      "text/plain": [
       "          car_name fuel_type  fuel_tank_capacity\n",
       "          <object>  <object>           <float64>\n",
       "0  Maruti Alto K10    Petrol                27.0\n",
       "1    Maruti Brezza    Petrol                48.0\n",
       "2    Mahindra Thar    Diesel                57.0\n",
       "3  Mahindra XUV700    Diesel                60.0"
      ]
     },
     "execution_count": 32,
     "metadata": {},
     "output_type": "execute_result"
    }
   ],
   "source": [
    "select( CARS[0:4], ['car_name', 'fuel_type', 'fuel_tank_capacity'] )"
   ]
  },
  {
   "cell_type": "code",
   "execution_count": 33,
   "id": "bf3f777f",
   "metadata": {},
   "outputs": [
    {
     "data": {
      "text/html": [
       "<div>\n",
       "<style scoped>\n",
       "    .dataframe tbody tr th:only-of-type {\n",
       "        vertical-align: middle;\n",
       "    }\n",
       "\n",
       "    .dataframe tbody tr th {\n",
       "        vertical-align: top;\n",
       "    }\n",
       "\n",
       "    .dataframe thead th {\n",
       "        text-align: right;\n",
       "    }\n",
       "</style>\n",
       "<table border=\"1\" class=\"dataframe\">\n",
       "  <thead>\n",
       "    <tr style=\"text-align: right;\">\n",
       "      <th></th>\n",
       "      <th>car_name</th>\n",
       "      <th>fuel_type</th>\n",
       "      <th>fuel_tank_capacity</th>\n",
       "    </tr>\n",
       "  </thead>\n",
       "  <tbody>\n",
       "    <tr>\n",
       "      <th style=\"font-style: italic;\" ></th>\n",
       "      <td style=\"font-style: italic;\" >&lt;object&gt;</td>\n",
       "      <td style=\"font-style: italic;\" >&lt;object&gt;</td>\n",
       "      <td style=\"font-style: italic;\" >&lt;float64&gt;</td>\n",
       "    </tr>\n",
       "    <tr>\n",
       "      <th>0</th>\n",
       "      <td>Maruti Alto K10</td>\n",
       "      <td>Petrol</td>\n",
       "      <td>27.0</td>\n",
       "    </tr>\n",
       "    <tr>\n",
       "      <th>1</th>\n",
       "      <td>Maruti Brezza</td>\n",
       "      <td>Petrol</td>\n",
       "      <td>48.0</td>\n",
       "    </tr>\n",
       "    <tr>\n",
       "      <th>2</th>\n",
       "      <td>Mahindra Thar</td>\n",
       "      <td>Diesel</td>\n",
       "      <td>57.0</td>\n",
       "    </tr>\n",
       "    <tr>\n",
       "      <th>3</th>\n",
       "      <td>Mahindra XUV700</td>\n",
       "      <td>Diesel</td>\n",
       "      <td>60.0</td>\n",
       "    </tr>\n",
       "  </tbody>\n",
       "</table>\n",
       "</div>\n"
      ],
      "text/plain": [
       "          car_name fuel_type  fuel_tank_capacity\n",
       "          <object>  <object>           <float64>\n",
       "0  Maruti Alto K10    Petrol                27.0\n",
       "1    Maruti Brezza    Petrol                48.0\n",
       "2    Mahindra Thar    Diesel                57.0\n",
       "3  Mahindra XUV700    Diesel                60.0"
      ]
     },
     "execution_count": 33,
     "metadata": {},
     "output_type": "execute_result"
    }
   ],
   "source": [
    "pd.DataFrame(\n",
    "    {\n",
    "        'car_name'          : CARS['car_name'][0:4],\n",
    "        'fuel_type'         : CARS['fuel_type'][0:4],\n",
    "        'fuel_tank_capacity': CARS['fuel_tank_capacity'][0:4]\n",
    "    }\n",
    ")"
   ]
  },
  {
   "cell_type": "markdown",
   "id": "083a08a0",
   "metadata": {},
   "source": [
    "#### Tipos de Dados"
   ]
  },
  {
   "cell_type": "markdown",
   "id": "2cde561c",
   "metadata": {},
   "source": [
    "##### Número"
   ]
  },
  {
   "cell_type": "markdown",
   "id": "10597f51",
   "metadata": {},
   "source": [
    "Escalar"
   ]
  },
  {
   "cell_type": "code",
   "execution_count": 69,
   "id": "99f84118",
   "metadata": {},
   "outputs": [
    {
     "name": "stdout",
     "output_type": "stream",
     "text": [
      "1  ->  <class 'int'> \n",
      " 1.0  ->  <class 'float'> \n",
      " 2  ->  <class 'int'> \n",
      " 4  ->  <class 'int'> \n",
      " 4.0  ->  <class 'float'>\n"
     ]
    }
   ],
   "source": [
    "print( \n",
    "    1,       \" -> \", type( 1 ),     \"\\n\",\n",
    "    1.0,     \" -> \", type( 1.0 ),   \"\\n\",\n",
    "    1 + 1,   \" -> \", type( 1 + 1 ), \"\\n\",\n",
    "    2 * 2,   \" -> \", type( 2 * 2 ), \"\\n\",\n",
    "    2 * 2.0, \" -> \", type( 2 * 2.0 ) \n",
    ")"
   ]
  },
  {
   "cell_type": "code",
   "execution_count": 70,
   "id": "db1f8f7e",
   "metadata": {},
   "outputs": [
    {
     "name": "stdout",
     "output_type": "stream",
     "text": [
      "1.0  ->  <class 'float'> \n",
      " 2.0  ->  <class 'float'>\n"
     ]
    }
   ],
   "source": [
    "print( \n",
    "    2 / 2,   \" -> \", type( 2 / 2 ), \"\\n\",\n",
    "    1.0 + 1, \" -> \", type( 1.0 + 1 ) \n",
    ")"
   ]
  },
  {
   "cell_type": "markdown",
   "id": "31b3e692",
   "metadata": {},
   "source": [
    "Vetor"
   ]
  },
  {
   "cell_type": "code",
   "execution_count": 76,
   "id": "13d27fa2",
   "metadata": {},
   "outputs": [],
   "source": [
    "n1 = [1  , 2  , 3  ] ;\n",
    "n2 = [1.0, 2.0, 3.0] ;\n",
    "n3 = [1.0, 2  , 3  ] ;"
   ]
  },
  {
   "cell_type": "code",
   "execution_count": 77,
   "id": "b9955182",
   "metadata": {},
   "outputs": [
    {
     "name": "stdout",
     "output_type": "stream",
     "text": [
      "[1, 2, 3]  ->  <class 'list'> \n",
      " [1.0, 2.0, 3.0]  ->  <class 'list'> \n",
      " [1.0, 2, 3]  ->  <class 'list'> \n",
      " [1, 2, 3]  ->  <class 'list'>\n"
     ]
    }
   ],
   "source": [
    "print(\n",
    "    n1, \" -> \", type(n1), \"\\n\",\n",
    "    n2, \" -> \", type(n2), \"\\n\",\n",
    "    n3, \" -> \", type(n3), \"\\n\",\n",
    "    n1 * 1, \" -> \", type(n1 * 1)\n",
    ")"
   ]
  },
  {
   "cell_type": "code",
   "execution_count": 78,
   "id": "76ec8ee7",
   "metadata": {},
   "outputs": [
    {
     "ename": "NameError",
     "evalue": "name 'index' is not defined",
     "output_type": "error",
     "traceback": [
      "\u001b[1;31m---------------------------------------------------------------------------\u001b[0m",
      "\u001b[1;31mNameError\u001b[0m                                 Traceback (most recent call last)",
      "Cell \u001b[1;32mIn [78], line 5\u001b[0m\n\u001b[0;32m      1\u001b[0m TesteDF \u001b[39m=\u001b[39m pd\u001b[39m.\u001b[39mDataFrame({\n\u001b[0;32m      2\u001b[0m     \u001b[39m'\u001b[39m\u001b[39mVetor\u001b[39m\u001b[39m'\u001b[39m : [\u001b[39m1.0\u001b[39m, \u001b[39m2\u001b[39m, \u001b[39m3\u001b[39m, np\u001b[39m.\u001b[39mNaN ],\n\u001b[0;32m      3\u001b[0m })\n\u001b[1;32m----> 5\u001b[0m TesteDF[\u001b[39m'\u001b[39m\u001b[39mType\u001b[39m\u001b[39m'\u001b[39m] \u001b[39m=\u001b[39m \u001b[39mtype\u001b[39m( TesteDF[\u001b[39m'\u001b[39m\u001b[39mVetor\u001b[39m\u001b[39m'\u001b[39m][index] )\n\u001b[0;32m      7\u001b[0m TesteDF[\u001b[39m'\u001b[39m\u001b[39mType2\u001b[39m\u001b[39m'\u001b[39m] \u001b[39m=\u001b[39m \u001b[39mtype\u001b[39m( TesteDF[\u001b[39m'\u001b[39m\u001b[39mType\u001b[39m\u001b[39m'\u001b[39m] )\n\u001b[0;32m      9\u001b[0m TesteDF\n",
      "\u001b[1;31mNameError\u001b[0m: name 'index' is not defined"
     ]
    }
   ],
   "source": [
    "TesteDF = pd.DataFrame({\n",
    "    'Vetor' : [1.0, 2, 3, np.NaN ],\n",
    "})\n",
    "\n",
    "TesteDF['Type'] = type( TesteDF['Vetor'][index] )\n",
    "\n",
    "TesteDF['Type2'] = type( TesteDF['Type'] )\n",
    "\n",
    "TesteDF"
   ]
  },
  {
   "cell_type": "code",
   "execution_count": 100,
   "id": "1c90508c",
   "metadata": {},
   "outputs": [
    {
     "name": "stdout",
     "output_type": "stream",
     "text": [
      "<class 'float'>\n",
      "<class 'int'>\n",
      "<class 'int'>\n",
      "<class 'float'>\n",
      "<class 'pandas.core.indexes.datetimes.DatetimeIndex'>\n",
      "<class 'datetime.date'>\n"
     ]
    }
   ],
   "source": [
    "Vetor = [1.0, 2, 3, np.NaN, as_date(\"2022-01-01\"), dtt.date(2022, 1, 1) ]\n",
    "\n",
    "for Index in range( 0, len(Vetor) ):\n",
    "    print( type(Vetor[Index]) )"
   ]
  },
  {
   "cell_type": "markdown",
   "id": "764c0b06",
   "metadata": {},
   "source": [
    "##### Texto"
   ]
  },
  {
   "cell_type": "code",
   "execution_count": null,
   "id": "3a8ca64b",
   "metadata": {},
   "outputs": [],
   "source": []
  },
  {
   "cell_type": "markdown",
   "id": "d5fb2f1e",
   "metadata": {},
   "source": [
    "##### Data "
   ]
  },
  {
   "cell_type": "code",
   "execution_count": 102,
   "id": "7952fcc1",
   "metadata": {},
   "outputs": [
    {
     "name": "stdout",
     "output_type": "stream",
     "text": [
      "2022-02-01 \n",
      " 2022-03-02\n"
     ]
    }
   ],
   "source": [
    "print(\n",
    "    dtt.date( 2022, 1, 1 ) + relativedelta( day  = 1 ) + relativedelta( month  = 2 ), \"\\n\",\n",
    "    dtt.date( 2022, 1, 1 ) + relativedelta( days = 1 ) + relativedelta( months = 2 )\n",
    ")"
   ]
  },
  {
   "cell_type": "code",
   "execution_count": null,
   "id": "e7d606ae",
   "metadata": {},
   "outputs": [],
   "source": [
    "dtt.date( 1970, 1, 1 ) + relativedelta( days = 1 )"
   ]
  },
  {
   "cell_type": "markdown",
   "id": "57edce54",
   "metadata": {},
   "source": [
    "##### Lógico"
   ]
  },
  {
   "cell_type": "code",
   "execution_count": 108,
   "id": "47815125",
   "metadata": {},
   "outputs": [
    {
     "name": "stdout",
     "output_type": "stream",
     "text": [
      "True True \n",
      " <class 'bool'> <class 'bool'> \n",
      " \n",
      " False False \n",
      " <class 'bool'> <class 'bool'>\n"
     ]
    }
   ],
   "source": [
    "print(\n",
    "    True, TRUE, \"\\n\",\n",
    "    type(True), type(TRUE), \"\\n\", \"\\n\",\n",
    "    False, FALSE, \"\\n\",\n",
    "    type(False), type(FALSE)\n",
    ")"
   ]
  },
  {
   "cell_type": "code",
   "execution_count": null,
   "id": "4e9265fe",
   "metadata": {},
   "outputs": [],
   "source": []
  },
  {
   "cell_type": "markdown",
   "id": "a8ebffd1",
   "metadata": {},
   "source": [
    "##### Vazio"
   ]
  },
  {
   "cell_type": "code",
   "execution_count": 112,
   "id": "beb8c7c0",
   "metadata": {},
   "outputs": [
    {
     "name": "stdout",
     "output_type": "stream",
     "text": [
      "nan \n",
      " nan \n",
      " False\n"
     ]
    }
   ],
   "source": [
    "print(\n",
    "    NaN, \"\\n\",\n",
    "    np.NaN, \"\\n\",\n",
    "    NaN == np.NaN\n",
    ")"
   ]
  },
  {
   "cell_type": "code",
   "execution_count": 5,
   "id": "e47c8971",
   "metadata": {},
   "outputs": [
    {
     "data": {
      "text/plain": [
       "nan"
      ]
     },
     "execution_count": 5,
     "metadata": {},
     "output_type": "execute_result"
    }
   ],
   "source": [
    "np.NaN + 1"
   ]
  },
  {
   "cell_type": "code",
   "execution_count": 6,
   "id": "a989fa1a",
   "metadata": {},
   "outputs": [
    {
     "data": {
      "text/plain": [
       "nan"
      ]
     },
     "execution_count": 6,
     "metadata": {},
     "output_type": "execute_result"
    }
   ],
   "source": [
    "NaN + 1"
   ]
  },
  {
   "cell_type": "code",
   "execution_count": 132,
   "id": "064e67d6",
   "metadata": {},
   "outputs": [
    {
     "data": {
      "text/plain": [
       "True"
      ]
     },
     "execution_count": 132,
     "metadata": {},
     "output_type": "execute_result"
    }
   ],
   "source": [
    "NaN is np.NaN"
   ]
  },
  {
   "cell_type": "code",
   "execution_count": 155,
   "id": "37f5d768",
   "metadata": {},
   "outputs": [
    {
     "data": {
      "text/plain": [
       "datetime.date"
      ]
     },
     "execution_count": 155,
     "metadata": {},
     "output_type": "execute_result"
    }
   ],
   "source": [
    "type( dtt.date(2022, 1, 1) )"
   ]
  },
  {
   "cell_type": "code",
   "execution_count": 156,
   "id": "ae0969be",
   "metadata": {},
   "outputs": [
    {
     "data": {
      "text/html": [
       "<div>\n",
       "<style scoped>\n",
       "    .dataframe tbody tr th:only-of-type {\n",
       "        vertical-align: middle;\n",
       "    }\n",
       "\n",
       "    .dataframe tbody tr th {\n",
       "        vertical-align: top;\n",
       "    }\n",
       "\n",
       "    .dataframe thead th {\n",
       "        text-align: right;\n",
       "    }\n",
       "</style>\n",
       "<table border=\"1\" class=\"dataframe\">\n",
       "  <thead>\n",
       "    <tr style=\"text-align: right;\">\n",
       "      <th></th>\n",
       "      <th>Vazio</th>\n",
       "      <th>Type</th>\n",
       "    </tr>\n",
       "  </thead>\n",
       "  <tbody>\n",
       "    <tr>\n",
       "      <th style=\"font-style: italic;\" ></th>\n",
       "      <td style=\"font-style: italic;\" >&lt;object&gt;</td>\n",
       "      <td style=\"font-style: italic;\" >&lt;object&gt;</td>\n",
       "    </tr>\n",
       "    <tr>\n",
       "      <th>0</th>\n",
       "      <td>NaN</td>\n",
       "      <td>&lt;class 'float'&gt;</td>\n",
       "    </tr>\n",
       "    <tr>\n",
       "      <th>1</th>\n",
       "      <td>a</td>\n",
       "      <td>&lt;class 'str'&gt;</td>\n",
       "    </tr>\n",
       "    <tr>\n",
       "      <th>2</th>\n",
       "      <td>2022-01-01</td>\n",
       "      <td>&lt;class 'datetime.date'&gt;</td>\n",
       "    </tr>\n",
       "    <tr>\n",
       "      <th>3</th>\n",
       "      <td>1</td>\n",
       "      <td>&lt;class 'int'&gt;</td>\n",
       "    </tr>\n",
       "    <tr>\n",
       "      <th>4</th>\n",
       "      <td>1.0</td>\n",
       "      <td>&lt;class 'float'&gt;</td>\n",
       "    </tr>\n",
       "    <tr>\n",
       "      <th>5</th>\n",
       "      <td>NaN</td>\n",
       "      <td>&lt;class 'float'&gt;</td>\n",
       "    </tr>\n",
       "  </tbody>\n",
       "</table>\n",
       "</div>\n"
      ],
      "text/plain": [
       "        Vazio                     Type\n",
       "     <object>                 <object>\n",
       "0         NaN          <class 'float'>\n",
       "1           a            <class 'str'>\n",
       "2  2022-01-01  <class 'datetime.date'>\n",
       "3           1            <class 'int'>\n",
       "4         1.0          <class 'float'>\n",
       "5         NaN          <class 'float'>"
      ]
     },
     "execution_count": 156,
     "metadata": {},
     "output_type": "execute_result"
    }
   ],
   "source": [
    "DF_Vazio = pd.DataFrame({\n",
    "    'Vazio': [NaN, \"a\", dtt.date(2022, 1, 1), 1, 1.0, np.NaN]\n",
    "})\n",
    "\n",
    "DF_Vazio.assign(\n",
    "    Type = [type(i) for i in DF_Vazio['Vazio']]\n",
    ")"
   ]
  },
  {
   "cell_type": "code",
   "execution_count": 8,
   "id": "18a99ff9",
   "metadata": {},
   "outputs": [
    {
     "ename": "TypeError",
     "evalue": "unsupported operand type(s) for /: 'str' and 'int'",
     "output_type": "error",
     "traceback": [
      "\u001b[1;31m---------------------------------------------------------------------------\u001b[0m",
      "\u001b[1;31mTypeError\u001b[0m                                 Traceback (most recent call last)",
      "Cell \u001b[1;32mIn [8], line 1\u001b[0m\n\u001b[1;32m----> 1\u001b[0m \u001b[39m\"\u001b[39;49m\u001b[39mcasa\u001b[39;49m\u001b[39m\"\u001b[39;49m \u001b[39m/\u001b[39;49m \u001b[39m2\u001b[39;49m\n",
      "\u001b[1;31mTypeError\u001b[0m: unsupported operand type(s) for /: 'str' and 'int'"
     ]
    }
   ],
   "source": [
    "\"casa\" / 2"
   ]
  },
  {
   "cell_type": "code",
   "execution_count": 6,
   "id": "353116fe",
   "metadata": {},
   "outputs": [
    {
     "data": {
      "text/plain": [
       "2"
      ]
     },
     "execution_count": 6,
     "metadata": {},
     "output_type": "execute_result"
    }
   ],
   "source": [
    "TRUE + 1"
   ]
  },
  {
   "cell_type": "code",
   "execution_count": 143,
   "id": "ddfc971d",
   "metadata": {},
   "outputs": [
    {
     "name": "stdout",
     "output_type": "stream",
     "text": [
      "2023-01-01 00:00:00 <class 'pandas._libs.tslibs.timestamps.Timestamp'> \n",
      " 2023-01-01 <class 'numpy.datetime64'> \n",
      " 2023-01-01 <class 'datetime.date'>\n"
     ]
    }
   ],
   "source": [
    "print(\n",
    "    pd.to_datetime('2023-01-01'),type( pd.to_datetime('2023-01-01') ), \"\\n\",\n",
    "    np.datetime64('2023-01-01'), type( np.datetime64('2023-01-01') ), \"\\n\",\n",
    "    dtt.date(2023, 1, 1),        type( dtt.date(2023, 1, 1) )\n",
    ")"
   ]
  },
  {
   "cell_type": "code",
   "execution_count": 145,
   "id": "6c99e4e0",
   "metadata": {},
   "outputs": [
    {
     "ename": "TypeError",
     "evalue": "Addition/subtraction of integers and integer-arrays with Timestamp is no longer supported.  Instead of adding/subtracting `n`, use `n * obj.freq`",
     "output_type": "error",
     "traceback": [
      "\u001b[1;31m---------------------------------------------------------------------------\u001b[0m",
      "\u001b[1;31mTypeError\u001b[0m                                 Traceback (most recent call last)",
      "Cell \u001b[1;32mIn [145], line 1\u001b[0m\n\u001b[1;32m----> 1\u001b[0m pd\u001b[39m.\u001b[39;49mto_datetime(\u001b[39m'\u001b[39;49m\u001b[39m2023-01-01\u001b[39;49m\u001b[39m'\u001b[39;49m) \u001b[39m+\u001b[39;49m \u001b[39m1\u001b[39;49m\n",
      "File \u001b[1;32mc:\\Users\\danil\\anaconda3\\lib\\site-packages\\pandas\\_libs\\tslibs\\timestamps.pyx:499\u001b[0m, in \u001b[0;36mpandas._libs.tslibs.timestamps._Timestamp.__add__\u001b[1;34m()\u001b[0m\n",
      "\u001b[1;31mTypeError\u001b[0m: Addition/subtraction of integers and integer-arrays with Timestamp is no longer supported.  Instead of adding/subtracting `n`, use `n * obj.freq`"
     ]
    }
   ],
   "source": [
    "pd.to_datetime('2023-01-01') + 1"
   ]
  },
  {
   "cell_type": "code",
   "execution_count": 110,
   "id": "b7f5a0d0",
   "metadata": {},
   "outputs": [
    {
     "data": {
      "text/plain": [
       "Timestamp('2023-02-02 00:00:00')"
      ]
     },
     "execution_count": 110,
     "metadata": {},
     "output_type": "execute_result"
    }
   ],
   "source": [
    "pd.to_datetime('2023-01-01') + pd.Timedelta( 1, 'D' ) + pd.DateOffset( months = 1 )"
   ]
  },
  {
   "cell_type": "code",
   "execution_count": 106,
   "id": "bb25a738",
   "metadata": {},
   "outputs": [
    {
     "data": {
      "text/plain": [
       "numpy.datetime64('2023-01-02')"
      ]
     },
     "execution_count": 106,
     "metadata": {},
     "output_type": "execute_result"
    }
   ],
   "source": [
    "np.datetime64('2023-01-01') + 1"
   ]
  },
  {
   "cell_type": "code",
   "execution_count": null,
   "id": "de4c0ab5",
   "metadata": {},
   "outputs": [],
   "source": [
    "dtt.date(2023, 1, 1) + 1"
   ]
  },
  {
   "cell_type": "code",
   "execution_count": 33,
   "id": "40d68f97",
   "metadata": {},
   "outputs": [
    {
     "data": {
      "text/plain": [
       "datetime.date(2023, 1, 11)"
      ]
     },
     "execution_count": 33,
     "metadata": {},
     "output_type": "execute_result"
    }
   ],
   "source": [
    "dtt.date(2023, 1, 1) + dtt.timedelta( 10 )"
   ]
  },
  {
   "cell_type": "code",
   "execution_count": 39,
   "id": "92cf1f24",
   "metadata": {},
   "outputs": [
    {
     "data": {
      "text/plain": [
       "[datetime.date(2023, 1, 1),\n",
       " datetime.date(2023, 1, 2),\n",
       " datetime.date(2023, 1, 3),\n",
       " datetime.date(2023, 1, 4)]"
      ]
     },
     "execution_count": 39,
     "metadata": {},
     "output_type": "execute_result"
    }
   ],
   "source": [
    "[dtt.date(2023, 1, 1),dtt.date(2023, 1, 2),dtt.date(2023, 1, 3),dtt.date(2023, 1, 4)]"
   ]
  },
  {
   "cell_type": "code",
   "execution_count": 37,
   "id": "530336c7",
   "metadata": {},
   "outputs": [
    {
     "ename": "ValueError",
     "evalue": "Could not convert object to NumPy datetime",
     "output_type": "error",
     "traceback": [
      "\u001b[1;31m---------------------------------------------------------------------------\u001b[0m",
      "\u001b[1;31mValueError\u001b[0m                                Traceback (most recent call last)",
      "Cell \u001b[1;32mIn [37], line 1\u001b[0m\n\u001b[1;32m----> 1\u001b[0m np\u001b[39m.\u001b[39;49mdatetime64([\u001b[39m'\u001b[39;49m\u001b[39m2023-01-01\u001b[39;49m\u001b[39m'\u001b[39;49m,\u001b[39m'\u001b[39;49m\u001b[39m2023-01-02\u001b[39;49m\u001b[39m'\u001b[39;49m,\u001b[39m'\u001b[39;49m\u001b[39m2023-01-03\u001b[39;49m\u001b[39m'\u001b[39;49m,\u001b[39m'\u001b[39;49m\u001b[39m2023-01-04\u001b[39;49m\u001b[39m'\u001b[39;49m])\n",
      "\u001b[1;31mValueError\u001b[0m: Could not convert object to NumPy datetime"
     ]
    }
   ],
   "source": [
    "np.datetime64(['2023-01-01','2023-01-02','2023-01-03','2023-01-04'])"
   ]
  },
  {
   "cell_type": "code",
   "execution_count": 113,
   "id": "c9cacd3e",
   "metadata": {},
   "outputs": [
    {
     "data": {
      "text/plain": [
       "DatetimeIndex(['2023-01-01', '2023-01-02', '2023-01-03', '2023-01-04'], dtype='datetime64[ns]', freq=None)"
      ]
     },
     "execution_count": 113,
     "metadata": {},
     "output_type": "execute_result"
    }
   ],
   "source": [
    "pd.to_datetime(['2023-01-01','2023-01-02','2023-01-03','2023-01-04'])"
   ]
  },
  {
   "cell_type": "code",
   "execution_count": 114,
   "id": "6e1bfce5",
   "metadata": {},
   "outputs": [
    {
     "data": {
      "text/plain": [
       "DatetimeIndex(['2023-01-01', '2023-01-02', '2023-01-03', '2023-01-04', 'NaT'], dtype='datetime64[ns]', freq=None)"
      ]
     },
     "execution_count": 114,
     "metadata": {},
     "output_type": "execute_result"
    }
   ],
   "source": [
    "pd.to_datetime(['2023-01-01','2023-01-02','2023-01-03','2023-01-04', np.NaN])"
   ]
  },
  {
   "cell_type": "code",
   "execution_count": 154,
   "id": "95d54033",
   "metadata": {},
   "outputs": [
    {
     "data": {
      "text/html": [
       "<div>\n",
       "<style scoped>\n",
       "    .dataframe tbody tr th:only-of-type {\n",
       "        vertical-align: middle;\n",
       "    }\n",
       "\n",
       "    .dataframe tbody tr th {\n",
       "        vertical-align: top;\n",
       "    }\n",
       "\n",
       "    .dataframe thead th {\n",
       "        text-align: right;\n",
       "    }\n",
       "</style>\n",
       "<table border=\"1\" class=\"dataframe\">\n",
       "  <thead>\n",
       "    <tr style=\"text-align: right;\">\n",
       "      <th></th>\n",
       "      <th>Texto</th>\n",
       "      <th>Texto_</th>\n",
       "      <th>Número_Int</th>\n",
       "      <th>Número_Int_</th>\n",
       "      <th>Número_Virg</th>\n",
       "      <th>Número_Virg_</th>\n",
       "      <th>Data</th>\n",
       "      <th>Data_</th>\n",
       "      <th>Lógico</th>\n",
       "      <th>Lógico_</th>\n",
       "    </tr>\n",
       "  </thead>\n",
       "  <tbody>\n",
       "    <tr>\n",
       "      <th style=\"font-style: italic;\" ></th>\n",
       "      <td style=\"font-style: italic;\" >&lt;object&gt;</td>\n",
       "      <td style=\"font-style: italic;\" >&lt;object&gt;</td>\n",
       "      <td style=\"font-style: italic;\" >&lt;int64&gt;</td>\n",
       "      <td style=\"font-style: italic;\" >&lt;float64&gt;</td>\n",
       "      <td style=\"font-style: italic;\" >&lt;float64&gt;</td>\n",
       "      <td style=\"font-style: italic;\" >&lt;float64&gt;</td>\n",
       "      <td style=\"font-style: italic;\" >&lt;datetime64[ns]&gt;</td>\n",
       "      <td style=\"font-style: italic;\" >&lt;datetime64[ns]&gt;</td>\n",
       "      <td style=\"font-style: italic;\" >&lt;bool&gt;</td>\n",
       "      <td style=\"font-style: italic;\" >&lt;object&gt;</td>\n",
       "    </tr>\n",
       "    <tr>\n",
       "      <th>0</th>\n",
       "      <td>a</td>\n",
       "      <td>a</td>\n",
       "      <td>1</td>\n",
       "      <td>1.0</td>\n",
       "      <td>1.0</td>\n",
       "      <td>1.0</td>\n",
       "      <td>2023-01-01</td>\n",
       "      <td>2023-01-01</td>\n",
       "      <td>True</td>\n",
       "      <td>True</td>\n",
       "    </tr>\n",
       "    <tr>\n",
       "      <th>1</th>\n",
       "      <td>b</td>\n",
       "      <td>b</td>\n",
       "      <td>2</td>\n",
       "      <td>2.0</td>\n",
       "      <td>2.0</td>\n",
       "      <td>2.0</td>\n",
       "      <td>2023-01-02</td>\n",
       "      <td>2023-01-02</td>\n",
       "      <td>False</td>\n",
       "      <td>False</td>\n",
       "    </tr>\n",
       "    <tr>\n",
       "      <th>2</th>\n",
       "      <td>c</td>\n",
       "      <td>c</td>\n",
       "      <td>3</td>\n",
       "      <td>3.0</td>\n",
       "      <td>3.0</td>\n",
       "      <td>3.0</td>\n",
       "      <td>2023-01-03</td>\n",
       "      <td>2023-01-03</td>\n",
       "      <td>True</td>\n",
       "      <td>True</td>\n",
       "    </tr>\n",
       "    <tr>\n",
       "      <th>3</th>\n",
       "      <td>d</td>\n",
       "      <td>d</td>\n",
       "      <td>4</td>\n",
       "      <td>4.0</td>\n",
       "      <td>4.0</td>\n",
       "      <td>4.0</td>\n",
       "      <td>2023-01-04</td>\n",
       "      <td>2023-01-04</td>\n",
       "      <td>False</td>\n",
       "      <td>False</td>\n",
       "    </tr>\n",
       "    <tr>\n",
       "      <th>4</th>\n",
       "      <td>e</td>\n",
       "      <td>NaN</td>\n",
       "      <td>5</td>\n",
       "      <td>NaN</td>\n",
       "      <td>5.0</td>\n",
       "      <td>NaN</td>\n",
       "      <td>2023-01-05</td>\n",
       "      <td>NaT</td>\n",
       "      <td>True</td>\n",
       "      <td>NaN</td>\n",
       "    </tr>\n",
       "  </tbody>\n",
       "</table>\n",
       "</div>\n"
      ],
      "text/plain": [
       "     Texto   Texto_  Número_Int  Número_Int_  Número_Virg  Número_Virg_             Data            Data_  Lógico  Lógico_\n",
       "  <object> <object>     <int64>    <float64>    <float64>     <float64> <datetime64[ns]> <datetime64[ns]>  <bool> <object>\n",
       "0        a        a           1          1.0          1.0           1.0       2023-01-01       2023-01-01    True     True\n",
       "1        b        b           2          2.0          2.0           2.0       2023-01-02       2023-01-02   False    False\n",
       "2        c        c           3          3.0          3.0           3.0       2023-01-03       2023-01-03    True     True\n",
       "3        d        d           4          4.0          4.0           4.0       2023-01-04       2023-01-04   False    False\n",
       "4        e      NaN           5          NaN          5.0           NaN       2023-01-05              NaT    True      NaN"
      ]
     },
     "execution_count": 154,
     "metadata": {},
     "output_type": "execute_result"
    }
   ],
   "source": [
    "Tipos_de_Dados = pd.DataFrame({\n",
    "    'Texto'   : [\"a\", \"b\", \"c\", \"d\", \"e\"],\n",
    "    'Texto_'  : [\"a\", \"b\", \"c\", \"d\", NaN],\n",
    "\n",
    "    'Número_Int'  : [1, 2, 3, 4, 5],\n",
    "    'Número_Int_' : [1, 2, 3, 4, NaN],\n",
    "\n",
    "    'Número_Virg'  : [1.0, 2.0, 3.0, 4.0, 5.0],\n",
    "    'Número_Virg_' : [1.0, 2.0, 3.0, 4.0, NaN],\n",
    "\n",
    "    'Data'    : pd.to_datetime([\"2023-01-01\", \"2023-01-02\", \"2023-01-03\", \"2023-01-04\", \"2023-01-05\"]),\n",
    "    'Data_'   : pd.to_datetime([\"2023-01-01\", \"2023-01-02\", \"2023-01-03\", \"2023-01-04\", NaN]),\n",
    "\n",
    "    'Lógico'  : [TRUE, FALSE, TRUE, FALSE, TRUE],\n",
    "    'Lógico_' : [TRUE, FALSE, TRUE, FALSE, NaN]\n",
    "})\n",
    "Tipos_de_Dados"
   ]
  },
  {
   "cell_type": "code",
   "execution_count": 155,
   "id": "7f67ff79",
   "metadata": {},
   "outputs": [
    {
     "data": {
      "text/plain": [
       "0     True\n",
       "1     True\n",
       "2     True\n",
       "3     True\n",
       "4    False\n",
       "dtype: bool"
      ]
     },
     "execution_count": 155,
     "metadata": {},
     "output_type": "execute_result"
    }
   ],
   "source": [
    "Tipos_de_Dados['Número_Int'] == Tipos_de_Dados['Número_Int_']"
   ]
  },
  {
   "cell_type": "code",
   "execution_count": 156,
   "id": "51dcf825",
   "metadata": {},
   "outputs": [
    {
     "data": {
      "text/plain": [
       "False"
      ]
     },
     "execution_count": 156,
     "metadata": {},
     "output_type": "execute_result"
    }
   ],
   "source": [
    "[1, 2, 3, NaN] == [1, 2, 3, 4]"
   ]
  },
  {
   "cell_type": "code",
   "execution_count": 160,
   "id": "46db95ff",
   "metadata": {},
   "outputs": [
    {
     "data": {
      "text/plain": [
       "array([ True,  True,  True, False])"
      ]
     },
     "execution_count": 160,
     "metadata": {},
     "output_type": "execute_result"
    }
   ],
   "source": [
    "np.array([1, 2, 3, NaN]) == np.array([1, 2, 3, 4])"
   ]
  },
  {
   "cell_type": "code",
   "execution_count": 44,
   "id": "1c3120b2",
   "metadata": {},
   "outputs": [
    {
     "data": {
      "text/plain": [
       "19358"
      ]
     },
     "execution_count": 44,
     "metadata": {},
     "output_type": "execute_result"
    }
   ],
   "source": [
    "np.int64( np.datetime64('2023-01-01') )"
   ]
  },
  {
   "cell_type": "code",
   "execution_count": 77,
   "id": "98bae219",
   "metadata": {},
   "outputs": [
    {
     "data": {
      "text/plain": [
       "19358.0"
      ]
     },
     "execution_count": 77,
     "metadata": {},
     "output_type": "execute_result"
    }
   ],
   "source": [
    "pd.to_datetime('2023-01-01').value / 1_000_000_000 / 60 / 60 / 24"
   ]
  },
  {
   "cell_type": "code",
   "execution_count": 27,
   "id": "50fce2a2",
   "metadata": {},
   "outputs": [
    {
     "data": {
      "text/plain": [
       "19358"
      ]
     },
     "execution_count": 27,
     "metadata": {},
     "output_type": "execute_result"
    }
   ],
   "source": [
    "(dtt.date(2023, 1, 1 ) - dtt.date(1970, 1, 1 )).days"
   ]
  },
  {
   "cell_type": "code",
   "execution_count": 28,
   "id": "60f0ceb5",
   "metadata": {},
   "outputs": [
    {
     "name": "stdout",
     "output_type": "stream",
     "text": [
      "19358.0 \n",
      " 19358 \n",
      " 19358\n"
     ]
    }
   ],
   "source": [
    "print(\n",
    "    pd.to_datetime('2023-01-01').value / 1_000_000_000 / 60 / 60 / 24,  \"\\n\",\n",
    "    np.int64( np.datetime64('2023-01-01') ),                            \"\\n\",\n",
    "    (dtt.date(2023, 1, 1 ) - dtt.date(1970, 1, 1 )).days\n",
    ")"
   ]
  },
  {
   "attachments": {},
   "cell_type": "markdown",
   "id": "38c58102",
   "metadata": {},
   "source": [
    "## Base Olist Brasil"
   ]
  },
  {
   "cell_type": "code",
   "execution_count": 2,
   "id": "772876ab",
   "metadata": {},
   "outputs": [
    {
     "data": {
      "text/html": [
       "<div>\n",
       "<style scoped>\n",
       "    .dataframe tbody tr th:only-of-type {\n",
       "        vertical-align: middle;\n",
       "    }\n",
       "\n",
       "    .dataframe tbody tr th {\n",
       "        vertical-align: top;\n",
       "    }\n",
       "\n",
       "    .dataframe thead th {\n",
       "        text-align: right;\n",
       "    }\n",
       "</style>\n",
       "<table border=\"1\" class=\"dataframe\">\n",
       "  <thead>\n",
       "    <tr style=\"text-align: right;\">\n",
       "      <th></th>\n",
       "      <th>geolocation_zip_code_prefix</th>\n",
       "      <th>geolocation_lat</th>\n",
       "      <th>geolocation_lng</th>\n",
       "      <th>geolocation_city</th>\n",
       "      <th>geolocation_state</th>\n",
       "    </tr>\n",
       "  </thead>\n",
       "  <tbody>\n",
       "    <tr>\n",
       "      <th style=\"font-style: italic;\" ></th>\n",
       "      <td style=\"font-style: italic;\" >&lt;int64&gt;</td>\n",
       "      <td style=\"font-style: italic;\" >&lt;float64&gt;</td>\n",
       "      <td style=\"font-style: italic;\" >&lt;float64&gt;</td>\n",
       "      <td style=\"font-style: italic;\" >&lt;object&gt;</td>\n",
       "      <td style=\"font-style: italic;\" >&lt;object&gt;</td>\n",
       "    </tr>\n",
       "    <tr>\n",
       "      <th>0</th>\n",
       "      <td>1037</td>\n",
       "      <td>-23.545621</td>\n",
       "      <td>-46.639292</td>\n",
       "      <td>sao paulo</td>\n",
       "      <td>SP</td>\n",
       "    </tr>\n",
       "    <tr>\n",
       "      <th>1</th>\n",
       "      <td>1046</td>\n",
       "      <td>-23.546081</td>\n",
       "      <td>-46.644820</td>\n",
       "      <td>sao paulo</td>\n",
       "      <td>SP</td>\n",
       "    </tr>\n",
       "    <tr>\n",
       "      <th>2</th>\n",
       "      <td>1046</td>\n",
       "      <td>-23.546129</td>\n",
       "      <td>-46.642951</td>\n",
       "      <td>sao paulo</td>\n",
       "      <td>SP</td>\n",
       "    </tr>\n",
       "    <tr>\n",
       "      <th>3</th>\n",
       "      <td>1041</td>\n",
       "      <td>-23.544392</td>\n",
       "      <td>-46.639499</td>\n",
       "      <td>sao paulo</td>\n",
       "      <td>SP</td>\n",
       "    </tr>\n",
       "    <tr>\n",
       "      <th>...</th>\n",
       "      <td>...</td>\n",
       "      <td>...</td>\n",
       "      <td>...</td>\n",
       "      <td>...</td>\n",
       "      <td>...</td>\n",
       "    </tr>\n",
       "    <tr>\n",
       "      <th>4</th>\n",
       "      <td>1035</td>\n",
       "      <td>-23.541578</td>\n",
       "      <td>-46.641607</td>\n",
       "      <td>sao paulo</td>\n",
       "      <td>SP</td>\n",
       "    </tr>\n",
       "    <tr>\n",
       "      <th>1000158</th>\n",
       "      <td>99950</td>\n",
       "      <td>-28.068639</td>\n",
       "      <td>-52.010705</td>\n",
       "      <td>tapejara</td>\n",
       "      <td>RS</td>\n",
       "    </tr>\n",
       "    <tr>\n",
       "      <th>1000159</th>\n",
       "      <td>99900</td>\n",
       "      <td>-27.877125</td>\n",
       "      <td>-52.224882</td>\n",
       "      <td>getulio vargas</td>\n",
       "      <td>RS</td>\n",
       "    </tr>\n",
       "    <tr>\n",
       "      <th>1000160</th>\n",
       "      <td>99950</td>\n",
       "      <td>-28.071855</td>\n",
       "      <td>-52.014716</td>\n",
       "      <td>tapejara</td>\n",
       "      <td>RS</td>\n",
       "    </tr>\n",
       "    <tr>\n",
       "      <th>1000161</th>\n",
       "      <td>99980</td>\n",
       "      <td>-28.388932</td>\n",
       "      <td>-51.846871</td>\n",
       "      <td>david canabarro</td>\n",
       "      <td>RS</td>\n",
       "    </tr>\n",
       "    <tr>\n",
       "      <th>1000162</th>\n",
       "      <td>99950</td>\n",
       "      <td>-28.070104</td>\n",
       "      <td>-52.018658</td>\n",
       "      <td>tapejara</td>\n",
       "      <td>RS</td>\n",
       "    </tr>\n",
       "  </tbody>\n",
       "</table>\n",
       "<p>1000163 rows × 5 columns</p>\n",
       "</div>\n"
      ],
      "text/plain": [
       "         geolocation_zip_code_prefix  geolocation_lat  geolocation_lng  \\\n",
       "                             <int64>        <float64>        <float64>   \n",
       "0                               1037       -23.545621       -46.639292   \n",
       "1                               1046       -23.546081       -46.644820   \n",
       "2                               1046       -23.546129       -46.642951   \n",
       "3                               1041       -23.544392       -46.639499   \n",
       "...                              ...              ...              ...   \n",
       "4                               1035       -23.541578       -46.641607   \n",
       "1000158                        99950       -28.068639       -52.010705   \n",
       "1000159                        99900       -27.877125       -52.224882   \n",
       "1000160                        99950       -28.071855       -52.014716   \n",
       "1000161                        99980       -28.388932       -51.846871   \n",
       "1000162                        99950       -28.070104       -52.018658   \n",
       "\n",
       "        geolocation_city geolocation_state  \n",
       "                <object>          <object>  \n",
       "0              sao paulo                SP  \n",
       "1              sao paulo                SP  \n",
       "2              sao paulo                SP  \n",
       "3              sao paulo                SP  \n",
       "...                  ...               ...  \n",
       "4              sao paulo                SP  \n",
       "1000158         tapejara                RS  \n",
       "1000159   getulio vargas                RS  \n",
       "1000160         tapejara                RS  \n",
       "1000161  david canabarro                RS  \n",
       "1000162         tapejara                RS  \n",
       "\n",
       "[1000163 rows x 5 columns]"
      ]
     },
     "execution_count": 2,
     "metadata": {},
     "output_type": "execute_result"
    }
   ],
   "source": [
    "olist_geolocation = pd.read_csv(\"C:/Users/danil/OneDrive/Danilo_Back-up/Kaggle/Brasilian_Ecommerce_Olist/olist_geolocation_dataset.csv\")\n",
    "olist_geolocation"
   ]
  },
  {
   "cell_type": "code",
   "execution_count": 7,
   "id": "356fd966",
   "metadata": {},
   "outputs": [
    {
     "data": {
      "text/plain": [
       "numpy.str_"
      ]
     },
     "execution_count": 7,
     "metadata": {},
     "output_type": "execute_result"
    }
   ],
   "source": [
    "olist_geolocation_zip_code = unique(olist_geolocation['geolocation_zip_code_prefix'])\n",
    "olist_geolocation_zip_code = olist_geolocation_zip_code.astype(str)"
   ]
  },
  {
   "cell_type": "code",
   "execution_count": 14,
   "id": "c382a7a8",
   "metadata": {},
   "outputs": [],
   "source": [
    "olist_geolocation_zip_code2 = np.array([]).astype(str)\n",
    "\n",
    "for i in range(0, length(olist_geolocation_zip_code), 1):\n",
    "    olist_geolocation_zip_code2 = append(olist_geolocation_zip_code2, olist_geolocation_zip_code[i].zfill(5))"
   ]
  },
  {
   "cell_type": "code",
   "execution_count": 15,
   "id": "03fc190a",
   "metadata": {},
   "outputs": [
    {
     "data": {
      "text/plain": [
       "array(['01037', '01046', '01041', ..., '99910', '99920', '99952'],\n",
       "      dtype='<U32')"
      ]
     },
     "execution_count": 15,
     "metadata": {},
     "output_type": "execute_result"
    }
   ],
   "source": [
    "olist_geolocation_zip_code2"
   ]
  },
  {
   "cell_type": "markdown",
   "id": "2d1f0c66",
   "metadata": {},
   "source": [
    "## Rascunho"
   ]
  },
  {
   "attachments": {},
   "cell_type": "markdown",
   "id": "315927e7",
   "metadata": {},
   "source": [
    "#### Ler texto de PDF"
   ]
  },
  {
   "cell_type": "code",
   "execution_count": 1,
   "id": "cb8b2444",
   "metadata": {},
   "outputs": [],
   "source": [
    "import easyocr"
   ]
  },
  {
   "cell_type": "code",
   "execution_count": null,
   "id": "ef8ead3b",
   "metadata": {},
   "outputs": [],
   "source": [
    "reader = easyocr.Reader(['pt'])\n",
    "results = reader.readtext('C:/Users/danil/Desktop/Scanner_20221116 (2).png')"
   ]
  },
  {
   "cell_type": "code",
   "execution_count": null,
   "id": "317f6fb4",
   "metadata": {},
   "outputs": [],
   "source": [
    "text = []\n",
    "for result in range( 11, len(pd.DataFrame(results)[0:500][1]) ):\n",
    "    print( pd.DataFrame(results)[0:500][1][result] )"
   ]
  },
  {
   "cell_type": "code",
   "execution_count": null,
   "id": "30f9c344",
   "metadata": {},
   "outputs": [],
   "source": [
    "pd.DataFrame(results)[0:500][1][146]"
   ]
  },
  {
   "cell_type": "code",
   "execution_count": null,
   "id": "f8b8b86a",
   "metadata": {},
   "outputs": [],
   "source": [
    "CARS.loc[\n",
    "    CARS['no_cylinder'] > 10,                 # Filtro de Linhas\n",
    "    ['car_name', 'fuel_type', 'no_cylinder']  # Filtro de Colunas\n",
    "]"
   ]
  },
  {
   "cell_type": "code",
   "execution_count": 2,
   "id": "305a47af",
   "metadata": {},
   "outputs": [],
   "source": [
    "import ipywidgets as wg\n",
    "import numpy as np\n",
    "import matplotlib.pyplot as plt\n",
    "from IPython.display import display\n",
    "%matplotlib inline"
   ]
  },
  {
   "cell_type": "code",
   "execution_count": 5,
   "id": "cf819212",
   "metadata": {},
   "outputs": [
    {
     "data": {
      "application/vnd.jupyter.widget-view+json": {
       "model_id": "58c265c445654b41bb57cb8b03e923ae",
       "version_major": 2,
       "version_minor": 0
      },
      "text/plain": [
       "Text(value='Name')"
      ]
     },
     "metadata": {},
     "output_type": "display_data"
    },
    {
     "data": {
      "application/vnd.jupyter.widget-view+json": {
       "model_id": "6b300105e57f4755ab028824f0d86878",
       "version_major": 2,
       "version_minor": 0
      },
      "text/plain": [
       "IntSlider(value=0, description='Age: ')"
      ]
     },
     "metadata": {},
     "output_type": "display_data"
    },
    {
     "data": {
      "application/vnd.jupyter.widget-view+json": {
       "model_id": "fbf10b11340d45eea367761803be9f6c",
       "version_major": 2,
       "version_minor": 0
      },
      "text/plain": [
       "Box()"
      ]
     },
     "metadata": {},
     "output_type": "display_data"
    },
    {
     "name": "stdout",
     "output_type": "stream",
     "text": [
      "Name is already 0 now \n"
     ]
    }
   ],
   "source": [
    "name = wg.Text (value = 'Name')\n",
    "age = wg.IntSlider (description = 'Age: ')\n",
    "box = wg.Box()\n",
    "display (name, age, box)\n",
    "print (name.value + ' is already '+ str (age.value) + ' now ')"
   ]
  },
  {
   "attachments": {},
   "cell_type": "markdown",
   "id": "c068fab0",
   "metadata": {},
   "source": [
    "#### <h2 style=\"font-family:impact; background-color:#3C2A21; color:#D5CEA3; text-align:center\">Endereço a partir do CEP</h2>"
   ]
  },
  {
   "cell_type": "code",
   "execution_count": 50,
   "id": "6340cffc",
   "metadata": {},
   "outputs": [],
   "source": [
    "from pycep_correios import get_address_from_cep, WebService\n",
    "import numpy as np\n",
    "import pandas as pd"
   ]
  },
  {
   "cell_type": "code",
   "execution_count": 48,
   "id": "4634ca07",
   "metadata": {},
   "outputs": [],
   "source": [
    "address = get_address_from_cep('37503-130', webservice=WebService.APICEP)"
   ]
  },
  {
   "cell_type": "code",
   "execution_count": 52,
   "id": "bf2285ca",
   "metadata": {},
   "outputs": [],
   "source": [
    "address = get_address_from_cep('09790-000', webservice=WebService.APICEP)"
   ]
  },
  {
   "cell_type": "code",
   "execution_count": 46,
   "id": "a61d2ebb",
   "metadata": {},
   "outputs": [
    {
     "data": {
      "text/html": [
       "<div>\n",
       "<style scoped>\n",
       "    .dataframe tbody tr th:only-of-type {\n",
       "        vertical-align: middle;\n",
       "    }\n",
       "\n",
       "    .dataframe tbody tr th {\n",
       "        vertical-align: top;\n",
       "    }\n",
       "\n",
       "    .dataframe thead th {\n",
       "        text-align: right;\n",
       "    }\n",
       "</style>\n",
       "<table border=\"1\" class=\"dataframe\">\n",
       "  <thead>\n",
       "    <tr style=\"text-align: right;\">\n",
       "      <th></th>\n",
       "      <th>keys</th>\n",
       "      <th>values</th>\n",
       "    </tr>\n",
       "  </thead>\n",
       "  <tbody>\n",
       "    <tr>\n",
       "      <th>0</th>\n",
       "      <td>bairro</td>\n",
       "      <td>Santo Antônio</td>\n",
       "    </tr>\n",
       "    <tr>\n",
       "      <th>1</th>\n",
       "      <td>cep</td>\n",
       "      <td>37503-130</td>\n",
       "    </tr>\n",
       "    <tr>\n",
       "      <th>2</th>\n",
       "      <td>cidade</td>\n",
       "      <td>Itajubá</td>\n",
       "    </tr>\n",
       "    <tr>\n",
       "      <th>3</th>\n",
       "      <td>logradouro</td>\n",
       "      <td>Rua Geraldino Campista</td>\n",
       "    </tr>\n",
       "    <tr>\n",
       "      <th>4</th>\n",
       "      <td>uf</td>\n",
       "      <td>MG</td>\n",
       "    </tr>\n",
       "    <tr>\n",
       "      <th>5</th>\n",
       "      <td>complemento</td>\n",
       "      <td></td>\n",
       "    </tr>\n",
       "  </tbody>\n",
       "</table>\n",
       "</div>"
      ],
      "text/plain": [
       "          keys                  values\n",
       "0       bairro           Santo Antônio\n",
       "1          cep               37503-130\n",
       "2       cidade                 Itajubá\n",
       "3   logradouro  Rua Geraldino Campista\n",
       "4           uf                      MG\n",
       "5  complemento                        "
      ]
     },
     "execution_count": 46,
     "metadata": {},
     "output_type": "execute_result"
    }
   ],
   "source": [
    "pd.DataFrame({\n",
    "    'keys'   : list(address.keys()),\n",
    "    'values' : list(address.values())\n",
    "})"
   ]
  },
  {
   "cell_type": "code",
   "execution_count": null,
   "id": "05694a8d",
   "metadata": {},
   "outputs": [],
   "source": [
    "address = get_address_from_cep('37503-130', webservice=WebService.VIACEP)"
   ]
  },
  {
   "cell_type": "code",
   "execution_count": null,
   "id": "0918e7af",
   "metadata": {},
   "outputs": [],
   "source": [
    "address = get_address_from_cep('37503-130', webservice=WebService.CORREIOS)"
   ]
  },
  {
   "cell_type": "code",
   "execution_count": null,
   "id": "9b8449ab",
   "metadata": {},
   "outputs": [],
   "source": []
  },
  {
   "attachments": {},
   "cell_type": "markdown",
   "id": "271bedc7",
   "metadata": {},
   "source": [
    "#### <h2 style=\"font-family:impact; background-color:#3C2A21; color:#D5CEA3; text-align:center\">Lat e Long a partir do ENDEREÇO</h2>"
   ]
  },
  {
   "cell_type": "code",
   "execution_count": 41,
   "id": "ca94402c",
   "metadata": {},
   "outputs": [
    {
     "name": "stdout",
     "output_type": "stream",
     "text": [
      "12.9801559\n",
      "77.6023714\n"
     ]
    }
   ],
   "source": [
    "import requests\n",
    "import urllib.parse\n",
    "\n",
    "address = 'Shivaji Nagar, Bangalore, KA 560001'\n",
    "url = 'https://nominatim.openstreetmap.org/search/' + urllib.parse.quote(address) +'?format=json'\n",
    "\n",
    "response = requests.get(url).json()\n",
    "print(response[0][\"lat\"])\n",
    "print(response[0][\"lon\"])"
   ]
  },
  {
   "cell_type": "code",
   "execution_count": 42,
   "id": "778bd79f",
   "metadata": {},
   "outputs": [],
   "source": [
    "from geopy.geocoders import Nominatim"
   ]
  },
  {
   "cell_type": "code",
   "execution_count": 53,
   "id": "c09d7468",
   "metadata": {},
   "outputs": [],
   "source": [
    "app = Nominatim(user_agent=\"tutorial\")"
   ]
  },
  {
   "cell_type": "code",
   "execution_count": 89,
   "id": "ee8272cb",
   "metadata": {},
   "outputs": [],
   "source": [
    "location = app.geocode(\"SP, Franca\").raw"
   ]
  },
  {
   "cell_type": "code",
   "execution_count": null,
   "id": "3426976e",
   "metadata": {},
   "outputs": [],
   "source": [
    "location"
   ]
  },
  {
   "cell_type": "code",
   "execution_count": 90,
   "id": "5cb6c3db",
   "metadata": {},
   "outputs": [
    {
     "name": "stdout",
     "output_type": "stream",
     "text": [
      "-20.5381768 -47.4009795\n"
     ]
    }
   ],
   "source": [
    "print(\n",
    "location['lat'],\n",
    "location['lon']\n",
    ")"
   ]
  },
  {
   "attachments": {},
   "cell_type": "markdown",
   "id": "df6f5fb4",
   "metadata": {},
   "source": [
    "## <h1 style=\"font-family:impact; background-color:#3C2A21; color:#D5CEA3; text-align:center\">Teste de Velocidade</h1>"
   ]
  },
  {
   "cell_type": "code",
   "execution_count": 32,
   "id": "e3a9ddd3",
   "metadata": {},
   "outputs": [
    {
     "data": {
      "text/plain": [
       "0"
      ]
     },
     "execution_count": 32,
     "metadata": {},
     "output_type": "execute_result"
    }
   ],
   "source": [
    "lat1 = np.array([])\n",
    "lat2 = np.array([])\n",
    "lon1 = np.array([])\n",
    "lon2 = np.array([])\n",
    "\n",
    "for x in range(0, 200_000, 1):\n",
    "    lat1 = np.append( lat1, (random.random() * 120) - 60 )\n",
    "    lat2 = np.append( lat2, (random.random() * 120) - 60 )\n",
    "    lon1 = np.append( lon1, (random.random() * 240) -120 )\n",
    "    lon2 = np.append( lon2, (random.random() * 240) -120 )\n",
    "# end\n",
    "\n",
    "teste = pd.DataFrame({\n",
    "    'lat_1' : lat1,\n",
    "    'lat_2' : lat2,\n",
    "    'lon_1' : lon1,\n",
    "    'lon_2' : lon2,\n",
    "    'distancia' : 2 * 6378.1 * np.arcsin( \n",
    "        np.sqrt( np.abs(\n",
    "            sin( ( np.radians(lat1) - np.radians(lat2) ) / 2 )**2 +\n",
    "            cos( np.radians(lon1) ) * cos( np.radians(lon2) ) *\n",
    "            sin( ( np.radians(lon1) - np.radians(lon2) ) / 2 )**2\n",
    "        ) )\n",
    "    )\n",
    "})\n",
    "teste\n",
    "gc.collect()"
   ]
  },
  {
   "cell_type": "code",
   "execution_count": null,
   "id": "36ceebbb",
   "metadata": {},
   "outputs": [],
   "source": [
    "t100000 = [19.6, 15.8]\n",
    "\n",
    "t200000 = [4m 38.7]"
   ]
  },
  {
   "attachments": {},
   "cell_type": "markdown",
   "id": "732e0a91",
   "metadata": {},
   "source": [
    "## <h1 style=\"font-family:impact; background-color:#3C2A21; color:#D5CEA3; text-align:center\">Matemática Financeira</h1>"
   ]
  },
  {
   "cell_type": "code",
   "execution_count": 26,
   "id": "0a7d5012",
   "metadata": {},
   "outputs": [],
   "source": [
    "import pandas as pd\n",
    "import numpy as np\n",
    "import datetime as dtt\n",
    "from datar import f\n",
    "from datar.all import *"
   ]
  },
  {
   "attachments": {},
   "cell_type": "markdown",
   "id": "c96711a5",
   "metadata": {},
   "source": [
    "<font size = 6 style=\"font-family:consolas\"><b>Fómulas Financeiras</b></font><br><br>\n",
    "<font size = 4 style=\"color:#D5CEA3\">$\\ \\ \\ \\ FV = PV \\times (1 + i)^n$</font><br><br>\n",
    "<font size = 4 style=\"color:#D5CEA3\">$\\ \\ \\ \\ PV = \\frac{FV}{(1 + i)^n}$</font><br><br>\n",
    "<font size = 4 style=\"color:#D5CEA3\">$\\ \\ \\ \\ i\\ =\\ (\\frac{FV}{PV})^{\\frac{1}{n}} -1$</font><br><br>\n",
    "<font size = 4 style=\"color:#D5CEA3\">$\\ \\ \\ \\ n\\ =\\ \\frac{log_{(1+i)}}{log_{\\frac{FV}{PV}}}$</font><br><br>\n",
    "<font size = 4 style=\"color:#D5CEA3\">$\\ \\ \\ \\ PMT\\ =\\ PV\\ \\times\\ \\frac{i}{1 - (1 + i)^{-n}}$</font><br><br>\n",
    "<a href=\"https://pt.wikipedia.org/wiki/Tabela_Price\"><font style=\"font-family:consolas; color:pink\">Wikipedia: Tabela PRICE</font></a><br>\n",
    "<a href=\"https://pt.wikipedia.org/wiki/Sistema_de_amortiza%C3%A7%C3%A3o_constante\"><font style=\"font-family:consolas; color:pink\">Wikipedia: Tabela SAC</font></a>"
   ]
  },
  {
   "cell_type": "code",
   "execution_count": null,
   "id": "c900136d",
   "metadata": {},
   "outputs": [],
   "source": [
    "Cadastro = pd.read_excel(\n",
    "    \"C:/Users/danil/OneDrive/Danilo_Back-up/Projetos_Pessoais/Canal_Youtube/Excel/Matematica_Financeira.xlsx\", \n",
    "    sheet_name = \"Cadastro\"\n",
    ")\n",
    "Cadastro[Cadastro['Modelo'] == \"PRICE\"][0:5]"
   ]
  },
  {
   "attachments": {},
   "cell_type": "markdown",
   "id": "f4693af4",
   "metadata": {},
   "source": [
    "##### <p style=\"font-family:consolas; background-color:#3C2A21\"><font size=6><b>Modelo PRICE</b></font></p>\n",
    "\n",
    "<font size=5 style = \"font-family: impact; color:lightblue\">Estratégia</font>\n",
    "<p style = \"font-family: consolas\">\n",
    "1. Gerar valores iniciais de cada variável (primeira parcela)<br>\n",
    "2. Gerar valores a partir da segunda linha (da segunda a última parcela)<br>\n",
    "3. Armazenar vetor do contrato<br>\n",
    "4. Armazenar vetores de cada contrato<br>\n",
    "5. Gerar Tabela com vetores armazenados\n",
    "</p>"
   ]
  },
  {
   "cell_type": "code",
   "execution_count": 65,
   "id": "6633412e",
   "metadata": {},
   "outputs": [],
   "source": [
    "Contrato__  = [0]\n",
    "Parcela__   = [0]\n",
    "Data_Venc__ = [Cadastro['Data_Emissao'][0]]\n",
    "PMT__       = [0.0]\n",
    "Juros__     = [0.0]\n",
    "Amort__     = [0.0]\n",
    "PV_atual__  = [0.0]\n",
    "\n",
    "\n",
    "for _cadastro_ in range(0, length(Cadastro[ Cadastro['Modelo'] == \"PRICE\" ]['Contrato']), 1):\n",
    "\n",
    "    # 1. Gerar valores iniciais de cada variável (primeira parcela)\n",
    "    Data_Emi   =  list( Cadastro['Data_Emissao'][ Cadastro['Modelo'] == \"PRICE\" ] )[_cadastro_]\n",
    "    Contrato   = [list( Cadastro['Contrato'    ][ Cadastro['Modelo'] == \"PRICE\" ] )[_cadastro_]]\n",
    "    PV         = [list( Cadastro['Principal'   ][ Cadastro['Modelo'] == \"PRICE\" ] )[_cadastro_]]\n",
    "    n          = [list( Cadastro['Parcelas'    ][ Cadastro['Modelo'] == \"PRICE\" ] )[_cadastro_]]\n",
    "    i_am       =  list( Cadastro['Taxa_am'     ][ Cadastro['Modelo'] == \"PRICE\" ] )[_cadastro_]\n",
    "    Data_Venc  = [\n",
    "        if_else(\n",
    "            pd.Timestamp.weekday(Data_Emi + pd.DateOffset(months = 1)) == 5,\n",
    "            Data_Emi + pd.DateOffset(months = 1) + pd.DateOffset(days = 2),\n",
    "            if_else(\n",
    "                pd.Timestamp.weekday(Data_Emi + pd.DateOffset(months = 1)) == 6,\n",
    "                Data_Emi + pd.DateOffset(months = 1) + pd.DateOffset(days = 1),\n",
    "                Data_Emi + pd.DateOffset(months = 1)\n",
    "            )\n",
    "        )[0]\n",
    "    ]\n",
    "    i_ad       = ((1 + i_am) / 1)**(1/(365.25/12)) -1\n",
    "    PMT        = round( [ PV[0] * i_am / (1 - (1 + i_am)**(-n[0])) ], 2 )\n",
    "    Juros      = [PV[0] * (1 + i_ad)**((Data_Venc[0] - Data_Emi).days) - PV[0]]\n",
    "    Amort      = [PMT[0] - Juros[0]]\n",
    "    PV_atual   = [PV[0], PV[0] - Amort[0]]\n",
    "    PV_atual2  = [PV[0] - Amort[0]]\n",
    "    Parcela    = [1]\n",
    "    \n",
    "    # 2. Gerar valores a partir da segunda linha (até a última parcela)\n",
    "    # 3. Armazenar vetor do contrato\n",
    "    for _indice_ in range(1, n[0], 1):\n",
    "        Contrato    = append(Contrato,  Contrato[_indice_ -1])\n",
    "        Parcela     = append(Parcela,   _indice_ +1)\n",
    "        Data_Venc   = append(\n",
    "            Data_Venc, \n",
    "            if_else(\n",
    "                pd.Timestamp.weekday( Data_Emi + pd.DateOffset(months = _indice_ +1)) == 5,\n",
    "                Data_Emi + pd.DateOffset(months = _indice_ +1) + pd.DateOffset(days = 2),\n",
    "                if_else(\n",
    "                    pd.Timestamp.weekday( Data_Emi + pd.DateOffset(months = _indice_ +1)) == 6,\n",
    "                    Data_Emi + pd.DateOffset(months = _indice_ +1) + pd.DateOffset(days = 1),\n",
    "                    Data_Emi + pd.DateOffset(months = _indice_ +1)\n",
    "                )\n",
    "            )[0]\n",
    "        )\n",
    "        PMT         = append(PMT,       PMT[_indice_ -1])\n",
    "        Juros       = append(\n",
    "            Juros, \n",
    "            PV_atual[_indice_] * (1 + i_ad)**((Data_Venc[_indice_] - Data_Venc[_indice_ -1]).days) - PV_atual[_indice_]\n",
    "        )\n",
    "        Amort       = append(Amort,     PMT[_indice_]      - Juros[_indice_])\n",
    "        PV_atual    = append(PV_atual,  PV_atual[_indice_] - Amort[_indice_])\n",
    "        PV_atual2   = append(PV_atual2, PV_atual[_indice_] - Amort[_indice_])\n",
    "    \n",
    "    # 4. Armazenar vetores de cada contrato\n",
    "    Contrato__  = append(Contrato__,  Contrato)\n",
    "    Parcela__   = append(Parcela__,   Parcela)\n",
    "    Data_Venc__ = append(Data_Venc__, Data_Venc)\n",
    "    PMT__       = append(PMT__,       PMT)\n",
    "    Juros__     = append(Juros__,     Juros)\n",
    "    Amort__     = append(Amort__,     Amort)\n",
    "    PV_atual__  = append(PV_atual__,  PV_atual2)\n",
    "\n",
    "\n",
    "# 5. Gerar Tabela com vetores armazenados\n",
    "Tabelas_PRICE = pd.DataFrame({\n",
    "    'Contrato' : Contrato__[1:],\n",
    "    'Parcela'  : Parcela__[1:],\n",
    "    'Data_Venc': Data_Venc__[1:],\n",
    "    'PMT'      : PMT__[1:],\n",
    "    'Juros'    : Juros__[1:].round(2),\n",
    "    'Amort'    : Amort__[1:].round(2),\n",
    "    'PV_atual' : PV_atual__[1:].round(2)\n",
    "})"
   ]
  },
  {
   "attachments": {},
   "cell_type": "markdown",
   "id": "184e9f07",
   "metadata": {},
   "source": [
    "<p style=\"font-family:consolas; background-color:#3C2A21\"><font size=6><b>Modelo SAC</b></font></p>\n",
    "\n",
    "<font size=5 style = \"font-family: impact; color:lightblue\">Estratégia</font>\n",
    "<p style = \"font-family: consolas\">\n",
    "1. Gerar tabela de cada contrato<br>\n",
    "2. Armazenar cada tabela gerada\n",
    "</p>"
   ]
  },
  {
   "cell_type": "code",
   "execution_count": 145,
   "id": "7f1f5a0e",
   "metadata": {},
   "outputs": [],
   "source": [
    "Tabela_SAC = pd.DataFrame([])\n",
    "Cadastro_SAC = Cadastro[ Cadastro['Modelo'] == \"SAC\" ]\n",
    "\n",
    "for _contrato_ in range(0, length(Cadastro['Modelo'][Cadastro['Modelo'] == \"SAC\"]), 1):\n",
    "\n",
    "    i_ad = ((1 + list(Cadastro_SAC['Taxa_am'])[_contrato_]) / 1)**(1/(365.25/12)) -1\n",
    "    \n",
    "    # 1. Gerar tabela de cada contrato\n",
    "    Tabela_SAC__ = pd.DataFrame({\n",
    "        'Contrato'      : list(Cadastro_SAC['Contrato'])[_contrato_],\n",
    "        'Parcela'       : list( range(1, list(Cadastro_SAC['Parcelas'])[_contrato_] +1, 1) ),\n",
    "        'Data_Venc_ant' : pd.date_range(\n",
    "            start   = list(Cadastro_SAC['Data_Emissao'])[_contrato_] - pd.Timedelta(days = list(Cadastro_SAC['Data_Emissao'])[_contrato_].day), \n",
    "            periods = list(Cadastro_SAC['Parcelas'])[_contrato_], freq = 'M'\n",
    "        ) + pd.Timedelta(days = list(Cadastro_SAC['Data_Emissao'])[_contrato_].day),\n",
    "        'Data_Venc'     : pd.date_range(\n",
    "            start   = list(Cadastro_SAC['Data_Emissao'])[_contrato_], \n",
    "            periods = list(Cadastro_SAC['Parcelas'])[_contrato_], freq = 'M'\n",
    "        ) + pd.Timedelta(days = list(Cadastro_SAC['Data_Emissao'])[_contrato_].day),\n",
    "        'PV_ant'        : list(Cadastro_SAC['Principal'])[_contrato_],\n",
    "        'Amort'         : list(Cadastro_SAC['Principal'])[_contrato_] / list(Cadastro_SAC['Parcelas'])[_contrato_]\n",
    "    })\n",
    "    Tabela_SAC__ = Tabela_SAC__.assign(\n",
    "        Juros = round( \n",
    "            Tabela_SAC__['PV_ant'] * (1 + i_ad)**(( Tabela_SAC__['Data_Venc'] - Tabela_SAC__['Data_Venc_ant'] ).dt.days),\n",
    "            2 \n",
    "        ) - list(Cadastro_SAC['Principal'])[_contrato_]\n",
    "    )\n",
    "    Tabela_SAC__ = Tabela_SAC__.assign(\n",
    "        PMT      = round( Tabela_SAC__['Amort'] + Tabela_SAC__['Juros'], 2 ),\n",
    "        PV_atual = round(Tabela_SAC__['PV_ant'] - Tabela_SAC__['Amort'] * Tabela_SAC__['Parcela'], 2),\n",
    "        Amort    = Tabela_SAC__['Amort'].round(2)\n",
    "    )\n",
    "    \n",
    "    # 2. Armazenar cada tabela gerada\n",
    "    Tabela_SAC = pd.concat([ \n",
    "        Tabela_SAC, \n",
    "        Tabela_SAC__[ ['Contrato', 'Parcela', 'Data_Venc', 'PMT', 'Juros', 'Amort', 'PV_atual'] ] \n",
    "    ])"
   ]
  }
 ],
 "metadata": {
  "kernelspec": {
   "display_name": "Python 3.9.15 ('base')",
   "language": "python",
   "name": "python3"
  },
  "language_info": {
   "codemirror_mode": {
    "name": "ipython",
    "version": 3
   },
   "file_extension": ".py",
   "mimetype": "text/x-python",
   "name": "python",
   "nbconvert_exporter": "python",
   "pygments_lexer": "ipython3",
   "version": "3.9.15 (main, Nov 24 2022, 14:39:17) [MSC v.1916 64 bit (AMD64)]"
  },
  "vscode": {
   "interpreter": {
    "hash": "bf6e68f63c5332c5a5c0afd729fba59b86b097c63a7331fcdf5575bcde342b88"
   }
  }
 },
 "nbformat": 4,
 "nbformat_minor": 5
}
