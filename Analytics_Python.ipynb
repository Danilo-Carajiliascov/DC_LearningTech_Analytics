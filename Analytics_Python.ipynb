{
 "cells": [
  {
   "attachments": {},
   "cell_type": "markdown",
   "id": "32a688dc",
   "metadata": {},
   "source": [
    "## <font style=\"font-family:impact\">Carregar Bibliotecas</font>"
   ]
  },
  {
   "cell_type": "code",
   "execution_count": 2,
   "id": "612ec1b4-1a52-44fd-a2b1-95f151a14552",
   "metadata": {},
   "outputs": [],
   "source": [
    "import pandas as pd\n",
    "import numpy as np\n",
    "import datetime as dtt\n",
    "import gc\n",
    "from datar import f\n",
    "from datar.all import *\n",
    "import random"
   ]
  },
  {
   "cell_type": "code",
   "execution_count": 2,
   "id": "7a67f18c",
   "metadata": {},
   "outputs": [],
   "source": [
    "pd.options.display.min_rows    =  15\n",
    "pd.options.display.max_rows    =  20\n",
    "pd.options.display.max_columns =  35\n",
    "pd.options.display.width       = 150"
   ]
  },
  {
   "attachments": {},
   "cell_type": "markdown",
   "id": "1b84983a",
   "metadata": {},
   "source": [
    "## <font style=\"font-family:impact\">Base de Dados</font>"
   ]
  },
  {
   "cell_type": "markdown",
   "id": "f404c20c",
   "metadata": {},
   "source": [
    "##### CARS"
   ]
  },
  {
   "cell_type": "code",
   "execution_count": 3,
   "id": "fa247766",
   "metadata": {},
   "outputs": [
    {
     "data": {
      "text/html": [
       "<div>\n",
       "<style scoped>\n",
       "    .dataframe tbody tr th:only-of-type {\n",
       "        vertical-align: middle;\n",
       "    }\n",
       "\n",
       "    .dataframe tbody tr th {\n",
       "        vertical-align: top;\n",
       "    }\n",
       "\n",
       "    .dataframe thead th {\n",
       "        text-align: right;\n",
       "    }\n",
       "</style>\n",
       "<table border=\"1\" class=\"dataframe\">\n",
       "  <thead>\n",
       "    <tr style=\"text-align: right;\">\n",
       "      <th></th>\n",
       "      <th>car_name</th>\n",
       "      <th>reviews_count</th>\n",
       "      <th>fuel_type</th>\n",
       "      <th>engine_displacement</th>\n",
       "      <th>no_cylinder</th>\n",
       "      <th>seating_capacity</th>\n",
       "      <th>transmission_type</th>\n",
       "      <th>fuel_tank_capacity</th>\n",
       "      <th>body_type</th>\n",
       "      <th>rating</th>\n",
       "      <th>starting_price</th>\n",
       "      <th>ending_price</th>\n",
       "      <th>max_torque_nm</th>\n",
       "      <th>max_torque_rpm</th>\n",
       "      <th>max_power_bhp</th>\n",
       "      <th>max_power_rp</th>\n",
       "    </tr>\n",
       "  </thead>\n",
       "  <tbody>\n",
       "    <tr>\n",
       "      <th style=\"font-style: italic;\" ></th>\n",
       "      <td style=\"font-style: italic;\" >&lt;object&gt;</td>\n",
       "      <td style=\"font-style: italic;\" >&lt;int64&gt;</td>\n",
       "      <td style=\"font-style: italic;\" >&lt;object&gt;</td>\n",
       "      <td style=\"font-style: italic;\" >&lt;int64&gt;</td>\n",
       "      <td style=\"font-style: italic;\" >&lt;int64&gt;</td>\n",
       "      <td style=\"font-style: italic;\" >&lt;float64&gt;</td>\n",
       "      <td style=\"font-style: italic;\" >&lt;object&gt;</td>\n",
       "      <td style=\"font-style: italic;\" >&lt;float64&gt;</td>\n",
       "      <td style=\"font-style: italic;\" >&lt;object&gt;</td>\n",
       "      <td style=\"font-style: italic;\" >&lt;float64&gt;</td>\n",
       "      <td style=\"font-style: italic;\" >&lt;int64&gt;</td>\n",
       "      <td style=\"font-style: italic;\" >&lt;int64&gt;</td>\n",
       "      <td style=\"font-style: italic;\" >&lt;float64&gt;</td>\n",
       "      <td style=\"font-style: italic;\" >&lt;int64&gt;</td>\n",
       "      <td style=\"font-style: italic;\" >&lt;float64&gt;</td>\n",
       "      <td style=\"font-style: italic;\" >&lt;int64&gt;</td>\n",
       "    </tr>\n",
       "    <tr>\n",
       "      <th>0</th>\n",
       "      <td>Maruti Alto K10</td>\n",
       "      <td>51</td>\n",
       "      <td>Petrol</td>\n",
       "      <td>998</td>\n",
       "      <td>3</td>\n",
       "      <td>5.0</td>\n",
       "      <td>Automatic</td>\n",
       "      <td>27.0</td>\n",
       "      <td>Hatchback</td>\n",
       "      <td>4.5</td>\n",
       "      <td>399000</td>\n",
       "      <td>583000</td>\n",
       "      <td>89.0</td>\n",
       "      <td>3500</td>\n",
       "      <td>65.71</td>\n",
       "      <td>5500</td>\n",
       "    </tr>\n",
       "    <tr>\n",
       "      <th>1</th>\n",
       "      <td>Maruti Brezza</td>\n",
       "      <td>86</td>\n",
       "      <td>Petrol</td>\n",
       "      <td>1462</td>\n",
       "      <td>4</td>\n",
       "      <td>5.0</td>\n",
       "      <td>Automatic</td>\n",
       "      <td>48.0</td>\n",
       "      <td>SUV</td>\n",
       "      <td>4.5</td>\n",
       "      <td>799000</td>\n",
       "      <td>1396000</td>\n",
       "      <td>136.8</td>\n",
       "      <td>4400</td>\n",
       "      <td>101.65</td>\n",
       "      <td>6000</td>\n",
       "    </tr>\n",
       "    <tr>\n",
       "      <th>2</th>\n",
       "      <td>Mahindra Thar</td>\n",
       "      <td>242</td>\n",
       "      <td>Diesel</td>\n",
       "      <td>2184</td>\n",
       "      <td>4</td>\n",
       "      <td>4.0</td>\n",
       "      <td>Automatic</td>\n",
       "      <td>57.0</td>\n",
       "      <td>SUV</td>\n",
       "      <td>4.5</td>\n",
       "      <td>1353000</td>\n",
       "      <td>1603000</td>\n",
       "      <td>300.0</td>\n",
       "      <td>2800</td>\n",
       "      <td>130.00</td>\n",
       "      <td>3750</td>\n",
       "    </tr>\n",
       "    <tr>\n",
       "      <th>3</th>\n",
       "      <td>Mahindra XUV700</td>\n",
       "      <td>313</td>\n",
       "      <td>Diesel</td>\n",
       "      <td>2198</td>\n",
       "      <td>4</td>\n",
       "      <td>7.0</td>\n",
       "      <td>Automatic</td>\n",
       "      <td>60.0</td>\n",
       "      <td>SUV</td>\n",
       "      <td>4.5</td>\n",
       "      <td>1318000</td>\n",
       "      <td>2458000</td>\n",
       "      <td>450.0</td>\n",
       "      <td>2800</td>\n",
       "      <td>182.38</td>\n",
       "      <td>3500</td>\n",
       "    </tr>\n",
       "    <tr>\n",
       "      <th>...</th>\n",
       "      <td>...</td>\n",
       "      <td>...</td>\n",
       "      <td>...</td>\n",
       "      <td>...</td>\n",
       "      <td>...</td>\n",
       "      <td>...</td>\n",
       "      <td>...</td>\n",
       "      <td>...</td>\n",
       "      <td>...</td>\n",
       "      <td>...</td>\n",
       "      <td>...</td>\n",
       "      <td>...</td>\n",
       "      <td>...</td>\n",
       "      <td>...</td>\n",
       "      <td>...</td>\n",
       "      <td>...</td>\n",
       "    </tr>\n",
       "    <tr>\n",
       "      <th>4</th>\n",
       "      <td>Mahindra Scorpio-N</td>\n",
       "      <td>107</td>\n",
       "      <td>Diesel</td>\n",
       "      <td>2198</td>\n",
       "      <td>4</td>\n",
       "      <td>7.0</td>\n",
       "      <td>Automatic</td>\n",
       "      <td>57.0</td>\n",
       "      <td>SUV</td>\n",
       "      <td>4.5</td>\n",
       "      <td>1199000</td>\n",
       "      <td>2390000</td>\n",
       "      <td>400.0</td>\n",
       "      <td>2750</td>\n",
       "      <td>172.45</td>\n",
       "      <td>3500</td>\n",
       "    </tr>\n",
       "    <tr>\n",
       "      <th>198</th>\n",
       "      <td>Mercedes-Benz AMG A 45 S</td>\n",
       "      <td>35</td>\n",
       "      <td>Petrol</td>\n",
       "      <td>1991</td>\n",
       "      <td>4</td>\n",
       "      <td>5.0</td>\n",
       "      <td>Automatic</td>\n",
       "      <td>0.0</td>\n",
       "      <td>Hatchback</td>\n",
       "      <td>4.5</td>\n",
       "      <td>659000</td>\n",
       "      <td>999000</td>\n",
       "      <td>500.0</td>\n",
       "      <td>5250</td>\n",
       "      <td>415.71</td>\n",
       "      <td>6750</td>\n",
       "    </tr>\n",
       "    <tr>\n",
       "      <th>199</th>\n",
       "      <td>BMW 3 Series Gran Limousine</td>\n",
       "      <td>3</td>\n",
       "      <td>Petrol</td>\n",
       "      <td>1998</td>\n",
       "      <td>4</td>\n",
       "      <td>5.0</td>\n",
       "      <td>Automatic</td>\n",
       "      <td>59.0</td>\n",
       "      <td>Sedan</td>\n",
       "      <td>4.5</td>\n",
       "      <td>1041000</td>\n",
       "      <td>1041000</td>\n",
       "      <td>400.0</td>\n",
       "      <td>4400</td>\n",
       "      <td>254.79</td>\n",
       "      <td>5000</td>\n",
       "    </tr>\n",
       "    <tr>\n",
       "      <th>200</th>\n",
       "      <td>MG Hector Plus</td>\n",
       "      <td>2</td>\n",
       "      <td>Diesel</td>\n",
       "      <td>1956</td>\n",
       "      <td>4</td>\n",
       "      <td>7.0</td>\n",
       "      <td>Manual</td>\n",
       "      <td>60.0</td>\n",
       "      <td>SUV</td>\n",
       "      <td>4.5</td>\n",
       "      <td>1615000</td>\n",
       "      <td>2075000</td>\n",
       "      <td>350.0</td>\n",
       "      <td>2500</td>\n",
       "      <td>167.67</td>\n",
       "      <td>3750</td>\n",
       "    </tr>\n",
       "    <tr>\n",
       "      <th>201</th>\n",
       "      <td>Audi RS Q8</td>\n",
       "      <td>9</td>\n",
       "      <td>Petrol</td>\n",
       "      <td>3998</td>\n",
       "      <td>8</td>\n",
       "      <td>5.0</td>\n",
       "      <td>Automatic</td>\n",
       "      <td>85.0</td>\n",
       "      <td>SUV</td>\n",
       "      <td>3.5</td>\n",
       "      <td>21700000</td>\n",
       "      <td>21700000</td>\n",
       "      <td>800.0</td>\n",
       "      <td>4500</td>\n",
       "      <td>591.39</td>\n",
       "      <td>6000</td>\n",
       "    </tr>\n",
       "    <tr>\n",
       "      <th>202</th>\n",
       "      <td>Maruti Alto 800 tour</td>\n",
       "      <td>4</td>\n",
       "      <td>Petrol</td>\n",
       "      <td>796</td>\n",
       "      <td>3</td>\n",
       "      <td>5.0</td>\n",
       "      <td>Manual</td>\n",
       "      <td>35.0</td>\n",
       "      <td>Hatchback</td>\n",
       "      <td>4.5</td>\n",
       "      <td>391000</td>\n",
       "      <td>397000</td>\n",
       "      <td>69.0</td>\n",
       "      <td>3500</td>\n",
       "      <td>47.33</td>\n",
       "      <td>6000</td>\n",
       "    </tr>\n",
       "  </tbody>\n",
       "</table>\n",
       "<p>203 rows × 16 columns</p>\n",
       "</div>\n"
      ],
      "text/plain": [
       "                        car_name  reviews_count fuel_type  \\\n",
       "                        <object>        <int64>  <object>   \n",
       "0                Maruti Alto K10             51    Petrol   \n",
       "1                  Maruti Brezza             86    Petrol   \n",
       "2                  Mahindra Thar            242    Diesel   \n",
       "3                Mahindra XUV700            313    Diesel   \n",
       "..                           ...            ...       ...   \n",
       "4             Mahindra Scorpio-N            107    Diesel   \n",
       "198     Mercedes-Benz AMG A 45 S             35    Petrol   \n",
       "199  BMW 3 Series Gran Limousine              3    Petrol   \n",
       "200               MG Hector Plus              2    Diesel   \n",
       "201                   Audi RS Q8              9    Petrol   \n",
       "202         Maruti Alto 800 tour              4    Petrol   \n",
       "\n",
       "     engine_displacement  no_cylinder  seating_capacity transmission_type  \\\n",
       "                 <int64>      <int64>         <float64>          <object>   \n",
       "0                    998            3               5.0         Automatic   \n",
       "1                   1462            4               5.0         Automatic   \n",
       "2                   2184            4               4.0         Automatic   \n",
       "3                   2198            4               7.0         Automatic   \n",
       "..                   ...          ...               ...               ...   \n",
       "4                   2198            4               7.0         Automatic   \n",
       "198                 1991            4               5.0         Automatic   \n",
       "199                 1998            4               5.0         Automatic   \n",
       "200                 1956            4               7.0            Manual   \n",
       "201                 3998            8               5.0         Automatic   \n",
       "202                  796            3               5.0            Manual   \n",
       "\n",
       "     fuel_tank_capacity  body_type    rating  starting_price  ending_price  \\\n",
       "              <float64>   <object> <float64>         <int64>       <int64>   \n",
       "0                  27.0  Hatchback       4.5          399000        583000   \n",
       "1                  48.0        SUV       4.5          799000       1396000   \n",
       "2                  57.0        SUV       4.5         1353000       1603000   \n",
       "3                  60.0        SUV       4.5         1318000       2458000   \n",
       "..                  ...        ...       ...             ...           ...   \n",
       "4                  57.0        SUV       4.5         1199000       2390000   \n",
       "198                 0.0  Hatchback       4.5          659000        999000   \n",
       "199                59.0      Sedan       4.5         1041000       1041000   \n",
       "200                60.0        SUV       4.5         1615000       2075000   \n",
       "201                85.0        SUV       3.5        21700000      21700000   \n",
       "202                35.0  Hatchback       4.5          391000        397000   \n",
       "\n",
       "     max_torque_nm  max_torque_rpm  max_power_bhp  max_power_rp  \n",
       "         <float64>         <int64>      <float64>       <int64>  \n",
       "0             89.0            3500          65.71          5500  \n",
       "1            136.8            4400         101.65          6000  \n",
       "2            300.0            2800         130.00          3750  \n",
       "3            450.0            2800         182.38          3500  \n",
       "..             ...             ...            ...           ...  \n",
       "4            400.0            2750         172.45          3500  \n",
       "198          500.0            5250         415.71          6750  \n",
       "199          400.0            4400         254.79          5000  \n",
       "200          350.0            2500         167.67          3750  \n",
       "201          800.0            4500         591.39          6000  \n",
       "202           69.0            3500          47.33          6000  \n",
       "\n",
       "[203 rows x 16 columns]"
      ]
     },
     "execution_count": 3,
     "metadata": {},
     "output_type": "execute_result"
    }
   ],
   "source": [
    "CARS = pd.read_csv(\"C:/Users/danil/OneDrive/Danilo_Back-up/Kaggle/CARS_1.csv\")\n",
    "CARS"
   ]
  },
  {
   "cell_type": "markdown",
   "id": "5aebbe24",
   "metadata": {},
   "source": [
    "##### kc_home"
   ]
  },
  {
   "cell_type": "code",
   "execution_count": null,
   "id": "4a37b8d1",
   "metadata": {},
   "outputs": [],
   "source": [
    "kc_house_data = pd.read_csv(\"C:/Users/danil/OneDrive/Danilo_Back-up/Kaggle/kc_house_data.csv\")\n",
    "kc_house_data"
   ]
  },
  {
   "cell_type": "markdown",
   "id": "170ea8de",
   "metadata": {},
   "source": [
    "##### hotel_booking"
   ]
  },
  {
   "cell_type": "code",
   "execution_count": null,
   "id": "12cdf5c2",
   "metadata": {},
   "outputs": [],
   "source": [
    "hotel_bookings = pd.read_csv( \"C:/Users/danil/OneDrive/Danilo_Back-up/Kaggle/hotel_bookings.csv\" )\n",
    "hotel_bookings"
   ]
  },
  {
   "cell_type": "code",
   "execution_count": 7,
   "id": "1a733054",
   "metadata": {},
   "outputs": [
    {
     "data": {
      "text/plain": [
       "array([ 0.,  1.,  2., 10.,  3., nan])"
      ]
     },
     "execution_count": 7,
     "metadata": {},
     "output_type": "execute_result"
    }
   ],
   "source": [
    "pd.unique(hotel_bookings['children'])"
   ]
  },
  {
   "cell_type": "markdown",
   "id": "f6483275",
   "metadata": {},
   "source": [
    "##### diamonds"
   ]
  },
  {
   "cell_type": "code",
   "execution_count": null,
   "id": "17fed062",
   "metadata": {},
   "outputs": [],
   "source": [
    "diamonds = pd.read_csv(\"C:/Users/danil/OneDrive/Danilo_Back-up/Projetos_Pessoais/Canal_Youtube/Base_Dados/diamonds.csv\")\n",
    "diamonds"
   ]
  },
  {
   "cell_type": "markdown",
   "id": "f13fb8cb",
   "metadata": {},
   "source": [
    "##### Vendas_PBI"
   ]
  },
  {
   "cell_type": "code",
   "execution_count": null,
   "id": "d4533ab5",
   "metadata": {},
   "outputs": [],
   "source": [
    "Vendas_PBI = pd.read_excel(\"C:/Users/danil/OneDrive/Danilo_Back-up/Projetos_Pessoais/Canal_Youtube/Base_Dados/Vendas_PBI.xlsx\")\n",
    "Vendas_PBI"
   ]
  },
  {
   "cell_type": "code",
   "execution_count": null,
   "id": "94020988",
   "metadata": {},
   "outputs": [],
   "source": [
    "sort(\n",
    "    Vendas_PBI\n",
    "        .groupby('Country')\n",
    "        .agg(\n",
    "            {\n",
    "                'Sales' : 'sum',\n",
    "                'COGS'  : 'sum'\n",
    "            }\n",
    "        ),\n",
    "    desc\n",
    ")"
   ]
  },
  {
   "cell_type": "code",
   "execution_count": 8,
   "id": "6a7e3865",
   "metadata": {},
   "outputs": [
    {
     "data": {
      "text/html": [
       "<div>\n",
       "<style scoped>\n",
       "    .dataframe tbody tr th:only-of-type {\n",
       "        vertical-align: middle;\n",
       "    }\n",
       "\n",
       "    .dataframe tbody tr th {\n",
       "        vertical-align: top;\n",
       "    }\n",
       "\n",
       "    .dataframe thead th {\n",
       "        text-align: right;\n",
       "    }\n",
       "</style>\n",
       "<table border=\"1\" class=\"dataframe\">\n",
       "  <thead>\n",
       "    <tr style=\"text-align: right;\">\n",
       "      <th></th>\n",
       "      <th>Sales</th>\n",
       "    </tr>\n",
       "    <tr>\n",
       "      <th>Segment</th>\n",
       "      <th></th>\n",
       "    </tr>\n",
       "  </thead>\n",
       "  <tbody>\n",
       "    <tr>\n",
       "      <th style=\"font-style: italic;\" ></th>\n",
       "      <td style=\"font-style: italic;\" >&lt;float64&gt;</td>\n",
       "    </tr>\n",
       "    <tr>\n",
       "      <th>Channel Partners</th>\n",
       "      <td>52504260.68</td>\n",
       "    </tr>\n",
       "    <tr>\n",
       "      <th>Enterprise</th>\n",
       "      <td>42427918.50</td>\n",
       "    </tr>\n",
       "    <tr>\n",
       "      <th>Government</th>\n",
       "      <td>19611694.38</td>\n",
       "    </tr>\n",
       "    <tr>\n",
       "      <th>Midmarket</th>\n",
       "      <td>2381883.09</td>\n",
       "    </tr>\n",
       "    <tr>\n",
       "      <th>Small Business</th>\n",
       "      <td>1800593.64</td>\n",
       "    </tr>\n",
       "  </tbody>\n",
       "</table>\n",
       "</div>\n"
      ],
      "text/plain": [
       "                        Sales\n",
       "                             \n",
       "Segment             <float64>\n",
       "Channel Partners  52504260.68\n",
       "Enterprise        42427918.50\n",
       "Government        19611694.38\n",
       "Midmarket          2381883.09\n",
       "Small Business     1800593.64"
      ]
     },
     "execution_count": 8,
     "metadata": {},
     "output_type": "execute_result"
    }
   ],
   "source": [
    "sort(\n",
    "    Vendas_PBI.groupby('Segment')['Sales'].agg(\n",
    "        Sales = 'sum'\n",
    "    ),\n",
    "    desc\n",
    ")"
   ]
  },
  {
   "cell_type": "code",
   "execution_count": 66,
   "id": "a8988b6c",
   "metadata": {},
   "outputs": [
    {
     "ename": "TypeError",
     "evalue": "unsupported format string passed to list.__format__",
     "output_type": "error",
     "traceback": [
      "\u001b[1;31m---------------------------------------------------------------------------\u001b[0m",
      "\u001b[1;31mTypeError\u001b[0m                                 Traceback (most recent call last)",
      "\u001b[1;32m~\\AppData\\Local\\Temp\\ipykernel_20380\\67565520.py\u001b[0m in \u001b[0;36m<module>\u001b[1;34m\u001b[0m\n\u001b[0;32m      1\u001b[0m \u001b[0ma\u001b[0m \u001b[1;33m=\u001b[0m \u001b[1;33m[\u001b[0m\u001b[1;36m1\u001b[0m\u001b[1;33m,\u001b[0m\u001b[1;36m2\u001b[0m\u001b[1;33m,\u001b[0m\u001b[1;36m3\u001b[0m\u001b[1;33m]\u001b[0m\u001b[1;33m\u001b[0m\u001b[1;33m\u001b[0m\u001b[0m\n\u001b[1;32m----> 2\u001b[1;33m \u001b[1;34mf\"{a: .2%}\"\u001b[0m\u001b[1;33m\u001b[0m\u001b[1;33m\u001b[0m\u001b[0m\n\u001b[0m",
      "\u001b[1;31mTypeError\u001b[0m: unsupported format string passed to list.__format__"
     ]
    }
   ],
   "source": [
    "a = [1,2,3]\n",
    "f\"{a: .2%}\""
   ]
  },
  {
   "cell_type": "code",
   "execution_count": 81,
   "id": "2766c902",
   "metadata": {},
   "outputs": [
    {
     "data": {
      "text/html": [
       "<div>\n",
       "<style scoped>\n",
       "    .dataframe tbody tr th:only-of-type {\n",
       "        vertical-align: middle;\n",
       "    }\n",
       "\n",
       "    .dataframe tbody tr th {\n",
       "        vertical-align: top;\n",
       "    }\n",
       "\n",
       "    .dataframe thead th {\n",
       "        text-align: right;\n",
       "    }\n",
       "</style>\n",
       "<table border=\"1\" class=\"dataframe\">\n",
       "  <thead>\n",
       "    <tr style=\"text-align: right;\">\n",
       "      <th></th>\n",
       "      <th>Sales</th>\n",
       "      <th>COGS</th>\n",
       "      <th>Profit</th>\n",
       "      <th>Profit2</th>\n",
       "    </tr>\n",
       "    <tr>\n",
       "      <th>Product</th>\n",
       "      <th></th>\n",
       "      <th></th>\n",
       "      <th></th>\n",
       "      <th></th>\n",
       "    </tr>\n",
       "  </thead>\n",
       "  <tbody>\n",
       "    <tr>\n",
       "      <th style=\"font-style: italic;\" ></th>\n",
       "      <td style=\"font-style: italic;\" >&lt;float64&gt;</td>\n",
       "      <td style=\"font-style: italic;\" >&lt;float64&gt;</td>\n",
       "      <td style=\"font-style: italic;\" >&lt;float64&gt;</td>\n",
       "      <td style=\"font-style: italic;\" >&lt;object&gt;</td>\n",
       "    </tr>\n",
       "    <tr>\n",
       "      <th>Amarilla</th>\n",
       "      <td>17747116.07</td>\n",
       "      <td>14933012.0</td>\n",
       "      <td>2814104.07</td>\n",
       "      <td>15.86%</td>\n",
       "    </tr>\n",
       "    <tr>\n",
       "      <th>Carretera</th>\n",
       "      <td>13815307.89</td>\n",
       "      <td>11988503.0</td>\n",
       "      <td>1826804.89</td>\n",
       "      <td>13.22%</td>\n",
       "    </tr>\n",
       "    <tr>\n",
       "      <th>Montana</th>\n",
       "      <td>15390801.88</td>\n",
       "      <td>13276047.0</td>\n",
       "      <td>2114754.88</td>\n",
       "      <td>13.74%</td>\n",
       "    </tr>\n",
       "    <tr>\n",
       "      <th>Paseo</th>\n",
       "      <td>33011143.96</td>\n",
       "      <td>28213706.0</td>\n",
       "      <td>4797437.96</td>\n",
       "      <td>14.53%</td>\n",
       "    </tr>\n",
       "    <tr>\n",
       "      <th>VTT</th>\n",
       "      <td>20511921.02</td>\n",
       "      <td>17477313.0</td>\n",
       "      <td>3034608.02</td>\n",
       "      <td>14.79%</td>\n",
       "    </tr>\n",
       "    <tr>\n",
       "      <th>Velo</th>\n",
       "      <td>18250059.47</td>\n",
       "      <td>15944067.0</td>\n",
       "      <td>2305992.47</td>\n",
       "      <td>12.64%</td>\n",
       "    </tr>\n",
       "  </tbody>\n",
       "</table>\n",
       "</div>\n"
      ],
      "text/plain": [
       "                 Sales        COGS      Profit  Profit2\n",
       "                                                       \n",
       "Product      <float64>   <float64>   <float64> <object>\n",
       "Amarilla   17747116.07  14933012.0  2814104.07   15.86%\n",
       "Carretera  13815307.89  11988503.0  1826804.89   13.22%\n",
       "Montana    15390801.88  13276047.0  2114754.88   13.74%\n",
       "Paseo      33011143.96  28213706.0  4797437.96   14.53%\n",
       "VTT        20511921.02  17477313.0  3034608.02   14.79%\n",
       "Velo       18250059.47  15944067.0  2305992.47   12.64%"
      ]
     },
     "execution_count": 81,
     "metadata": {},
     "output_type": "execute_result"
    }
   ],
   "source": [
    "Profit_Products = Vendas_PBI.groupby(\n",
    "        'Product'\n",
    "    ).agg({\n",
    "        'Sales' : 'sum',\n",
    "        'COGS'  : 'sum',\n",
    "        'Profit': 'sum'\n",
    "    })\n",
    "    \n",
    "Profit_Products = Profit_Products.assign(\n",
    "    Profit2 = Profit_Products['Profit'] / Profit_Products['Sales']\n",
    ")\n",
    "\n",
    "Profit_Products.assign(\n",
    "    Profit2 = round( Profit_Products['Profit2'] * 100, 2 ).astype(str) + '%'\n",
    ")"
   ]
  },
  {
   "cell_type": "markdown",
   "id": "2a32c3e1",
   "metadata": {},
   "source": [
    "Ctas_a_Receber"
   ]
  },
  {
   "cell_type": "code",
   "execution_count": null,
   "id": "8549bf74",
   "metadata": {},
   "outputs": [],
   "source": [
    "Ctas_Receber_DB = pd.read_excel(\"C:/Users/danil/OneDrive/Danilo_Back-up/Projetos_Pessoais/Canal_Youtube/Base_Dados/Ctas_Receber_DB.xlsx\")\n",
    "Ctas_Receber_DB"
   ]
  },
  {
   "attachments": {},
   "cell_type": "markdown",
   "id": "4df955eb",
   "metadata": {},
   "source": [
    "## <font style=\"font-family:impact\">Análises</font>"
   ]
  },
  {
   "attachments": {},
   "cell_type": "markdown",
   "id": "571648aa",
   "metadata": {},
   "source": [
    "#### <font style=\"font-family:consolas\"><b>Dimensão dos Dados</b></font>"
   ]
  },
  {
   "attachments": {},
   "cell_type": "markdown",
   "id": "e61a6d23",
   "metadata": {},
   "source": [
    "##### <font style=\"font-family:consolas\"><b>Escalar</b></font>"
   ]
  },
  {
   "cell_type": "code",
   "execution_count": 5,
   "id": "5a63054a",
   "metadata": {},
   "outputs": [
    {
     "data": {
      "text/plain": [
       "'Maruti Alto K10'"
      ]
     },
     "execution_count": 5,
     "metadata": {},
     "output_type": "execute_result"
    }
   ],
   "source": [
    "CARS[0:1]['car_name'][0]"
   ]
  },
  {
   "cell_type": "code",
   "execution_count": 7,
   "id": "7d127ec9",
   "metadata": {},
   "outputs": [
    {
     "data": {
      "text/plain": [
       "'Maruti Alto K10'"
      ]
     },
     "execution_count": 7,
     "metadata": {},
     "output_type": "execute_result"
    }
   ],
   "source": [
    "CARS[0:1]['car_name'].item()"
   ]
  },
  {
   "cell_type": "code",
   "execution_count": 8,
   "id": "0ba4daa1",
   "metadata": {},
   "outputs": [
    {
     "data": {
      "text/plain": [
       "'Maruti Alto K10'"
      ]
     },
     "execution_count": 8,
     "metadata": {},
     "output_type": "execute_result"
    }
   ],
   "source": [
    "CARS['car_name'][0]"
   ]
  },
  {
   "cell_type": "code",
   "execution_count": 9,
   "id": "cdee6434",
   "metadata": {},
   "outputs": [
    {
     "data": {
      "text/plain": [
       "'Maruti Alto K10'"
      ]
     },
     "execution_count": 9,
     "metadata": {},
     "output_type": "execute_result"
    }
   ],
   "source": [
    "np.array( CARS[['car_name']] )[0][0]"
   ]
  },
  {
   "cell_type": "code",
   "execution_count": 14,
   "id": "401295c3",
   "metadata": {},
   "outputs": [
    {
     "data": {
      "text/plain": [
       "\"['Maruti Alto K10']\""
      ]
     },
     "execution_count": 14,
     "metadata": {},
     "output_type": "execute_result"
    }
   ],
   "source": [
    "pd.array( CARS[['car_name']] )[0][0]"
   ]
  },
  {
   "cell_type": "code",
   "execution_count": 15,
   "id": "3335164a",
   "metadata": {},
   "outputs": [
    {
     "data": {
      "text/plain": [
       "'Maruti Alto K10'"
      ]
     },
     "execution_count": 15,
     "metadata": {},
     "output_type": "execute_result"
    }
   ],
   "source": [
    "select(CARS, 'car_name').iloc[0].item()"
   ]
  },
  {
   "cell_type": "code",
   "execution_count": 16,
   "id": "355e624c",
   "metadata": {},
   "outputs": [
    {
     "data": {
      "text/plain": [
       "'Aston Martin DBX'"
      ]
     },
     "execution_count": 16,
     "metadata": {},
     "output_type": "execute_result"
    }
   ],
   "source": [
    "sort( select(CARS, 'car_name') ).iloc[0].item()"
   ]
  },
  {
   "cell_type": "code",
   "execution_count": 17,
   "id": "2e2ffc4b",
   "metadata": {},
   "outputs": [
    {
     "data": {
      "text/plain": [
       "2"
      ]
     },
     "execution_count": 17,
     "metadata": {},
     "output_type": "execute_result"
    }
   ],
   "source": [
    "CARS.columns.get_loc('fuel_type')"
   ]
  },
  {
   "cell_type": "code",
   "execution_count": 18,
   "id": "1d1b8b4f",
   "metadata": {},
   "outputs": [
    {
     "data": {
      "text/plain": [
       "'Petrol'"
      ]
     },
     "execution_count": 18,
     "metadata": {},
     "output_type": "execute_result"
    }
   ],
   "source": [
    "CARS.iloc[ 0, CARS.columns.get_loc('fuel_type') ]"
   ]
  },
  {
   "cell_type": "code",
   "execution_count": 19,
   "id": "efcb1f8e",
   "metadata": {},
   "outputs": [
    {
     "data": {
      "text/plain": [
       "199"
      ]
     },
     "execution_count": 19,
     "metadata": {},
     "output_type": "execute_result"
    }
   ],
   "source": [
    "length( CARS['car_name'].unique() )"
   ]
  },
  {
   "cell_type": "code",
   "execution_count": 20,
   "id": "0184bbf9",
   "metadata": {},
   "outputs": [
    {
     "data": {
      "text/plain": [
       "199"
      ]
     },
     "execution_count": 20,
     "metadata": {},
     "output_type": "execute_result"
    }
   ],
   "source": [
    "length( pd.unique( CARS['car_name'] ) )"
   ]
  },
  {
   "cell_type": "code",
   "execution_count": 22,
   "id": "7d768afe",
   "metadata": {},
   "outputs": [
    {
     "data": {
      "text/plain": [
       "0.0"
      ]
     },
     "execution_count": 22,
     "metadata": {},
     "output_type": "execute_result"
    }
   ],
   "source": [
    "min( CARS['fuel_tank_capacity'] )"
   ]
  },
  {
   "cell_type": "markdown",
   "id": "a814a69e",
   "metadata": {},
   "source": [
    "##### Vetor"
   ]
  },
  {
   "cell_type": "code",
   "execution_count": 24,
   "id": "630c6ec7",
   "metadata": {},
   "outputs": [
    {
     "data": {
      "text/plain": [
       "array([1, 2, 3])"
      ]
     },
     "execution_count": 24,
     "metadata": {},
     "output_type": "execute_result"
    }
   ],
   "source": [
    "np.array( [1,2,3] )"
   ]
  },
  {
   "cell_type": "code",
   "execution_count": 23,
   "id": "5bf4b10a",
   "metadata": {},
   "outputs": [
    {
     "data": {
      "text/plain": [
       "0       Maruti Alto K10\n",
       "1         Maruti Brezza\n",
       "2         Mahindra Thar\n",
       "3       Mahindra XUV700\n",
       "4    Mahindra Scorpio-N\n",
       "Name: car_name, dtype: object"
      ]
     },
     "execution_count": 23,
     "metadata": {},
     "output_type": "execute_result"
    }
   ],
   "source": [
    "CARS['car_name'][0:5]"
   ]
  },
  {
   "cell_type": "code",
   "execution_count": 25,
   "id": "8de4465d",
   "metadata": {},
   "outputs": [
    {
     "data": {
      "text/plain": [
       "<PandasArray>\n",
       "['Maruti Alto K10', 'Maruti Brezza', 'Mahindra Thar', 'Mahindra XUV700', 'Mahindra Scorpio-N']\n",
       "Length: 5, dtype: object"
      ]
     },
     "execution_count": 25,
     "metadata": {},
     "output_type": "execute_result"
    }
   ],
   "source": [
    "pd.array( CARS['car_name'][0:5] )"
   ]
  },
  {
   "cell_type": "code",
   "execution_count": 26,
   "id": "62e1e1f9",
   "metadata": {},
   "outputs": [
    {
     "data": {
      "text/plain": [
       "array(['Maruti Alto K10', 'Maruti Brezza', 'Mahindra Thar',\n",
       "       'Mahindra XUV700', 'Mahindra Scorpio-N'], dtype=object)"
      ]
     },
     "execution_count": 26,
     "metadata": {},
     "output_type": "execute_result"
    }
   ],
   "source": [
    "np.array( CARS['car_name'][0:5] )"
   ]
  },
  {
   "cell_type": "code",
   "execution_count": 27,
   "id": "49a15cd7",
   "metadata": {},
   "outputs": [
    {
     "data": {
      "text/plain": [
       "0        Aston Martin DBX\n",
       "1    Aston Martin Vantage\n",
       "2                 Audi A4\n",
       "3                 Audi A6\n",
       "4                 Audi Q2\n",
       "Name: x, dtype: object"
      ]
     },
     "execution_count": 27,
     "metadata": {},
     "output_type": "execute_result"
    }
   ],
   "source": [
    "sort( CARS['car_name'] )[0:5]"
   ]
  },
  {
   "cell_type": "code",
   "execution_count": 28,
   "id": "73ef1122",
   "metadata": {},
   "outputs": [
    {
     "data": {
      "text/plain": [
       "array(['Aston Martin DBX', 'Aston Martin Vantage', 'Audi A4', 'Audi A6',\n",
       "       'Audi Q2'], dtype=object)"
      ]
     },
     "execution_count": 28,
     "metadata": {},
     "output_type": "execute_result"
    }
   ],
   "source": [
    "sort( np.array( CARS['car_name'] ) )[0:5]"
   ]
  },
  {
   "cell_type": "markdown",
   "id": "dcd7effb",
   "metadata": {},
   "source": [
    "##### Tabela"
   ]
  },
  {
   "cell_type": "markdown",
   "id": "bbcb665c",
   "metadata": {},
   "source": [
    "###### array / matrix"
   ]
  },
  {
   "cell_type": "code",
   "execution_count": 29,
   "id": "f16a44e4",
   "metadata": {},
   "outputs": [
    {
     "data": {
      "text/plain": [
       "array([['1', '2', '3'],\n",
       "       ['a', 'b', 'c']], dtype='<U11')"
      ]
     },
     "execution_count": 29,
     "metadata": {},
     "output_type": "execute_result"
    }
   ],
   "source": [
    "np.array(\n",
    "    [\n",
    "        [ 1 , 2 , 3 ],\n",
    "        ['a','b','c']\n",
    "    ]\n",
    ")"
   ]
  },
  {
   "cell_type": "code",
   "execution_count": 30,
   "id": "30b091e6",
   "metadata": {},
   "outputs": [
    {
     "data": {
      "text/plain": [
       "array([['Maruti Alto K10', 'Petrol', 27.0],\n",
       "       ['Maruti Brezza', 'Petrol', 48.0],\n",
       "       ['Mahindra Thar', 'Diesel', 57.0],\n",
       "       ['Mahindra XUV700', 'Diesel', 60.0]], dtype=object)"
      ]
     },
     "execution_count": 30,
     "metadata": {},
     "output_type": "execute_result"
    }
   ],
   "source": [
    "np.array( CARS[ ['car_name', 'fuel_type', 'fuel_tank_capacity'] ][0:4] )"
   ]
  },
  {
   "cell_type": "markdown",
   "id": "25e42aae",
   "metadata": {},
   "source": [
    "###### Dataframe"
   ]
  },
  {
   "cell_type": "code",
   "execution_count": 31,
   "id": "9512a5bc",
   "metadata": {},
   "outputs": [
    {
     "data": {
      "text/html": [
       "<div>\n",
       "<style scoped>\n",
       "    .dataframe tbody tr th:only-of-type {\n",
       "        vertical-align: middle;\n",
       "    }\n",
       "\n",
       "    .dataframe tbody tr th {\n",
       "        vertical-align: top;\n",
       "    }\n",
       "\n",
       "    .dataframe thead th {\n",
       "        text-align: right;\n",
       "    }\n",
       "</style>\n",
       "<table border=\"1\" class=\"dataframe\">\n",
       "  <thead>\n",
       "    <tr style=\"text-align: right;\">\n",
       "      <th></th>\n",
       "      <th>car_name</th>\n",
       "      <th>fuel_type</th>\n",
       "      <th>fuel_tank_capacity</th>\n",
       "    </tr>\n",
       "  </thead>\n",
       "  <tbody>\n",
       "    <tr>\n",
       "      <th style=\"font-style: italic;\" ></th>\n",
       "      <td style=\"font-style: italic;\" >&lt;object&gt;</td>\n",
       "      <td style=\"font-style: italic;\" >&lt;object&gt;</td>\n",
       "      <td style=\"font-style: italic;\" >&lt;float64&gt;</td>\n",
       "    </tr>\n",
       "    <tr>\n",
       "      <th>0</th>\n",
       "      <td>Maruti Alto K10</td>\n",
       "      <td>Petrol</td>\n",
       "      <td>27.0</td>\n",
       "    </tr>\n",
       "    <tr>\n",
       "      <th>1</th>\n",
       "      <td>Maruti Brezza</td>\n",
       "      <td>Petrol</td>\n",
       "      <td>48.0</td>\n",
       "    </tr>\n",
       "    <tr>\n",
       "      <th>2</th>\n",
       "      <td>Mahindra Thar</td>\n",
       "      <td>Diesel</td>\n",
       "      <td>57.0</td>\n",
       "    </tr>\n",
       "    <tr>\n",
       "      <th>3</th>\n",
       "      <td>Mahindra XUV700</td>\n",
       "      <td>Diesel</td>\n",
       "      <td>60.0</td>\n",
       "    </tr>\n",
       "  </tbody>\n",
       "</table>\n",
       "</div>\n"
      ],
      "text/plain": [
       "          car_name fuel_type  fuel_tank_capacity\n",
       "          <object>  <object>           <float64>\n",
       "0  Maruti Alto K10    Petrol                27.0\n",
       "1    Maruti Brezza    Petrol                48.0\n",
       "2    Mahindra Thar    Diesel                57.0\n",
       "3  Mahindra XUV700    Diesel                60.0"
      ]
     },
     "execution_count": 31,
     "metadata": {},
     "output_type": "execute_result"
    }
   ],
   "source": [
    "CARS[ ['car_name', 'fuel_type', 'fuel_tank_capacity'] ][0:4]"
   ]
  },
  {
   "cell_type": "code",
   "execution_count": 32,
   "id": "cb549517",
   "metadata": {},
   "outputs": [
    {
     "data": {
      "text/html": [
       "<div>\n",
       "<style scoped>\n",
       "    .dataframe tbody tr th:only-of-type {\n",
       "        vertical-align: middle;\n",
       "    }\n",
       "\n",
       "    .dataframe tbody tr th {\n",
       "        vertical-align: top;\n",
       "    }\n",
       "\n",
       "    .dataframe thead th {\n",
       "        text-align: right;\n",
       "    }\n",
       "</style>\n",
       "<table border=\"1\" class=\"dataframe\">\n",
       "  <thead>\n",
       "    <tr style=\"text-align: right;\">\n",
       "      <th></th>\n",
       "      <th>car_name</th>\n",
       "      <th>fuel_type</th>\n",
       "      <th>fuel_tank_capacity</th>\n",
       "    </tr>\n",
       "  </thead>\n",
       "  <tbody>\n",
       "    <tr>\n",
       "      <th style=\"font-style: italic;\" ></th>\n",
       "      <td style=\"font-style: italic;\" >&lt;object&gt;</td>\n",
       "      <td style=\"font-style: italic;\" >&lt;object&gt;</td>\n",
       "      <td style=\"font-style: italic;\" >&lt;float64&gt;</td>\n",
       "    </tr>\n",
       "    <tr>\n",
       "      <th>0</th>\n",
       "      <td>Maruti Alto K10</td>\n",
       "      <td>Petrol</td>\n",
       "      <td>27.0</td>\n",
       "    </tr>\n",
       "    <tr>\n",
       "      <th>1</th>\n",
       "      <td>Maruti Brezza</td>\n",
       "      <td>Petrol</td>\n",
       "      <td>48.0</td>\n",
       "    </tr>\n",
       "    <tr>\n",
       "      <th>2</th>\n",
       "      <td>Mahindra Thar</td>\n",
       "      <td>Diesel</td>\n",
       "      <td>57.0</td>\n",
       "    </tr>\n",
       "    <tr>\n",
       "      <th>3</th>\n",
       "      <td>Mahindra XUV700</td>\n",
       "      <td>Diesel</td>\n",
       "      <td>60.0</td>\n",
       "    </tr>\n",
       "  </tbody>\n",
       "</table>\n",
       "</div>\n"
      ],
      "text/plain": [
       "          car_name fuel_type  fuel_tank_capacity\n",
       "          <object>  <object>           <float64>\n",
       "0  Maruti Alto K10    Petrol                27.0\n",
       "1    Maruti Brezza    Petrol                48.0\n",
       "2    Mahindra Thar    Diesel                57.0\n",
       "3  Mahindra XUV700    Diesel                60.0"
      ]
     },
     "execution_count": 32,
     "metadata": {},
     "output_type": "execute_result"
    }
   ],
   "source": [
    "select( CARS[0:4], ['car_name', 'fuel_type', 'fuel_tank_capacity'] )"
   ]
  },
  {
   "cell_type": "code",
   "execution_count": 33,
   "id": "bf3f777f",
   "metadata": {},
   "outputs": [
    {
     "data": {
      "text/html": [
       "<div>\n",
       "<style scoped>\n",
       "    .dataframe tbody tr th:only-of-type {\n",
       "        vertical-align: middle;\n",
       "    }\n",
       "\n",
       "    .dataframe tbody tr th {\n",
       "        vertical-align: top;\n",
       "    }\n",
       "\n",
       "    .dataframe thead th {\n",
       "        text-align: right;\n",
       "    }\n",
       "</style>\n",
       "<table border=\"1\" class=\"dataframe\">\n",
       "  <thead>\n",
       "    <tr style=\"text-align: right;\">\n",
       "      <th></th>\n",
       "      <th>car_name</th>\n",
       "      <th>fuel_type</th>\n",
       "      <th>fuel_tank_capacity</th>\n",
       "    </tr>\n",
       "  </thead>\n",
       "  <tbody>\n",
       "    <tr>\n",
       "      <th style=\"font-style: italic;\" ></th>\n",
       "      <td style=\"font-style: italic;\" >&lt;object&gt;</td>\n",
       "      <td style=\"font-style: italic;\" >&lt;object&gt;</td>\n",
       "      <td style=\"font-style: italic;\" >&lt;float64&gt;</td>\n",
       "    </tr>\n",
       "    <tr>\n",
       "      <th>0</th>\n",
       "      <td>Maruti Alto K10</td>\n",
       "      <td>Petrol</td>\n",
       "      <td>27.0</td>\n",
       "    </tr>\n",
       "    <tr>\n",
       "      <th>1</th>\n",
       "      <td>Maruti Brezza</td>\n",
       "      <td>Petrol</td>\n",
       "      <td>48.0</td>\n",
       "    </tr>\n",
       "    <tr>\n",
       "      <th>2</th>\n",
       "      <td>Mahindra Thar</td>\n",
       "      <td>Diesel</td>\n",
       "      <td>57.0</td>\n",
       "    </tr>\n",
       "    <tr>\n",
       "      <th>3</th>\n",
       "      <td>Mahindra XUV700</td>\n",
       "      <td>Diesel</td>\n",
       "      <td>60.0</td>\n",
       "    </tr>\n",
       "  </tbody>\n",
       "</table>\n",
       "</div>\n"
      ],
      "text/plain": [
       "          car_name fuel_type  fuel_tank_capacity\n",
       "          <object>  <object>           <float64>\n",
       "0  Maruti Alto K10    Petrol                27.0\n",
       "1    Maruti Brezza    Petrol                48.0\n",
       "2    Mahindra Thar    Diesel                57.0\n",
       "3  Mahindra XUV700    Diesel                60.0"
      ]
     },
     "execution_count": 33,
     "metadata": {},
     "output_type": "execute_result"
    }
   ],
   "source": [
    "pd.DataFrame(\n",
    "    {\n",
    "        'car_name'          : CARS['car_name'][0:4],\n",
    "        'fuel_type'         : CARS['fuel_type'][0:4],\n",
    "        'fuel_tank_capacity': CARS['fuel_tank_capacity'][0:4]\n",
    "    }\n",
    ")"
   ]
  },
  {
   "cell_type": "markdown",
   "id": "083a08a0",
   "metadata": {},
   "source": [
    "#### Tipos de Dados"
   ]
  },
  {
   "cell_type": "markdown",
   "id": "2cde561c",
   "metadata": {},
   "source": [
    "##### Número"
   ]
  },
  {
   "cell_type": "markdown",
   "id": "10597f51",
   "metadata": {},
   "source": [
    "Escalar"
   ]
  },
  {
   "cell_type": "code",
   "execution_count": 69,
   "id": "99f84118",
   "metadata": {},
   "outputs": [
    {
     "name": "stdout",
     "output_type": "stream",
     "text": [
      "1  ->  <class 'int'> \n",
      " 1.0  ->  <class 'float'> \n",
      " 2  ->  <class 'int'> \n",
      " 4  ->  <class 'int'> \n",
      " 4.0  ->  <class 'float'>\n"
     ]
    }
   ],
   "source": [
    "print( \n",
    "    1,       \" -> \", type( 1 ),     \"\\n\",\n",
    "    1.0,     \" -> \", type( 1.0 ),   \"\\n\",\n",
    "    1 + 1,   \" -> \", type( 1 + 1 ), \"\\n\",\n",
    "    2 * 2,   \" -> \", type( 2 * 2 ), \"\\n\",\n",
    "    2 * 2.0, \" -> \", type( 2 * 2.0 ) \n",
    ")"
   ]
  },
  {
   "cell_type": "code",
   "execution_count": 70,
   "id": "db1f8f7e",
   "metadata": {},
   "outputs": [
    {
     "name": "stdout",
     "output_type": "stream",
     "text": [
      "1.0  ->  <class 'float'> \n",
      " 2.0  ->  <class 'float'>\n"
     ]
    }
   ],
   "source": [
    "print( \n",
    "    2 / 2,   \" -> \", type( 2 / 2 ), \"\\n\",\n",
    "    1.0 + 1, \" -> \", type( 1.0 + 1 ) \n",
    ")"
   ]
  },
  {
   "cell_type": "markdown",
   "id": "31b3e692",
   "metadata": {},
   "source": [
    "Vetor"
   ]
  },
  {
   "cell_type": "code",
   "execution_count": 76,
   "id": "13d27fa2",
   "metadata": {},
   "outputs": [],
   "source": [
    "n1 = [1  , 2  , 3  ] ;\n",
    "n2 = [1.0, 2.0, 3.0] ;\n",
    "n3 = [1.0, 2  , 3  ] ;"
   ]
  },
  {
   "cell_type": "code",
   "execution_count": 77,
   "id": "b9955182",
   "metadata": {},
   "outputs": [
    {
     "name": "stdout",
     "output_type": "stream",
     "text": [
      "[1, 2, 3]  ->  <class 'list'> \n",
      " [1.0, 2.0, 3.0]  ->  <class 'list'> \n",
      " [1.0, 2, 3]  ->  <class 'list'> \n",
      " [1, 2, 3]  ->  <class 'list'>\n"
     ]
    }
   ],
   "source": [
    "print(\n",
    "    n1, \" -> \", type(n1), \"\\n\",\n",
    "    n2, \" -> \", type(n2), \"\\n\",\n",
    "    n3, \" -> \", type(n3), \"\\n\",\n",
    "    n1 * 1, \" -> \", type(n1 * 1)\n",
    ")"
   ]
  },
  {
   "cell_type": "code",
   "execution_count": 78,
   "id": "76ec8ee7",
   "metadata": {},
   "outputs": [
    {
     "ename": "NameError",
     "evalue": "name 'index' is not defined",
     "output_type": "error",
     "traceback": [
      "\u001b[1;31m---------------------------------------------------------------------------\u001b[0m",
      "\u001b[1;31mNameError\u001b[0m                                 Traceback (most recent call last)",
      "Cell \u001b[1;32mIn [78], line 5\u001b[0m\n\u001b[0;32m      1\u001b[0m TesteDF \u001b[39m=\u001b[39m pd\u001b[39m.\u001b[39mDataFrame({\n\u001b[0;32m      2\u001b[0m     \u001b[39m'\u001b[39m\u001b[39mVetor\u001b[39m\u001b[39m'\u001b[39m : [\u001b[39m1.0\u001b[39m, \u001b[39m2\u001b[39m, \u001b[39m3\u001b[39m, np\u001b[39m.\u001b[39mNaN ],\n\u001b[0;32m      3\u001b[0m })\n\u001b[1;32m----> 5\u001b[0m TesteDF[\u001b[39m'\u001b[39m\u001b[39mType\u001b[39m\u001b[39m'\u001b[39m] \u001b[39m=\u001b[39m \u001b[39mtype\u001b[39m( TesteDF[\u001b[39m'\u001b[39m\u001b[39mVetor\u001b[39m\u001b[39m'\u001b[39m][index] )\n\u001b[0;32m      7\u001b[0m TesteDF[\u001b[39m'\u001b[39m\u001b[39mType2\u001b[39m\u001b[39m'\u001b[39m] \u001b[39m=\u001b[39m \u001b[39mtype\u001b[39m( TesteDF[\u001b[39m'\u001b[39m\u001b[39mType\u001b[39m\u001b[39m'\u001b[39m] )\n\u001b[0;32m      9\u001b[0m TesteDF\n",
      "\u001b[1;31mNameError\u001b[0m: name 'index' is not defined"
     ]
    }
   ],
   "source": [
    "TesteDF = pd.DataFrame({\n",
    "    'Vetor' : [1.0, 2, 3, np.NaN ],\n",
    "})\n",
    "\n",
    "TesteDF['Type'] = type( TesteDF['Vetor'][index] )\n",
    "\n",
    "TesteDF['Type2'] = type( TesteDF['Type'] )\n",
    "\n",
    "TesteDF"
   ]
  },
  {
   "cell_type": "code",
   "execution_count": 100,
   "id": "1c90508c",
   "metadata": {},
   "outputs": [
    {
     "name": "stdout",
     "output_type": "stream",
     "text": [
      "<class 'float'>\n",
      "<class 'int'>\n",
      "<class 'int'>\n",
      "<class 'float'>\n",
      "<class 'pandas.core.indexes.datetimes.DatetimeIndex'>\n",
      "<class 'datetime.date'>\n"
     ]
    }
   ],
   "source": [
    "Vetor = [1.0, 2, 3, np.NaN, as_date(\"2022-01-01\"), dtt.date(2022, 1, 1) ]\n",
    "\n",
    "for Index in range( 0, len(Vetor) ):\n",
    "    print( type(Vetor[Index]) )"
   ]
  },
  {
   "cell_type": "markdown",
   "id": "764c0b06",
   "metadata": {},
   "source": [
    "##### Texto"
   ]
  },
  {
   "cell_type": "code",
   "execution_count": null,
   "id": "3a8ca64b",
   "metadata": {},
   "outputs": [],
   "source": []
  },
  {
   "cell_type": "markdown",
   "id": "d5fb2f1e",
   "metadata": {},
   "source": [
    "##### Data "
   ]
  },
  {
   "cell_type": "code",
   "execution_count": 102,
   "id": "7952fcc1",
   "metadata": {},
   "outputs": [
    {
     "name": "stdout",
     "output_type": "stream",
     "text": [
      "2022-02-01 \n",
      " 2022-03-02\n"
     ]
    }
   ],
   "source": [
    "print(\n",
    "    dtt.date( 2022, 1, 1 ) + relativedelta( day  = 1 ) + relativedelta( month  = 2 ), \"\\n\",\n",
    "    dtt.date( 2022, 1, 1 ) + relativedelta( days = 1 ) + relativedelta( months = 2 )\n",
    ")"
   ]
  },
  {
   "cell_type": "code",
   "execution_count": null,
   "id": "e7d606ae",
   "metadata": {},
   "outputs": [],
   "source": [
    "dtt.date( 1970, 1, 1 ) + relativedelta( days = 1 )"
   ]
  },
  {
   "cell_type": "markdown",
   "id": "57edce54",
   "metadata": {},
   "source": [
    "##### Lógico"
   ]
  },
  {
   "cell_type": "code",
   "execution_count": 108,
   "id": "47815125",
   "metadata": {},
   "outputs": [
    {
     "name": "stdout",
     "output_type": "stream",
     "text": [
      "True True \n",
      " <class 'bool'> <class 'bool'> \n",
      " \n",
      " False False \n",
      " <class 'bool'> <class 'bool'>\n"
     ]
    }
   ],
   "source": [
    "print(\n",
    "    True, TRUE, \"\\n\",\n",
    "    type(True), type(TRUE), \"\\n\", \"\\n\",\n",
    "    False, FALSE, \"\\n\",\n",
    "    type(False), type(FALSE)\n",
    ")"
   ]
  },
  {
   "cell_type": "code",
   "execution_count": null,
   "id": "4e9265fe",
   "metadata": {},
   "outputs": [],
   "source": []
  },
  {
   "cell_type": "markdown",
   "id": "a8ebffd1",
   "metadata": {},
   "source": [
    "##### Vazio"
   ]
  },
  {
   "cell_type": "code",
   "execution_count": 112,
   "id": "beb8c7c0",
   "metadata": {},
   "outputs": [
    {
     "name": "stdout",
     "output_type": "stream",
     "text": [
      "nan \n",
      " nan \n",
      " False\n"
     ]
    }
   ],
   "source": [
    "print(\n",
    "    NaN, \"\\n\",\n",
    "    np.NaN, \"\\n\",\n",
    "    NaN == np.NaN\n",
    ")"
   ]
  },
  {
   "cell_type": "code",
   "execution_count": 5,
   "id": "e47c8971",
   "metadata": {},
   "outputs": [
    {
     "data": {
      "text/plain": [
       "nan"
      ]
     },
     "execution_count": 5,
     "metadata": {},
     "output_type": "execute_result"
    }
   ],
   "source": [
    "np.NaN + 1"
   ]
  },
  {
   "cell_type": "code",
   "execution_count": 6,
   "id": "a989fa1a",
   "metadata": {},
   "outputs": [
    {
     "data": {
      "text/plain": [
       "nan"
      ]
     },
     "execution_count": 6,
     "metadata": {},
     "output_type": "execute_result"
    }
   ],
   "source": [
    "NaN + 1"
   ]
  },
  {
   "cell_type": "code",
   "execution_count": 132,
   "id": "064e67d6",
   "metadata": {},
   "outputs": [
    {
     "data": {
      "text/plain": [
       "True"
      ]
     },
     "execution_count": 132,
     "metadata": {},
     "output_type": "execute_result"
    }
   ],
   "source": [
    "NaN is np.NaN"
   ]
  },
  {
   "cell_type": "code",
   "execution_count": 155,
   "id": "37f5d768",
   "metadata": {},
   "outputs": [
    {
     "data": {
      "text/plain": [
       "datetime.date"
      ]
     },
     "execution_count": 155,
     "metadata": {},
     "output_type": "execute_result"
    }
   ],
   "source": [
    "type( dtt.date(2022, 1, 1) )"
   ]
  },
  {
   "cell_type": "code",
   "execution_count": 156,
   "id": "ae0969be",
   "metadata": {},
   "outputs": [
    {
     "data": {
      "text/html": [
       "<div>\n",
       "<style scoped>\n",
       "    .dataframe tbody tr th:only-of-type {\n",
       "        vertical-align: middle;\n",
       "    }\n",
       "\n",
       "    .dataframe tbody tr th {\n",
       "        vertical-align: top;\n",
       "    }\n",
       "\n",
       "    .dataframe thead th {\n",
       "        text-align: right;\n",
       "    }\n",
       "</style>\n",
       "<table border=\"1\" class=\"dataframe\">\n",
       "  <thead>\n",
       "    <tr style=\"text-align: right;\">\n",
       "      <th></th>\n",
       "      <th>Vazio</th>\n",
       "      <th>Type</th>\n",
       "    </tr>\n",
       "  </thead>\n",
       "  <tbody>\n",
       "    <tr>\n",
       "      <th style=\"font-style: italic;\" ></th>\n",
       "      <td style=\"font-style: italic;\" >&lt;object&gt;</td>\n",
       "      <td style=\"font-style: italic;\" >&lt;object&gt;</td>\n",
       "    </tr>\n",
       "    <tr>\n",
       "      <th>0</th>\n",
       "      <td>NaN</td>\n",
       "      <td>&lt;class 'float'&gt;</td>\n",
       "    </tr>\n",
       "    <tr>\n",
       "      <th>1</th>\n",
       "      <td>a</td>\n",
       "      <td>&lt;class 'str'&gt;</td>\n",
       "    </tr>\n",
       "    <tr>\n",
       "      <th>2</th>\n",
       "      <td>2022-01-01</td>\n",
       "      <td>&lt;class 'datetime.date'&gt;</td>\n",
       "    </tr>\n",
       "    <tr>\n",
       "      <th>3</th>\n",
       "      <td>1</td>\n",
       "      <td>&lt;class 'int'&gt;</td>\n",
       "    </tr>\n",
       "    <tr>\n",
       "      <th>4</th>\n",
       "      <td>1.0</td>\n",
       "      <td>&lt;class 'float'&gt;</td>\n",
       "    </tr>\n",
       "    <tr>\n",
       "      <th>5</th>\n",
       "      <td>NaN</td>\n",
       "      <td>&lt;class 'float'&gt;</td>\n",
       "    </tr>\n",
       "  </tbody>\n",
       "</table>\n",
       "</div>\n"
      ],
      "text/plain": [
       "        Vazio                     Type\n",
       "     <object>                 <object>\n",
       "0         NaN          <class 'float'>\n",
       "1           a            <class 'str'>\n",
       "2  2022-01-01  <class 'datetime.date'>\n",
       "3           1            <class 'int'>\n",
       "4         1.0          <class 'float'>\n",
       "5         NaN          <class 'float'>"
      ]
     },
     "execution_count": 156,
     "metadata": {},
     "output_type": "execute_result"
    }
   ],
   "source": [
    "DF_Vazio = pd.DataFrame({\n",
    "    'Vazio': [NaN, \"a\", dtt.date(2022, 1, 1), 1, 1.0, np.NaN]\n",
    "})\n",
    "\n",
    "DF_Vazio.assign(\n",
    "    Type = [type(i) for i in DF_Vazio['Vazio']]\n",
    ")"
   ]
  },
  {
   "cell_type": "code",
   "execution_count": 8,
   "id": "18a99ff9",
   "metadata": {},
   "outputs": [
    {
     "ename": "TypeError",
     "evalue": "unsupported operand type(s) for /: 'str' and 'int'",
     "output_type": "error",
     "traceback": [
      "\u001b[1;31m---------------------------------------------------------------------------\u001b[0m",
      "\u001b[1;31mTypeError\u001b[0m                                 Traceback (most recent call last)",
      "Cell \u001b[1;32mIn [8], line 1\u001b[0m\n\u001b[1;32m----> 1\u001b[0m \u001b[39m\"\u001b[39;49m\u001b[39mcasa\u001b[39;49m\u001b[39m\"\u001b[39;49m \u001b[39m/\u001b[39;49m \u001b[39m2\u001b[39;49m\n",
      "\u001b[1;31mTypeError\u001b[0m: unsupported operand type(s) for /: 'str' and 'int'"
     ]
    }
   ],
   "source": [
    "\"casa\" / 2"
   ]
  },
  {
   "cell_type": "code",
   "execution_count": 6,
   "id": "353116fe",
   "metadata": {},
   "outputs": [
    {
     "data": {
      "text/plain": [
       "2"
      ]
     },
     "execution_count": 6,
     "metadata": {},
     "output_type": "execute_result"
    }
   ],
   "source": [
    "TRUE + 1"
   ]
  },
  {
   "cell_type": "code",
   "execution_count": 143,
   "id": "ddfc971d",
   "metadata": {},
   "outputs": [
    {
     "name": "stdout",
     "output_type": "stream",
     "text": [
      "2023-01-01 00:00:00 <class 'pandas._libs.tslibs.timestamps.Timestamp'> \n",
      " 2023-01-01 <class 'numpy.datetime64'> \n",
      " 2023-01-01 <class 'datetime.date'>\n"
     ]
    }
   ],
   "source": [
    "print(\n",
    "    pd.to_datetime('2023-01-01'),type( pd.to_datetime('2023-01-01') ), \"\\n\",\n",
    "    np.datetime64('2023-01-01'), type( np.datetime64('2023-01-01') ), \"\\n\",\n",
    "    dtt.date(2023, 1, 1),        type( dtt.date(2023, 1, 1) )\n",
    ")"
   ]
  },
  {
   "cell_type": "code",
   "execution_count": 145,
   "id": "6c99e4e0",
   "metadata": {},
   "outputs": [
    {
     "ename": "TypeError",
     "evalue": "Addition/subtraction of integers and integer-arrays with Timestamp is no longer supported.  Instead of adding/subtracting `n`, use `n * obj.freq`",
     "output_type": "error",
     "traceback": [
      "\u001b[1;31m---------------------------------------------------------------------------\u001b[0m",
      "\u001b[1;31mTypeError\u001b[0m                                 Traceback (most recent call last)",
      "Cell \u001b[1;32mIn [145], line 1\u001b[0m\n\u001b[1;32m----> 1\u001b[0m pd\u001b[39m.\u001b[39;49mto_datetime(\u001b[39m'\u001b[39;49m\u001b[39m2023-01-01\u001b[39;49m\u001b[39m'\u001b[39;49m) \u001b[39m+\u001b[39;49m \u001b[39m1\u001b[39;49m\n",
      "File \u001b[1;32mc:\\Users\\danil\\anaconda3\\lib\\site-packages\\pandas\\_libs\\tslibs\\timestamps.pyx:499\u001b[0m, in \u001b[0;36mpandas._libs.tslibs.timestamps._Timestamp.__add__\u001b[1;34m()\u001b[0m\n",
      "\u001b[1;31mTypeError\u001b[0m: Addition/subtraction of integers and integer-arrays with Timestamp is no longer supported.  Instead of adding/subtracting `n`, use `n * obj.freq`"
     ]
    }
   ],
   "source": [
    "pd.to_datetime('2023-01-01') + 1"
   ]
  },
  {
   "cell_type": "code",
   "execution_count": 110,
   "id": "b7f5a0d0",
   "metadata": {},
   "outputs": [
    {
     "data": {
      "text/plain": [
       "Timestamp('2023-02-02 00:00:00')"
      ]
     },
     "execution_count": 110,
     "metadata": {},
     "output_type": "execute_result"
    }
   ],
   "source": [
    "pd.to_datetime('2023-01-01') + pd.Timedelta( 1, 'D' ) + pd.DateOffset( months = 1 )"
   ]
  },
  {
   "cell_type": "code",
   "execution_count": 106,
   "id": "bb25a738",
   "metadata": {},
   "outputs": [
    {
     "data": {
      "text/plain": [
       "numpy.datetime64('2023-01-02')"
      ]
     },
     "execution_count": 106,
     "metadata": {},
     "output_type": "execute_result"
    }
   ],
   "source": [
    "np.datetime64('2023-01-01') + 1"
   ]
  },
  {
   "cell_type": "code",
   "execution_count": null,
   "id": "de4c0ab5",
   "metadata": {},
   "outputs": [],
   "source": [
    "dtt.date(2023, 1, 1) + 1"
   ]
  },
  {
   "cell_type": "code",
   "execution_count": 33,
   "id": "40d68f97",
   "metadata": {},
   "outputs": [
    {
     "data": {
      "text/plain": [
       "datetime.date(2023, 1, 11)"
      ]
     },
     "execution_count": 33,
     "metadata": {},
     "output_type": "execute_result"
    }
   ],
   "source": [
    "dtt.date(2023, 1, 1) + dtt.timedelta( 10 )"
   ]
  },
  {
   "cell_type": "code",
   "execution_count": 39,
   "id": "92cf1f24",
   "metadata": {},
   "outputs": [
    {
     "data": {
      "text/plain": [
       "[datetime.date(2023, 1, 1),\n",
       " datetime.date(2023, 1, 2),\n",
       " datetime.date(2023, 1, 3),\n",
       " datetime.date(2023, 1, 4)]"
      ]
     },
     "execution_count": 39,
     "metadata": {},
     "output_type": "execute_result"
    }
   ],
   "source": [
    "[dtt.date(2023, 1, 1),dtt.date(2023, 1, 2),dtt.date(2023, 1, 3),dtt.date(2023, 1, 4)]"
   ]
  },
  {
   "cell_type": "code",
   "execution_count": 37,
   "id": "530336c7",
   "metadata": {},
   "outputs": [
    {
     "ename": "ValueError",
     "evalue": "Could not convert object to NumPy datetime",
     "output_type": "error",
     "traceback": [
      "\u001b[1;31m---------------------------------------------------------------------------\u001b[0m",
      "\u001b[1;31mValueError\u001b[0m                                Traceback (most recent call last)",
      "Cell \u001b[1;32mIn [37], line 1\u001b[0m\n\u001b[1;32m----> 1\u001b[0m np\u001b[39m.\u001b[39;49mdatetime64([\u001b[39m'\u001b[39;49m\u001b[39m2023-01-01\u001b[39;49m\u001b[39m'\u001b[39;49m,\u001b[39m'\u001b[39;49m\u001b[39m2023-01-02\u001b[39;49m\u001b[39m'\u001b[39;49m,\u001b[39m'\u001b[39;49m\u001b[39m2023-01-03\u001b[39;49m\u001b[39m'\u001b[39;49m,\u001b[39m'\u001b[39;49m\u001b[39m2023-01-04\u001b[39;49m\u001b[39m'\u001b[39;49m])\n",
      "\u001b[1;31mValueError\u001b[0m: Could not convert object to NumPy datetime"
     ]
    }
   ],
   "source": [
    "np.datetime64(['2023-01-01','2023-01-02','2023-01-03','2023-01-04'])"
   ]
  },
  {
   "cell_type": "code",
   "execution_count": 113,
   "id": "c9cacd3e",
   "metadata": {},
   "outputs": [
    {
     "data": {
      "text/plain": [
       "DatetimeIndex(['2023-01-01', '2023-01-02', '2023-01-03', '2023-01-04'], dtype='datetime64[ns]', freq=None)"
      ]
     },
     "execution_count": 113,
     "metadata": {},
     "output_type": "execute_result"
    }
   ],
   "source": [
    "pd.to_datetime(['2023-01-01','2023-01-02','2023-01-03','2023-01-04'])"
   ]
  },
  {
   "cell_type": "code",
   "execution_count": 114,
   "id": "6e1bfce5",
   "metadata": {},
   "outputs": [
    {
     "data": {
      "text/plain": [
       "DatetimeIndex(['2023-01-01', '2023-01-02', '2023-01-03', '2023-01-04', 'NaT'], dtype='datetime64[ns]', freq=None)"
      ]
     },
     "execution_count": 114,
     "metadata": {},
     "output_type": "execute_result"
    }
   ],
   "source": [
    "pd.to_datetime(['2023-01-01','2023-01-02','2023-01-03','2023-01-04', np.NaN])"
   ]
  },
  {
   "cell_type": "code",
   "execution_count": 154,
   "id": "95d54033",
   "metadata": {},
   "outputs": [
    {
     "data": {
      "text/html": [
       "<div>\n",
       "<style scoped>\n",
       "    .dataframe tbody tr th:only-of-type {\n",
       "        vertical-align: middle;\n",
       "    }\n",
       "\n",
       "    .dataframe tbody tr th {\n",
       "        vertical-align: top;\n",
       "    }\n",
       "\n",
       "    .dataframe thead th {\n",
       "        text-align: right;\n",
       "    }\n",
       "</style>\n",
       "<table border=\"1\" class=\"dataframe\">\n",
       "  <thead>\n",
       "    <tr style=\"text-align: right;\">\n",
       "      <th></th>\n",
       "      <th>Texto</th>\n",
       "      <th>Texto_</th>\n",
       "      <th>Número_Int</th>\n",
       "      <th>Número_Int_</th>\n",
       "      <th>Número_Virg</th>\n",
       "      <th>Número_Virg_</th>\n",
       "      <th>Data</th>\n",
       "      <th>Data_</th>\n",
       "      <th>Lógico</th>\n",
       "      <th>Lógico_</th>\n",
       "    </tr>\n",
       "  </thead>\n",
       "  <tbody>\n",
       "    <tr>\n",
       "      <th style=\"font-style: italic;\" ></th>\n",
       "      <td style=\"font-style: italic;\" >&lt;object&gt;</td>\n",
       "      <td style=\"font-style: italic;\" >&lt;object&gt;</td>\n",
       "      <td style=\"font-style: italic;\" >&lt;int64&gt;</td>\n",
       "      <td style=\"font-style: italic;\" >&lt;float64&gt;</td>\n",
       "      <td style=\"font-style: italic;\" >&lt;float64&gt;</td>\n",
       "      <td style=\"font-style: italic;\" >&lt;float64&gt;</td>\n",
       "      <td style=\"font-style: italic;\" >&lt;datetime64[ns]&gt;</td>\n",
       "      <td style=\"font-style: italic;\" >&lt;datetime64[ns]&gt;</td>\n",
       "      <td style=\"font-style: italic;\" >&lt;bool&gt;</td>\n",
       "      <td style=\"font-style: italic;\" >&lt;object&gt;</td>\n",
       "    </tr>\n",
       "    <tr>\n",
       "      <th>0</th>\n",
       "      <td>a</td>\n",
       "      <td>a</td>\n",
       "      <td>1</td>\n",
       "      <td>1.0</td>\n",
       "      <td>1.0</td>\n",
       "      <td>1.0</td>\n",
       "      <td>2023-01-01</td>\n",
       "      <td>2023-01-01</td>\n",
       "      <td>True</td>\n",
       "      <td>True</td>\n",
       "    </tr>\n",
       "    <tr>\n",
       "      <th>1</th>\n",
       "      <td>b</td>\n",
       "      <td>b</td>\n",
       "      <td>2</td>\n",
       "      <td>2.0</td>\n",
       "      <td>2.0</td>\n",
       "      <td>2.0</td>\n",
       "      <td>2023-01-02</td>\n",
       "      <td>2023-01-02</td>\n",
       "      <td>False</td>\n",
       "      <td>False</td>\n",
       "    </tr>\n",
       "    <tr>\n",
       "      <th>2</th>\n",
       "      <td>c</td>\n",
       "      <td>c</td>\n",
       "      <td>3</td>\n",
       "      <td>3.0</td>\n",
       "      <td>3.0</td>\n",
       "      <td>3.0</td>\n",
       "      <td>2023-01-03</td>\n",
       "      <td>2023-01-03</td>\n",
       "      <td>True</td>\n",
       "      <td>True</td>\n",
       "    </tr>\n",
       "    <tr>\n",
       "      <th>3</th>\n",
       "      <td>d</td>\n",
       "      <td>d</td>\n",
       "      <td>4</td>\n",
       "      <td>4.0</td>\n",
       "      <td>4.0</td>\n",
       "      <td>4.0</td>\n",
       "      <td>2023-01-04</td>\n",
       "      <td>2023-01-04</td>\n",
       "      <td>False</td>\n",
       "      <td>False</td>\n",
       "    </tr>\n",
       "    <tr>\n",
       "      <th>4</th>\n",
       "      <td>e</td>\n",
       "      <td>NaN</td>\n",
       "      <td>5</td>\n",
       "      <td>NaN</td>\n",
       "      <td>5.0</td>\n",
       "      <td>NaN</td>\n",
       "      <td>2023-01-05</td>\n",
       "      <td>NaT</td>\n",
       "      <td>True</td>\n",
       "      <td>NaN</td>\n",
       "    </tr>\n",
       "  </tbody>\n",
       "</table>\n",
       "</div>\n"
      ],
      "text/plain": [
       "     Texto   Texto_  Número_Int  Número_Int_  Número_Virg  Número_Virg_             Data            Data_  Lógico  Lógico_\n",
       "  <object> <object>     <int64>    <float64>    <float64>     <float64> <datetime64[ns]> <datetime64[ns]>  <bool> <object>\n",
       "0        a        a           1          1.0          1.0           1.0       2023-01-01       2023-01-01    True     True\n",
       "1        b        b           2          2.0          2.0           2.0       2023-01-02       2023-01-02   False    False\n",
       "2        c        c           3          3.0          3.0           3.0       2023-01-03       2023-01-03    True     True\n",
       "3        d        d           4          4.0          4.0           4.0       2023-01-04       2023-01-04   False    False\n",
       "4        e      NaN           5          NaN          5.0           NaN       2023-01-05              NaT    True      NaN"
      ]
     },
     "execution_count": 154,
     "metadata": {},
     "output_type": "execute_result"
    }
   ],
   "source": [
    "Tipos_de_Dados = pd.DataFrame({\n",
    "    'Texto'   : [\"a\", \"b\", \"c\", \"d\", \"e\"],\n",
    "    'Texto_'  : [\"a\", \"b\", \"c\", \"d\", NaN],\n",
    "\n",
    "    'Número_Int'  : [1, 2, 3, 4, 5],\n",
    "    'Número_Int_' : [1, 2, 3, 4, NaN],\n",
    "\n",
    "    'Número_Virg'  : [1.0, 2.0, 3.0, 4.0, 5.0],\n",
    "    'Número_Virg_' : [1.0, 2.0, 3.0, 4.0, NaN],\n",
    "\n",
    "    'Data'    : pd.to_datetime([\"2023-01-01\", \"2023-01-02\", \"2023-01-03\", \"2023-01-04\", \"2023-01-05\"]),\n",
    "    'Data_'   : pd.to_datetime([\"2023-01-01\", \"2023-01-02\", \"2023-01-03\", \"2023-01-04\", NaN]),\n",
    "\n",
    "    'Lógico'  : [TRUE, FALSE, TRUE, FALSE, TRUE],\n",
    "    'Lógico_' : [TRUE, FALSE, TRUE, FALSE, NaN]\n",
    "})\n",
    "Tipos_de_Dados"
   ]
  },
  {
   "cell_type": "code",
   "execution_count": 155,
   "id": "7f67ff79",
   "metadata": {},
   "outputs": [
    {
     "data": {
      "text/plain": [
       "0     True\n",
       "1     True\n",
       "2     True\n",
       "3     True\n",
       "4    False\n",
       "dtype: bool"
      ]
     },
     "execution_count": 155,
     "metadata": {},
     "output_type": "execute_result"
    }
   ],
   "source": [
    "Tipos_de_Dados['Número_Int'] == Tipos_de_Dados['Número_Int_']"
   ]
  },
  {
   "cell_type": "code",
   "execution_count": 156,
   "id": "51dcf825",
   "metadata": {},
   "outputs": [
    {
     "data": {
      "text/plain": [
       "False"
      ]
     },
     "execution_count": 156,
     "metadata": {},
     "output_type": "execute_result"
    }
   ],
   "source": [
    "[1, 2, 3, NaN] == [1, 2, 3, 4]"
   ]
  },
  {
   "cell_type": "code",
   "execution_count": 160,
   "id": "46db95ff",
   "metadata": {},
   "outputs": [
    {
     "data": {
      "text/plain": [
       "array([ True,  True,  True, False])"
      ]
     },
     "execution_count": 160,
     "metadata": {},
     "output_type": "execute_result"
    }
   ],
   "source": [
    "np.array([1, 2, 3, NaN]) == np.array([1, 2, 3, 4])"
   ]
  },
  {
   "cell_type": "code",
   "execution_count": 44,
   "id": "1c3120b2",
   "metadata": {},
   "outputs": [
    {
     "data": {
      "text/plain": [
       "19358"
      ]
     },
     "execution_count": 44,
     "metadata": {},
     "output_type": "execute_result"
    }
   ],
   "source": [
    "np.int64( np.datetime64('2023-01-01') )"
   ]
  },
  {
   "cell_type": "code",
   "execution_count": 77,
   "id": "98bae219",
   "metadata": {},
   "outputs": [
    {
     "data": {
      "text/plain": [
       "19358.0"
      ]
     },
     "execution_count": 77,
     "metadata": {},
     "output_type": "execute_result"
    }
   ],
   "source": [
    "pd.to_datetime('2023-01-01').value / 1_000_000_000 / 60 / 60 / 24"
   ]
  },
  {
   "cell_type": "code",
   "execution_count": 27,
   "id": "50fce2a2",
   "metadata": {},
   "outputs": [
    {
     "data": {
      "text/plain": [
       "19358"
      ]
     },
     "execution_count": 27,
     "metadata": {},
     "output_type": "execute_result"
    }
   ],
   "source": [
    "(dtt.date(2023, 1, 1 ) - dtt.date(1970, 1, 1 )).days"
   ]
  },
  {
   "cell_type": "code",
   "execution_count": 28,
   "id": "60f0ceb5",
   "metadata": {},
   "outputs": [
    {
     "name": "stdout",
     "output_type": "stream",
     "text": [
      "19358.0 \n",
      " 19358 \n",
      " 19358\n"
     ]
    }
   ],
   "source": [
    "print(\n",
    "    pd.to_datetime('2023-01-01').value / 1_000_000_000 / 60 / 60 / 24,  \"\\n\",\n",
    "    np.int64( np.datetime64('2023-01-01') ),                            \"\\n\",\n",
    "    (dtt.date(2023, 1, 1 ) - dtt.date(1970, 1, 1 )).days\n",
    ")"
   ]
  },
  {
   "attachments": {},
   "cell_type": "markdown",
   "id": "38c58102",
   "metadata": {},
   "source": [
    "## <font style=\"font-family:impact\">Base Olist Brasil</font>"
   ]
  },
  {
   "cell_type": "code",
   "execution_count": null,
   "id": "772876ab",
   "metadata": {},
   "outputs": [],
   "source": [
    "olist_geolocation = pd.read_csv(\"C:/Users/danil/OneDrive/Danilo_Back-up/Kaggle/Brasilian_Ecommerce_Olist/olist_geolocation_dataset.csv\")\n",
    "olist_geolocation"
   ]
  },
  {
   "cell_type": "code",
   "execution_count": 7,
   "id": "356fd966",
   "metadata": {},
   "outputs": [
    {
     "data": {
      "text/plain": [
       "numpy.str_"
      ]
     },
     "execution_count": 7,
     "metadata": {},
     "output_type": "execute_result"
    }
   ],
   "source": [
    "olist_geolocation_zip_code = unique(olist_geolocation['geolocation_zip_code_prefix'])\n",
    "olist_geolocation_zip_code = olist_geolocation_zip_code.astype(str)"
   ]
  },
  {
   "cell_type": "code",
   "execution_count": 14,
   "id": "c382a7a8",
   "metadata": {},
   "outputs": [],
   "source": [
    "olist_geolocation_zip_code2 = np.array([]).astype(str)\n",
    "\n",
    "for i in range(0, length(olist_geolocation_zip_code), 1):\n",
    "    olist_geolocation_zip_code2 = append(olist_geolocation_zip_code2, olist_geolocation_zip_code[i].zfill(5))"
   ]
  },
  {
   "cell_type": "code",
   "execution_count": null,
   "id": "03fc190a",
   "metadata": {},
   "outputs": [],
   "source": [
    "olist_geolocation_zip_code2"
   ]
  },
  {
   "cell_type": "code",
   "execution_count": 5,
   "id": "cb889cd9",
   "metadata": {},
   "outputs": [
    {
     "data": {
      "text/html": [
       "<div>\n",
       "<style scoped>\n",
       "    .dataframe tbody tr th:only-of-type {\n",
       "        vertical-align: middle;\n",
       "    }\n",
       "\n",
       "    .dataframe tbody tr th {\n",
       "        vertical-align: top;\n",
       "    }\n",
       "\n",
       "    .dataframe thead th {\n",
       "        text-align: right;\n",
       "    }\n",
       "</style>\n",
       "<table border=\"1\" class=\"dataframe\">\n",
       "  <thead>\n",
       "    <tr style=\"text-align: right;\">\n",
       "      <th></th>\n",
       "      <th>customer_id</th>\n",
       "      <th>customer_unique_id</th>\n",
       "      <th>customer_zip_code_prefix</th>\n",
       "      <th>customer_city</th>\n",
       "      <th>customer_state</th>\n",
       "    </tr>\n",
       "  </thead>\n",
       "  <tbody>\n",
       "    <tr>\n",
       "      <th style=\"font-style: italic;\" ></th>\n",
       "      <td style=\"font-style: italic;\" >&lt;object&gt;</td>\n",
       "      <td style=\"font-style: italic;\" >&lt;object&gt;</td>\n",
       "      <td style=\"font-style: italic;\" >&lt;int64&gt;</td>\n",
       "      <td style=\"font-style: italic;\" >&lt;object&gt;</td>\n",
       "      <td style=\"font-style: italic;\" >&lt;object&gt;</td>\n",
       "    </tr>\n",
       "    <tr>\n",
       "      <th>0</th>\n",
       "      <td>06b8999e2fba1a1fbc88172c00ba8bc7</td>\n",
       "      <td>861eff4711a542e4b93843c6dd7febb0</td>\n",
       "      <td>14409</td>\n",
       "      <td>franca</td>\n",
       "      <td>SP</td>\n",
       "    </tr>\n",
       "    <tr>\n",
       "      <th>1</th>\n",
       "      <td>18955e83d337fd6b2def6b18a428ac77</td>\n",
       "      <td>290c77bc529b7ac935b93aa66c333dc3</td>\n",
       "      <td>9790</td>\n",
       "      <td>sao bernardo do campo</td>\n",
       "      <td>SP</td>\n",
       "    </tr>\n",
       "    <tr>\n",
       "      <th>2</th>\n",
       "      <td>4e7b3e00288586ebd08712fdd0374a03</td>\n",
       "      <td>060e732b5b29e8181a18229c7b0b2b5e</td>\n",
       "      <td>1151</td>\n",
       "      <td>sao paulo</td>\n",
       "      <td>SP</td>\n",
       "    </tr>\n",
       "    <tr>\n",
       "      <th>3</th>\n",
       "      <td>b2b6027bc5c5109e529d4dc6358b12c3</td>\n",
       "      <td>259dac757896d24d7702b9acbbff3f3c</td>\n",
       "      <td>8775</td>\n",
       "      <td>mogi das cruzes</td>\n",
       "      <td>SP</td>\n",
       "    </tr>\n",
       "    <tr>\n",
       "      <th>...</th>\n",
       "      <td>...</td>\n",
       "      <td>...</td>\n",
       "      <td>...</td>\n",
       "      <td>...</td>\n",
       "      <td>...</td>\n",
       "    </tr>\n",
       "    <tr>\n",
       "      <th>4</th>\n",
       "      <td>4f2d8ab171c80ec8364f7c12e35b23ad</td>\n",
       "      <td>345ecd01c38d18a9036ed96c73b8d066</td>\n",
       "      <td>13056</td>\n",
       "      <td>campinas</td>\n",
       "      <td>SP</td>\n",
       "    </tr>\n",
       "    <tr>\n",
       "      <th>99436</th>\n",
       "      <td>17ddf5dd5d51696bb3d7c6291687be6f</td>\n",
       "      <td>1a29b476fee25c95fbafc67c5ac95cf8</td>\n",
       "      <td>3937</td>\n",
       "      <td>sao paulo</td>\n",
       "      <td>SP</td>\n",
       "    </tr>\n",
       "    <tr>\n",
       "      <th>99437</th>\n",
       "      <td>e7b71a9017aa05c9a7fd292d714858e8</td>\n",
       "      <td>d52a67c98be1cf6a5c84435bd38d095d</td>\n",
       "      <td>6764</td>\n",
       "      <td>taboao da serra</td>\n",
       "      <td>SP</td>\n",
       "    </tr>\n",
       "    <tr>\n",
       "      <th>99438</th>\n",
       "      <td>5e28dfe12db7fb50a4b2f691faecea5e</td>\n",
       "      <td>e9f50caf99f032f0bf3c55141f019d99</td>\n",
       "      <td>60115</td>\n",
       "      <td>fortaleza</td>\n",
       "      <td>CE</td>\n",
       "    </tr>\n",
       "    <tr>\n",
       "      <th>99439</th>\n",
       "      <td>56b18e2166679b8a959d72dd06da27f9</td>\n",
       "      <td>73c2643a0a458b49f58cea58833b192e</td>\n",
       "      <td>92120</td>\n",
       "      <td>canoas</td>\n",
       "      <td>RS</td>\n",
       "    </tr>\n",
       "    <tr>\n",
       "      <th>99440</th>\n",
       "      <td>274fa6071e5e17fe303b9748641082c8</td>\n",
       "      <td>84732c5050c01db9b23e19ba39899398</td>\n",
       "      <td>6703</td>\n",
       "      <td>cotia</td>\n",
       "      <td>SP</td>\n",
       "    </tr>\n",
       "  </tbody>\n",
       "</table>\n",
       "<p>99441 rows × 5 columns</p>\n",
       "</div>\n"
      ],
      "text/plain": [
       "                            customer_id                customer_unique_id  \\\n",
       "                               <object>                          <object>   \n",
       "0      06b8999e2fba1a1fbc88172c00ba8bc7  861eff4711a542e4b93843c6dd7febb0   \n",
       "1      18955e83d337fd6b2def6b18a428ac77  290c77bc529b7ac935b93aa66c333dc3   \n",
       "2      4e7b3e00288586ebd08712fdd0374a03  060e732b5b29e8181a18229c7b0b2b5e   \n",
       "3      b2b6027bc5c5109e529d4dc6358b12c3  259dac757896d24d7702b9acbbff3f3c   \n",
       "...                                 ...                               ...   \n",
       "4      4f2d8ab171c80ec8364f7c12e35b23ad  345ecd01c38d18a9036ed96c73b8d066   \n",
       "99436  17ddf5dd5d51696bb3d7c6291687be6f  1a29b476fee25c95fbafc67c5ac95cf8   \n",
       "99437  e7b71a9017aa05c9a7fd292d714858e8  d52a67c98be1cf6a5c84435bd38d095d   \n",
       "99438  5e28dfe12db7fb50a4b2f691faecea5e  e9f50caf99f032f0bf3c55141f019d99   \n",
       "99439  56b18e2166679b8a959d72dd06da27f9  73c2643a0a458b49f58cea58833b192e   \n",
       "99440  274fa6071e5e17fe303b9748641082c8  84732c5050c01db9b23e19ba39899398   \n",
       "\n",
       "       customer_zip_code_prefix          customer_city customer_state  \n",
       "                        <int64>               <object>       <object>  \n",
       "0                         14409                 franca             SP  \n",
       "1                          9790  sao bernardo do campo             SP  \n",
       "2                          1151              sao paulo             SP  \n",
       "3                          8775        mogi das cruzes             SP  \n",
       "...                         ...                    ...            ...  \n",
       "4                         13056               campinas             SP  \n",
       "99436                      3937              sao paulo             SP  \n",
       "99437                      6764        taboao da serra             SP  \n",
       "99438                     60115              fortaleza             CE  \n",
       "99439                     92120                 canoas             RS  \n",
       "99440                      6703                  cotia             SP  \n",
       "\n",
       "[99441 rows x 5 columns]"
      ]
     },
     "execution_count": 5,
     "metadata": {},
     "output_type": "execute_result"
    }
   ],
   "source": [
    "olist_customers = pd.read_csv(\"C:/Users/danil/OneDrive/Danilo_Back-up/Kaggle/Brasilian_Ecommerce_Olist/olist_customers_dataset.csv\")\n",
    "# olist_customers = olist_customers[ ['customer_id', 'customer_unique_id', 'customer_zip_code_prefix'] ]\n",
    "olist_customers"
   ]
  },
  {
   "cell_type": "markdown",
   "id": "2d1f0c66",
   "metadata": {},
   "source": [
    "## Rascunho"
   ]
  },
  {
   "attachments": {},
   "cell_type": "markdown",
   "id": "315927e7",
   "metadata": {},
   "source": [
    "#### Ler texto de PDF"
   ]
  },
  {
   "cell_type": "code",
   "execution_count": 1,
   "id": "cb8b2444",
   "metadata": {},
   "outputs": [],
   "source": [
    "import easyocr"
   ]
  },
  {
   "cell_type": "code",
   "execution_count": null,
   "id": "ef8ead3b",
   "metadata": {},
   "outputs": [],
   "source": [
    "reader = easyocr.Reader(['pt'])\n",
    "results = reader.readtext('C:/Users/danil/Desktop/Scanner_20221116 (2).png')"
   ]
  },
  {
   "cell_type": "code",
   "execution_count": null,
   "id": "317f6fb4",
   "metadata": {},
   "outputs": [],
   "source": [
    "text = []\n",
    "for result in range( 11, len(pd.DataFrame(results)[0:500][1]) ):\n",
    "    print( pd.DataFrame(results)[0:500][1][result] )"
   ]
  },
  {
   "cell_type": "code",
   "execution_count": null,
   "id": "30f9c344",
   "metadata": {},
   "outputs": [],
   "source": [
    "pd.DataFrame(results)[0:500][1][146]"
   ]
  },
  {
   "cell_type": "code",
   "execution_count": null,
   "id": "f8b8b86a",
   "metadata": {},
   "outputs": [],
   "source": [
    "CARS.loc[\n",
    "    CARS['no_cylinder'] > 10,                 # Filtro de Linhas\n",
    "    ['car_name', 'fuel_type', 'no_cylinder']  # Filtro de Colunas\n",
    "]"
   ]
  },
  {
   "cell_type": "code",
   "execution_count": 2,
   "id": "305a47af",
   "metadata": {},
   "outputs": [],
   "source": [
    "import ipywidgets as wg\n",
    "import numpy as np\n",
    "import matplotlib.pyplot as plt\n",
    "from IPython.display import display\n",
    "%matplotlib inline"
   ]
  },
  {
   "cell_type": "code",
   "execution_count": 5,
   "id": "cf819212",
   "metadata": {},
   "outputs": [
    {
     "data": {
      "application/vnd.jupyter.widget-view+json": {
       "model_id": "58c265c445654b41bb57cb8b03e923ae",
       "version_major": 2,
       "version_minor": 0
      },
      "text/plain": [
       "Text(value='Name')"
      ]
     },
     "metadata": {},
     "output_type": "display_data"
    },
    {
     "data": {
      "application/vnd.jupyter.widget-view+json": {
       "model_id": "6b300105e57f4755ab028824f0d86878",
       "version_major": 2,
       "version_minor": 0
      },
      "text/plain": [
       "IntSlider(value=0, description='Age: ')"
      ]
     },
     "metadata": {},
     "output_type": "display_data"
    },
    {
     "data": {
      "application/vnd.jupyter.widget-view+json": {
       "model_id": "fbf10b11340d45eea367761803be9f6c",
       "version_major": 2,
       "version_minor": 0
      },
      "text/plain": [
       "Box()"
      ]
     },
     "metadata": {},
     "output_type": "display_data"
    },
    {
     "name": "stdout",
     "output_type": "stream",
     "text": [
      "Name is already 0 now \n"
     ]
    }
   ],
   "source": [
    "name = wg.Text (value = 'Name')\n",
    "age = wg.IntSlider (description = 'Age: ')\n",
    "box = wg.Box()\n",
    "display (name, age, box)\n",
    "print (name.value + ' is already '+ str (age.value) + ' now ')"
   ]
  },
  {
   "attachments": {},
   "cell_type": "markdown",
   "id": "c068fab0",
   "metadata": {},
   "source": [
    "## <h1 style=\"font-family:impact; background-color:#3C2A21; color:#D5CEA3; text-align:center\">Endereço a partir do CEP</h1>"
   ]
  },
  {
   "cell_type": "code",
   "execution_count": 67,
   "id": "6340cffc",
   "metadata": {},
   "outputs": [],
   "source": [
    "from pycep_correios import get_address_from_cep, WebService\n",
    "import requests\n",
    "import urllib.parse\n",
    "from geopy.geocoders import Nominatim\n",
    "import numpy as np\n",
    "import pandas as pd\n",
    "import datetime as dtt\n",
    "import datar"
   ]
  },
  {
   "cell_type": "code",
   "execution_count": 3,
   "id": "4634ca07",
   "metadata": {},
   "outputs": [],
   "source": [
    "address = get_address_from_cep('37503-130', webservice=WebService.APICEP)"
   ]
  },
  {
   "cell_type": "code",
   "execution_count": 5,
   "id": "eb8bff6c",
   "metadata": {},
   "outputs": [],
   "source": [
    "address = get_address_from_cep('37503-130', webservice=WebService.VIACEP)"
   ]
  },
  {
   "cell_type": "code",
   "execution_count": 73,
   "id": "de8af8a0",
   "metadata": {},
   "outputs": [],
   "source": [
    "address = get_address_from_cep('09812-480', webservice=WebService.CORREIOS)"
   ]
  },
  {
   "cell_type": "code",
   "execution_count": 52,
   "id": "1b74c116",
   "metadata": {},
   "outputs": [
    {
     "data": {
      "text/plain": [
       "{'bairro': 'Jardim Barão',\n",
       " 'cep': '14409000',\n",
       " 'cidade': 'Franca',\n",
       " 'logradouro': 'Rua Jonas Rodrigues de Moura',\n",
       " 'uf': 'SP',\n",
       " 'complemento': None}"
      ]
     },
     "execution_count": 52,
     "metadata": {},
     "output_type": "execute_result"
    }
   ],
   "source": [
    "address"
   ]
  },
  {
   "cell_type": "code",
   "execution_count": 19,
   "id": "a61d2ebb",
   "metadata": {},
   "outputs": [
    {
     "data": {
      "text/html": [
       "<div>\n",
       "<style scoped>\n",
       "    .dataframe tbody tr th:only-of-type {\n",
       "        vertical-align: middle;\n",
       "    }\n",
       "\n",
       "    .dataframe tbody tr th {\n",
       "        vertical-align: top;\n",
       "    }\n",
       "\n",
       "    .dataframe thead th {\n",
       "        text-align: right;\n",
       "    }\n",
       "</style>\n",
       "<table border=\"1\" class=\"dataframe\">\n",
       "  <thead>\n",
       "    <tr style=\"text-align: right;\">\n",
       "      <th></th>\n",
       "      <th>keys</th>\n",
       "      <th>values</th>\n",
       "    </tr>\n",
       "  </thead>\n",
       "  <tbody>\n",
       "    <tr>\n",
       "      <th style=\"font-style: italic;\" ></th>\n",
       "      <td style=\"font-style: italic;\" >&lt;object&gt;</td>\n",
       "      <td style=\"font-style: italic;\" >&lt;object&gt;</td>\n",
       "    </tr>\n",
       "    <tr>\n",
       "      <th>0</th>\n",
       "      <td>bairro</td>\n",
       "      <td>Cooperativa</td>\n",
       "    </tr>\n",
       "    <tr>\n",
       "      <th>1</th>\n",
       "      <td>cep</td>\n",
       "      <td>09852060</td>\n",
       "    </tr>\n",
       "    <tr>\n",
       "      <th>2</th>\n",
       "      <td>cidade</td>\n",
       "      <td>São Bernardo do Campo</td>\n",
       "    </tr>\n",
       "    <tr>\n",
       "      <th>3</th>\n",
       "      <td>logradouro</td>\n",
       "      <td>Estrada Particular Fukutaro Yida</td>\n",
       "    </tr>\n",
       "    <tr>\n",
       "      <th>4</th>\n",
       "      <td>uf</td>\n",
       "      <td>SP</td>\n",
       "    </tr>\n",
       "    <tr>\n",
       "      <th>5</th>\n",
       "      <td>complemento</td>\n",
       "      <td>None</td>\n",
       "    </tr>\n",
       "  </tbody>\n",
       "</table>\n",
       "</div>\n"
      ],
      "text/plain": [
       "          keys                            values\n",
       "      <object>                          <object>\n",
       "0       bairro                       Cooperativa\n",
       "1          cep                          09852060\n",
       "2       cidade             São Bernardo do Campo\n",
       "3   logradouro  Estrada Particular Fukutaro Yida\n",
       "4           uf                                SP\n",
       "5  complemento                              None"
      ]
     },
     "execution_count": 19,
     "metadata": {},
     "output_type": "execute_result"
    }
   ],
   "source": [
    "pd.DataFrame({\n",
    "    'keys'   : list( address.keys() ),\n",
    "    'values' : list( address.values() )\n",
    "})"
   ]
  },
  {
   "cell_type": "code",
   "execution_count": 2,
   "id": "0c7762a9",
   "metadata": {},
   "outputs": [
    {
     "data": {
      "text/html": [
       "<div>\n",
       "<style scoped>\n",
       "    .dataframe tbody tr th:only-of-type {\n",
       "        vertical-align: middle;\n",
       "    }\n",
       "\n",
       "    .dataframe tbody tr th {\n",
       "        vertical-align: top;\n",
       "    }\n",
       "\n",
       "    .dataframe thead th {\n",
       "        text-align: right;\n",
       "    }\n",
       "</style>\n",
       "<table border=\"1\" class=\"dataframe\">\n",
       "  <thead>\n",
       "    <tr style=\"text-align: right;\">\n",
       "      <th></th>\n",
       "      <th>Bairro</th>\n",
       "      <th>Cep</th>\n",
       "      <th>Cidade</th>\n",
       "      <th>Logradouro</th>\n",
       "      <th>UF</th>\n",
       "      <th>Complemento</th>\n",
       "      <th>Latitude</th>\n",
       "      <th>Longitude</th>\n",
       "    </tr>\n",
       "  </thead>\n",
       "  <tbody>\n",
       "    <tr>\n",
       "      <th style=\"font-style: italic;\" ></th>\n",
       "      <td style=\"font-style: italic;\" >&lt;object&gt;</td>\n",
       "      <td style=\"font-style: italic;\" >&lt;object&gt;</td>\n",
       "      <td style=\"font-style: italic;\" >&lt;object&gt;</td>\n",
       "      <td style=\"font-style: italic;\" >&lt;object&gt;</td>\n",
       "      <td style=\"font-style: italic;\" >&lt;object&gt;</td>\n",
       "      <td style=\"font-style: italic;\" >&lt;object&gt;</td>\n",
       "      <td style=\"font-style: italic;\" >&lt;object&gt;</td>\n",
       "      <td style=\"font-style: italic;\" >&lt;object&gt;</td>\n",
       "    </tr>\n",
       "    <tr>\n",
       "      <th>0</th>\n",
       "      <td>Cooperativa</td>\n",
       "      <td>09852060</td>\n",
       "      <td>São Bernardo do Campo</td>\n",
       "      <td>Estrada Particular Fukutaro Yida</td>\n",
       "      <td>SP</td>\n",
       "      <td>None</td>\n",
       "      <td>-23.7080345</td>\n",
       "      <td>-46.5506747</td>\n",
       "    </tr>\n",
       "  </tbody>\n",
       "</table>\n",
       "</div>\n"
      ],
      "text/plain": [
       "        Bairro       Cep                 Cidade  \\\n",
       "      <object>  <object>               <object>   \n",
       "0  Cooperativa  09852060  São Bernardo do Campo   \n",
       "\n",
       "                         Logradouro       UF Complemento     Latitude  \\\n",
       "                           <object> <object>    <object>     <object>   \n",
       "0  Estrada Particular Fukutaro Yida       SP        None  -23.7080345   \n",
       "\n",
       "     Longitude  \n",
       "      <object>  \n",
       "0  -46.5506747  "
      ]
     },
     "execution_count": 2,
     "metadata": {},
     "output_type": "execute_result"
    }
   ],
   "source": [
    "address = get_address_from_cep('09852-060', webservice=WebService.CORREIOS)\n",
    "\n",
    "Tabela_Endereco = pd.DataFrame({\n",
    "    'Bairro'     : address['bairro'],\n",
    "    'Cep'        : address['cep'],\n",
    "    'Cidade'     : address['cidade'],\n",
    "    'Logradouro' : address['logradouro'],\n",
    "    'UF'         : address['uf'],\n",
    "    'Complemento': address['complemento']\n",
    "}, index = [0])\n",
    "\n",
    "Tabela_Endereco = Tabela_Endereco.assign(\n",
    "    Latitude = requests.get(\n",
    "        'https://nominatim.openstreetmap.org/search/' \n",
    "        + urllib.parse.quote( f\"{Tabela_Endereco['Cidade'][0]}{', '}{Tabela_Endereco['UF'][0]}\" ) \n",
    "        + '?format=json'\n",
    "    ).json()[0][\"lat\"],\n",
    "    \n",
    "    Longitude = requests.get(\n",
    "        'https://nominatim.openstreetmap.org/search/' \n",
    "        + urllib.parse.quote( f\"{Tabela_Endereco['Cidade'][0]}{', '}{Tabela_Endereco['UF'][0]}\" ) \n",
    "        + '?format=json'\n",
    "    ).json()[0][\"lon\"]\n",
    ")\n",
    "\n",
    "Tabela_Endereco"
   ]
  },
  {
   "cell_type": "code",
   "execution_count": 4,
   "id": "d43fa9b5",
   "metadata": {},
   "outputs": [
    {
     "data": {
      "text/plain": [
       "'14409'"
      ]
     },
     "execution_count": 4,
     "metadata": {},
     "output_type": "execute_result"
    }
   ],
   "source": [
    "olist_customers = pd.read_csv(\"C:/Users/danil/OneDrive/Danilo_Back-up/Kaggle/Brasilian_Ecommerce_Olist/olist_customers_dataset.csv\")\n",
    "olist_customers = olist_customers[ ['customer_id', 'customer_unique_id', 'customer_zip_code_prefix'] ]\n",
    "olist_customers['customer_zip_code_prefix'].astype('str').str.zfill(5)[0]"
   ]
  },
  {
   "cell_type": "code",
   "execution_count": 102,
   "id": "0a7c23ca",
   "metadata": {},
   "outputs": [
    {
     "data": {
      "text/plain": [
       "'74310'"
      ]
     },
     "execution_count": 102,
     "metadata": {},
     "output_type": "execute_result"
    }
   ],
   "source": [
    "olist_customers['customer_zip_code_prefix'].astype('str').str.zfill(5)[26]"
   ]
  },
  {
   "cell_type": "code",
   "execution_count": 106,
   "id": "0189384a",
   "metadata": {},
   "outputs": [
    {
     "data": {
      "text/plain": [
       "{'bairro': '',\n",
       " 'cep': '',\n",
       " 'cidade': '',\n",
       " 'logradouro': '',\n",
       " 'uf': '',\n",
       " 'complemento': ''}"
      ]
     },
     "execution_count": 106,
     "metadata": {},
     "output_type": "execute_result"
    }
   ],
   "source": [
    "    address = get_address_from_cep(\n",
    "        olist_customers['customer_zip_code_prefix'].astype('str').str.zfill(5)[26] + '-000', \n",
    "        webservice = WebService.CORREIOS\n",
    "    )\n",
    "    address"
   ]
  },
  {
   "cell_type": "code",
   "execution_count": 110,
   "id": "45e3a4d5",
   "metadata": {},
   "outputs": [
    {
     "data": {
      "text/html": [
       "<div>\n",
       "<style scoped>\n",
       "    .dataframe tbody tr th:only-of-type {\n",
       "        vertical-align: middle;\n",
       "    }\n",
       "\n",
       "    .dataframe tbody tr th {\n",
       "        vertical-align: top;\n",
       "    }\n",
       "\n",
       "    .dataframe thead th {\n",
       "        text-align: right;\n",
       "    }\n",
       "</style>\n",
       "<table border=\"1\" class=\"dataframe\">\n",
       "  <thead>\n",
       "    <tr style=\"text-align: right;\">\n",
       "      <th></th>\n",
       "      <th>Bairro</th>\n",
       "      <th>Cep</th>\n",
       "      <th>Cidade</th>\n",
       "      <th>Logradouro</th>\n",
       "      <th>UF</th>\n",
       "      <th>Complemento</th>\n",
       "    </tr>\n",
       "  </thead>\n",
       "  <tbody>\n",
       "    <tr>\n",
       "      <th style=\"font-style: italic;\" ></th>\n",
       "      <td style=\"font-style: italic;\" >&lt;object&gt;</td>\n",
       "      <td style=\"font-style: italic;\" >&lt;object&gt;</td>\n",
       "      <td style=\"font-style: italic;\" >&lt;object&gt;</td>\n",
       "      <td style=\"font-style: italic;\" >&lt;object&gt;</td>\n",
       "      <td style=\"font-style: italic;\" >&lt;object&gt;</td>\n",
       "      <td style=\"font-style: italic;\" >&lt;object&gt;</td>\n",
       "    </tr>\n",
       "    <tr>\n",
       "      <th>0</th>\n",
       "      <td></td>\n",
       "      <td></td>\n",
       "      <td></td>\n",
       "      <td></td>\n",
       "      <td></td>\n",
       "      <td></td>\n",
       "    </tr>\n",
       "  </tbody>\n",
       "</table>\n",
       "</div>\n"
      ],
      "text/plain": [
       "    Bairro      Cep   Cidade Logradouro       UF Complemento\n",
       "  <object> <object> <object>   <object> <object>    <object>\n",
       "0                                                           "
      ]
     },
     "execution_count": 110,
     "metadata": {},
     "output_type": "execute_result"
    }
   ],
   "source": [
    "_CEP_Cliente_ = 26\n",
    "\n",
    "try:\n",
    "    address = get_address_from_cep(\n",
    "        olist_customers['customer_zip_code_prefix'].astype('str').str.zfill(5)[_CEP_Cliente_] + '-000', \n",
    "        webservice = WebService.CORREIOS\n",
    "    )\n",
    "except NameError:\n",
    "    address = get_address_from_cep(\n",
    "        olist_customers['customer_zip_code_prefix'].astype('str').str.zfill(5)[_CEP_Cliente_] + '-010', \n",
    "        webservice = WebService.CORREIOS\n",
    "    )\n",
    "except NameError:\n",
    "    address = get_address_from_cep(\n",
    "        olist_customers['customer_zip_code_prefix'].astype('str').str.zfill(5)[_CEP_Cliente_] + '-020', \n",
    "        webservice = WebService.CORREIOS\n",
    "    )\n",
    "except NameError:\n",
    "    address = get_address_from_cep(\n",
    "        olist_customers['customer_zip_code_prefix'].astype('str').str.zfill(5)[_CEP_Cliente_] + '-030', \n",
    "        webservice = WebService.CORREIOS\n",
    "    )\n",
    "except NameError:\n",
    "    address = get_address_from_cep(\n",
    "        olist_customers['customer_zip_code_prefix'].astype('str').str.zfill(5)[_CEP_Cliente_] + '-100', \n",
    "        webservice = WebService.CORREIOS\n",
    "    )\n",
    "except NameError:\n",
    "    address = get_address_from_cep(\n",
    "        olist_customers['customer_zip_code_prefix'].astype('str').str.zfill(5)[_CEP_Cliente_] + '-110', \n",
    "        webservice = WebService.CORREIOS\n",
    "    )\n",
    "except NameError:\n",
    "    address = get_address_from_cep(\n",
    "        olist_customers['customer_zip_code_prefix'].astype('str').str.zfill(5)[_CEP_Cliente_] + '-120', \n",
    "        webservice = WebService.CORREIOS\n",
    "    )\n",
    "except NameError:\n",
    "    address = get_address_from_cep(\n",
    "        olist_customers['customer_zip_code_prefix'].astype('str').str.zfill(5)[_CEP_Cliente_] + '-130', \n",
    "        webservice = WebService.CORREIOS\n",
    "    )\n",
    "except NameError:\n",
    "    address = get_address_from_cep(\n",
    "        olist_customers['customer_zip_code_prefix'].astype('str').str.zfill(5)[_CEP_Cliente_] + '-200', \n",
    "        webservice = WebService.CORREIOS\n",
    "    )\n",
    "except NameError:\n",
    "    address = get_address_from_cep(\n",
    "        olist_customers['customer_zip_code_prefix'].astype('str').str.zfill(5)[_CEP_Cliente_] + '-210', \n",
    "        webservice = WebService.CORREIOS\n",
    "    )\n",
    "except NameError:\n",
    "    address = get_address_from_cep(\n",
    "        olist_customers['customer_zip_code_prefix'].astype('str').str.zfill(5)[_CEP_Cliente_] + '-220', \n",
    "        webservice = WebService.CORREIOS\n",
    "    )\n",
    "except NameError:\n",
    "    address = get_address_from_cep(\n",
    "        olist_customers['customer_zip_code_prefix'].astype('str').str.zfill(5)[_CEP_Cliente_] + '-230', \n",
    "        webservice = WebService.CORREIOS\n",
    "    )\n",
    "except NameError:\n",
    "    address = get_address_from_cep(\n",
    "        olist_customers['customer_zip_code_prefix'].astype('str').str.zfill(5)[_CEP_Cliente_] + '-300', \n",
    "        webservice = WebService.CORREIOS\n",
    "    )\n",
    "except NameError:\n",
    "    address = get_address_from_cep(\n",
    "        olist_customers['customer_zip_code_prefix'].astype('str').str.zfill(5)[_CEP_Cliente_] + '-310', \n",
    "        webservice = WebService.CORREIOS\n",
    "    )\n",
    "except NameError:\n",
    "    address = get_address_from_cep(\n",
    "        olist_customers['customer_zip_code_prefix'].astype('str').str.zfill(5)[_CEP_Cliente_] + '-320', \n",
    "        webservice = WebService.CORREIOS\n",
    "    )\n",
    "except NameError:\n",
    "    address = get_address_from_cep(\n",
    "        olist_customers['customer_zip_code_prefix'].astype('str').str.zfill(5)[_CEP_Cliente_] + '-330', \n",
    "        webservice = WebService.CORREIOS\n",
    "    )\n",
    "except NameError:\n",
    "    address = get_address_from_cep(\n",
    "        olist_customers['customer_zip_code_prefix'].astype('str').str.zfill(5)[_CEP_Cliente_] + '-400', \n",
    "        webservice = WebService.CORREIOS\n",
    "    )\n",
    "except NameError:\n",
    "    address = get_address_from_cep(\n",
    "        olist_customers['customer_zip_code_prefix'].astype('str').str.zfill(5)[_CEP_Cliente_] + '-410', \n",
    "        webservice = WebService.CORREIOS\n",
    "    )\n",
    "except NameError:\n",
    "    address = get_address_from_cep(\n",
    "        olist_customers['customer_zip_code_prefix'].astype('str').str.zfill(5)[_CEP_Cliente_] + '-420', \n",
    "        webservice = WebService.CORREIOS\n",
    "    )\n",
    "except NameError:\n",
    "    address = get_address_from_cep(\n",
    "        olist_customers['customer_zip_code_prefix'].astype('str').str.zfill(5)[_CEP_Cliente_] + '-430', \n",
    "        webservice = WebService.CORREIOS\n",
    "    )\n",
    "except:\n",
    "    address = get_address_from_cep(\n",
    "        olist_customers['customer_zip_code_prefix'].astype('str').str.zfill(5)[_CEP_Cliente_] + '-510', \n",
    "        webservice = WebService.CORREIOS\n",
    "    )\n",
    "\n",
    "Tabela_Endereco__ = pd.DataFrame({\n",
    "    'Bairro'     : address['bairro'],\n",
    "    'Cep'        : address['cep'],\n",
    "    'Cidade'     : address['cidade'],\n",
    "    'Logradouro' : address['logradouro'],\n",
    "    'UF'         : address['uf'],\n",
    "    'Complemento': address['complemento']\n",
    "}, index = [0])\n",
    "\n",
    "Tabela_Endereco__"
   ]
  },
  {
   "cell_type": "code",
   "execution_count": 98,
   "id": "9974db13",
   "metadata": {},
   "outputs": [],
   "source": [
    "Tabela_Endereco = pd.DataFrame([])\n",
    "# for _CEP_Cliente_ in range(0, len( olist_customers['customer_zip_code_prefix'] ), 1):\n",
    "for _CEP_Cliente_ in range(0, 25, 1):\n",
    "\n",
    "    try:\n",
    "        address = get_address_from_cep(\n",
    "            olist_customers['customer_zip_code_prefix'].astype('str').str.zfill(5)[_CEP_Cliente_] + '-000', \n",
    "            webservice = WebService.CORREIOS\n",
    "        )\n",
    "    except NameError:\n",
    "        address = get_address_from_cep(\n",
    "            olist_customers['customer_zip_code_prefix'].astype('str').str.zfill(5)[_CEP_Cliente_] + '-010', \n",
    "            webservice = WebService.CORREIOS\n",
    "        )\n",
    "    except NameError:\n",
    "        address = get_address_from_cep(\n",
    "            olist_customers['customer_zip_code_prefix'].astype('str').str.zfill(5)[_CEP_Cliente_] + '-020', \n",
    "            webservice = WebService.CORREIOS\n",
    "        )\n",
    "    except NameError:\n",
    "        address = get_address_from_cep(\n",
    "            olist_customers['customer_zip_code_prefix'].astype('str').str.zfill(5)[_CEP_Cliente_] + '-030', \n",
    "            webservice = WebService.CORREIOS\n",
    "        )\n",
    "    except NameError:\n",
    "        address = get_address_from_cep(\n",
    "            olist_customers['customer_zip_code_prefix'].astype('str').str.zfill(5)[_CEP_Cliente_] + '-100', \n",
    "            webservice = WebService.CORREIOS\n",
    "        )\n",
    "    except NameError:\n",
    "        address = get_address_from_cep(\n",
    "            olist_customers['customer_zip_code_prefix'].astype('str').str.zfill(5)[_CEP_Cliente_] + '-110', \n",
    "            webservice = WebService.CORREIOS\n",
    "        )\n",
    "    except NameError:\n",
    "        address = get_address_from_cep(\n",
    "            olist_customers['customer_zip_code_prefix'].astype('str').str.zfill(5)[_CEP_Cliente_] + '-120', \n",
    "            webservice = WebService.CORREIOS\n",
    "        )\n",
    "    except NameError:\n",
    "        address = get_address_from_cep(\n",
    "            olist_customers['customer_zip_code_prefix'].astype('str').str.zfill(5)[_CEP_Cliente_] + '-130', \n",
    "            webservice = WebService.CORREIOS\n",
    "        )\n",
    "    except NameError:\n",
    "        address = get_address_from_cep(\n",
    "            olist_customers['customer_zip_code_prefix'].astype('str').str.zfill(5)[_CEP_Cliente_] + '-200', \n",
    "            webservice = WebService.CORREIOS\n",
    "        )\n",
    "    except NameError:\n",
    "        address = get_address_from_cep(\n",
    "            olist_customers['customer_zip_code_prefix'].astype('str').str.zfill(5)[_CEP_Cliente_] + '-210', \n",
    "            webservice = WebService.CORREIOS\n",
    "        )\n",
    "    except NameError:\n",
    "        address = get_address_from_cep(\n",
    "            olist_customers['customer_zip_code_prefix'].astype('str').str.zfill(5)[_CEP_Cliente_] + '-220', \n",
    "            webservice = WebService.CORREIOS\n",
    "        )\n",
    "    except NameError:\n",
    "        address = get_address_from_cep(\n",
    "            olist_customers['customer_zip_code_prefix'].astype('str').str.zfill(5)[_CEP_Cliente_] + '-230', \n",
    "            webservice = WebService.CORREIOS\n",
    "        )\n",
    "    except NameError:\n",
    "        address = get_address_from_cep(\n",
    "            olist_customers['customer_zip_code_prefix'].astype('str').str.zfill(5)[_CEP_Cliente_] + '-300', \n",
    "            webservice = WebService.CORREIOS\n",
    "        )\n",
    "    except NameError:\n",
    "        address = get_address_from_cep(\n",
    "            olist_customers['customer_zip_code_prefix'].astype('str').str.zfill(5)[_CEP_Cliente_] + '-310', \n",
    "            webservice = WebService.CORREIOS\n",
    "        )\n",
    "    except NameError:\n",
    "        address = get_address_from_cep(\n",
    "            olist_customers['customer_zip_code_prefix'].astype('str').str.zfill(5)[_CEP_Cliente_] + '-320', \n",
    "            webservice = WebService.CORREIOS\n",
    "        )\n",
    "    except NameError:\n",
    "        address = get_address_from_cep(\n",
    "            olist_customers['customer_zip_code_prefix'].astype('str').str.zfill(5)[_CEP_Cliente_] + '-330', \n",
    "            webservice = WebService.CORREIOS\n",
    "        )\n",
    "    except NameError:\n",
    "        address = get_address_from_cep(\n",
    "            olist_customers['customer_zip_code_prefix'].astype('str').str.zfill(5)[_CEP_Cliente_] + '-400', \n",
    "            webservice = WebService.CORREIOS\n",
    "        )\n",
    "    except NameError:\n",
    "        address = get_address_from_cep(\n",
    "            olist_customers['customer_zip_code_prefix'].astype('str').str.zfill(5)[_CEP_Cliente_] + '-410', \n",
    "            webservice = WebService.CORREIOS\n",
    "        )\n",
    "    except NameError:\n",
    "        address = get_address_from_cep(\n",
    "            olist_customers['customer_zip_code_prefix'].astype('str').str.zfill(5)[_CEP_Cliente_] + '-420', \n",
    "            webservice = WebService.CORREIOS\n",
    "        )\n",
    "    except NameError:\n",
    "        address = get_address_from_cep(\n",
    "            olist_customers['customer_zip_code_prefix'].astype('str').str.zfill(5)[_CEP_Cliente_] + '-430', \n",
    "            webservice = WebService.CORREIOS\n",
    "        )\n",
    "    except:\n",
    "        address = get_address_from_cep(\n",
    "            olist_customers['customer_zip_code_prefix'].astype('str').str.zfill(5)[_CEP_Cliente_] + '-510', \n",
    "            webservice = WebService.CORREIOS\n",
    "        )\n",
    "    Tabela_Endereco__ = pd.DataFrame({\n",
    "        'Bairro'     : address['bairro'],\n",
    "        'Cep'        : address['cep'],\n",
    "        'Cidade'     : address['cidade'],\n",
    "        'Logradouro' : address['logradouro'],\n",
    "        'UF'         : address['uf'],\n",
    "        'Complemento': address['complemento']\n",
    "    }, index = [0])\n",
    "    # Tabela_Endereco__ = Tabela_Endereco__.assign(\n",
    "    #     Latitude = requests.get(\n",
    "    #         'https://nominatim.openstreetmap.org/search/' \n",
    "    #         + urllib.parse.quote( f\"{Tabela_Endereco__['Cidade'][0]}{', '}{Tabela_Endereco__['UF'][0]}\" ) \n",
    "    #         + '?format=json'\n",
    "    #     ).json()[0][\"lat\"],\n",
    "    #     Longitude = requests.get(\n",
    "    #         'https://nominatim.openstreetmap.org/search/' \n",
    "    #         + urllib.parse.quote( f\"{Tabela_Endereco__['Cidade'][0]}{', '}{Tabela_Endereco__['UF'][0]}\" ) \n",
    "    #         + '?format=json'\n",
    "    #     ).json()[0][\"lon\"]\n",
    "    # )\n",
    "    Tabela_Endereco = pd.concat( [Tabela_Endereco, Tabela_Endereco__] )"
   ]
  },
  {
   "cell_type": "code",
   "execution_count": 99,
   "id": "f7b2102c",
   "metadata": {},
   "outputs": [
    {
     "data": {
      "text/html": [
       "<div>\n",
       "<style scoped>\n",
       "    .dataframe tbody tr th:only-of-type {\n",
       "        vertical-align: middle;\n",
       "    }\n",
       "\n",
       "    .dataframe tbody tr th {\n",
       "        vertical-align: top;\n",
       "    }\n",
       "\n",
       "    .dataframe thead th {\n",
       "        text-align: right;\n",
       "    }\n",
       "</style>\n",
       "<table border=\"1\" class=\"dataframe\">\n",
       "  <thead>\n",
       "    <tr style=\"text-align: right;\">\n",
       "      <th></th>\n",
       "      <th>Bairro</th>\n",
       "      <th>Cep</th>\n",
       "      <th>Cidade</th>\n",
       "      <th>Logradouro</th>\n",
       "      <th>UF</th>\n",
       "      <th>Complemento</th>\n",
       "    </tr>\n",
       "  </thead>\n",
       "  <tbody>\n",
       "    <tr>\n",
       "      <th style=\"font-style: italic;\" ></th>\n",
       "      <td style=\"font-style: italic;\" >&lt;object&gt;</td>\n",
       "      <td style=\"font-style: italic;\" >&lt;object&gt;</td>\n",
       "      <td style=\"font-style: italic;\" >&lt;object&gt;</td>\n",
       "      <td style=\"font-style: italic;\" >&lt;object&gt;</td>\n",
       "      <td style=\"font-style: italic;\" >&lt;object&gt;</td>\n",
       "      <td style=\"font-style: italic;\" >&lt;object&gt;</td>\n",
       "    </tr>\n",
       "    <tr>\n",
       "      <th>0</th>\n",
       "      <td>Jardim Barão</td>\n",
       "      <td>14409000</td>\n",
       "      <td>Franca</td>\n",
       "      <td>Rua Jonas Rodrigues de Moura</td>\n",
       "      <td>SP</td>\n",
       "      <td>None</td>\n",
       "    </tr>\n",
       "    <tr>\n",
       "      <th>0</th>\n",
       "      <td>Ferrazópolis</td>\n",
       "      <td>09790000</td>\n",
       "      <td>São Bernardo do Campo</td>\n",
       "      <td>Avenida Albert Schweitzer</td>\n",
       "      <td>SP</td>\n",
       "      <td>None</td>\n",
       "    </tr>\n",
       "    <tr>\n",
       "      <th>0</th>\n",
       "      <td>Barra Funda</td>\n",
       "      <td>01151000</td>\n",
       "      <td>São Paulo</td>\n",
       "      <td>Rua Brigadeiro Galvão</td>\n",
       "      <td>SP</td>\n",
       "      <td>None</td>\n",
       "    </tr>\n",
       "    <tr>\n",
       "      <th>0</th>\n",
       "      <td>Jardim Rodeio</td>\n",
       "      <td>08775000</td>\n",
       "      <td>Mogi das Cruzes</td>\n",
       "      <td>Avenida Lothar Waldemar Hoehne</td>\n",
       "      <td>SP</td>\n",
       "      <td>None</td>\n",
       "    </tr>\n",
       "    <tr>\n",
       "      <th>0</th>\n",
       "      <td></td>\n",
       "      <td></td>\n",
       "      <td></td>\n",
       "      <td></td>\n",
       "      <td></td>\n",
       "      <td></td>\n",
       "    </tr>\n",
       "    <tr>\n",
       "      <th>0</th>\n",
       "      <td>Chico de Paulo</td>\n",
       "      <td>89254000</td>\n",
       "      <td>Jaraguá do Sul</td>\n",
       "      <td>Rua Erwino Menegotti</td>\n",
       "      <td>SC</td>\n",
       "      <td>- até 478/479</td>\n",
       "    </tr>\n",
       "    <tr>\n",
       "      <th>0</th>\n",
       "      <td>Itaim Bibi</td>\n",
       "      <td>04534000</td>\n",
       "      <td>São Paulo</td>\n",
       "      <td>Rua Joaquim Floriano</td>\n",
       "      <td>SP</td>\n",
       "      <td>- até 110 - lado par</td>\n",
       "    </tr>\n",
       "    <tr>\n",
       "      <th>0</th>\n",
       "      <td>Centro Sul</td>\n",
       "      <td>35182000</td>\n",
       "      <td>Timóteo</td>\n",
       "      <td>Avenida São João</td>\n",
       "      <td>MG</td>\n",
       "      <td>- de 792/793 a 1290/1291</td>\n",
       "    </tr>\n",
       "    <tr>\n",
       "      <th>0</th>\n",
       "      <td>Uberaba</td>\n",
       "      <td>81560000</td>\n",
       "      <td>Curitiba</td>\n",
       "      <td>Avenida Comendador Franco</td>\n",
       "      <td>PR</td>\n",
       "      <td>- de 5011/5012 a 7264/7265</td>\n",
       "    </tr>\n",
       "    <tr>\n",
       "      <th>0</th>\n",
       "      <td>Havaí</td>\n",
       "      <td>30575000</td>\n",
       "      <td>Belo Horizonte</td>\n",
       "      <td>Avenida Costa do Marfim</td>\n",
       "      <td>MG</td>\n",
       "      <td>None</td>\n",
       "    </tr>\n",
       "    <tr>\n",
       "      <th>0</th>\n",
       "      <td></td>\n",
       "      <td></td>\n",
       "      <td></td>\n",
       "      <td></td>\n",
       "      <td></td>\n",
       "      <td></td>\n",
       "    </tr>\n",
       "    <tr>\n",
       "      <th>0</th>\n",
       "      <td>Centro</td>\n",
       "      <td>20231000</td>\n",
       "      <td>Rio de Janeiro</td>\n",
       "      <td>Rua do Senado</td>\n",
       "      <td>RJ</td>\n",
       "      <td>- até 88/089</td>\n",
       "    </tr>\n",
       "    <tr>\n",
       "      <th>0</th>\n",
       "      <td>Centro</td>\n",
       "      <td>18682000</td>\n",
       "      <td>Lençóis Paulista</td>\n",
       "      <td>Avenida Nove de Julho</td>\n",
       "      <td>SP</td>\n",
       "      <td>- de 0522/523 a 1080/1081</td>\n",
       "    </tr>\n",
       "    <tr>\n",
       "      <th>0</th>\n",
       "      <td></td>\n",
       "      <td></td>\n",
       "      <td></td>\n",
       "      <td></td>\n",
       "      <td></td>\n",
       "      <td></td>\n",
       "    </tr>\n",
       "    <tr>\n",
       "      <th>0</th>\n",
       "      <td>Desvio Rizzo</td>\n",
       "      <td>95110000</td>\n",
       "      <td>Caxias do Sul</td>\n",
       "      <td>Avenida Alexandre Rizzo</td>\n",
       "      <td>RS</td>\n",
       "      <td>None</td>\n",
       "    </tr>\n",
       "    <tr>\n",
       "      <th>0</th>\n",
       "      <td>Jardim Primavera</td>\n",
       "      <td>13412000</td>\n",
       "      <td>Piracicaba</td>\n",
       "      <td>Rodovia Fausto Santomauro</td>\n",
       "      <td>SP</td>\n",
       "      <td>(SP-127) - do km 29,000 ao km 32,999</td>\n",
       "    </tr>\n",
       "    <tr>\n",
       "      <th>0</th>\n",
       "      <td>Anil</td>\n",
       "      <td>22750000</td>\n",
       "      <td>Rio de Janeiro</td>\n",
       "      <td>Rua Aldo Rangel de Carvalho</td>\n",
       "      <td>RJ</td>\n",
       "      <td>None</td>\n",
       "    </tr>\n",
       "    <tr>\n",
       "      <th>0</th>\n",
       "      <td>Portal dos Gramados</td>\n",
       "      <td>07124000</td>\n",
       "      <td>Guarulhos</td>\n",
       "      <td>Avenida Benjamin Harris Hunnicutt</td>\n",
       "      <td>SP</td>\n",
       "      <td>- de 1752 ao fim - lado par</td>\n",
       "    </tr>\n",
       "    <tr>\n",
       "      <th>0</th>\n",
       "      <td>Pinheiros</td>\n",
       "      <td>05416000</td>\n",
       "      <td>São Paulo</td>\n",
       "      <td>Rua Fradique Coutinho</td>\n",
       "      <td>SP</td>\n",
       "      <td>- até 636 - lado par</td>\n",
       "    </tr>\n",
       "    <tr>\n",
       "      <th>0</th>\n",
       "      <td>None</td>\n",
       "      <td>68485000</td>\n",
       "      <td>Pacajá</td>\n",
       "      <td>None</td>\n",
       "      <td>PA</td>\n",
       "      <td>None</td>\n",
       "    </tr>\n",
       "    <tr>\n",
       "      <th>0</th>\n",
       "      <td>Itacorubi</td>\n",
       "      <td>88034000</td>\n",
       "      <td>Florianópolis</td>\n",
       "      <td>Rodovia Admar Gonzaga</td>\n",
       "      <td>SC</td>\n",
       "      <td>- até 2024/2025</td>\n",
       "    </tr>\n",
       "    <tr>\n",
       "      <th>0</th>\n",
       "      <td>Jardim Maria Inês</td>\n",
       "      <td>74914510</td>\n",
       "      <td>Aparecida de Goiânia</td>\n",
       "      <td>Rua dos Rouxinóis</td>\n",
       "      <td>GO</td>\n",
       "      <td>None</td>\n",
       "    </tr>\n",
       "    <tr>\n",
       "      <th>0</th>\n",
       "      <td></td>\n",
       "      <td></td>\n",
       "      <td></td>\n",
       "      <td></td>\n",
       "      <td></td>\n",
       "      <td></td>\n",
       "    </tr>\n",
       "    <tr>\n",
       "      <th>0</th>\n",
       "      <td>Bairro Alto</td>\n",
       "      <td>82820000</td>\n",
       "      <td>Curitiba</td>\n",
       "      <td>Rua José Veríssimo</td>\n",
       "      <td>PR</td>\n",
       "      <td>None</td>\n",
       "    </tr>\n",
       "    <tr>\n",
       "      <th>0</th>\n",
       "      <td>Vila Regina ( Zona Leste)</td>\n",
       "      <td>08225000</td>\n",
       "      <td>São Paulo</td>\n",
       "      <td>Rua Catarina Lopes</td>\n",
       "      <td>SP</td>\n",
       "      <td>None</td>\n",
       "    </tr>\n",
       "  </tbody>\n",
       "</table>\n",
       "</div>\n"
      ],
      "text/plain": [
       "                      Bairro       Cep                 Cidade  \\\n",
       "                    <object>  <object>               <object>   \n",
       "0               Jardim Barão  14409000                 Franca   \n",
       "0               Ferrazópolis  09790000  São Bernardo do Campo   \n",
       "0                Barra Funda  01151000              São Paulo   \n",
       "0              Jardim Rodeio  08775000        Mogi das Cruzes   \n",
       "0                                                               \n",
       "0             Chico de Paulo  89254000         Jaraguá do Sul   \n",
       "0                 Itaim Bibi  04534000              São Paulo   \n",
       "0                 Centro Sul  35182000                Timóteo   \n",
       "0                    Uberaba  81560000               Curitiba   \n",
       "0                      Havaí  30575000         Belo Horizonte   \n",
       "0                                                               \n",
       "0                     Centro  20231000         Rio de Janeiro   \n",
       "0                     Centro  18682000       Lençóis Paulista   \n",
       "0                                                               \n",
       "0               Desvio Rizzo  95110000          Caxias do Sul   \n",
       "0           Jardim Primavera  13412000             Piracicaba   \n",
       "0                       Anil  22750000         Rio de Janeiro   \n",
       "0        Portal dos Gramados  07124000              Guarulhos   \n",
       "0                  Pinheiros  05416000              São Paulo   \n",
       "0                       None  68485000                 Pacajá   \n",
       "0                  Itacorubi  88034000          Florianópolis   \n",
       "0          Jardim Maria Inês  74914510   Aparecida de Goiânia   \n",
       "0                                                               \n",
       "0                Bairro Alto  82820000               Curitiba   \n",
       "0  Vila Regina ( Zona Leste)  08225000              São Paulo   \n",
       "\n",
       "                          Logradouro       UF  \\\n",
       "                            <object> <object>   \n",
       "0       Rua Jonas Rodrigues de Moura       SP   \n",
       "0          Avenida Albert Schweitzer       SP   \n",
       "0              Rua Brigadeiro Galvão       SP   \n",
       "0     Avenida Lothar Waldemar Hoehne       SP   \n",
       "0                                               \n",
       "0               Rua Erwino Menegotti       SC   \n",
       "0               Rua Joaquim Floriano       SP   \n",
       "0                   Avenida São João       MG   \n",
       "0          Avenida Comendador Franco       PR   \n",
       "0            Avenida Costa do Marfim       MG   \n",
       "0                                               \n",
       "0                      Rua do Senado       RJ   \n",
       "0              Avenida Nove de Julho       SP   \n",
       "0                                               \n",
       "0            Avenida Alexandre Rizzo       RS   \n",
       "0          Rodovia Fausto Santomauro       SP   \n",
       "0        Rua Aldo Rangel de Carvalho       RJ   \n",
       "0  Avenida Benjamin Harris Hunnicutt       SP   \n",
       "0              Rua Fradique Coutinho       SP   \n",
       "0                               None       PA   \n",
       "0              Rodovia Admar Gonzaga       SC   \n",
       "0                  Rua dos Rouxinóis       GO   \n",
       "0                                               \n",
       "0                 Rua José Veríssimo       PR   \n",
       "0                 Rua Catarina Lopes       SP   \n",
       "\n",
       "                            Complemento  \n",
       "                               <object>  \n",
       "0                                  None  \n",
       "0                                  None  \n",
       "0                                  None  \n",
       "0                                  None  \n",
       "0                                        \n",
       "0                         - até 478/479  \n",
       "0                  - até 110 - lado par  \n",
       "0              - de 792/793 a 1290/1291  \n",
       "0            - de 5011/5012 a 7264/7265  \n",
       "0                                  None  \n",
       "0                                        \n",
       "0                          - até 88/089  \n",
       "0             - de 0522/523 a 1080/1081  \n",
       "0                                        \n",
       "0                                  None  \n",
       "0  (SP-127) - do km 29,000 ao km 32,999  \n",
       "0                                  None  \n",
       "0           - de 1752 ao fim - lado par  \n",
       "0                  - até 636 - lado par  \n",
       "0                                  None  \n",
       "0                       - até 2024/2025  \n",
       "0                                  None  \n",
       "0                                        \n",
       "0                                  None  \n",
       "0                                  None  "
      ]
     },
     "execution_count": 99,
     "metadata": {},
     "output_type": "execute_result"
    }
   ],
   "source": [
    "Tabela_Endereco"
   ]
  },
  {
   "attachments": {},
   "cell_type": "markdown",
   "id": "271bedc7",
   "metadata": {},
   "source": [
    "## <h1 style=\"font-family:impact; background-color:#3C2A21; color:#D5CEA3; text-align:center\">Lat e Long a partir do ENDEREÇO</h1>"
   ]
  },
  {
   "attachments": {},
   "cell_type": "markdown",
   "id": "864e73ea",
   "metadata": {},
   "source": [
    "### <font style=\"font-family:impact\">Bibliotecas</font>"
   ]
  },
  {
   "cell_type": "code",
   "execution_count": 15,
   "id": "65939447",
   "metadata": {},
   "outputs": [],
   "source": [
    "# import requests\n",
    "# import urllib.parse\n",
    "from geopy.geocoders import Nominatim\n",
    "import numpy as np\n",
    "import pandas as pd\n",
    "import datetime as dtt\n",
    "import datar"
   ]
  },
  {
   "attachments": {},
   "cell_type": "markdown",
   "id": "5f01bd5d",
   "metadata": {},
   "source": [
    "### <font style=\"font-family:impact\">Carregar base de Estado e Cidade dos Clientes</font>"
   ]
  },
  {
   "cell_type": "code",
   "execution_count": 18,
   "id": "4f82fa2c",
   "metadata": {},
   "outputs": [
    {
     "data": {
      "text/html": [
       "<div>\n",
       "<style scoped>\n",
       "    .dataframe tbody tr th:only-of-type {\n",
       "        vertical-align: middle;\n",
       "    }\n",
       "\n",
       "    .dataframe tbody tr th {\n",
       "        vertical-align: top;\n",
       "    }\n",
       "\n",
       "    .dataframe thead th {\n",
       "        text-align: right;\n",
       "    }\n",
       "</style>\n",
       "<table border=\"1\" class=\"dataframe\">\n",
       "  <thead>\n",
       "    <tr style=\"text-align: right;\">\n",
       "      <th></th>\n",
       "      <th>customer_id</th>\n",
       "      <th>customer_unique_id</th>\n",
       "      <th>customer_zip_code_prefix</th>\n",
       "      <th>customer_city</th>\n",
       "      <th>customer_state</th>\n",
       "    </tr>\n",
       "  </thead>\n",
       "  <tbody>\n",
       "    <tr>\n",
       "      <th style=\"font-style: italic;\" ></th>\n",
       "      <td style=\"font-style: italic;\" >&lt;object&gt;</td>\n",
       "      <td style=\"font-style: italic;\" >&lt;object&gt;</td>\n",
       "      <td style=\"font-style: italic;\" >&lt;int64&gt;</td>\n",
       "      <td style=\"font-style: italic;\" >&lt;object&gt;</td>\n",
       "      <td style=\"font-style: italic;\" >&lt;object&gt;</td>\n",
       "    </tr>\n",
       "    <tr>\n",
       "      <th>0</th>\n",
       "      <td>06b8999e2fba1a1fbc88172c00ba8bc7</td>\n",
       "      <td>861eff4711a542e4b93843c6dd7febb0</td>\n",
       "      <td>14409</td>\n",
       "      <td>franca</td>\n",
       "      <td>SP</td>\n",
       "    </tr>\n",
       "    <tr>\n",
       "      <th>1</th>\n",
       "      <td>18955e83d337fd6b2def6b18a428ac77</td>\n",
       "      <td>290c77bc529b7ac935b93aa66c333dc3</td>\n",
       "      <td>9790</td>\n",
       "      <td>sao bernardo do campo</td>\n",
       "      <td>SP</td>\n",
       "    </tr>\n",
       "    <tr>\n",
       "      <th>2</th>\n",
       "      <td>4e7b3e00288586ebd08712fdd0374a03</td>\n",
       "      <td>060e732b5b29e8181a18229c7b0b2b5e</td>\n",
       "      <td>1151</td>\n",
       "      <td>sao paulo</td>\n",
       "      <td>SP</td>\n",
       "    </tr>\n",
       "    <tr>\n",
       "      <th>3</th>\n",
       "      <td>b2b6027bc5c5109e529d4dc6358b12c3</td>\n",
       "      <td>259dac757896d24d7702b9acbbff3f3c</td>\n",
       "      <td>8775</td>\n",
       "      <td>mogi das cruzes</td>\n",
       "      <td>SP</td>\n",
       "    </tr>\n",
       "    <tr>\n",
       "      <th>4</th>\n",
       "      <td>4f2d8ab171c80ec8364f7c12e35b23ad</td>\n",
       "      <td>345ecd01c38d18a9036ed96c73b8d066</td>\n",
       "      <td>13056</td>\n",
       "      <td>campinas</td>\n",
       "      <td>SP</td>\n",
       "    </tr>\n",
       "  </tbody>\n",
       "</table>\n",
       "</div>\n"
      ],
      "text/plain": [
       "                        customer_id                customer_unique_id  \\\n",
       "                           <object>                          <object>   \n",
       "0  06b8999e2fba1a1fbc88172c00ba8bc7  861eff4711a542e4b93843c6dd7febb0   \n",
       "1  18955e83d337fd6b2def6b18a428ac77  290c77bc529b7ac935b93aa66c333dc3   \n",
       "2  4e7b3e00288586ebd08712fdd0374a03  060e732b5b29e8181a18229c7b0b2b5e   \n",
       "3  b2b6027bc5c5109e529d4dc6358b12c3  259dac757896d24d7702b9acbbff3f3c   \n",
       "4  4f2d8ab171c80ec8364f7c12e35b23ad  345ecd01c38d18a9036ed96c73b8d066   \n",
       "\n",
       "   customer_zip_code_prefix          customer_city customer_state  \n",
       "                    <int64>               <object>       <object>  \n",
       "0                     14409                 franca             SP  \n",
       "1                      9790  sao bernardo do campo             SP  \n",
       "2                      1151              sao paulo             SP  \n",
       "3                      8775        mogi das cruzes             SP  \n",
       "4                     13056               campinas             SP  "
      ]
     },
     "execution_count": 18,
     "metadata": {},
     "output_type": "execute_result"
    }
   ],
   "source": [
    "olist_customers = pd.read_csv(\"C:/Users/danil/OneDrive/Danilo_Back-up/Kaggle/Brasilian_Ecommerce_Olist/olist_customers_dataset.csv\")\n",
    "olist_customers[0:5]"
   ]
  },
  {
   "cell_type": "code",
   "execution_count": 19,
   "id": "dad5a621",
   "metadata": {},
   "outputs": [
    {
     "data": {
      "text/html": [
       "<div>\n",
       "<style scoped>\n",
       "    .dataframe tbody tr th:only-of-type {\n",
       "        vertical-align: middle;\n",
       "    }\n",
       "\n",
       "    .dataframe tbody tr th {\n",
       "        vertical-align: top;\n",
       "    }\n",
       "\n",
       "    .dataframe thead th {\n",
       "        text-align: right;\n",
       "    }\n",
       "</style>\n",
       "<table border=\"1\" class=\"dataframe\">\n",
       "  <thead>\n",
       "    <tr style=\"text-align: right;\">\n",
       "      <th></th>\n",
       "      <th>customer_id</th>\n",
       "      <th>customer_unique_id</th>\n",
       "      <th>customer_zip_code_prefix</th>\n",
       "      <th>customer_city</th>\n",
       "      <th>customer_state</th>\n",
       "      <th>customer_state_city</th>\n",
       "    </tr>\n",
       "  </thead>\n",
       "  <tbody>\n",
       "    <tr>\n",
       "      <th style=\"font-style: italic;\" ></th>\n",
       "      <td style=\"font-style: italic;\" >&lt;object&gt;</td>\n",
       "      <td style=\"font-style: italic;\" >&lt;object&gt;</td>\n",
       "      <td style=\"font-style: italic;\" >&lt;int64&gt;</td>\n",
       "      <td style=\"font-style: italic;\" >&lt;object&gt;</td>\n",
       "      <td style=\"font-style: italic;\" >&lt;object&gt;</td>\n",
       "      <td style=\"font-style: italic;\" >&lt;object&gt;</td>\n",
       "    </tr>\n",
       "    <tr>\n",
       "      <th>0</th>\n",
       "      <td>06b8999e2fba1a1fbc88172c00ba8bc7</td>\n",
       "      <td>861eff4711a542e4b93843c6dd7febb0</td>\n",
       "      <td>14409</td>\n",
       "      <td>franca</td>\n",
       "      <td>SP</td>\n",
       "      <td>SP, franca</td>\n",
       "    </tr>\n",
       "    <tr>\n",
       "      <th>1</th>\n",
       "      <td>18955e83d337fd6b2def6b18a428ac77</td>\n",
       "      <td>290c77bc529b7ac935b93aa66c333dc3</td>\n",
       "      <td>9790</td>\n",
       "      <td>sao bernardo do campo</td>\n",
       "      <td>SP</td>\n",
       "      <td>SP, sao bernardo do campo</td>\n",
       "    </tr>\n",
       "    <tr>\n",
       "      <th>2</th>\n",
       "      <td>4e7b3e00288586ebd08712fdd0374a03</td>\n",
       "      <td>060e732b5b29e8181a18229c7b0b2b5e</td>\n",
       "      <td>1151</td>\n",
       "      <td>sao paulo</td>\n",
       "      <td>SP</td>\n",
       "      <td>SP, sao paulo</td>\n",
       "    </tr>\n",
       "    <tr>\n",
       "      <th>3</th>\n",
       "      <td>b2b6027bc5c5109e529d4dc6358b12c3</td>\n",
       "      <td>259dac757896d24d7702b9acbbff3f3c</td>\n",
       "      <td>8775</td>\n",
       "      <td>mogi das cruzes</td>\n",
       "      <td>SP</td>\n",
       "      <td>SP, mogi das cruzes</td>\n",
       "    </tr>\n",
       "    <tr>\n",
       "      <th>4</th>\n",
       "      <td>4f2d8ab171c80ec8364f7c12e35b23ad</td>\n",
       "      <td>345ecd01c38d18a9036ed96c73b8d066</td>\n",
       "      <td>13056</td>\n",
       "      <td>campinas</td>\n",
       "      <td>SP</td>\n",
       "      <td>SP, campinas</td>\n",
       "    </tr>\n",
       "  </tbody>\n",
       "</table>\n",
       "</div>\n"
      ],
      "text/plain": [
       "                        customer_id                customer_unique_id  \\\n",
       "                           <object>                          <object>   \n",
       "0  06b8999e2fba1a1fbc88172c00ba8bc7  861eff4711a542e4b93843c6dd7febb0   \n",
       "1  18955e83d337fd6b2def6b18a428ac77  290c77bc529b7ac935b93aa66c333dc3   \n",
       "2  4e7b3e00288586ebd08712fdd0374a03  060e732b5b29e8181a18229c7b0b2b5e   \n",
       "3  b2b6027bc5c5109e529d4dc6358b12c3  259dac757896d24d7702b9acbbff3f3c   \n",
       "4  4f2d8ab171c80ec8364f7c12e35b23ad  345ecd01c38d18a9036ed96c73b8d066   \n",
       "\n",
       "   customer_zip_code_prefix          customer_city customer_state  \\\n",
       "                    <int64>               <object>       <object>   \n",
       "0                     14409                 franca             SP   \n",
       "1                      9790  sao bernardo do campo             SP   \n",
       "2                      1151              sao paulo             SP   \n",
       "3                      8775        mogi das cruzes             SP   \n",
       "4                     13056               campinas             SP   \n",
       "\n",
       "         customer_state_city  \n",
       "                    <object>  \n",
       "0                 SP, franca  \n",
       "1  SP, sao bernardo do campo  \n",
       "2              SP, sao paulo  \n",
       "3        SP, mogi das cruzes  \n",
       "4               SP, campinas  "
      ]
     },
     "execution_count": 19,
     "metadata": {},
     "output_type": "execute_result"
    }
   ],
   "source": [
    "olist_customers = olist_customers.assign(\n",
    "    customer_state_city = olist_customers['customer_state'] + ', ' + olist_customers['customer_city']\n",
    ")\n",
    "olist_customers[0:5]"
   ]
  },
  {
   "cell_type": "code",
   "execution_count": 20,
   "id": "2c12b306",
   "metadata": {},
   "outputs": [
    {
     "name": "stdout",
     "output_type": "stream",
     "text": [
      "4310 ['SP, franca' 'SP, sao bernardo do campo' 'SP, sao paulo' ...\n",
      " 'RS, monte bonito' 'RN, sao rafael' 'RS, eugenio de castro']\n"
     ]
    }
   ],
   "source": [
    "print(\n",
    "    olist_customers['customer_state_city'].unique().size,\n",
    "    olist_customers['customer_state_city'].unique()\n",
    ")"
   ]
  },
  {
   "cell_type": "code",
   "execution_count": 21,
   "id": "d37c002e",
   "metadata": {},
   "outputs": [
    {
     "data": {
      "text/html": [
       "<div>\n",
       "<style scoped>\n",
       "    .dataframe tbody tr th:only-of-type {\n",
       "        vertical-align: middle;\n",
       "    }\n",
       "\n",
       "    .dataframe tbody tr th {\n",
       "        vertical-align: top;\n",
       "    }\n",
       "\n",
       "    .dataframe thead th {\n",
       "        text-align: right;\n",
       "    }\n",
       "</style>\n",
       "<table border=\"1\" class=\"dataframe\">\n",
       "  <thead>\n",
       "    <tr style=\"text-align: right;\">\n",
       "      <th></th>\n",
       "      <th>customer_state_city</th>\n",
       "    </tr>\n",
       "  </thead>\n",
       "  <tbody>\n",
       "    <tr>\n",
       "      <th style=\"font-style: italic;\" ></th>\n",
       "      <td style=\"font-style: italic;\" >&lt;object&gt;</td>\n",
       "    </tr>\n",
       "    <tr>\n",
       "      <th>0</th>\n",
       "      <td>SP, franca</td>\n",
       "    </tr>\n",
       "    <tr>\n",
       "      <th>1</th>\n",
       "      <td>SP, sao bernardo do campo</td>\n",
       "    </tr>\n",
       "    <tr>\n",
       "      <th>2</th>\n",
       "      <td>SP, sao paulo</td>\n",
       "    </tr>\n",
       "    <tr>\n",
       "      <th>3</th>\n",
       "      <td>SP, mogi das cruzes</td>\n",
       "    </tr>\n",
       "    <tr>\n",
       "      <th>...</th>\n",
       "      <td>...</td>\n",
       "    </tr>\n",
       "    <tr>\n",
       "      <th>4</th>\n",
       "      <td>SP, campinas</td>\n",
       "    </tr>\n",
       "    <tr>\n",
       "      <th>4305</th>\n",
       "      <td>PE, siriji</td>\n",
       "    </tr>\n",
       "    <tr>\n",
       "      <th>4306</th>\n",
       "      <td>SP, natividade da serra</td>\n",
       "    </tr>\n",
       "    <tr>\n",
       "      <th>4307</th>\n",
       "      <td>RS, monte bonito</td>\n",
       "    </tr>\n",
       "    <tr>\n",
       "      <th>4308</th>\n",
       "      <td>RN, sao rafael</td>\n",
       "    </tr>\n",
       "    <tr>\n",
       "      <th>4309</th>\n",
       "      <td>RS, eugenio de castro</td>\n",
       "    </tr>\n",
       "  </tbody>\n",
       "</table>\n",
       "<p>4310 rows × 1 columns</p>\n",
       "</div>\n"
      ],
      "text/plain": [
       "            customer_state_city\n",
       "                       <object>\n",
       "0                    SP, franca\n",
       "1     SP, sao bernardo do campo\n",
       "2                 SP, sao paulo\n",
       "3           SP, mogi das cruzes\n",
       "...                         ...\n",
       "4                  SP, campinas\n",
       "4305                 PE, siriji\n",
       "4306    SP, natividade da serra\n",
       "4307           RS, monte bonito\n",
       "4308             RN, sao rafael\n",
       "4309      RS, eugenio de castro\n",
       "\n",
       "[4310 rows x 1 columns]"
      ]
     },
     "execution_count": 21,
     "metadata": {},
     "output_type": "execute_result"
    }
   ],
   "source": [
    "customer_lat_lon = pd.DataFrame({\n",
    "    'customer_state_city' : olist_customers['customer_state_city'].unique()\n",
    "})\n",
    "customer_lat_lon"
   ]
  },
  {
   "attachments": {},
   "cell_type": "markdown",
   "id": "3c565993",
   "metadata": {},
   "source": [
    "### <font style=\"font-family:impact\">Adicionar Latitude e Longitude</font>"
   ]
  },
  {
   "cell_type": "code",
   "execution_count": 22,
   "id": "543b60b8",
   "metadata": {},
   "outputs": [
    {
     "data": {
      "text/plain": [
       "<geopy.geocoders.nominatim.Nominatim at 0x21f218aabe0>"
      ]
     },
     "execution_count": 22,
     "metadata": {},
     "output_type": "execute_result"
    }
   ],
   "source": [
    "app = Nominatim(user_agent=\"tutorial\")\n",
    "app"
   ]
  },
  {
   "cell_type": "code",
   "execution_count": 24,
   "id": "669457fc",
   "metadata": {},
   "outputs": [
    {
     "name": "stdout",
     "output_type": "stream",
     "text": [
      "-25.5861107 -49.4051209\n"
     ]
    }
   ],
   "source": [
    "location = app.geocode( customer_lat_lon['customer_state_city'][50] ).raw\n",
    "print(\n",
    "    location['lat'],\n",
    "    location['lon']\n",
    ")"
   ]
  },
  {
   "cell_type": "code",
   "execution_count": 25,
   "id": "d06f74a9",
   "metadata": {},
   "outputs": [],
   "source": [
    "customer_lat__ = np.array([])\n",
    "customer_lon__ = np.array([])\n",
    "\n",
    "for _UF_Cidade_ in range(0, 10, 1):\n",
    "    customer_lat__ = np.append(\n",
    "        customer_lat__,\n",
    "        float( app.geocode( customer_lat_lon['customer_state_city'][_UF_Cidade_] ).raw['lat'] )\n",
    "    )\n",
    "    customer_lon__ = np.append(\n",
    "        customer_lon__,\n",
    "        float( app.geocode( customer_lat_lon['customer_state_city'][_UF_Cidade_] ).raw['lon'] )\n",
    "    )\n",
    "\n",
    "\n",
    "customer_lat_lon = pd.DataFrame({\n",
    "    'customer_state_city' : customer_lat_lon['customer_state_city'][0:10],\n",
    "    'customer_lat'        : customer_lat__,\n",
    "    'customer_lon'        : customer_lon__\n",
    "})"
   ]
  },
  {
   "cell_type": "code",
   "execution_count": 26,
   "id": "d05de8d3",
   "metadata": {},
   "outputs": [
    {
     "data": {
      "text/html": [
       "<div>\n",
       "<style scoped>\n",
       "    .dataframe tbody tr th:only-of-type {\n",
       "        vertical-align: middle;\n",
       "    }\n",
       "\n",
       "    .dataframe tbody tr th {\n",
       "        vertical-align: top;\n",
       "    }\n",
       "\n",
       "    .dataframe thead th {\n",
       "        text-align: right;\n",
       "    }\n",
       "</style>\n",
       "<table border=\"1\" class=\"dataframe\">\n",
       "  <thead>\n",
       "    <tr style=\"text-align: right;\">\n",
       "      <th></th>\n",
       "      <th>customer_state_city</th>\n",
       "      <th>customer_lat</th>\n",
       "      <th>customer_lon</th>\n",
       "    </tr>\n",
       "  </thead>\n",
       "  <tbody>\n",
       "    <tr>\n",
       "      <th style=\"font-style: italic;\" ></th>\n",
       "      <td style=\"font-style: italic;\" >&lt;object&gt;</td>\n",
       "      <td style=\"font-style: italic;\" >&lt;float64&gt;</td>\n",
       "      <td style=\"font-style: italic;\" >&lt;float64&gt;</td>\n",
       "    </tr>\n",
       "    <tr>\n",
       "      <th>0</th>\n",
       "      <td>SP, franca</td>\n",
       "      <td>-20.538177</td>\n",
       "      <td>-47.400979</td>\n",
       "    </tr>\n",
       "    <tr>\n",
       "      <th>1</th>\n",
       "      <td>SP, sao bernardo do campo</td>\n",
       "      <td>-23.708035</td>\n",
       "      <td>-46.550675</td>\n",
       "    </tr>\n",
       "    <tr>\n",
       "      <th>2</th>\n",
       "      <td>SP, sao paulo</td>\n",
       "      <td>-23.550651</td>\n",
       "      <td>-46.633382</td>\n",
       "    </tr>\n",
       "    <tr>\n",
       "      <th>3</th>\n",
       "      <td>SP, mogi das cruzes</td>\n",
       "      <td>-23.523428</td>\n",
       "      <td>-46.192667</td>\n",
       "    </tr>\n",
       "    <tr>\n",
       "      <th>4</th>\n",
       "      <td>SP, campinas</td>\n",
       "      <td>-22.905560</td>\n",
       "      <td>-47.060830</td>\n",
       "    </tr>\n",
       "    <tr>\n",
       "      <th>5</th>\n",
       "      <td>SC, jaragua do sul</td>\n",
       "      <td>-26.489743</td>\n",
       "      <td>-49.077806</td>\n",
       "    </tr>\n",
       "    <tr>\n",
       "      <th>6</th>\n",
       "      <td>MG, timoteo</td>\n",
       "      <td>-19.577140</td>\n",
       "      <td>-42.643611</td>\n",
       "    </tr>\n",
       "    <tr>\n",
       "      <th>7</th>\n",
       "      <td>PR, curitiba</td>\n",
       "      <td>-25.429596</td>\n",
       "      <td>-49.271272</td>\n",
       "    </tr>\n",
       "    <tr>\n",
       "      <th>8</th>\n",
       "      <td>MG, belo horizonte</td>\n",
       "      <td>-19.922578</td>\n",
       "      <td>-43.945136</td>\n",
       "    </tr>\n",
       "    <tr>\n",
       "      <th>9</th>\n",
       "      <td>MG, montes claros</td>\n",
       "      <td>-16.727354</td>\n",
       "      <td>-43.871768</td>\n",
       "    </tr>\n",
       "  </tbody>\n",
       "</table>\n",
       "</div>\n"
      ],
      "text/plain": [
       "         customer_state_city  customer_lat  customer_lon\n",
       "                    <object>     <float64>     <float64>\n",
       "0                 SP, franca    -20.538177    -47.400979\n",
       "1  SP, sao bernardo do campo    -23.708035    -46.550675\n",
       "2              SP, sao paulo    -23.550651    -46.633382\n",
       "3        SP, mogi das cruzes    -23.523428    -46.192667\n",
       "4               SP, campinas    -22.905560    -47.060830\n",
       "5         SC, jaragua do sul    -26.489743    -49.077806\n",
       "6                MG, timoteo    -19.577140    -42.643611\n",
       "7               PR, curitiba    -25.429596    -49.271272\n",
       "8         MG, belo horizonte    -19.922578    -43.945136\n",
       "9          MG, montes claros    -16.727354    -43.871768"
      ]
     },
     "execution_count": 26,
     "metadata": {},
     "output_type": "execute_result"
    }
   ],
   "source": [
    "customer_lat_lon"
   ]
  },
  {
   "attachments": {},
   "cell_type": "markdown",
   "id": "e659d9f9",
   "metadata": {},
   "source": [
    "### <font style=\"font-family:impact\">Rascunho</font>"
   ]
  },
  {
   "cell_type": "code",
   "execution_count": 64,
   "id": "19f8fe09",
   "metadata": {},
   "outputs": [],
   "source": [
    "address = 'Shivaji Nagar, Bangalore, KA 560001'"
   ]
  },
  {
   "cell_type": "code",
   "execution_count": 163,
   "id": "11711d90",
   "metadata": {},
   "outputs": [
    {
     "data": {
      "text/plain": [
       "'-23.7080345'"
      ]
     },
     "execution_count": 163,
     "metadata": {},
     "output_type": "execute_result"
    }
   ],
   "source": [
    "requests.get(\n",
    "    'https://nominatim.openstreetmap.org/search/' \n",
    "    + urllib.parse.quote( f\"{Tabela_Endereco['Cidade'][0]}{', '}{Tabela_Endereco['UF'][0]}\" ) \n",
    "    + '?format=json'\n",
    ").json()[0][\"lat\"]"
   ]
  },
  {
   "cell_type": "code",
   "execution_count": 37,
   "id": "ca94402c",
   "metadata": {},
   "outputs": [
    {
     "name": "stdout",
     "output_type": "stream",
     "text": [
      "-23.7080345\n",
      "-46.5506747\n"
     ]
    }
   ],
   "source": [
    "url = 'https://nominatim.openstreetmap.org/search/' + urllib.parse.quote(address) +'?format=json'\n",
    "\n",
    "response = requests.get(url).json()\n",
    "print(response[0][\"lat\"])\n",
    "print(response[0][\"lon\"])"
   ]
  },
  {
   "cell_type": "code",
   "execution_count": 6,
   "id": "c09d7468",
   "metadata": {},
   "outputs": [],
   "source": [
    "app = Nominatim(user_agent=\"tutorial\")"
   ]
  },
  {
   "cell_type": "code",
   "execution_count": 9,
   "id": "ee8272cb",
   "metadata": {},
   "outputs": [],
   "source": [
    "location = app.geocode(f\"{olist_customers['customer_state'][0]}{', '}{olist_customers['customer_city'][0]}\").raw"
   ]
  },
  {
   "cell_type": "code",
   "execution_count": 10,
   "id": "3426976e",
   "metadata": {},
   "outputs": [
    {
     "data": {
      "text/plain": [
       "{'place_id': 348562037,\n",
       " 'licence': 'Data © OpenStreetMap contributors, ODbL 1.0. https://osm.org/copyright',\n",
       " 'osm_type': 'relation',\n",
       " 'osm_id': 298530,\n",
       " 'boundingbox': ['-20.7735077', '-20.4158594', '-47.5525278', '-47.145582'],\n",
       " 'lat': '-20.5381768',\n",
       " 'lon': '-47.4009795',\n",
       " 'display_name': 'Franca, Região Imediata de Franca, Região Geográfica Intermediária de Ribeirão Preto, São Paulo, Região Sudeste, Brasil',\n",
       " 'class': 'boundary',\n",
       " 'type': 'administrative',\n",
       " 'importance': 0.6292545964617828,\n",
       " 'icon': 'https://nominatim.openstreetmap.org/ui/mapicons/poi_boundary_administrative.p.20.png'}"
      ]
     },
     "execution_count": 10,
     "metadata": {},
     "output_type": "execute_result"
    }
   ],
   "source": [
    "location"
   ]
  },
  {
   "cell_type": "code",
   "execution_count": 11,
   "id": "5cb6c3db",
   "metadata": {},
   "outputs": [
    {
     "name": "stdout",
     "output_type": "stream",
     "text": [
      "-20.5381768 -47.4009795\n"
     ]
    }
   ],
   "source": [
    "print(\n",
    "location['lat'],\n",
    "location['lon']\n",
    ")"
   ]
  },
  {
   "attachments": {},
   "cell_type": "markdown",
   "id": "df6f5fb4",
   "metadata": {},
   "source": [
    "## <h1 style=\"font-family:impact; background-color:#3C2A21; color:#D5CEA3; text-align:center\">Teste de Velocidade</h1>"
   ]
  },
  {
   "cell_type": "code",
   "execution_count": 32,
   "id": "e3a9ddd3",
   "metadata": {},
   "outputs": [
    {
     "data": {
      "text/plain": [
       "0"
      ]
     },
     "execution_count": 32,
     "metadata": {},
     "output_type": "execute_result"
    }
   ],
   "source": [
    "lat1 = np.array([])\n",
    "lat2 = np.array([])\n",
    "lon1 = np.array([])\n",
    "lon2 = np.array([])\n",
    "\n",
    "for x in range(0, 200_000, 1):\n",
    "    lat1 = np.append( lat1, (random.random() * 120) - 60 )\n",
    "    lat2 = np.append( lat2, (random.random() * 120) - 60 )\n",
    "    lon1 = np.append( lon1, (random.random() * 240) -120 )\n",
    "    lon2 = np.append( lon2, (random.random() * 240) -120 )\n",
    "# end\n",
    "\n",
    "teste = pd.DataFrame({\n",
    "    'lat_1' : lat1,\n",
    "    'lat_2' : lat2,\n",
    "    'lon_1' : lon1,\n",
    "    'lon_2' : lon2,\n",
    "    'distancia' : 2 * 6378.1 * np.arcsin( \n",
    "        np.sqrt( np.abs(\n",
    "            sin( ( np.radians(lat1) - np.radians(lat2) ) / 2 )**2 +\n",
    "            cos( np.radians(lon1) ) * cos( np.radians(lon2) ) *\n",
    "            sin( ( np.radians(lon1) - np.radians(lon2) ) / 2 )**2\n",
    "        ) )\n",
    "    )\n",
    "})\n",
    "teste\n",
    "gc.collect()"
   ]
  },
  {
   "cell_type": "code",
   "execution_count": null,
   "id": "36ceebbb",
   "metadata": {},
   "outputs": [],
   "source": [
    "t100000 = [19.6, 15.8]\n",
    "\n",
    "t200000 = [4m 38.7]"
   ]
  },
  {
   "attachments": {},
   "cell_type": "markdown",
   "id": "732e0a91",
   "metadata": {},
   "source": [
    "## <h1 style=\"font-family:impact; background-color:#3C2A21; color:#D5CEA3; text-align:center\">Matemática Financeira</h1>"
   ]
  },
  {
   "cell_type": "code",
   "execution_count": 61,
   "id": "0a7d5012",
   "metadata": {},
   "outputs": [],
   "source": [
    "import pandas as pd\n",
    "import numpy as np\n",
    "import datetime as dtt\n",
    "from datar import f\n",
    "from datar.all import *"
   ]
  },
  {
   "attachments": {},
   "cell_type": "markdown",
   "id": "c96711a5",
   "metadata": {},
   "source": [
    "<font size = 6 style=\"font-family:impact\">Fómulas Financeiras</font><br><br>\n",
    "<font size = 4 style=\"color:#D5CEA3\">$\\ \\ \\ \\ FV = PV \\times (1 + i)^n$</font><br><br>\n",
    "<font size = 4 style=\"color:#D5CEA3\">$\\ \\ \\ \\ PV = \\frac{FV}{(1 + i)^n}$</font><br><br>\n",
    "<font size = 4 style=\"color:#D5CEA3\">$\\ \\ \\ \\ Juros = PV \\times (1 + i)^n -PV$</font><br><br>\n",
    "<font size = 4 style=\"color:#D5CEA3\">$\\ \\ \\ \\ i\\ =\\ (\\frac{FV}{PV})^{\\frac{1}{n}} -1$</font><br><br>\n",
    "<font size = 4 style=\"color:#D5CEA3\">$\\ \\ \\ \\ n\\ =\\ \\frac{log_{(1+i)}}{log_{\\frac{FV}{PV}}}$</font><br><br>\n",
    "<font size = 4 style=\"color:#D5CEA3\">$\\ \\ \\ \\ PMT\\ =\\ PV\\ \\times\\ \\frac{i}{1 - (1 + i)^{-n}}$</font><br><br>\n",
    "<a href=\"https://pt.wikipedia.org/wiki/Tabela_Price\"><font style=\"font-family:consolas; color:pink\">Wikipedia: Tabela PRICE</font></a><br>\n",
    "<a href=\"https://pt.wikipedia.org/wiki/Sistema_de_amortiza%C3%A7%C3%A3o_constante\"><font style=\"font-family:consolas; color:pink\">Wikipedia: Tabela SAC</font></a>"
   ]
  },
  {
   "cell_type": "code",
   "execution_count": 62,
   "id": "c900136d",
   "metadata": {},
   "outputs": [
    {
     "data": {
      "text/html": [
       "<div>\n",
       "<style scoped>\n",
       "    .dataframe tbody tr th:only-of-type {\n",
       "        vertical-align: middle;\n",
       "    }\n",
       "\n",
       "    .dataframe tbody tr th {\n",
       "        vertical-align: top;\n",
       "    }\n",
       "\n",
       "    .dataframe thead th {\n",
       "        text-align: right;\n",
       "    }\n",
       "</style>\n",
       "<table border=\"1\" class=\"dataframe\">\n",
       "  <thead>\n",
       "    <tr style=\"text-align: right;\">\n",
       "      <th></th>\n",
       "      <th>Contrato</th>\n",
       "      <th>Principal</th>\n",
       "      <th>Taxa_am</th>\n",
       "      <th>Parcelas</th>\n",
       "      <th>Modelo</th>\n",
       "      <th>Data_Emissao</th>\n",
       "    </tr>\n",
       "  </thead>\n",
       "  <tbody>\n",
       "    <tr>\n",
       "      <th style=\"font-style: italic;\" ></th>\n",
       "      <td style=\"font-style: italic;\" >&lt;int64&gt;</td>\n",
       "      <td style=\"font-style: italic;\" >&lt;int64&gt;</td>\n",
       "      <td style=\"font-style: italic;\" >&lt;float64&gt;</td>\n",
       "      <td style=\"font-style: italic;\" >&lt;int64&gt;</td>\n",
       "      <td style=\"font-style: italic;\" >&lt;object&gt;</td>\n",
       "      <td style=\"font-style: italic;\" >&lt;datetime64[ns]&gt;</td>\n",
       "    </tr>\n",
       "    <tr>\n",
       "      <th>2</th>\n",
       "      <td>3</td>\n",
       "      <td>110000</td>\n",
       "      <td>0.017606</td>\n",
       "      <td>24</td>\n",
       "      <td>PRICE</td>\n",
       "      <td>2020-02-12</td>\n",
       "    </tr>\n",
       "    <tr>\n",
       "      <th>5</th>\n",
       "      <td>6</td>\n",
       "      <td>1340000</td>\n",
       "      <td>0.012373</td>\n",
       "      <td>42</td>\n",
       "      <td>PRICE</td>\n",
       "      <td>2020-02-27</td>\n",
       "    </tr>\n",
       "    <tr>\n",
       "      <th>6</th>\n",
       "      <td>7</td>\n",
       "      <td>580000</td>\n",
       "      <td>0.014282</td>\n",
       "      <td>42</td>\n",
       "      <td>PRICE</td>\n",
       "      <td>2020-02-27</td>\n",
       "    </tr>\n",
       "    <tr>\n",
       "      <th>7</th>\n",
       "      <td>8</td>\n",
       "      <td>1690000</td>\n",
       "      <td>0.014350</td>\n",
       "      <td>18</td>\n",
       "      <td>PRICE</td>\n",
       "      <td>2020-03-10</td>\n",
       "    </tr>\n",
       "    <tr>\n",
       "      <th>8</th>\n",
       "      <td>9</td>\n",
       "      <td>80000</td>\n",
       "      <td>0.016253</td>\n",
       "      <td>36</td>\n",
       "      <td>PRICE</td>\n",
       "      <td>2020-03-16</td>\n",
       "    </tr>\n",
       "  </tbody>\n",
       "</table>\n",
       "</div>\n"
      ],
      "text/plain": [
       "   Contrato  Principal   Taxa_am  Parcelas   Modelo     Data_Emissao\n",
       "    <int64>    <int64> <float64>   <int64> <object> <datetime64[ns]>\n",
       "2         3     110000  0.017606        24    PRICE       2020-02-12\n",
       "5         6    1340000  0.012373        42    PRICE       2020-02-27\n",
       "6         7     580000  0.014282        42    PRICE       2020-02-27\n",
       "7         8    1690000  0.014350        18    PRICE       2020-03-10\n",
       "8         9      80000  0.016253        36    PRICE       2020-03-16"
      ]
     },
     "execution_count": 62,
     "metadata": {},
     "output_type": "execute_result"
    }
   ],
   "source": [
    "Cadastro = pd.read_excel(\n",
    "    \"C:/Users/danil/OneDrive/Danilo_Back-up/Projetos_Pessoais/Canal_Youtube/Excel/Matematica_Financeira.xlsx\", \n",
    "    sheet_name = \"Cadastro\"\n",
    ")\n",
    "Cadastro[Cadastro['Modelo'] == \"PRICE\"][0:5]"
   ]
  },
  {
   "attachments": {},
   "cell_type": "markdown",
   "id": "f4693af4",
   "metadata": {},
   "source": [
    "##### <p style=\"font-family:impact; background-color:#3C2A21\"><font size=6>Modelo PRICE</font></p>\n",
    "\n",
    "<font size=5 style = \"font-family: impact; color: lightblue\">Estratégia</font>\n",
    "<p style = \"font-family: consolas\">\n",
    "1. Gerar valores iniciais de cada variável (primeira parcela)<br>\n",
    "2. Gerar valores a partir da segunda parcela até a última<br>\n",
    "3. Armazenar vetor das parcelas dois até a última junto com a primeira<br>\n",
    "4. Armazenar vetores de cada contrato<br>\n",
    "5. Gerar Tabela (DataFrame) com vetores de cada variável armazenados\n",
    "</p>"
   ]
  },
  {
   "cell_type": "code",
   "execution_count": 4,
   "id": "6633412e",
   "metadata": {},
   "outputs": [],
   "source": [
    "Cadastro_PRICE = Cadastro[ Cadastro['Modelo'] == \"PRICE\" ]\n",
    "\n",
    "# vetores que serão abastecidos com cada contrato \n",
    "# o valor adicionado serve para que os vetores tenham o tipo de dados correto\n",
    "Contrato__  = [0]\n",
    "Parcela__   = [0]\n",
    "Data_Venc__ = [ Cadastro_PRICE['Data_Emissao'][0] ]\n",
    "PMT__       = [0.0]\n",
    "Juros__     = [0.0]\n",
    "Amort__     = [0.0]\n",
    "PV_atual__  = [0.0]\n",
    "\n",
    "\n",
    "for _contrato_ in range(0, length(Cadastro_PRICE['Contrato']), 1):\n",
    "\n",
    "    # valores gerados entre \"[]\" são os vetores que serão abastecidos adiante\n",
    "    # 1. Gerar valores iniciais de cada variável (primeira parcela)\n",
    "    Data_Emi =  Cadastro_PRICE['Data_Emissao'].iloc[_contrato_]\n",
    "    Contrato = [Cadastro_PRICE['Contrato'    ].iloc[_contrato_]]\n",
    "    PV       = [Cadastro_PRICE['Principal'   ].iloc[_contrato_]]\n",
    "    n        =  Cadastro_PRICE['Parcelas'    ].iloc[_contrato_]\n",
    "    i_am     =  Cadastro_PRICE['Taxa_am'     ].iloc[_contrato_]\n",
    "    \n",
    "    Data_Venc = [\n",
    "        if_else(\n",
    "            pd.Timestamp.weekday(Data_Emi + pd.DateOffset(months = 1)) == 5,\n",
    "            Data_Emi + pd.DateOffset(months = 1) + pd.DateOffset(days = 2),\n",
    "            if_else(\n",
    "                pd.Timestamp.weekday(Data_Emi + pd.DateOffset(months = 1)) == 6,\n",
    "                Data_Emi + pd.DateOffset(months = 1) + pd.DateOffset(days = 1),\n",
    "                Data_Emi + pd.DateOffset(months = 1)\n",
    "            )\n",
    "        )[0]\n",
    "    ]\n",
    "    \n",
    "    i_ad = ((1 + i_am) / 1)**(1 / (365.25/12)) -1 # fórmula da taxa (i)\n",
    "    PMT  = round([\n",
    "        PV[0] * i_am / (1 - (1 + i_am)**(-n)) # fórmula do PMT\n",
    "    ], 2)\n",
    "    Juros = [ # fórmula do Juros\n",
    "        + PV[0]\n",
    "        * (1 + i_ad)**((Data_Venc[0] - Data_Emi).days)\n",
    "        - PV[0]\n",
    "    ]\n",
    "    Amort     = [PMT[0] - Juros[0]]\n",
    "    PV_atual  = [PV[0], PV[0] - Amort[0]]\n",
    "    PV_atual2 = [PV[0] - Amort[0]]\n",
    "    Parcela   = [1]\n",
    "    \n",
    "    # 2. Gerar valores a partir da segunda parcela até a última\n",
    "    # 3. Armazenar vetor das parcelas dois até a última junto com a primeira\n",
    "    for _parcela_ in range(1, n, 1):\n",
    "        Contrato  = append(Contrato, Contrato[_parcela_ -1])\n",
    "        Parcela   = append(Parcela, _parcela_ +1)\n",
    "        Data_Venc = append(\n",
    "            Data_Venc, \n",
    "            if_else(\n",
    "                pd.Timestamp.weekday( Data_Emi + pd.DateOffset(months = _parcela_ +1)) == 5,\n",
    "                Data_Emi + pd.DateOffset(months = _parcela_ +1) + pd.DateOffset(days = 2),\n",
    "                if_else(\n",
    "                    pd.Timestamp.weekday( Data_Emi + pd.DateOffset(months = _parcela_ +1)) == 6,\n",
    "                    Data_Emi + pd.DateOffset(months = _parcela_ +1) + pd.DateOffset(days = 1),\n",
    "                    Data_Emi + pd.DateOffset(months = _parcela_ +1)\n",
    "                )\n",
    "            )[0]\n",
    "        )\n",
    "        PMT   = append(PMT, PMT[_parcela_ -1])\n",
    "        Juros = append(\n",
    "            Juros, \n",
    "            + PV_atual[_parcela_]\n",
    "            * (1 + i_ad)**((Data_Venc[_parcela_] - Data_Venc[_parcela_ -1]).days)\n",
    "            - PV_atual[_parcela_]\n",
    "        )\n",
    "        Amort     = append(Amort,     PMT[_parcela_]      - Juros[_parcela_])\n",
    "        PV_atual  = append(PV_atual,  PV_atual[_parcela_] - Amort[_parcela_])\n",
    "        PV_atual2 = append(PV_atual2, PV_atual[_parcela_] - Amort[_parcela_])\n",
    "    # end\n",
    "    \n",
    "    # 4. Armazenar vetores de cada contrato\n",
    "    Contrato__  = append(Contrato__,  Contrato)\n",
    "    Parcela__   = append(Parcela__,   Parcela)\n",
    "    Data_Venc__ = append(Data_Venc__, Data_Venc)\n",
    "    PMT__       = append(PMT__,       PMT)\n",
    "    Juros__     = append(Juros__,     Juros)\n",
    "    Amort__     = append(Amort__,     Amort)\n",
    "    PV_atual__  = append(PV_atual__,  PV_atual2)\n",
    "# end \n",
    "\n",
    "\n",
    "# 5. Gerar Tabela (DataFrame) com vetores de cada variável armazenados\n",
    "Tabela_PRICE = pd.DataFrame({\n",
    "    'Contrato' : Contrato__[1:],\n",
    "    'Parcela'  : Parcela__[1:],\n",
    "    'Data_Venc': Data_Venc__[1:],\n",
    "    'PMT'      : PMT__[1:],\n",
    "    'Juros'    : Juros__[1:].round(2),\n",
    "    'Amort'    : Amort__[1:].round(2),\n",
    "    'PV_atual' : PV_atual__[1:].round(2)\n",
    "})"
   ]
  },
  {
   "cell_type": "code",
   "execution_count": null,
   "id": "fed7c868",
   "metadata": {},
   "outputs": [],
   "source": [
    "Tabela_PRICE[ Tabela_PRICE['Contrato'] == 3 ]"
   ]
  },
  {
   "cell_type": "code",
   "execution_count": 27,
   "id": "ca2b6ed6",
   "metadata": {},
   "outputs": [
    {
     "data": {
      "text/plain": [
       "134"
      ]
     },
     "execution_count": 27,
     "metadata": {},
     "output_type": "execute_result"
    }
   ],
   "source": [
    "length( unique( Tabela_PRICE['Contrato'] ) )"
   ]
  },
  {
   "attachments": {},
   "cell_type": "markdown",
   "id": "184e9f07",
   "metadata": {},
   "source": [
    "##### <p style=\"font-family:impact; background-color:#3C2A21\"><font size=6>Modelo SAC</font></p>\n",
    "\n",
    "<font size=5 style = \"font-family: impact; color:lightblue\">Estratégia</font>\n",
    "<p style = \"font-family: consolas\">\n",
    "1. Gerar tabela de cada contrato<br>\n",
    "2. Armazenar cada tabela gerada\n",
    "</p>"
   ]
  },
  {
   "cell_type": "code",
   "execution_count": 63,
   "id": "7f1f5a0e",
   "metadata": {},
   "outputs": [],
   "source": [
    "Tabela_SAC = pd.DataFrame([])\n",
    "Cadastro_SAC = Cadastro[ Cadastro['Modelo'] == \"SAC\" ]\n",
    "\n",
    "\n",
    "for _contrato_ in range(0, length(Cadastro_SAC['Contrato']), 1):\n",
    "    \n",
    "    i_ad = ((1 + Cadastro_SAC['Taxa_am'].iloc[_contrato_]) / 1)**(1 / (365.25/12)) -1\n",
    "    \n",
    "    # 1. Gerar tabela de cada contrato com o número das parcelas e as datas de vencimento\n",
    "    Tabela_SAC__ = pd.DataFrame({\n",
    "        'Contrato' : Cadastro_SAC['Contrato'].iloc[_contrato_],\n",
    "        'Parcela'  : list( range(1, Cadastro_SAC['Parcelas'].iloc[_contrato_] +1, 1) ),\n",
    "        \n",
    "        'Data_Venc_ant' : pd.date_range(\n",
    "            start   = Cadastro_SAC['Data_Emissao'].iloc[_contrato_] - pd.DateOffset(month = 1), \n",
    "            periods = Cadastro_SAC['Parcelas'    ].iloc[_contrato_],\n",
    "            freq    = 'M'\n",
    "        ) + pd.DateOffset(days = Cadastro_SAC['Data_Emissao'].iloc[_contrato_].day),\n",
    "        \n",
    "        'Data_Venc' : pd.date_range(\n",
    "            start   = Cadastro_SAC['Data_Emissao'].iloc[_contrato_], \n",
    "            periods = Cadastro_SAC['Parcelas'    ].iloc[_contrato_],\n",
    "            freq    = 'M'\n",
    "        ) + pd.DateOffset(days = Cadastro_SAC['Data_Emissao'].iloc[_contrato_].day),\n",
    "        \n",
    "        'Amort' : Cadastro_SAC['Principal'].iloc[_contrato_] / Cadastro_SAC['Parcelas'].iloc[_contrato_]\n",
    "    })\n",
    "    \n",
    "    Tabela_SAC__ = Tabela_SAC__.assign(\n",
    "        Data_Venc_ant = \n",
    "            np.where( \n",
    "                Tabela_SAC__['Data_Venc_ant'].dt.dayofweek == 5, \n",
    "                Tabela_SAC__['Data_Venc_ant'] + pd.DateOffset(days = 2),\n",
    "                np.where( \n",
    "                    Tabela_SAC__['Data_Venc_ant'].dt.dayofweek == 6,\n",
    "                    Tabela_SAC__['Data_Venc_ant'] + pd.DateOffset(days = 1),\n",
    "                    Tabela_SAC__['Data_Venc_ant']\n",
    "                )\n",
    "            ),\n",
    "        Data_Venc = \n",
    "            np.where( \n",
    "                Tabela_SAC__['Data_Venc'].dt.dayofweek == 5, \n",
    "                Tabela_SAC__['Data_Venc'] + pd.DateOffset(days = 2),\n",
    "                np.where( \n",
    "                    Tabela_SAC__['Data_Venc'].dt.dayofweek == 6,\n",
    "                    Tabela_SAC__['Data_Venc'] + pd.DateOffset(days = 1),\n",
    "                    Tabela_SAC__['Data_Venc']\n",
    "                )\n",
    "            ),\n",
    "        Juros = -(\n",
    "            - Cadastro_SAC['Principal'].iloc[_contrato_]\n",
    "            + Cadastro_SAC['Principal'].iloc[_contrato_] / Cadastro_SAC['Parcelas'].iloc[_contrato_] * (Tabela_SAC__['Parcela'] -1)\n",
    "        )\n",
    "            * (1 + i_ad)**(( Tabela_SAC__['Data_Venc'] - Tabela_SAC__['Data_Venc_ant'] ).dt.days)\n",
    "            \n",
    "            - Cadastro_SAC['Principal'].iloc[_contrato_]\n",
    "            + Cadastro_SAC['Principal'].iloc[_contrato_] / Cadastro_SAC['Parcelas'].iloc[_contrato_] * (Tabela_SAC__['Parcela'] -1)\n",
    "    )\n",
    "    \n",
    "    Tabela_SAC__ = Tabela_SAC__.assign(\n",
    "        PMT      = round( Tabela_SAC__['Amort'] + Tabela_SAC__['Juros'], 2 ),\n",
    "        PV_atual = round( Cadastro_SAC['Principal'].iloc[_contrato_] - Tabela_SAC__['Amort'] * Tabela_SAC__['Parcela'], 2),\n",
    "        \n",
    "        Amort    = Tabela_SAC__['Amort'].round(2),\n",
    "        Juros    = Tabela_SAC__['Juros'].round(2)\n",
    "    )\n",
    "    \n",
    "    # 2. Armazenar cada tabela gerada\n",
    "    Tabela_SAC = pd.concat([ \n",
    "        Tabela_SAC, \n",
    "        Tabela_SAC__[ ['Contrato', 'Parcela', 'Data_Venc', 'PMT', 'Juros', 'Amort', 'PV_atual'] ] \n",
    "    ])"
   ]
  },
  {
   "cell_type": "code",
   "execution_count": 64,
   "id": "3affe500",
   "metadata": {},
   "outputs": [
    {
     "data": {
      "text/html": [
       "<div>\n",
       "<style scoped>\n",
       "    .dataframe tbody tr th:only-of-type {\n",
       "        vertical-align: middle;\n",
       "    }\n",
       "\n",
       "    .dataframe tbody tr th {\n",
       "        vertical-align: top;\n",
       "    }\n",
       "\n",
       "    .dataframe thead th {\n",
       "        text-align: right;\n",
       "    }\n",
       "</style>\n",
       "<table border=\"1\" class=\"dataframe\">\n",
       "  <thead>\n",
       "    <tr style=\"text-align: right;\">\n",
       "      <th></th>\n",
       "      <th>Contrato</th>\n",
       "      <th>Parcela</th>\n",
       "      <th>Data_Venc</th>\n",
       "      <th>PMT</th>\n",
       "      <th>Juros</th>\n",
       "      <th>Amort</th>\n",
       "      <th>PV_atual</th>\n",
       "    </tr>\n",
       "  </thead>\n",
       "  <tbody>\n",
       "    <tr>\n",
       "      <th style=\"font-style: italic;\" ></th>\n",
       "      <td style=\"font-style: italic;\" >&lt;int64&gt;</td>\n",
       "      <td style=\"font-style: italic;\" >&lt;int64&gt;</td>\n",
       "      <td style=\"font-style: italic;\" >&lt;datetime64[ns]&gt;</td>\n",
       "      <td style=\"font-style: italic;\" >&lt;float64&gt;</td>\n",
       "      <td style=\"font-style: italic;\" >&lt;float64&gt;</td>\n",
       "      <td style=\"font-style: italic;\" >&lt;float64&gt;</td>\n",
       "      <td style=\"font-style: italic;\" >&lt;float64&gt;</td>\n",
       "    </tr>\n",
       "    <tr>\n",
       "      <th>0</th>\n",
       "      <td>2</td>\n",
       "      <td>1</td>\n",
       "      <td>2020-03-11</td>\n",
       "      <td>37843.32</td>\n",
       "      <td>13468.32</td>\n",
       "      <td>24375.0</td>\n",
       "      <td>1145625.0</td>\n",
       "    </tr>\n",
       "    <tr>\n",
       "      <th>1</th>\n",
       "      <td>2</td>\n",
       "      <td>2</td>\n",
       "      <td>2020-04-13</td>\n",
       "      <td>38477.81</td>\n",
       "      <td>14102.81</td>\n",
       "      <td>24375.0</td>\n",
       "      <td>1121250.0</td>\n",
       "    </tr>\n",
       "    <tr>\n",
       "      <th>2</th>\n",
       "      <td>2</td>\n",
       "      <td>3</td>\n",
       "      <td>2020-05-11</td>\n",
       "      <td>37729.85</td>\n",
       "      <td>13354.85</td>\n",
       "      <td>24375.0</td>\n",
       "      <td>1096875.0</td>\n",
       "    </tr>\n",
       "    <tr>\n",
       "      <th>3</th>\n",
       "      <td>2</td>\n",
       "      <td>4</td>\n",
       "      <td>2020-06-11</td>\n",
       "      <td>37877.69</td>\n",
       "      <td>13502.69</td>\n",
       "      <td>24375.0</td>\n",
       "      <td>1072500.0</td>\n",
       "    </tr>\n",
       "    <tr>\n",
       "      <th>4</th>\n",
       "      <td>2</td>\n",
       "      <td>5</td>\n",
       "      <td>2020-07-13</td>\n",
       "      <td>37149.21</td>\n",
       "      <td>12774.21</td>\n",
       "      <td>24375.0</td>\n",
       "      <td>1048125.0</td>\n",
       "    </tr>\n",
       "    <tr>\n",
       "      <th>5</th>\n",
       "      <td>2</td>\n",
       "      <td>6</td>\n",
       "      <td>2020-08-11</td>\n",
       "      <td>37277.57</td>\n",
       "      <td>12902.57</td>\n",
       "      <td>24375.0</td>\n",
       "      <td>1023750.0</td>\n",
       "    </tr>\n",
       "    <tr>\n",
       "      <th>6</th>\n",
       "      <td>2</td>\n",
       "      <td>7</td>\n",
       "      <td>2020-09-11</td>\n",
       "      <td>36977.51</td>\n",
       "      <td>12602.51</td>\n",
       "      <td>24375.0</td>\n",
       "      <td>999375.0</td>\n",
       "    </tr>\n",
       "    <tr>\n",
       "      <th>7</th>\n",
       "      <td>2</td>\n",
       "      <td>8</td>\n",
       "      <td>2020-10-12</td>\n",
       "      <td>36278.24</td>\n",
       "      <td>11903.24</td>\n",
       "      <td>24375.0</td>\n",
       "      <td>975000.0</td>\n",
       "    </tr>\n",
       "    <tr>\n",
       "      <th>8</th>\n",
       "      <td>2</td>\n",
       "      <td>9</td>\n",
       "      <td>2020-11-11</td>\n",
       "      <td>36377.39</td>\n",
       "      <td>12002.39</td>\n",
       "      <td>24375.0</td>\n",
       "      <td>950625.0</td>\n",
       "    </tr>\n",
       "    <tr>\n",
       "      <th>9</th>\n",
       "      <td>2</td>\n",
       "      <td>10</td>\n",
       "      <td>2020-12-11</td>\n",
       "      <td>35697.59</td>\n",
       "      <td>11322.59</td>\n",
       "      <td>24375.0</td>\n",
       "      <td>926250.0</td>\n",
       "    </tr>\n",
       "    <tr>\n",
       "      <th>10</th>\n",
       "      <td>2</td>\n",
       "      <td>11</td>\n",
       "      <td>2021-01-11</td>\n",
       "      <td>35777.27</td>\n",
       "      <td>11402.27</td>\n",
       "      <td>24375.0</td>\n",
       "      <td>901875.0</td>\n",
       "    </tr>\n",
       "    <tr>\n",
       "      <th>11</th>\n",
       "      <td>2</td>\n",
       "      <td>12</td>\n",
       "      <td>2021-02-11</td>\n",
       "      <td>35477.21</td>\n",
       "      <td>11102.21</td>\n",
       "      <td>24375.0</td>\n",
       "      <td>877500.0</td>\n",
       "    </tr>\n",
       "    <tr>\n",
       "      <th>12</th>\n",
       "      <td>2</td>\n",
       "      <td>13</td>\n",
       "      <td>2021-03-11</td>\n",
       "      <td>34125.99</td>\n",
       "      <td>9750.99</td>\n",
       "      <td>24375.0</td>\n",
       "      <td>853125.0</td>\n",
       "    </tr>\n",
       "    <tr>\n",
       "      <th>13</th>\n",
       "      <td>2</td>\n",
       "      <td>14</td>\n",
       "      <td>2021-04-12</td>\n",
       "      <td>34877.09</td>\n",
       "      <td>10502.09</td>\n",
       "      <td>24375.0</td>\n",
       "      <td>828750.0</td>\n",
       "    </tr>\n",
       "    <tr>\n",
       "      <th>14</th>\n",
       "      <td>2</td>\n",
       "      <td>15</td>\n",
       "      <td>2021-05-11</td>\n",
       "      <td>34245.98</td>\n",
       "      <td>9870.98</td>\n",
       "      <td>24375.0</td>\n",
       "      <td>804375.0</td>\n",
       "    </tr>\n",
       "    <tr>\n",
       "      <th>15</th>\n",
       "      <td>2</td>\n",
       "      <td>16</td>\n",
       "      <td>2021-06-11</td>\n",
       "      <td>34276.97</td>\n",
       "      <td>9901.97</td>\n",
       "      <td>24375.0</td>\n",
       "      <td>780000.0</td>\n",
       "    </tr>\n",
       "    <tr>\n",
       "      <th>16</th>\n",
       "      <td>2</td>\n",
       "      <td>17</td>\n",
       "      <td>2021-07-12</td>\n",
       "      <td>33665.33</td>\n",
       "      <td>9290.33</td>\n",
       "      <td>24375.0</td>\n",
       "      <td>755625.0</td>\n",
       "    </tr>\n",
       "    <tr>\n",
       "      <th>17</th>\n",
       "      <td>2</td>\n",
       "      <td>18</td>\n",
       "      <td>2021-08-11</td>\n",
       "      <td>33676.85</td>\n",
       "      <td>9301.85</td>\n",
       "      <td>24375.0</td>\n",
       "      <td>731250.0</td>\n",
       "    </tr>\n",
       "    <tr>\n",
       "      <th>18</th>\n",
       "      <td>2</td>\n",
       "      <td>19</td>\n",
       "      <td>2021-09-13</td>\n",
       "      <td>33376.79</td>\n",
       "      <td>9001.79</td>\n",
       "      <td>24375.0</td>\n",
       "      <td>706875.0</td>\n",
       "    </tr>\n",
       "    <tr>\n",
       "      <th>19</th>\n",
       "      <td>2</td>\n",
       "      <td>20</td>\n",
       "      <td>2021-10-11</td>\n",
       "      <td>32794.36</td>\n",
       "      <td>8419.36</td>\n",
       "      <td>24375.0</td>\n",
       "      <td>682500.0</td>\n",
       "    </tr>\n",
       "    <tr>\n",
       "      <th>20</th>\n",
       "      <td>2</td>\n",
       "      <td>21</td>\n",
       "      <td>2021-11-11</td>\n",
       "      <td>32776.67</td>\n",
       "      <td>8401.67</td>\n",
       "      <td>24375.0</td>\n",
       "      <td>658125.0</td>\n",
       "    </tr>\n",
       "    <tr>\n",
       "      <th>21</th>\n",
       "      <td>2</td>\n",
       "      <td>22</td>\n",
       "      <td>2021-12-13</td>\n",
       "      <td>32213.72</td>\n",
       "      <td>7838.72</td>\n",
       "      <td>24375.0</td>\n",
       "      <td>633750.0</td>\n",
       "    </tr>\n",
       "    <tr>\n",
       "      <th>22</th>\n",
       "      <td>2</td>\n",
       "      <td>23</td>\n",
       "      <td>2022-01-11</td>\n",
       "      <td>32176.55</td>\n",
       "      <td>7801.55</td>\n",
       "      <td>24375.0</td>\n",
       "      <td>609375.0</td>\n",
       "    </tr>\n",
       "    <tr>\n",
       "      <th>23</th>\n",
       "      <td>2</td>\n",
       "      <td>24</td>\n",
       "      <td>2022-02-11</td>\n",
       "      <td>31876.49</td>\n",
       "      <td>7501.49</td>\n",
       "      <td>24375.0</td>\n",
       "      <td>585000.0</td>\n",
       "    </tr>\n",
       "    <tr>\n",
       "      <th>24</th>\n",
       "      <td>2</td>\n",
       "      <td>25</td>\n",
       "      <td>2022-03-11</td>\n",
       "      <td>30875.66</td>\n",
       "      <td>6500.66</td>\n",
       "      <td>24375.0</td>\n",
       "      <td>560625.0</td>\n",
       "    </tr>\n",
       "    <tr>\n",
       "      <th>25</th>\n",
       "      <td>2</td>\n",
       "      <td>26</td>\n",
       "      <td>2022-04-11</td>\n",
       "      <td>31276.37</td>\n",
       "      <td>6901.37</td>\n",
       "      <td>24375.0</td>\n",
       "      <td>536250.0</td>\n",
       "    </tr>\n",
       "    <tr>\n",
       "      <th>26</th>\n",
       "      <td>2</td>\n",
       "      <td>27</td>\n",
       "      <td>2022-05-11</td>\n",
       "      <td>30762.10</td>\n",
       "      <td>6387.10</td>\n",
       "      <td>24375.0</td>\n",
       "      <td>511875.0</td>\n",
       "    </tr>\n",
       "    <tr>\n",
       "      <th>27</th>\n",
       "      <td>2</td>\n",
       "      <td>28</td>\n",
       "      <td>2022-06-13</td>\n",
       "      <td>30676.25</td>\n",
       "      <td>6301.25</td>\n",
       "      <td>24375.0</td>\n",
       "      <td>487500.0</td>\n",
       "    </tr>\n",
       "    <tr>\n",
       "      <th>28</th>\n",
       "      <td>2</td>\n",
       "      <td>29</td>\n",
       "      <td>2022-07-11</td>\n",
       "      <td>30181.46</td>\n",
       "      <td>5806.46</td>\n",
       "      <td>24375.0</td>\n",
       "      <td>463125.0</td>\n",
       "    </tr>\n",
       "    <tr>\n",
       "      <th>29</th>\n",
       "      <td>2</td>\n",
       "      <td>30</td>\n",
       "      <td>2022-08-11</td>\n",
       "      <td>30076.13</td>\n",
       "      <td>5701.13</td>\n",
       "      <td>24375.0</td>\n",
       "      <td>438750.0</td>\n",
       "    </tr>\n",
       "    <tr>\n",
       "      <th>30</th>\n",
       "      <td>2</td>\n",
       "      <td>31</td>\n",
       "      <td>2022-09-12</td>\n",
       "      <td>29776.07</td>\n",
       "      <td>5401.07</td>\n",
       "      <td>24375.0</td>\n",
       "      <td>414375.0</td>\n",
       "    </tr>\n",
       "    <tr>\n",
       "      <th>31</th>\n",
       "      <td>2</td>\n",
       "      <td>32</td>\n",
       "      <td>2022-10-11</td>\n",
       "      <td>29310.49</td>\n",
       "      <td>4935.49</td>\n",
       "      <td>24375.0</td>\n",
       "      <td>390000.0</td>\n",
       "    </tr>\n",
       "    <tr>\n",
       "      <th>32</th>\n",
       "      <td>2</td>\n",
       "      <td>33</td>\n",
       "      <td>2022-11-11</td>\n",
       "      <td>29175.95</td>\n",
       "      <td>4800.95</td>\n",
       "      <td>24375.0</td>\n",
       "      <td>365625.0</td>\n",
       "    </tr>\n",
       "    <tr>\n",
       "      <th>33</th>\n",
       "      <td>2</td>\n",
       "      <td>34</td>\n",
       "      <td>2022-12-12</td>\n",
       "      <td>28729.84</td>\n",
       "      <td>4354.84</td>\n",
       "      <td>24375.0</td>\n",
       "      <td>341250.0</td>\n",
       "    </tr>\n",
       "    <tr>\n",
       "      <th>34</th>\n",
       "      <td>2</td>\n",
       "      <td>35</td>\n",
       "      <td>2023-01-11</td>\n",
       "      <td>28575.84</td>\n",
       "      <td>4200.84</td>\n",
       "      <td>24375.0</td>\n",
       "      <td>316875.0</td>\n",
       "    </tr>\n",
       "    <tr>\n",
       "      <th>35</th>\n",
       "      <td>2</td>\n",
       "      <td>36</td>\n",
       "      <td>2023-02-13</td>\n",
       "      <td>28275.78</td>\n",
       "      <td>3900.78</td>\n",
       "      <td>24375.0</td>\n",
       "      <td>292500.0</td>\n",
       "    </tr>\n",
       "    <tr>\n",
       "      <th>36</th>\n",
       "      <td>2</td>\n",
       "      <td>37</td>\n",
       "      <td>2023-03-13</td>\n",
       "      <td>27625.33</td>\n",
       "      <td>3250.33</td>\n",
       "      <td>24375.0</td>\n",
       "      <td>268125.0</td>\n",
       "    </tr>\n",
       "    <tr>\n",
       "      <th>37</th>\n",
       "      <td>2</td>\n",
       "      <td>38</td>\n",
       "      <td>2023-04-11</td>\n",
       "      <td>27675.66</td>\n",
       "      <td>3300.66</td>\n",
       "      <td>24375.0</td>\n",
       "      <td>243750.0</td>\n",
       "    </tr>\n",
       "    <tr>\n",
       "      <th>38</th>\n",
       "      <td>2</td>\n",
       "      <td>39</td>\n",
       "      <td>2023-05-11</td>\n",
       "      <td>27278.23</td>\n",
       "      <td>2903.23</td>\n",
       "      <td>24375.0</td>\n",
       "      <td>219375.0</td>\n",
       "    </tr>\n",
       "    <tr>\n",
       "      <th>39</th>\n",
       "      <td>2</td>\n",
       "      <td>40</td>\n",
       "      <td>2023-06-12</td>\n",
       "      <td>27075.54</td>\n",
       "      <td>2700.54</td>\n",
       "      <td>24375.0</td>\n",
       "      <td>195000.0</td>\n",
       "    </tr>\n",
       "    <tr>\n",
       "      <th>40</th>\n",
       "      <td>2</td>\n",
       "      <td>41</td>\n",
       "      <td>2023-07-11</td>\n",
       "      <td>26697.58</td>\n",
       "      <td>2322.58</td>\n",
       "      <td>24375.0</td>\n",
       "      <td>170625.0</td>\n",
       "    </tr>\n",
       "    <tr>\n",
       "      <th>41</th>\n",
       "      <td>2</td>\n",
       "      <td>42</td>\n",
       "      <td>2023-08-11</td>\n",
       "      <td>26475.42</td>\n",
       "      <td>2100.42</td>\n",
       "      <td>24375.0</td>\n",
       "      <td>146250.0</td>\n",
       "    </tr>\n",
       "    <tr>\n",
       "      <th>42</th>\n",
       "      <td>2</td>\n",
       "      <td>43</td>\n",
       "      <td>2023-09-11</td>\n",
       "      <td>26175.36</td>\n",
       "      <td>1800.36</td>\n",
       "      <td>24375.0</td>\n",
       "      <td>121875.0</td>\n",
       "    </tr>\n",
       "    <tr>\n",
       "      <th>43</th>\n",
       "      <td>2</td>\n",
       "      <td>44</td>\n",
       "      <td>2023-10-11</td>\n",
       "      <td>25826.61</td>\n",
       "      <td>1451.61</td>\n",
       "      <td>24375.0</td>\n",
       "      <td>97500.0</td>\n",
       "    </tr>\n",
       "    <tr>\n",
       "      <th>44</th>\n",
       "      <td>2</td>\n",
       "      <td>45</td>\n",
       "      <td>2023-11-13</td>\n",
       "      <td>25575.24</td>\n",
       "      <td>1200.24</td>\n",
       "      <td>24375.0</td>\n",
       "      <td>73125.0</td>\n",
       "    </tr>\n",
       "    <tr>\n",
       "      <th>45</th>\n",
       "      <td>2</td>\n",
       "      <td>46</td>\n",
       "      <td>2023-12-11</td>\n",
       "      <td>25245.97</td>\n",
       "      <td>870.97</td>\n",
       "      <td>24375.0</td>\n",
       "      <td>48750.0</td>\n",
       "    </tr>\n",
       "    <tr>\n",
       "      <th>46</th>\n",
       "      <td>2</td>\n",
       "      <td>47</td>\n",
       "      <td>2024-01-11</td>\n",
       "      <td>24975.12</td>\n",
       "      <td>600.12</td>\n",
       "      <td>24375.0</td>\n",
       "      <td>24375.0</td>\n",
       "    </tr>\n",
       "    <tr>\n",
       "      <th>47</th>\n",
       "      <td>2</td>\n",
       "      <td>48</td>\n",
       "      <td>2024-02-12</td>\n",
       "      <td>24675.06</td>\n",
       "      <td>300.06</td>\n",
       "      <td>24375.0</td>\n",
       "      <td>0.0</td>\n",
       "    </tr>\n",
       "  </tbody>\n",
       "</table>\n",
       "</div>\n"
      ],
      "text/plain": [
       "    Contrato  Parcela        Data_Venc       PMT     Juros     Amort  \\\n",
       "     <int64>  <int64> <datetime64[ns]> <float64> <float64> <float64>   \n",
       "0          2        1       2020-03-11  37843.32  13468.32   24375.0   \n",
       "1          2        2       2020-04-13  38477.81  14102.81   24375.0   \n",
       "2          2        3       2020-05-11  37729.85  13354.85   24375.0   \n",
       "3          2        4       2020-06-11  37877.69  13502.69   24375.0   \n",
       "4          2        5       2020-07-13  37149.21  12774.21   24375.0   \n",
       "5          2        6       2020-08-11  37277.57  12902.57   24375.0   \n",
       "6          2        7       2020-09-11  36977.51  12602.51   24375.0   \n",
       "7          2        8       2020-10-12  36278.24  11903.24   24375.0   \n",
       "8          2        9       2020-11-11  36377.39  12002.39   24375.0   \n",
       "9          2       10       2020-12-11  35697.59  11322.59   24375.0   \n",
       "10         2       11       2021-01-11  35777.27  11402.27   24375.0   \n",
       "11         2       12       2021-02-11  35477.21  11102.21   24375.0   \n",
       "12         2       13       2021-03-11  34125.99   9750.99   24375.0   \n",
       "13         2       14       2021-04-12  34877.09  10502.09   24375.0   \n",
       "14         2       15       2021-05-11  34245.98   9870.98   24375.0   \n",
       "15         2       16       2021-06-11  34276.97   9901.97   24375.0   \n",
       "16         2       17       2021-07-12  33665.33   9290.33   24375.0   \n",
       "17         2       18       2021-08-11  33676.85   9301.85   24375.0   \n",
       "18         2       19       2021-09-13  33376.79   9001.79   24375.0   \n",
       "19         2       20       2021-10-11  32794.36   8419.36   24375.0   \n",
       "20         2       21       2021-11-11  32776.67   8401.67   24375.0   \n",
       "21         2       22       2021-12-13  32213.72   7838.72   24375.0   \n",
       "22         2       23       2022-01-11  32176.55   7801.55   24375.0   \n",
       "23         2       24       2022-02-11  31876.49   7501.49   24375.0   \n",
       "24         2       25       2022-03-11  30875.66   6500.66   24375.0   \n",
       "25         2       26       2022-04-11  31276.37   6901.37   24375.0   \n",
       "26         2       27       2022-05-11  30762.10   6387.10   24375.0   \n",
       "27         2       28       2022-06-13  30676.25   6301.25   24375.0   \n",
       "28         2       29       2022-07-11  30181.46   5806.46   24375.0   \n",
       "29         2       30       2022-08-11  30076.13   5701.13   24375.0   \n",
       "30         2       31       2022-09-12  29776.07   5401.07   24375.0   \n",
       "31         2       32       2022-10-11  29310.49   4935.49   24375.0   \n",
       "32         2       33       2022-11-11  29175.95   4800.95   24375.0   \n",
       "33         2       34       2022-12-12  28729.84   4354.84   24375.0   \n",
       "34         2       35       2023-01-11  28575.84   4200.84   24375.0   \n",
       "35         2       36       2023-02-13  28275.78   3900.78   24375.0   \n",
       "36         2       37       2023-03-13  27625.33   3250.33   24375.0   \n",
       "37         2       38       2023-04-11  27675.66   3300.66   24375.0   \n",
       "38         2       39       2023-05-11  27278.23   2903.23   24375.0   \n",
       "39         2       40       2023-06-12  27075.54   2700.54   24375.0   \n",
       "40         2       41       2023-07-11  26697.58   2322.58   24375.0   \n",
       "41         2       42       2023-08-11  26475.42   2100.42   24375.0   \n",
       "42         2       43       2023-09-11  26175.36   1800.36   24375.0   \n",
       "43         2       44       2023-10-11  25826.61   1451.61   24375.0   \n",
       "44         2       45       2023-11-13  25575.24   1200.24   24375.0   \n",
       "45         2       46       2023-12-11  25245.97    870.97   24375.0   \n",
       "46         2       47       2024-01-11  24975.12    600.12   24375.0   \n",
       "47         2       48       2024-02-12  24675.06    300.06   24375.0   \n",
       "\n",
       "     PV_atual  \n",
       "    <float64>  \n",
       "0   1145625.0  \n",
       "1   1121250.0  \n",
       "2   1096875.0  \n",
       "3   1072500.0  \n",
       "4   1048125.0  \n",
       "5   1023750.0  \n",
       "6    999375.0  \n",
       "7    975000.0  \n",
       "8    950625.0  \n",
       "9    926250.0  \n",
       "10   901875.0  \n",
       "11   877500.0  \n",
       "12   853125.0  \n",
       "13   828750.0  \n",
       "14   804375.0  \n",
       "15   780000.0  \n",
       "16   755625.0  \n",
       "17   731250.0  \n",
       "18   706875.0  \n",
       "19   682500.0  \n",
       "20   658125.0  \n",
       "21   633750.0  \n",
       "22   609375.0  \n",
       "23   585000.0  \n",
       "24   560625.0  \n",
       "25   536250.0  \n",
       "26   511875.0  \n",
       "27   487500.0  \n",
       "28   463125.0  \n",
       "29   438750.0  \n",
       "30   414375.0  \n",
       "31   390000.0  \n",
       "32   365625.0  \n",
       "33   341250.0  \n",
       "34   316875.0  \n",
       "35   292500.0  \n",
       "36   268125.0  \n",
       "37   243750.0  \n",
       "38   219375.0  \n",
       "39   195000.0  \n",
       "40   170625.0  \n",
       "41   146250.0  \n",
       "42   121875.0  \n",
       "43    97500.0  \n",
       "44    73125.0  \n",
       "45    48750.0  \n",
       "46    24375.0  \n",
       "47        0.0  "
      ]
     },
     "execution_count": 64,
     "metadata": {},
     "output_type": "execute_result"
    }
   ],
   "source": [
    "Tabela_SAC[ Tabela_SAC['Contrato'] == 2 ]"
   ]
  },
  {
   "cell_type": "code",
   "execution_count": 65,
   "id": "dc1f6621",
   "metadata": {},
   "outputs": [
    {
     "data": {
      "text/plain": [
       "Contrato     1902\n",
       "Parcela      1902\n",
       "Data_Venc    1902\n",
       "PMT          1902\n",
       "Juros        1902\n",
       "Amort        1902\n",
       "PV_atual     1902\n",
       "dtype: int64"
      ]
     },
     "execution_count": 65,
     "metadata": {},
     "output_type": "execute_result"
    }
   ],
   "source": [
    "length(Tabela_SAC)"
   ]
  },
  {
   "attachments": {},
   "cell_type": "markdown",
   "id": "0a796604",
   "metadata": {},
   "source": [
    "##### <font size=5 style=\"font-family:impact; background-color:#3C2A21\">Concatenar Tabelas PRICE e SAC</font>"
   ]
  },
  {
   "cell_type": "code",
   "execution_count": 6,
   "id": "927319bb",
   "metadata": {},
   "outputs": [
    {
     "data": {
      "text/plain": [
       "200"
      ]
     },
     "execution_count": 6,
     "metadata": {},
     "output_type": "execute_result"
    }
   ],
   "source": [
    "Tabela_Geral = pd.concat([ \n",
    "    Tabela_PRICE.assign( Modelo = \"PRICE\" ),\n",
    "    Tabela_SAC.assign( Modelo = \"SAC\" )\n",
    "] )\n",
    "unique(Tabela_Geral['Contrato']).size"
   ]
  },
  {
   "attachments": {},
   "cell_type": "markdown",
   "id": "eb390286",
   "metadata": {},
   "source": [
    "<b><font size=4 style = \"font-family: consolas\">Exportar para CSV</font></b>"
   ]
  },
  {
   "cell_type": "code",
   "execution_count": 7,
   "id": "5f3a0cb2",
   "metadata": {},
   "outputs": [],
   "source": [
    "Tabela_Geral.to_csv(\n",
    "    'C:/Users/danil/OneDrive/Danilo_Back-up/Projetos_Pessoais/Canal_Youtube/Base_Dados/Tabelas_PRICE_SAC.csv'\n",
    ")"
   ]
  }
 ],
 "metadata": {
  "kernelspec": {
   "display_name": "Python 3.9.15 ('base')",
   "language": "python",
   "name": "python3"
  },
  "language_info": {
   "codemirror_mode": {
    "name": "ipython",
    "version": 3
   },
   "file_extension": ".py",
   "mimetype": "text/x-python",
   "name": "python",
   "nbconvert_exporter": "python",
   "pygments_lexer": "ipython3",
   "version": "3.9.15"
  },
  "vscode": {
   "interpreter": {
    "hash": "bf6e68f63c5332c5a5c0afd729fba59b86b097c63a7331fcdf5575bcde342b88"
   }
  }
 },
 "nbformat": 4,
 "nbformat_minor": 5
}
